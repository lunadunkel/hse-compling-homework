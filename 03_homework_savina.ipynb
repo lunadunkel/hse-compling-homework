{
  "cells": [
    {
      "cell_type": "markdown",
      "id": "1c678e33-7efc-47da-bd84-890daf4b5beb",
      "metadata": {
        "id": "1c678e33-7efc-47da-bd84-890daf4b5beb"
      },
      "source": [
        "# Задание 1 (5 балла)\n",
        "\n",
        "Имплементируйте алгоритм Леска (описание есть в семинаре) и оцените качество его работы на датасете `data/corpus_wsd_50k.txt`\n",
        "\n",
        "В качестве метрики близости вы должны попробовать два подхода:\n",
        "\n",
        "1) Jaccard score на множествах слов (определений и контекста)\n",
        "2) Cosine distance на эмбедингах sentence_transformers\n",
        "\n",
        "В качестве метрики используйте accuracy (% правильных ответов). Предсказывайте только многозначные слова в датасете\n",
        "\n",
        "Контекст вы можете определить самостоятельно (окно вокруг целевого слова или все предложение). Также можете поэкспериментировать с предобработкой для обоих методов."
      ]
    },
    {
      "cell_type": "code",
      "source": [
        "from sklearn.metrics.pairwise import cosine_distances, cosine_similarity\n",
        "from sentence_transformers import SentenceTransformer"
      ],
      "metadata": {
        "id": "4HsewYFFJ3uu"
      },
      "id": "4HsewYFFJ3uu",
      "execution_count": null,
      "outputs": []
    },
    {
      "cell_type": "code",
      "source": [
        "model = SentenceTransformer('sentence-transformers/all-mpnet-base-v2')\n",
        "embed = model.encode"
      ],
      "metadata": {
        "colab": {
          "base_uri": "https://localhost:8080/",
          "height": 450,
          "referenced_widgets": [
            "da0d8fe1f7714844a7cbfe1fbe29dba2",
            "10ac4fd48f71451183ca8900e9372dcd",
            "2bcf57e0237b49539e404a52a17c05ec",
            "738cae09d4584a48a3054d89f8156186",
            "c6b25954063146c08ec44db90d6a6018",
            "7748c132b513497ebafc4aed8f098698",
            "035a6b5a56494d8aa6eb7fa885cbb9d8",
            "54962bdac0074246be5bef8b76be27fd",
            "c649a53a63a044b9b8d48f2989f0d349",
            "81d0c950441d4fac9728237172638ba9",
            "a15e70f8d85c43cd87da385ed2ba6c5f",
            "773d379736fa4bca906907c21155593c",
            "8925b42c94e544a1b987bbdc52fc55ea",
            "69f96865fa4e446eac49b76454d37aa2",
            "4d6b9d18467a4cfb89e19f70ea38aabe",
            "5f4d3f5bf78f40b1ae3849cb737d5a7b",
            "52ebf426878049009d3ea8cd9948a18a",
            "22ecd314f09d4309ac59b761193e03f1",
            "df7a28d0901140bda4ce8901da664c59",
            "702f85f5ca8f48af9605aea3a118a8d7",
            "859c089058114a25bf877cbdfefffdee",
            "b67daa4ca8294f4d99b4faa91cdd330e",
            "1889ac37caf742a1800a31c6ff20dfcd",
            "3f0782c4f1ce49c7943513503f06b6b8",
            "ea85679203d449d6ac2617dd3be503f4",
            "d05583a968bd417a9064a62a3e53128c",
            "a4d1290c22bf46798267a0f651c985c4",
            "3b116bea4f01486385cb53dcd2ad3cb2",
            "20593f3a1c184c118c3ddd62e05fda6a",
            "3e13de795fb94a0db835bb502a298108",
            "428b4f402a6d46faacf82b24803cc6c8",
            "816b076a975448b6989cecb18e0e8e23",
            "871aaf9b7c214750a8fae1b9ee78e73d",
            "e1988d1d4a69498a97c3bee3b2dc7369",
            "8d3bf14bcab342d3b20e875a7be73adb",
            "f18e784f7bcb4730b80ddca8184818d0",
            "b8f9f32e84ac48b49f60d5fb326fe7b0",
            "c12cbb911c5e473088e2936a3ccaa266",
            "dc1f544dd0e94d30ada67c6b6141f73e",
            "18561e43c1994742b0177257e33a9984",
            "c23aee74017c46fbbed3627636973fcb",
            "913bcb96a18445a0a7212ffa2b46e41a",
            "eb1ebcc70ca4494680fa1c46f5a2adb6",
            "e21039ddf6344dfc9d7cf0dfe5c3e0db",
            "37476f6923d2443ea62d244bdac11bb4",
            "500f40b4dd8b4b42bfb52cb9aadaec71",
            "7d43b0ab869c4833871a4b1819e409aa",
            "f4061fe6217b4544a961fb41c1147e04",
            "82a3914f87294556ad9f159d47e71490",
            "36e311a8143448bf95efa05333463f05",
            "c808e64203a84a3f82ba7fdae639231e",
            "141b647abe6b4944bd86b7913112c875",
            "f7db8eb1d112487c8494183cf82fc4fb",
            "f55c01902edb456ba255a9100e86d5ee",
            "ef19ceae799e40c1b7b766e79a9f775a",
            "b2b39a9422b248b4b00803d6a50200f9",
            "49780ce25e554a7c87c710ebcae47cc4",
            "32fbebe4a2b640108674b18c93fd7950",
            "46cb7b5926694823966aff292f7c92a6",
            "1b7f6cabe06b44999e28ccdf197bfb78",
            "b44fee025a5d4e14811e9bd7160e5a70",
            "48f01879bceb4b84a2491fbb2b3c2a48",
            "db710d8657f24b0faa438a52f6dfffed",
            "ab40b5e1bf1b46d29783390a6f3b6704",
            "1ab2b1e366f7412e82f93f76a3b9787c",
            "26fe9ea6312541a2bcc28ee4557a2658",
            "cf49e6f188544df680fb17942eea22e1",
            "ea9c116a5b3944dd97c98d5e42564a2d",
            "7fec1dc8eb9b4fbebe2aec8be2b168c6",
            "55a1cbd084a940e0902bbaca16713956",
            "2f31f55f932f4d58ba702f87371861ff",
            "d45fc997e0df421ba22f0fb3dad9df01",
            "60919a09bf7e414ca8970c6f53f8c800",
            "335a52860d75412a89bcecfe5ad5f0b3",
            "427707532a10417287ceda09abfae039",
            "3f7c6b238b61481ba8ffe3fc37520944",
            "20b58bd8bc2748709e2091ed5fea516b",
            "a4c2f378be8f403baa6547d1215071b1",
            "6cd85a325f9c4b95b57f99beef1f22ab",
            "44a5095f8805433590a52423561746c5",
            "2ea6eede0c1d4adf97db2370cbfb5456",
            "e39e5f86272e47829a478e2dfdf72873",
            "c2f11cfedbe7471d8f916ffd165cc764",
            "8ac5b977436e46479ede4c20bd2a3753",
            "aca6152ffe2941c3b11aff70cf74e778",
            "5a97c7adf2f64bbcbfc0f4eb2e8bc3bb",
            "667dcab12acb4f38bd7605a5c2217fa8",
            "420c2ae8ab2740db9eef991a6d1aab0b",
            "e10ed5c7ecae4ae79e0978be38026ae1",
            "25b8d32409ce4f3dbfbd395c910f8e46",
            "b54e083e3cff4b67a8b3acc072a68c06",
            "0cb7b945bb234a6db06164368f57be2c",
            "e368cdda8a794254917b7abb489afd25",
            "67c3538e82ff4383b39eff5707d777f4",
            "e997237eb76e46c2b73bd235cab97942",
            "5e56d97dc8854a76ae166f91f5442d44",
            "ea644946fc9b473aa22d70bbb0fb28c1",
            "a93e1755273144858ef22d251ffac5ac",
            "cc94a0a69c664d08a2813f9750c80300",
            "baff33829ff2442288a8d7ec95b1a265",
            "77a5384fa225400a823d3e08a2b925aa",
            "c7be201b004042c49e5cbd79787a3bc9",
            "5385ff3f2dee4fedbb13318510e01452",
            "f5553a4725d8483dbe84b1860dd54bfe",
            "8e06e4f002004f5b991072de75fbf212",
            "7e9d5d05bb5444edba35780765b15d93",
            "522d8f8da07a4b94b0de5f591ec56f20",
            "f144cd9a69d549f1bed6a3c8ebc9f685",
            "98c271b6a08049d399eeed21c71f0a28",
            "f3ebcbda091945ff9211278b71849d6d",
            "d73f4d3d83d94712b0ff77436987567b",
            "96ba56feef724bcd98dbc250ac1f632d",
            "02e34e42617e493e8931c2d178ebf22f",
            "d9c3c9d8013548fb8e54bf8351c12945",
            "2b34d6a052194e4c8bb6dff4e73b6311",
            "4467581cdadc4fcf9eac12a84f322197",
            "9325846d32cc4b2097888041783cff54",
            "5e6ca1aafe274c6bac60fceb2e2365b2",
            "f27d6acfc58a480d895e5dfbf848aa38",
            "e699b795424847e6a3dc519e4cacfb79",
            "e139f6ec86b9477ea5267a456047ac10"
          ]
        },
        "id": "aR3jDr08J5dZ",
        "outputId": "5ac29c98-a6e3-42e1-a926-bb88db62e9e4"
      },
      "id": "aR3jDr08J5dZ",
      "execution_count": null,
      "outputs": [
        {
          "output_type": "stream",
          "name": "stderr",
          "text": [
            "/usr/local/lib/python3.12/dist-packages/huggingface_hub/utils/_auth.py:86: UserWarning: \n",
            "Access to the secret `HF_TOKEN` has not been granted on this notebook.\n",
            "You will not be requested again.\n",
            "Please restart the session if you want to be prompted again.\n",
            "  warnings.warn(\n"
          ]
        },
        {
          "output_type": "display_data",
          "data": {
            "text/plain": [
              "modules.json:   0%|          | 0.00/349 [00:00<?, ?B/s]"
            ],
            "application/vnd.jupyter.widget-view+json": {
              "version_major": 2,
              "version_minor": 0,
              "model_id": "da0d8fe1f7714844a7cbfe1fbe29dba2"
            }
          },
          "metadata": {}
        },
        {
          "output_type": "display_data",
          "data": {
            "text/plain": [
              "config_sentence_transformers.json:   0%|          | 0.00/116 [00:00<?, ?B/s]"
            ],
            "application/vnd.jupyter.widget-view+json": {
              "version_major": 2,
              "version_minor": 0,
              "model_id": "773d379736fa4bca906907c21155593c"
            }
          },
          "metadata": {}
        },
        {
          "output_type": "display_data",
          "data": {
            "text/plain": [
              "README.md: 0.00B [00:00, ?B/s]"
            ],
            "application/vnd.jupyter.widget-view+json": {
              "version_major": 2,
              "version_minor": 0,
              "model_id": "1889ac37caf742a1800a31c6ff20dfcd"
            }
          },
          "metadata": {}
        },
        {
          "output_type": "display_data",
          "data": {
            "text/plain": [
              "sentence_bert_config.json:   0%|          | 0.00/53.0 [00:00<?, ?B/s]"
            ],
            "application/vnd.jupyter.widget-view+json": {
              "version_major": 2,
              "version_minor": 0,
              "model_id": "e1988d1d4a69498a97c3bee3b2dc7369"
            }
          },
          "metadata": {}
        },
        {
          "output_type": "display_data",
          "data": {
            "text/plain": [
              "config.json:   0%|          | 0.00/571 [00:00<?, ?B/s]"
            ],
            "application/vnd.jupyter.widget-view+json": {
              "version_major": 2,
              "version_minor": 0,
              "model_id": "37476f6923d2443ea62d244bdac11bb4"
            }
          },
          "metadata": {}
        },
        {
          "output_type": "display_data",
          "data": {
            "text/plain": [
              "model.safetensors:   0%|          | 0.00/438M [00:00<?, ?B/s]"
            ],
            "application/vnd.jupyter.widget-view+json": {
              "version_major": 2,
              "version_minor": 0,
              "model_id": "b2b39a9422b248b4b00803d6a50200f9"
            }
          },
          "metadata": {}
        },
        {
          "output_type": "display_data",
          "data": {
            "text/plain": [
              "tokenizer_config.json:   0%|          | 0.00/363 [00:00<?, ?B/s]"
            ],
            "application/vnd.jupyter.widget-view+json": {
              "version_major": 2,
              "version_minor": 0,
              "model_id": "cf49e6f188544df680fb17942eea22e1"
            }
          },
          "metadata": {}
        },
        {
          "output_type": "display_data",
          "data": {
            "text/plain": [
              "vocab.txt: 0.00B [00:00, ?B/s]"
            ],
            "application/vnd.jupyter.widget-view+json": {
              "version_major": 2,
              "version_minor": 0,
              "model_id": "a4c2f378be8f403baa6547d1215071b1"
            }
          },
          "metadata": {}
        },
        {
          "output_type": "display_data",
          "data": {
            "text/plain": [
              "tokenizer.json: 0.00B [00:00, ?B/s]"
            ],
            "application/vnd.jupyter.widget-view+json": {
              "version_major": 2,
              "version_minor": 0,
              "model_id": "e10ed5c7ecae4ae79e0978be38026ae1"
            }
          },
          "metadata": {}
        },
        {
          "output_type": "display_data",
          "data": {
            "text/plain": [
              "special_tokens_map.json:   0%|          | 0.00/239 [00:00<?, ?B/s]"
            ],
            "application/vnd.jupyter.widget-view+json": {
              "version_major": 2,
              "version_minor": 0,
              "model_id": "baff33829ff2442288a8d7ec95b1a265"
            }
          },
          "metadata": {}
        },
        {
          "output_type": "display_data",
          "data": {
            "text/plain": [
              "config.json:   0%|          | 0.00/190 [00:00<?, ?B/s]"
            ],
            "application/vnd.jupyter.widget-view+json": {
              "version_major": 2,
              "version_minor": 0,
              "model_id": "d73f4d3d83d94712b0ff77436987567b"
            }
          },
          "metadata": {}
        }
      ]
    },
    {
      "cell_type": "code",
      "source": [
        "model.device"
      ],
      "metadata": {
        "colab": {
          "base_uri": "https://localhost:8080/"
        },
        "id": "jPY-rA4BKf73",
        "outputId": "4f07a3d9-d6f9-493a-a945-68da93a32df3"
      },
      "id": "jPY-rA4BKf73",
      "execution_count": null,
      "outputs": [
        {
          "output_type": "execute_result",
          "data": {
            "text/plain": [
              "device(type='cuda', index=0)"
            ]
          },
          "metadata": {},
          "execution_count": 3
        }
      ]
    },
    {
      "cell_type": "code",
      "source": [
        "import nltk\n",
        "nltk.download('wordnet')"
      ],
      "metadata": {
        "colab": {
          "base_uri": "https://localhost:8080/"
        },
        "id": "mAt3VDvZnrHM",
        "outputId": "5fa23562-a933-41cf-bda9-63b3846f8434"
      },
      "id": "mAt3VDvZnrHM",
      "execution_count": null,
      "outputs": [
        {
          "output_type": "stream",
          "name": "stderr",
          "text": [
            "[nltk_data] Downloading package wordnet to /root/nltk_data...\n"
          ]
        },
        {
          "output_type": "execute_result",
          "data": {
            "text/plain": [
              "True"
            ]
          },
          "metadata": {},
          "execution_count": 4
        }
      ]
    },
    {
      "cell_type": "code",
      "source": [
        "from nltk.corpus import wordnet as wn"
      ],
      "metadata": {
        "id": "Ka70s4kouStN"
      },
      "id": "Ka70s4kouStN",
      "execution_count": null,
      "outputs": []
    },
    {
      "cell_type": "code",
      "source": [
        "corpus = open('corpus_wsd_50k.txt').read().split('\\n\\n')"
      ],
      "metadata": {
        "id": "C81Wt63Q4Dly"
      },
      "id": "C81Wt63Q4Dly",
      "execution_count": null,
      "outputs": []
    },
    {
      "cell_type": "code",
      "source": [
        "from collections import defaultdict"
      ],
      "metadata": {
        "id": "WXRD3V4UtCL-"
      },
      "id": "WXRD3V4UtCL-",
      "execution_count": null,
      "outputs": []
    },
    {
      "cell_type": "code",
      "source": [
        "def get_word_info(instance, cosine=False):\n",
        "  whole_context = []\n",
        "  all_polysemy_words = defaultdict(dict)\n",
        "  for num, line in enumerate(instance.split('\\n')):\n",
        "      sep_words = line.split()\n",
        "      if len(sep_words) > 2:\n",
        "          whole_context.append(sep_words[2])\n",
        "      else:\n",
        "          whole_context.append(sep_words[1])\n",
        "          continue\n",
        "      all_polysemy_words[sep_words[2]]['definition'] = sep_words[0]\n",
        "      all_polysemy_words[sep_words[2]]['lemma'] = sep_words[1]\n",
        "      all_polysemy_words[sep_words[2]]['word_pos'] = num\n",
        "  for x in all_polysemy_words:\n",
        "      all_polysemy_words[x]['context'] = whole_context\n",
        "  return all_polysemy_words"
      ],
      "metadata": {
        "id": "24Df-fVonAfS"
      },
      "id": "24Df-fVonAfS",
      "execution_count": null,
      "outputs": []
    },
    {
      "cell_type": "code",
      "source": [
        "def jaccard_algorithm(definition, context):\n",
        "    intersection = (set(definition.split()) & set(context.split()))\n",
        "    union = (set(definition.split()) | set(context.split()))\n",
        "    jaccard =  len(intersection) / len(union)\n",
        "    return jaccard"
      ],
      "metadata": {
        "id": "AKnFouyKxRex"
      },
      "id": "AKnFouyKxRex",
      "execution_count": null,
      "outputs": []
    },
    {
      "cell_type": "code",
      "source": [
        "def cosine_distance(definition, context):\n",
        "    return cosine_distances(definition.reshape(1, -1), context.reshape(1, -1))[0][0]"
      ],
      "metadata": {
        "id": "nQbkXiCSJN7e"
      },
      "id": "nQbkXiCSJN7e",
      "execution_count": null,
      "outputs": []
    },
    {
      "cell_type": "code",
      "source": [
        "import numpy as np"
      ],
      "metadata": {
        "id": "xX5hhmicB0PO"
      },
      "id": "xX5hhmicB0PO",
      "execution_count": null,
      "outputs": []
    },
    {
      "cell_type": "code",
      "source": [
        "# я знаю, что это не очень красиво так делать,\n",
        "# но я объявлю словарь с эмбеддингами определений, потому что не получила их все изначально\n",
        "# сильно переписывать функцию не хочется, а из словаря вытаскивать уже возможные посчитанный эмбеддинги побыстрее\n",
        "emb_dict = {}"
      ],
      "metadata": {
        "id": "SdaL3CkjMhTE"
      },
      "id": "SdaL3CkjMhTE",
      "execution_count": null,
      "outputs": []
    },
    {
      "cell_type": "code",
      "source": [
        "def lesk_algorithm(word: str, instance: dict, metric: str, window: int=None):\n",
        "    word_lemma_key = instance['definition']\n",
        "    lemma = instance['lemma']\n",
        "    word_definition = wn.lemma_from_key(word_lemma_key).synset().definition()\n",
        "    word_pos = instance['word_pos']\n",
        "\n",
        "    # определения всех значений слова\n",
        "    all_definitions = [x.definition() for x in wn.synsets(lemma)]\n",
        "\n",
        "    new_context = [x for x in instance['context']]\n",
        "    new_context[word_pos] = '_'\n",
        "\n",
        "    # выборк контекста\n",
        "    if window is None:\n",
        "        new_context = ' '.join(new_context)\n",
        "    else:\n",
        "        prev_cont = word_pos-window if window <= word_pos else 0\n",
        "        ant_cont = word_pos+window if word_pos+window < len(new_context) else len(new_context)\n",
        "        new_context = ' '.join(new_context[prev_cont:ant_cont])\n",
        "\n",
        "    # выбор метрики\n",
        "    answer = []\n",
        "    match metric:\n",
        "      case 'jaccard':\n",
        "          jaccard_metric = [jaccard_algorithm(x, new_context)  for x in all_definitions]\n",
        "          max_definition = np.argmax(jaccard_metric)\n",
        "          if all_definitions[max_definition] == word_definition:\n",
        "              return True\n",
        "          else:\n",
        "              return False\n",
        "      case 'cos_dist':\n",
        "          to_embed = [x for x in all_definitions if x not in emb_dict]\n",
        "\n",
        "          for x, y in zip(embed(to_embed), to_embed):\n",
        "              emb_dict[y] = x\n",
        "\n",
        "          context_emb = embed(new_context)\n",
        "          cosine_metric = [cosine_distance(emb_dict[x], context_emb)  for x in all_definitions]\n",
        "          def_min_dist = np.argmin(cosine_metric)\n",
        "          if all_definitions[def_min_dist] == word_definition:\n",
        "              return True\n",
        "          else:\n",
        "              return False\n",
        "      case _:\n",
        "        return"
      ],
      "metadata": {
        "id": "f3mQ0E5OmjI3"
      },
      "id": "f3mQ0E5OmjI3",
      "execution_count": null,
      "outputs": []
    },
    {
      "cell_type": "code",
      "source": [
        "from tqdm import tqdm"
      ],
      "metadata": {
        "id": "FqTn89hiE47C"
      },
      "id": "FqTn89hiE47C",
      "execution_count": null,
      "outputs": []
    },
    {
      "cell_type": "code",
      "source": [
        "all_words = 0\n",
        "correct_answers_default = 0\n",
        "correct_answers_window_10 = 0\n",
        "correct_answers_window_6 = 0\n",
        "correct_answers_window_4 = 0\n",
        "for line in tqdm(corpus):\n",
        "    polysemy_words = get_word_info(line)\n",
        "    for word in polysemy_words:\n",
        "      all_words += 1\n",
        "      correct_answers_default += 1 if lesk_algorithm(word, polysemy_words[word], 'jaccard') else 0\n",
        "      correct_answers_window_10 += 1 if lesk_algorithm(word, polysemy_words[word], 'jaccard', window=10) else 0\n",
        "      correct_answers_window_6 += 1 if lesk_algorithm(word, polysemy_words[word], 'jaccard', window=6) else 0\n",
        "      correct_answers_window_4 += 1 if lesk_algorithm(word, polysemy_words[word], 'jaccard', window=4) else 0"
      ],
      "metadata": {
        "colab": {
          "base_uri": "https://localhost:8080/"
        },
        "id": "lu6t3cthq5Tw",
        "outputId": "a0e5c75b-e2e8-4030-976f-70620b4f5684"
      },
      "id": "lu6t3cthq5Tw",
      "execution_count": null,
      "outputs": [
        {
          "output_type": "stream",
          "name": "stderr",
          "text": [
            "100%|██████████| 49452/49452 [03:00<00:00, 274.19it/s] \n"
          ]
        }
      ]
    },
    {
      "cell_type": "code",
      "source": [
        "print('Jaccard score')\n",
        "print('-'*25)\n",
        "print(f'Весь контекст: {(correct_answers_default / all_words):.2f}')\n",
        "print(f'Контекст – 10 слов: {(correct_answers_window_10 / all_words):.2f}')\n",
        "print(f'Контекст – 6 слов: {(correct_answers_window_6 / all_words):.2f}')\n",
        "print(f'Контекст – 4 слова {(correct_answers_window_4 / all_words):.2f}')"
      ],
      "metadata": {
        "colab": {
          "base_uri": "https://localhost:8080/"
        },
        "id": "oC4sVv_iEp1t",
        "outputId": "f25d560c-5318-4f5e-b6fb-d7b2c3de74e4"
      },
      "id": "oC4sVv_iEp1t",
      "execution_count": null,
      "outputs": [
        {
          "output_type": "stream",
          "name": "stdout",
          "text": [
            "Jaccard score\n",
            "-------------------------\n",
            "Весь контекст: 0.30\n",
            "Контекст – 10 слов: 0.31\n",
            "Контекст – 6 слов: 0.32\n",
            "Контекст – 4 слова 0.34\n"
          ]
        }
      ]
    },
    {
      "cell_type": "code",
      "source": [
        "def get_word_info_emb(instance, cosine=False):\n",
        "  whole_context = []\n",
        "  all_polysemy_words = defaultdict(dict)\n",
        "  for num, line in enumerate(instance.split('\\n')):\n",
        "      sep_words = line.split()\n",
        "      if len(sep_words) > 2:\n",
        "          whole_context.append(sep_words[2])\n",
        "      else:\n",
        "          whole_context.append(sep_words[1])\n",
        "          continue\n",
        "      all_polysemy_words[sep_words[2]]['definition'] = sep_words[0]\n",
        "      all_polysemy_words[sep_words[2]]['lemma'] = sep_words[1]\n",
        "      all_polysemy_words[sep_words[2]]['word_pos'] = num\n",
        "  for x in all_polysemy_words:\n",
        "      all_polysemy_words[x]['context'] = whole_context\n",
        "  return all_polysemy_words"
      ],
      "metadata": {
        "id": "Dxnb0yUmL_lB"
      },
      "id": "Dxnb0yUmL_lB",
      "execution_count": null,
      "outputs": []
    },
    {
      "cell_type": "code",
      "source": [
        "all_words = 0\n",
        "cosine_correct_answers_window_4 = 0\n",
        "for line in tqdm(corpus):\n",
        "    polysemy_words = get_word_info(line)\n",
        "    for word in polysemy_words:\n",
        "      all_words += 1\n",
        "      cosine_correct_answers_window_4 += 1 if lesk_algorithm(word, polysemy_words[word], 'cos_dist', window=4) else 0"
      ],
      "metadata": {
        "colab": {
          "base_uri": "https://localhost:8080/"
        },
        "id": "JMfwKJDoK6DN",
        "outputId": "bd194741-0517-4549-dcd1-cc37262ea4fb"
      },
      "id": "JMfwKJDoK6DN",
      "execution_count": null,
      "outputs": [
        {
          "output_type": "stream",
          "name": "stderr",
          "text": [
            "100%|██████████| 49452/49452 [1:09:50<00:00, 11.80it/s]\n"
          ]
        }
      ]
    },
    {
      "cell_type": "code",
      "source": [
        "print('Cosine distance (minimal) | Cosine similarity | With SentenceEmbs')\n",
        "print('-'*50)\n",
        "print(f'Контекст – 4 слова {(cosine_correct_answers_window_4 / all_words):.2f}')"
      ],
      "metadata": {
        "colab": {
          "base_uri": "https://localhost:8080/"
        },
        "id": "WBCycDSQGdex",
        "outputId": "81c367af-755d-47dc-bf39-873a230272d7"
      },
      "id": "WBCycDSQGdex",
      "execution_count": null,
      "outputs": [
        {
          "output_type": "stream",
          "name": "stdout",
          "text": [
            "Cosine distance (minimal) | Cosine similarity | With SentenceEmbs\n",
            "--------------------------------------------------\n",
            "Контекст – 4 слова 0.35\n"
          ]
        }
      ]
    },
    {
      "cell_type": "markdown",
      "id": "39efde9a-af0b-4c94-bfd0-249e7054562f",
      "metadata": {
        "id": "39efde9a-af0b-4c94-bfd0-249e7054562f"
      },
      "source": [
        "# Задание 2 (5 балла)\n",
        "Попробуйте разные алгоритмы кластеризации на датасете - `https://github.com/nlpub/russe-wsi-kit/blob/initial/data/main/wiki-wiki/train.csv`\n",
        "\n",
        "Используйте код из семинара как основу. Используйте ARI как метрику качества.\n",
        "\n",
        "Попробуйте все 4 алгоритма кластеризации, про которые говорилось на семинаре. Для каждого из алгоритмов попробуйте настраивать гиперпараметры (посмотрите их в документации). Прогоните как минимум 5 экспериментов (не обязательно успешных) с разными параметрами на каждый алгоритме кластеризации и оцените: качество кластеризации, скорость работы, интуитивность параметров.\n",
        "\n",
        "Помимо этого также выберите 1 дополнительный алгоритм кластеризации отсюда - https://scikit-learn.org/stable/modules/clustering.html , опишите своими словами принцип его работы  и проделайте аналогичные эксперименты."
      ]
    },
    {
      "cell_type": "code",
      "execution_count": 154,
      "id": "d59bef3e-1af7-4ce2-b43a-dfef282050f2",
      "metadata": {
        "id": "d59bef3e-1af7-4ce2-b43a-dfef282050f2",
        "colab": {
          "base_uri": "https://localhost:8080/"
        },
        "outputId": "1db6a2f4-1c59-4b04-e21c-1e1723c704c7"
      },
      "outputs": [
        {
          "output_type": "stream",
          "name": "stdout",
          "text": [
            "--2025-10-04 14:01:23--  https://raw.githubusercontent.com/nlpub/russe-wsi-kit/initial/data/main/wiki-wiki/train.csv\n",
            "Resolving raw.githubusercontent.com (raw.githubusercontent.com)... 185.199.111.133, 185.199.108.133, 185.199.110.133, ...\n",
            "Connecting to raw.githubusercontent.com (raw.githubusercontent.com)|185.199.111.133|:443... connected.\n",
            "HTTP request sent, awaiting response... 200 OK\n",
            "Length: 365614 (357K) [text/plain]\n",
            "Saving to: ‘train.csv.1’\n",
            "\n",
            "train.csv.1         100%[===================>] 357.04K  --.-KB/s    in 0.005s  \n",
            "\n",
            "2025-10-04 14:01:23 (70.2 MB/s) - ‘train.csv.1’ saved [365614/365614]\n",
            "\n"
          ]
        }
      ],
      "source": [
        "!wget https://raw.githubusercontent.com/nlpub/russe-wsi-kit/initial/data/main/wiki-wiki/train.csv"
      ]
    },
    {
      "cell_type": "code",
      "source": [
        "import pandas as pd"
      ],
      "metadata": {
        "id": "h48H5-WJ9OjI"
      },
      "id": "h48H5-WJ9OjI",
      "execution_count": 155,
      "outputs": []
    },
    {
      "cell_type": "code",
      "source": [
        "df = pd.read_csv('train.csv', sep='\\t')"
      ],
      "metadata": {
        "id": "zy4OVLFi9PQX"
      },
      "id": "zy4OVLFi9PQX",
      "execution_count": 156,
      "outputs": []
    },
    {
      "cell_type": "code",
      "source": [
        "df.head()"
      ],
      "metadata": {
        "colab": {
          "base_uri": "https://localhost:8080/",
          "height": 201
        },
        "id": "bbd4t4xh9j9U",
        "outputId": "fe214716-8725-4b74-a084-44f301775c87"
      },
      "id": "bbd4t4xh9j9U",
      "execution_count": 157,
      "outputs": [
        {
          "output_type": "execute_result",
          "data": {
            "text/plain": [
              "   context_id   word  gold_sense_id  predict_sense_id              positions  \\\n",
              "0           1  замок              1               NaN           0-5, 339-344   \n",
              "1           2  замок              1               NaN  11-16, 17-22, 188-193   \n",
              "2           3  замок              1               NaN                299-304   \n",
              "3           4  замок              1               NaN                111-116   \n",
              "4           5  замок              1               NaN       134-139, 262-267   \n",
              "\n",
              "                                             context  \n",
              "0  замок владимира мономаха в любече . многочисле...  \n",
              "1  шильонский замок замок шильйон ( ) , известный...  \n",
              "2  проведения архитектурно - археологических рабо...  \n",
              "3  топи с . , л . белокуров легенда о завещании м...  \n",
              "4  великий князь литовский гедимин после успешной...  "
            ],
            "text/html": [
              "\n",
              "  <div id=\"df-0553ddcc-7b06-4d98-95d4-11b19a5cda13\" class=\"colab-df-container\">\n",
              "    <div>\n",
              "<style scoped>\n",
              "    .dataframe tbody tr th:only-of-type {\n",
              "        vertical-align: middle;\n",
              "    }\n",
              "\n",
              "    .dataframe tbody tr th {\n",
              "        vertical-align: top;\n",
              "    }\n",
              "\n",
              "    .dataframe thead th {\n",
              "        text-align: right;\n",
              "    }\n",
              "</style>\n",
              "<table border=\"1\" class=\"dataframe\">\n",
              "  <thead>\n",
              "    <tr style=\"text-align: right;\">\n",
              "      <th></th>\n",
              "      <th>context_id</th>\n",
              "      <th>word</th>\n",
              "      <th>gold_sense_id</th>\n",
              "      <th>predict_sense_id</th>\n",
              "      <th>positions</th>\n",
              "      <th>context</th>\n",
              "    </tr>\n",
              "  </thead>\n",
              "  <tbody>\n",
              "    <tr>\n",
              "      <th>0</th>\n",
              "      <td>1</td>\n",
              "      <td>замок</td>\n",
              "      <td>1</td>\n",
              "      <td>NaN</td>\n",
              "      <td>0-5, 339-344</td>\n",
              "      <td>замок владимира мономаха в любече . многочисле...</td>\n",
              "    </tr>\n",
              "    <tr>\n",
              "      <th>1</th>\n",
              "      <td>2</td>\n",
              "      <td>замок</td>\n",
              "      <td>1</td>\n",
              "      <td>NaN</td>\n",
              "      <td>11-16, 17-22, 188-193</td>\n",
              "      <td>шильонский замок замок шильйон ( ) , известный...</td>\n",
              "    </tr>\n",
              "    <tr>\n",
              "      <th>2</th>\n",
              "      <td>3</td>\n",
              "      <td>замок</td>\n",
              "      <td>1</td>\n",
              "      <td>NaN</td>\n",
              "      <td>299-304</td>\n",
              "      <td>проведения архитектурно - археологических рабо...</td>\n",
              "    </tr>\n",
              "    <tr>\n",
              "      <th>3</th>\n",
              "      <td>4</td>\n",
              "      <td>замок</td>\n",
              "      <td>1</td>\n",
              "      <td>NaN</td>\n",
              "      <td>111-116</td>\n",
              "      <td>топи с . , л . белокуров легенда о завещании м...</td>\n",
              "    </tr>\n",
              "    <tr>\n",
              "      <th>4</th>\n",
              "      <td>5</td>\n",
              "      <td>замок</td>\n",
              "      <td>1</td>\n",
              "      <td>NaN</td>\n",
              "      <td>134-139, 262-267</td>\n",
              "      <td>великий князь литовский гедимин после успешной...</td>\n",
              "    </tr>\n",
              "  </tbody>\n",
              "</table>\n",
              "</div>\n",
              "    <div class=\"colab-df-buttons\">\n",
              "\n",
              "  <div class=\"colab-df-container\">\n",
              "    <button class=\"colab-df-convert\" onclick=\"convertToInteractive('df-0553ddcc-7b06-4d98-95d4-11b19a5cda13')\"\n",
              "            title=\"Convert this dataframe to an interactive table.\"\n",
              "            style=\"display:none;\">\n",
              "\n",
              "  <svg xmlns=\"http://www.w3.org/2000/svg\" height=\"24px\" viewBox=\"0 -960 960 960\">\n",
              "    <path d=\"M120-120v-720h720v720H120Zm60-500h600v-160H180v160Zm220 220h160v-160H400v160Zm0 220h160v-160H400v160ZM180-400h160v-160H180v160Zm440 0h160v-160H620v160ZM180-180h160v-160H180v160Zm440 0h160v-160H620v160Z\"/>\n",
              "  </svg>\n",
              "    </button>\n",
              "\n",
              "  <style>\n",
              "    .colab-df-container {\n",
              "      display:flex;\n",
              "      gap: 12px;\n",
              "    }\n",
              "\n",
              "    .colab-df-convert {\n",
              "      background-color: #E8F0FE;\n",
              "      border: none;\n",
              "      border-radius: 50%;\n",
              "      cursor: pointer;\n",
              "      display: none;\n",
              "      fill: #1967D2;\n",
              "      height: 32px;\n",
              "      padding: 0 0 0 0;\n",
              "      width: 32px;\n",
              "    }\n",
              "\n",
              "    .colab-df-convert:hover {\n",
              "      background-color: #E2EBFA;\n",
              "      box-shadow: 0px 1px 2px rgba(60, 64, 67, 0.3), 0px 1px 3px 1px rgba(60, 64, 67, 0.15);\n",
              "      fill: #174EA6;\n",
              "    }\n",
              "\n",
              "    .colab-df-buttons div {\n",
              "      margin-bottom: 4px;\n",
              "    }\n",
              "\n",
              "    [theme=dark] .colab-df-convert {\n",
              "      background-color: #3B4455;\n",
              "      fill: #D2E3FC;\n",
              "    }\n",
              "\n",
              "    [theme=dark] .colab-df-convert:hover {\n",
              "      background-color: #434B5C;\n",
              "      box-shadow: 0px 1px 3px 1px rgba(0, 0, 0, 0.15);\n",
              "      filter: drop-shadow(0px 1px 2px rgba(0, 0, 0, 0.3));\n",
              "      fill: #FFFFFF;\n",
              "    }\n",
              "  </style>\n",
              "\n",
              "    <script>\n",
              "      const buttonEl =\n",
              "        document.querySelector('#df-0553ddcc-7b06-4d98-95d4-11b19a5cda13 button.colab-df-convert');\n",
              "      buttonEl.style.display =\n",
              "        google.colab.kernel.accessAllowed ? 'block' : 'none';\n",
              "\n",
              "      async function convertToInteractive(key) {\n",
              "        const element = document.querySelector('#df-0553ddcc-7b06-4d98-95d4-11b19a5cda13');\n",
              "        const dataTable =\n",
              "          await google.colab.kernel.invokeFunction('convertToInteractive',\n",
              "                                                    [key], {});\n",
              "        if (!dataTable) return;\n",
              "\n",
              "        const docLinkHtml = 'Like what you see? Visit the ' +\n",
              "          '<a target=\"_blank\" href=https://colab.research.google.com/notebooks/data_table.ipynb>data table notebook</a>'\n",
              "          + ' to learn more about interactive tables.';\n",
              "        element.innerHTML = '';\n",
              "        dataTable['output_type'] = 'display_data';\n",
              "        await google.colab.output.renderOutput(dataTable, element);\n",
              "        const docLink = document.createElement('div');\n",
              "        docLink.innerHTML = docLinkHtml;\n",
              "        element.appendChild(docLink);\n",
              "      }\n",
              "    </script>\n",
              "  </div>\n",
              "\n",
              "\n",
              "    <div id=\"df-f58f7ba0-fac2-4352-a126-15204ce41b9f\">\n",
              "      <button class=\"colab-df-quickchart\" onclick=\"quickchart('df-f58f7ba0-fac2-4352-a126-15204ce41b9f')\"\n",
              "                title=\"Suggest charts\"\n",
              "                style=\"display:none;\">\n",
              "\n",
              "<svg xmlns=\"http://www.w3.org/2000/svg\" height=\"24px\"viewBox=\"0 0 24 24\"\n",
              "     width=\"24px\">\n",
              "    <g>\n",
              "        <path d=\"M19 3H5c-1.1 0-2 .9-2 2v14c0 1.1.9 2 2 2h14c1.1 0 2-.9 2-2V5c0-1.1-.9-2-2-2zM9 17H7v-7h2v7zm4 0h-2V7h2v10zm4 0h-2v-4h2v4z\"/>\n",
              "    </g>\n",
              "</svg>\n",
              "      </button>\n",
              "\n",
              "<style>\n",
              "  .colab-df-quickchart {\n",
              "      --bg-color: #E8F0FE;\n",
              "      --fill-color: #1967D2;\n",
              "      --hover-bg-color: #E2EBFA;\n",
              "      --hover-fill-color: #174EA6;\n",
              "      --disabled-fill-color: #AAA;\n",
              "      --disabled-bg-color: #DDD;\n",
              "  }\n",
              "\n",
              "  [theme=dark] .colab-df-quickchart {\n",
              "      --bg-color: #3B4455;\n",
              "      --fill-color: #D2E3FC;\n",
              "      --hover-bg-color: #434B5C;\n",
              "      --hover-fill-color: #FFFFFF;\n",
              "      --disabled-bg-color: #3B4455;\n",
              "      --disabled-fill-color: #666;\n",
              "  }\n",
              "\n",
              "  .colab-df-quickchart {\n",
              "    background-color: var(--bg-color);\n",
              "    border: none;\n",
              "    border-radius: 50%;\n",
              "    cursor: pointer;\n",
              "    display: none;\n",
              "    fill: var(--fill-color);\n",
              "    height: 32px;\n",
              "    padding: 0;\n",
              "    width: 32px;\n",
              "  }\n",
              "\n",
              "  .colab-df-quickchart:hover {\n",
              "    background-color: var(--hover-bg-color);\n",
              "    box-shadow: 0 1px 2px rgba(60, 64, 67, 0.3), 0 1px 3px 1px rgba(60, 64, 67, 0.15);\n",
              "    fill: var(--button-hover-fill-color);\n",
              "  }\n",
              "\n",
              "  .colab-df-quickchart-complete:disabled,\n",
              "  .colab-df-quickchart-complete:disabled:hover {\n",
              "    background-color: var(--disabled-bg-color);\n",
              "    fill: var(--disabled-fill-color);\n",
              "    box-shadow: none;\n",
              "  }\n",
              "\n",
              "  .colab-df-spinner {\n",
              "    border: 2px solid var(--fill-color);\n",
              "    border-color: transparent;\n",
              "    border-bottom-color: var(--fill-color);\n",
              "    animation:\n",
              "      spin 1s steps(1) infinite;\n",
              "  }\n",
              "\n",
              "  @keyframes spin {\n",
              "    0% {\n",
              "      border-color: transparent;\n",
              "      border-bottom-color: var(--fill-color);\n",
              "      border-left-color: var(--fill-color);\n",
              "    }\n",
              "    20% {\n",
              "      border-color: transparent;\n",
              "      border-left-color: var(--fill-color);\n",
              "      border-top-color: var(--fill-color);\n",
              "    }\n",
              "    30% {\n",
              "      border-color: transparent;\n",
              "      border-left-color: var(--fill-color);\n",
              "      border-top-color: var(--fill-color);\n",
              "      border-right-color: var(--fill-color);\n",
              "    }\n",
              "    40% {\n",
              "      border-color: transparent;\n",
              "      border-right-color: var(--fill-color);\n",
              "      border-top-color: var(--fill-color);\n",
              "    }\n",
              "    60% {\n",
              "      border-color: transparent;\n",
              "      border-right-color: var(--fill-color);\n",
              "    }\n",
              "    80% {\n",
              "      border-color: transparent;\n",
              "      border-right-color: var(--fill-color);\n",
              "      border-bottom-color: var(--fill-color);\n",
              "    }\n",
              "    90% {\n",
              "      border-color: transparent;\n",
              "      border-bottom-color: var(--fill-color);\n",
              "    }\n",
              "  }\n",
              "</style>\n",
              "\n",
              "      <script>\n",
              "        async function quickchart(key) {\n",
              "          const quickchartButtonEl =\n",
              "            document.querySelector('#' + key + ' button');\n",
              "          quickchartButtonEl.disabled = true;  // To prevent multiple clicks.\n",
              "          quickchartButtonEl.classList.add('colab-df-spinner');\n",
              "          try {\n",
              "            const charts = await google.colab.kernel.invokeFunction(\n",
              "                'suggestCharts', [key], {});\n",
              "          } catch (error) {\n",
              "            console.error('Error during call to suggestCharts:', error);\n",
              "          }\n",
              "          quickchartButtonEl.classList.remove('colab-df-spinner');\n",
              "          quickchartButtonEl.classList.add('colab-df-quickchart-complete');\n",
              "        }\n",
              "        (() => {\n",
              "          let quickchartButtonEl =\n",
              "            document.querySelector('#df-f58f7ba0-fac2-4352-a126-15204ce41b9f button');\n",
              "          quickchartButtonEl.style.display =\n",
              "            google.colab.kernel.accessAllowed ? 'block' : 'none';\n",
              "        })();\n",
              "      </script>\n",
              "    </div>\n",
              "    </div>\n",
              "  </div>\n"
            ],
            "application/vnd.google.colaboratory.intrinsic+json": {
              "type": "dataframe",
              "variable_name": "df",
              "summary": "{\n  \"name\": \"df\",\n  \"rows\": 439,\n  \"fields\": [\n    {\n      \"column\": \"context_id\",\n      \"properties\": {\n        \"dtype\": \"number\",\n        \"std\": 126,\n        \"min\": 1,\n        \"max\": 439,\n        \"num_unique_values\": 439,\n        \"samples\": [\n          266,\n          79,\n          348\n        ],\n        \"semantic_type\": \"\",\n        \"description\": \"\"\n      }\n    },\n    {\n      \"column\": \"word\",\n      \"properties\": {\n        \"dtype\": \"category\",\n        \"num_unique_values\": 4,\n        \"samples\": [\n          \"\\u043b\\u0443\\u043a\",\n          \"\\u0431\\u043e\\u0440\",\n          \"\\u0437\\u0430\\u043c\\u043e\\u043a\"\n        ],\n        \"semantic_type\": \"\",\n        \"description\": \"\"\n      }\n    },\n    {\n      \"column\": \"gold_sense_id\",\n      \"properties\": {\n        \"dtype\": \"number\",\n        \"std\": 0,\n        \"min\": 1,\n        \"max\": 2,\n        \"num_unique_values\": 2,\n        \"samples\": [\n          2,\n          1\n        ],\n        \"semantic_type\": \"\",\n        \"description\": \"\"\n      }\n    },\n    {\n      \"column\": \"predict_sense_id\",\n      \"properties\": {\n        \"dtype\": \"number\",\n        \"std\": null,\n        \"min\": null,\n        \"max\": null,\n        \"num_unique_values\": 0,\n        \"samples\": [],\n        \"semantic_type\": \"\",\n        \"description\": \"\"\n      }\n    },\n    {\n      \"column\": \"positions\",\n      \"properties\": {\n        \"dtype\": \"string\",\n        \"num_unique_values\": 381,\n        \"samples\": [],\n        \"semantic_type\": \"\",\n        \"description\": \"\"\n      }\n    },\n    {\n      \"column\": \"context\",\n      \"properties\": {\n        \"dtype\": \"string\",\n        \"num_unique_values\": 439,\n        \"samples\": [],\n        \"semantic_type\": \"\",\n        \"description\": \"\"\n      }\n    }\n  ]\n}"
            }
          },
          "metadata": {},
          "execution_count": 157
        }
      ]
    },
    {
      "cell_type": "code",
      "source": [
        "grouped_df = df.groupby('word')[['word', 'context', 'gold_sense_id']]"
      ],
      "metadata": {
        "id": "2iTLN35W919b"
      },
      "id": "2iTLN35W919b",
      "execution_count": 158,
      "outputs": []
    },
    {
      "cell_type": "code",
      "source": [
        "from sklearn.cluster import KMeans, DBSCAN, AffinityPropagation\n",
        "import numpy as np\n",
        "from sklearn.metrics import adjusted_rand_score"
      ],
      "metadata": {
        "id": "WU_5dUTj-Anr"
      },
      "id": "WU_5dUTj-Anr",
      "execution_count": 159,
      "outputs": []
    },
    {
      "cell_type": "code",
      "source": [
        "grouped_df.head()"
      ],
      "metadata": {
        "colab": {
          "base_uri": "https://localhost:8080/",
          "height": 657
        },
        "id": "pITdEcS_-UeN",
        "outputId": "b5f3a929-3132-47f1-92f7-158fe436c481"
      },
      "id": "pITdEcS_-UeN",
      "execution_count": 160,
      "outputs": [
        {
          "output_type": "execute_result",
          "data": {
            "text/plain": [
              "      word                                            context  gold_sense_id\n",
              "0    замок  замок владимира мономаха в любече . многочисле...              1\n",
              "1    замок  шильонский замок замок шильйон ( ) , известный...              1\n",
              "2    замок  проведения архитектурно - археологических рабо...              1\n",
              "3    замок  топи с . , л . белокуров легенда о завещании м...              1\n",
              "4    замок  великий князь литовский гедимин после успешной...              1\n",
              "138    лук  они были основными слушателями баллад , а криз...              1\n",
              "139    лук  якутский лук якутский лук принадлежит к северн...              1\n",
              "140    лук  из всех трех типов луков — классики , олимпика...              1\n",
              "141    лук  английский длинный лук английский длинный лук ...              1\n",
              "142    лук  металлических утяжелителей дуг . составной лук...              1\n",
              "248   суда  перехода поместья к новому владельцу в ) год п...              1\n",
              "249   суда  опасный квартал города . и… оказалась не в том...              1\n",
              "250   суда  пленум верховного суда российской федерации пл...              1\n",
              "251   суда  повторяют византийские формы , на xvi—xvii век...              1\n",
              "252   суда  военная коллегия верховного суда ссср военная ...              1\n",
              "383    бор  бор ( элемент ) бор — элемент тринадцатой груп...              1\n",
              "384    бор  бор - углерод - кремний семейство сплавов на о...              1\n",
              "385    бор  с большим выделением теплоты , образуется окси...              1\n",
              "386    бор  это объясняется прежде всего тем , что у компл...              1\n",
              "387    бор  совсем малочисленна . элементарный бор в приро...              1"
            ],
            "text/html": [
              "\n",
              "  <div id=\"df-246a9dde-bc0e-4a0c-a4c8-ad2bb06942fa\" class=\"colab-df-container\">\n",
              "    <div>\n",
              "<style scoped>\n",
              "    .dataframe tbody tr th:only-of-type {\n",
              "        vertical-align: middle;\n",
              "    }\n",
              "\n",
              "    .dataframe tbody tr th {\n",
              "        vertical-align: top;\n",
              "    }\n",
              "\n",
              "    .dataframe thead th {\n",
              "        text-align: right;\n",
              "    }\n",
              "</style>\n",
              "<table border=\"1\" class=\"dataframe\">\n",
              "  <thead>\n",
              "    <tr style=\"text-align: right;\">\n",
              "      <th></th>\n",
              "      <th>word</th>\n",
              "      <th>context</th>\n",
              "      <th>gold_sense_id</th>\n",
              "    </tr>\n",
              "  </thead>\n",
              "  <tbody>\n",
              "    <tr>\n",
              "      <th>0</th>\n",
              "      <td>замок</td>\n",
              "      <td>замок владимира мономаха в любече . многочисле...</td>\n",
              "      <td>1</td>\n",
              "    </tr>\n",
              "    <tr>\n",
              "      <th>1</th>\n",
              "      <td>замок</td>\n",
              "      <td>шильонский замок замок шильйон ( ) , известный...</td>\n",
              "      <td>1</td>\n",
              "    </tr>\n",
              "    <tr>\n",
              "      <th>2</th>\n",
              "      <td>замок</td>\n",
              "      <td>проведения архитектурно - археологических рабо...</td>\n",
              "      <td>1</td>\n",
              "    </tr>\n",
              "    <tr>\n",
              "      <th>3</th>\n",
              "      <td>замок</td>\n",
              "      <td>топи с . , л . белокуров легенда о завещании м...</td>\n",
              "      <td>1</td>\n",
              "    </tr>\n",
              "    <tr>\n",
              "      <th>4</th>\n",
              "      <td>замок</td>\n",
              "      <td>великий князь литовский гедимин после успешной...</td>\n",
              "      <td>1</td>\n",
              "    </tr>\n",
              "    <tr>\n",
              "      <th>138</th>\n",
              "      <td>лук</td>\n",
              "      <td>они были основными слушателями баллад , а криз...</td>\n",
              "      <td>1</td>\n",
              "    </tr>\n",
              "    <tr>\n",
              "      <th>139</th>\n",
              "      <td>лук</td>\n",
              "      <td>якутский лук якутский лук принадлежит к северн...</td>\n",
              "      <td>1</td>\n",
              "    </tr>\n",
              "    <tr>\n",
              "      <th>140</th>\n",
              "      <td>лук</td>\n",
              "      <td>из всех трех типов луков — классики , олимпика...</td>\n",
              "      <td>1</td>\n",
              "    </tr>\n",
              "    <tr>\n",
              "      <th>141</th>\n",
              "      <td>лук</td>\n",
              "      <td>английский длинный лук английский длинный лук ...</td>\n",
              "      <td>1</td>\n",
              "    </tr>\n",
              "    <tr>\n",
              "      <th>142</th>\n",
              "      <td>лук</td>\n",
              "      <td>металлических утяжелителей дуг . составной лук...</td>\n",
              "      <td>1</td>\n",
              "    </tr>\n",
              "    <tr>\n",
              "      <th>248</th>\n",
              "      <td>суда</td>\n",
              "      <td>перехода поместья к новому владельцу в ) год п...</td>\n",
              "      <td>1</td>\n",
              "    </tr>\n",
              "    <tr>\n",
              "      <th>249</th>\n",
              "      <td>суда</td>\n",
              "      <td>опасный квартал города . и… оказалась не в том...</td>\n",
              "      <td>1</td>\n",
              "    </tr>\n",
              "    <tr>\n",
              "      <th>250</th>\n",
              "      <td>суда</td>\n",
              "      <td>пленум верховного суда российской федерации пл...</td>\n",
              "      <td>1</td>\n",
              "    </tr>\n",
              "    <tr>\n",
              "      <th>251</th>\n",
              "      <td>суда</td>\n",
              "      <td>повторяют византийские формы , на xvi—xvii век...</td>\n",
              "      <td>1</td>\n",
              "    </tr>\n",
              "    <tr>\n",
              "      <th>252</th>\n",
              "      <td>суда</td>\n",
              "      <td>военная коллегия верховного суда ссср военная ...</td>\n",
              "      <td>1</td>\n",
              "    </tr>\n",
              "    <tr>\n",
              "      <th>383</th>\n",
              "      <td>бор</td>\n",
              "      <td>бор ( элемент ) бор — элемент тринадцатой груп...</td>\n",
              "      <td>1</td>\n",
              "    </tr>\n",
              "    <tr>\n",
              "      <th>384</th>\n",
              "      <td>бор</td>\n",
              "      <td>бор - углерод - кремний семейство сплавов на о...</td>\n",
              "      <td>1</td>\n",
              "    </tr>\n",
              "    <tr>\n",
              "      <th>385</th>\n",
              "      <td>бор</td>\n",
              "      <td>с большим выделением теплоты , образуется окси...</td>\n",
              "      <td>1</td>\n",
              "    </tr>\n",
              "    <tr>\n",
              "      <th>386</th>\n",
              "      <td>бор</td>\n",
              "      <td>это объясняется прежде всего тем , что у компл...</td>\n",
              "      <td>1</td>\n",
              "    </tr>\n",
              "    <tr>\n",
              "      <th>387</th>\n",
              "      <td>бор</td>\n",
              "      <td>совсем малочисленна . элементарный бор в приро...</td>\n",
              "      <td>1</td>\n",
              "    </tr>\n",
              "  </tbody>\n",
              "</table>\n",
              "</div>\n",
              "    <div class=\"colab-df-buttons\">\n",
              "\n",
              "  <div class=\"colab-df-container\">\n",
              "    <button class=\"colab-df-convert\" onclick=\"convertToInteractive('df-246a9dde-bc0e-4a0c-a4c8-ad2bb06942fa')\"\n",
              "            title=\"Convert this dataframe to an interactive table.\"\n",
              "            style=\"display:none;\">\n",
              "\n",
              "  <svg xmlns=\"http://www.w3.org/2000/svg\" height=\"24px\" viewBox=\"0 -960 960 960\">\n",
              "    <path d=\"M120-120v-720h720v720H120Zm60-500h600v-160H180v160Zm220 220h160v-160H400v160Zm0 220h160v-160H400v160ZM180-400h160v-160H180v160Zm440 0h160v-160H620v160ZM180-180h160v-160H180v160Zm440 0h160v-160H620v160Z\"/>\n",
              "  </svg>\n",
              "    </button>\n",
              "\n",
              "  <style>\n",
              "    .colab-df-container {\n",
              "      display:flex;\n",
              "      gap: 12px;\n",
              "    }\n",
              "\n",
              "    .colab-df-convert {\n",
              "      background-color: #E8F0FE;\n",
              "      border: none;\n",
              "      border-radius: 50%;\n",
              "      cursor: pointer;\n",
              "      display: none;\n",
              "      fill: #1967D2;\n",
              "      height: 32px;\n",
              "      padding: 0 0 0 0;\n",
              "      width: 32px;\n",
              "    }\n",
              "\n",
              "    .colab-df-convert:hover {\n",
              "      background-color: #E2EBFA;\n",
              "      box-shadow: 0px 1px 2px rgba(60, 64, 67, 0.3), 0px 1px 3px 1px rgba(60, 64, 67, 0.15);\n",
              "      fill: #174EA6;\n",
              "    }\n",
              "\n",
              "    .colab-df-buttons div {\n",
              "      margin-bottom: 4px;\n",
              "    }\n",
              "\n",
              "    [theme=dark] .colab-df-convert {\n",
              "      background-color: #3B4455;\n",
              "      fill: #D2E3FC;\n",
              "    }\n",
              "\n",
              "    [theme=dark] .colab-df-convert:hover {\n",
              "      background-color: #434B5C;\n",
              "      box-shadow: 0px 1px 3px 1px rgba(0, 0, 0, 0.15);\n",
              "      filter: drop-shadow(0px 1px 2px rgba(0, 0, 0, 0.3));\n",
              "      fill: #FFFFFF;\n",
              "    }\n",
              "  </style>\n",
              "\n",
              "    <script>\n",
              "      const buttonEl =\n",
              "        document.querySelector('#df-246a9dde-bc0e-4a0c-a4c8-ad2bb06942fa button.colab-df-convert');\n",
              "      buttonEl.style.display =\n",
              "        google.colab.kernel.accessAllowed ? 'block' : 'none';\n",
              "\n",
              "      async function convertToInteractive(key) {\n",
              "        const element = document.querySelector('#df-246a9dde-bc0e-4a0c-a4c8-ad2bb06942fa');\n",
              "        const dataTable =\n",
              "          await google.colab.kernel.invokeFunction('convertToInteractive',\n",
              "                                                    [key], {});\n",
              "        if (!dataTable) return;\n",
              "\n",
              "        const docLinkHtml = 'Like what you see? Visit the ' +\n",
              "          '<a target=\"_blank\" href=https://colab.research.google.com/notebooks/data_table.ipynb>data table notebook</a>'\n",
              "          + ' to learn more about interactive tables.';\n",
              "        element.innerHTML = '';\n",
              "        dataTable['output_type'] = 'display_data';\n",
              "        await google.colab.output.renderOutput(dataTable, element);\n",
              "        const docLink = document.createElement('div');\n",
              "        docLink.innerHTML = docLinkHtml;\n",
              "        element.appendChild(docLink);\n",
              "      }\n",
              "    </script>\n",
              "  </div>\n",
              "\n",
              "\n",
              "    <div id=\"df-a46173d3-0ca6-48e4-8faf-82b8ee5f2dc3\">\n",
              "      <button class=\"colab-df-quickchart\" onclick=\"quickchart('df-a46173d3-0ca6-48e4-8faf-82b8ee5f2dc3')\"\n",
              "                title=\"Suggest charts\"\n",
              "                style=\"display:none;\">\n",
              "\n",
              "<svg xmlns=\"http://www.w3.org/2000/svg\" height=\"24px\"viewBox=\"0 0 24 24\"\n",
              "     width=\"24px\">\n",
              "    <g>\n",
              "        <path d=\"M19 3H5c-1.1 0-2 .9-2 2v14c0 1.1.9 2 2 2h14c1.1 0 2-.9 2-2V5c0-1.1-.9-2-2-2zM9 17H7v-7h2v7zm4 0h-2V7h2v10zm4 0h-2v-4h2v4z\"/>\n",
              "    </g>\n",
              "</svg>\n",
              "      </button>\n",
              "\n",
              "<style>\n",
              "  .colab-df-quickchart {\n",
              "      --bg-color: #E8F0FE;\n",
              "      --fill-color: #1967D2;\n",
              "      --hover-bg-color: #E2EBFA;\n",
              "      --hover-fill-color: #174EA6;\n",
              "      --disabled-fill-color: #AAA;\n",
              "      --disabled-bg-color: #DDD;\n",
              "  }\n",
              "\n",
              "  [theme=dark] .colab-df-quickchart {\n",
              "      --bg-color: #3B4455;\n",
              "      --fill-color: #D2E3FC;\n",
              "      --hover-bg-color: #434B5C;\n",
              "      --hover-fill-color: #FFFFFF;\n",
              "      --disabled-bg-color: #3B4455;\n",
              "      --disabled-fill-color: #666;\n",
              "  }\n",
              "\n",
              "  .colab-df-quickchart {\n",
              "    background-color: var(--bg-color);\n",
              "    border: none;\n",
              "    border-radius: 50%;\n",
              "    cursor: pointer;\n",
              "    display: none;\n",
              "    fill: var(--fill-color);\n",
              "    height: 32px;\n",
              "    padding: 0;\n",
              "    width: 32px;\n",
              "  }\n",
              "\n",
              "  .colab-df-quickchart:hover {\n",
              "    background-color: var(--hover-bg-color);\n",
              "    box-shadow: 0 1px 2px rgba(60, 64, 67, 0.3), 0 1px 3px 1px rgba(60, 64, 67, 0.15);\n",
              "    fill: var(--button-hover-fill-color);\n",
              "  }\n",
              "\n",
              "  .colab-df-quickchart-complete:disabled,\n",
              "  .colab-df-quickchart-complete:disabled:hover {\n",
              "    background-color: var(--disabled-bg-color);\n",
              "    fill: var(--disabled-fill-color);\n",
              "    box-shadow: none;\n",
              "  }\n",
              "\n",
              "  .colab-df-spinner {\n",
              "    border: 2px solid var(--fill-color);\n",
              "    border-color: transparent;\n",
              "    border-bottom-color: var(--fill-color);\n",
              "    animation:\n",
              "      spin 1s steps(1) infinite;\n",
              "  }\n",
              "\n",
              "  @keyframes spin {\n",
              "    0% {\n",
              "      border-color: transparent;\n",
              "      border-bottom-color: var(--fill-color);\n",
              "      border-left-color: var(--fill-color);\n",
              "    }\n",
              "    20% {\n",
              "      border-color: transparent;\n",
              "      border-left-color: var(--fill-color);\n",
              "      border-top-color: var(--fill-color);\n",
              "    }\n",
              "    30% {\n",
              "      border-color: transparent;\n",
              "      border-left-color: var(--fill-color);\n",
              "      border-top-color: var(--fill-color);\n",
              "      border-right-color: var(--fill-color);\n",
              "    }\n",
              "    40% {\n",
              "      border-color: transparent;\n",
              "      border-right-color: var(--fill-color);\n",
              "      border-top-color: var(--fill-color);\n",
              "    }\n",
              "    60% {\n",
              "      border-color: transparent;\n",
              "      border-right-color: var(--fill-color);\n",
              "    }\n",
              "    80% {\n",
              "      border-color: transparent;\n",
              "      border-right-color: var(--fill-color);\n",
              "      border-bottom-color: var(--fill-color);\n",
              "    }\n",
              "    90% {\n",
              "      border-color: transparent;\n",
              "      border-bottom-color: var(--fill-color);\n",
              "    }\n",
              "  }\n",
              "</style>\n",
              "\n",
              "      <script>\n",
              "        async function quickchart(key) {\n",
              "          const quickchartButtonEl =\n",
              "            document.querySelector('#' + key + ' button');\n",
              "          quickchartButtonEl.disabled = true;  // To prevent multiple clicks.\n",
              "          quickchartButtonEl.classList.add('colab-df-spinner');\n",
              "          try {\n",
              "            const charts = await google.colab.kernel.invokeFunction(\n",
              "                'suggestCharts', [key], {});\n",
              "          } catch (error) {\n",
              "            console.error('Error during call to suggestCharts:', error);\n",
              "          }\n",
              "          quickchartButtonEl.classList.remove('colab-df-spinner');\n",
              "          quickchartButtonEl.classList.add('colab-df-quickchart-complete');\n",
              "        }\n",
              "        (() => {\n",
              "          let quickchartButtonEl =\n",
              "            document.querySelector('#df-a46173d3-0ca6-48e4-8faf-82b8ee5f2dc3 button');\n",
              "          quickchartButtonEl.style.display =\n",
              "            google.colab.kernel.accessAllowed ? 'block' : 'none';\n",
              "        })();\n",
              "      </script>\n",
              "    </div>\n",
              "    </div>\n",
              "  </div>\n"
            ],
            "application/vnd.google.colaboratory.intrinsic+json": {
              "type": "dataframe",
              "summary": "{\n  \"name\": \"grouped_df\",\n  \"rows\": 20,\n  \"fields\": [\n    {\n      \"column\": \"word\",\n      \"properties\": {\n        \"dtype\": \"category\",\n        \"num_unique_values\": 4,\n        \"samples\": [\n          \"\\u043b\\u0443\\u043a\",\n          \"\\u0431\\u043e\\u0440\",\n          \"\\u0437\\u0430\\u043c\\u043e\\u043a\"\n        ],\n        \"semantic_type\": \"\",\n        \"description\": \"\"\n      }\n    },\n    {\n      \"column\": \"context\",\n      \"properties\": {\n        \"dtype\": \"string\",\n        \"num_unique_values\": 20,\n        \"samples\": [\n          \"\\u0437\\u0430\\u043c\\u043e\\u043a \\u0432\\u043b\\u0430\\u0434\\u0438\\u043c\\u0438\\u0440\\u0430 \\u043c\\u043e\\u043d\\u043e\\u043c\\u0430\\u0445\\u0430 \\u0432 \\u043b\\u044e\\u0431\\u0435\\u0447\\u0435 . \\u043c\\u043d\\u043e\\u0433\\u043e\\u0447\\u0438\\u0441\\u043b\\u0435\\u043d\\u043d\\u044b\\u0435 \\u0443\\u043a\\u0440\\u0435\\u043f\\u043b\\u0435\\u043d\\u043d\\u044b\\u0435 \\u043c\\u043e\\u043d\\u0430\\u0441\\u0442\\u044b\\u0440\\u0438 \\u0442\\u0430\\u043a\\u0436\\u0435 \\u043d\\u0435 \\u044f\\u0432\\u043b\\u044f\\u043b\\u0438\\u0441\\u044c \\u0437\\u0430\\u043c\\u043a\\u0430\\u043c\\u0438 \\u043a\\u0430\\u043a \\u0442\\u0430\\u043a\\u043e\\u0432\\u044b\\u043c\\u0438\\u00a0\\u2014 \\u044d\\u0442\\u043e \\u0431\\u044b\\u043b\\u0438 \\u043a\\u0440\\u0435\\u043f\\u043e\\u0441\\u0442\\u0438 . \\u0440\\u0430\\u043d\\u043d\\u0438\\u0435 \\u0435\\u0432\\u0440\\u043e\\u043f\\u0435\\u0439\\u0441\\u043a\\u0438\\u0435 \\u0437\\u0430\\u043c\\u043a\\u0438 \\u0441\\u0442\\u0440\\u043e\\u0438\\u043b\\u0438\\u0441\\u044c \\u043f\\u0440\\u0435\\u0438\\u043c\\u0443\\u0449\\u0435\\u0441\\u0442\\u0432\\u0435\\u043d\\u043d\\u043e \\u0438\\u0437 \\u0434\\u0435\\u0440\\u0435\\u0432\\u0430 \\u043e\\u043d\\u0438 \\u043e\\u043f\\u043e\\u044f\\u0441\\u044b\\u0432\\u0430\\u043b\\u0438\\u0441\\u044c \\u0434\\u0435\\u0440\\u0435\\u0432\\u044f\\u043d\\u043d\\u043e\\u0439 \\u043e\\u0433\\u0440\\u0430\\u0434\\u043e\\u0439\\u00a0\\u2014 \\u043f\\u0430\\u043b\\u0438\\u0441\\u0430\\u0434\\u043e\\u043c \\u0443\\u0436\\u0435 \\u0442\\u043e\\u0433\\u0434\\u0430 \\u0432\\u043e\\u043a\\u0440\\u0443\\u0433 \\u0437\\u0430\\u043c\\u043a\\u043e\\u0432 \\u0441\\u0442\\u0430\\u043b\\u0438 \\u043f\\u043e\\u044f\\u0432\\u043b\\u044f\\u0442\\u044c\\u0441\\u044f \\u0440\\u0432\\u044b . \\u043f\\u0440\\u0438\\u043c\\u0435\\u0440\\u043e\\u043c \\u0442\\u0430\\u043a\\u043e\\u0433\\u043e \\u0437\\u0430\\u043c\\u043a\\u0430 \\u043c\\u043e\\u0436\\u0435\\u0442 \\u0441\\u043b\\u0443\\u0436\\u0438\\u0442\\u044c \\u0432\\u044b\\u0448\\u0433\\u043e\\u0440\\u043e\\u0434\\u0441\\u043a\\u0438\\u0439 \\u0437\\u0430\\u043c\\u043e\\u043a \\u043a\\u0438\\u0435\\u0432\\u0441\\u043a\\u0438\\u0445 \\u043a\\u043d\\u044f\\u0437\\u0435\\u0439 . \\u043a\\u0430\\u043c\\u0435\\u043d\\u043d\\u043e\\u0435 \\u0437\\u0430\\u043c\\u043a\\u043e\\u0432\\u043e\\u0435 \\u0441\\u0442\\u0440\\u043e\\u0438\\u0442\\u0435\\u043b\\u044c\\u0441\\u0442\\u0432\\u043e \\u0440\\u0430\\u0441\\u043f\\u0440\\u043e\\u0441\\u0442\\u0440\\u0430\\u043d\\u0438\\u043b\\u043e\\u0441\\u044c \\u0432 \\u0437\\u0430\\u043f\\u0430\\u0434\\u043d\\u043e\\u0439 \\u0438 \\u0446\\u0435\\u043d\\u0442\\u0440\\u0430\\u043b\\u044c\\u043d\\u043e\\u0439 \\u0435\\u0432\\u0440\\u043e\\u043f\\u0435 \\u043b\\u0438\\u0448\\u044c \\u043a xii \\u0432\\u0435\\u043a\\u0443 . \\u0433\\u043b\\u0430\\u0432\\u043d\\u043e\\u0439 \\u0447\\u0430\\u0441\\u0442\\u044c\\u044e \\u0441\\u0440\\u0435\\u0434\\u043d\\u0435\\u0432\\u0435\\u043a\\u043e\\u0432\\u043e\\u0433\\u043e \\u0437\\u0430\\u043c\\u043a\\u0430 \\u044f\\u0432\\u043b\\u044f\\u043b\\u0430\\u0441\\u044c \\u0446\\u0435\\u043d\\u0442\\u0440\\u0430\\u043b\\u044c\\u043d\\u0430\\u044f \\u0431\\u0430\\u0448\\u043d\\u044f\\u00a0\\u2014 \\u0434\\u043e\\u043d\\u0436\\u043e\\u043d , \\u0432\\u044b\\u043f\\u043e\\u043b\\u043d\\u044f\\u0432\\u0448\\u0430\\u044f \\u0444\\u0443\\u043d\\u043a\\u0446\\u0438\\u0438 \\u0446\\u0438\\u0442\\u0430\\u0434\\u0435\\u043b\\u0438 . \\u043f\\u043e\\u043c\\u0438\\u043c\\u043e \\u0441\\u0432\\u043e\\u0438\\u0445 \\u043e\\u0431\\u043e\\u0440\\u043e\\u043d\\u0438\\u0442\\u0435\\u043b\\u044c\\u043d\\u044b\\u0445 \\u0444\\u0443\\u043d\\u043a\\u0446\\u0438\\u0439 , \\u0434\\u043e\\u043d\\u0436\\u043e\\u043d \\u044f\\u0432\\u043b\\u044f\\u043b\\u0441\\u044f \\u043d\\u0435\\u043f\\u043e\\u0441\\u0440\\u0435\\u0434\\u0441\\u0442\\u0432\\u0435\\u043d\\u043d\\u044b\\u043c \\u0436\\u0438\\u043b\\u0438\\u0449\\u0435\\u043c \\u0444\\u0435\\u043e\\u0434\\u0430\\u043b\\u0430 . \\u0442\\u0430\\u043a\\u0436\\u0435 \\u0432 \\u0433\\u043b\\u0430\\u0432\\u043d\\u043e\\u0439 \\u0431\\u0430\\u0448\\u043d\\u0435\",\n          \"\\u0441 \\u0431\\u043e\\u043b\\u044c\\u0448\\u0438\\u043c \\u0432\\u044b\\u0434\\u0435\\u043b\\u0435\\u043d\\u0438\\u0435\\u043c \\u0442\\u0435\\u043f\\u043b\\u043e\\u0442\\u044b , \\u043e\\u0431\\u0440\\u0430\\u0437\\u0443\\u0435\\u0442\\u0441\\u044f \\u043e\\u043a\\u0441\\u0438\\u0434 b o \\u0434\\u0430\\u043d\\u043d\\u043e\\u0435 \\u0441\\u0432\\u043e\\u0439\\u0441\\u0442\\u0432\\u043e \\u0431\\u043e\\u0440\\u0430 \\u043c\\u043e\\u0436\\u043d\\u043e \\u043e\\u0431\\u044a\\u044f\\u0441\\u043d\\u0438\\u0442\\u044c \\u043e\\u0447\\u0435\\u043d\\u044c \\u0432\\u044b\\u0441\\u043e\\u043a\\u043e\\u0439 \\u043f\\u0440\\u043e\\u0447\\u043d\\u043e\\u0441\\u0442\\u044c\\u044e \\u0445\\u0438\\u043c\\u0438\\u0447\\u0435\\u0441\\u043a\\u0438\\u0445 \\u0441\\u0432\\u044f\\u0437\\u0435\\u0439 \\u0432 \\u043e\\u043a\\u0441\\u0438\\u0434\\u0435 \\u0431\\u043e\\u0440\\u0430 b o . \\u043f\\u0440\\u0438 \\u043e\\u0442\\u0441\\u0443\\u0442\\u0441\\u0442\\u0432\\u0438\\u0438 \\u043e\\u043a\\u0438\\u0441\\u043b\\u0438\\u0442\\u0435\\u043b\\u0435\\u0439 \\u0431\\u043e\\u0440 \\u0443\\u0441\\u0442\\u043e\\u0439\\u0447\\u0438\\u0432 \\u043a \\u0434\\u0435\\u0439\\u0441\\u0442\\u0432\\u0438\\u044e \\u0440\\u0430\\u0441\\u0442\\u0432\\u043e\\u0440\\u043e\\u0432 \\u0449\\u0435\\u043b\\u043e\\u0447\\u0435\\u0439 . \\u0432 \\u0433\\u043e\\u0440\\u044f\\u0447\\u0435\\u0439 \\u0430\\u0437\\u043e\\u0442\\u043d\\u043e\\u0439 , \\u0441\\u0435\\u0440\\u043d\\u043e\\u0439 \\u043a\\u0438\\u0441\\u043b\\u043e\\u0442\\u0430\\u0445 \\u0438 \\u0432 \\u0446\\u0430\\u0440\\u0441\\u043a\\u043e\\u0439 \\u0432\\u043e\\u0434\\u043a\\u0435 \\u0431\\u043e\\u0440 \\u0440\\u0430\\u0441\\u0442\\u0432\\u043e\\u0440\\u044f\\u0435\\u0442\\u0441\\u044f \\u0441 \\u043e\\u0431\\u0440\\u0430\\u0437\\u043e\\u0432\\u0430\\u043d\\u0438\\u0435\\u043c \\u0431\\u043e\\u0440\\u043d\\u043e\\u0439 \\u043a\\u0438\\u0441\\u043b\\u043e\\u0442\\u044b formula_ . \\u043e\\u043a\\u0441\\u0438\\u0434 \\u0431\\u043e\\u0440\\u0430 formula_ \\u00a0\\u2014 \\u0442\\u0438\\u043f\\u0438\\u0447\\u043d\\u044b\\u0439 \\u043a\\u0438\\u0441\\u043b\\u043e\\u0442\\u043d\\u044b\\u0439 \\u043e\\u043a\\u0441\\u0438\\u0434 . \\u043e\\u043d \\u0440\\u0435\\u0430\\u0433\\u0438\\u0440\\u0443\\u0435\\u0442 \\u0441 \\u0432\\u043e\\u0434\\u043e\\u0439 \\u0441 \\u043e\\u0431\\u0440\\u0430\\u0437\\u043e\\u0432\\u0430\\u043d\\u0438\\u0435\\u043c \\u0431\\u043e\\u0440\\u043d\\u043e\\u0439 \\u043a\\u0438\\u0441\\u043b\\u043e\\u0442\\u044b \\u043f\\u0440\\u0438 \\u0432\\u0437\\u0430\\u0438\\u043c\\u043e\\u0434\\u0435\\u0439\\u0441\\u0442\\u0432\\u0438\\u0438 \\u0431\\u043e\\u0440\\u043d\\u043e\\u0439 \\u043a\\u0438\\u0441\\u043b\\u043e\\u0442\\u044b \\u0441\\u043e \\u0449\\u0435\\u043b\\u043e\\u0447\\u0430\\u043c\\u0438 \\u0432\\u043e\\u0437\\u043d\\u0438\\u043a\\u0430\\u044e\\u0442 \\u0441\\u043e\\u043b\\u0438 \\u043d\\u0435 \\u0441\\u0430\\u043c\\u043e\\u0439 \\u0431\\u043e\\u0440\\u043d\\u043e\\u0439 \\u043a\\u0438\\u0441\\u043b\\u043e\\u0442\\u044b\\u00a0\\u2014 \\u0431\\u043e\\u0440\\u0430\\u0442\\u044b ( \\u0441\\u043e\\u0434\\u0435\\u0440\\u0436\\u0430\\u0449\\u0438\\u0435 \\u0430\\u043d\\u0438\\u043e\\u043d bo\",\n          \"\\u0431\\u043e\\u0440 ( \\u044d\\u043b\\u0435\\u043c\\u0435\\u043d\\u0442 ) \\u0431\\u043e\\u0440\\u00a0\\u2014 \\u044d\\u043b\\u0435\\u043c\\u0435\\u043d\\u0442 \\u0442\\u0440\\u0438\\u043d\\u0430\\u0434\\u0446\\u0430\\u0442\\u043e\\u0439 \\u0433\\u0440\\u0443\\u043f\\u043f\\u044b ( \\u043f\\u043e \\u0443\\u0441\\u0442\\u0430\\u0440\\u0435\\u0432\\u0448\\u0435\\u0439 \\u043a\\u043b\\u0430\\u0441\\u0441\\u0438\\u0444\\u0438\\u043a\\u0430\\u0446\\u0438\\u0438 \\u2014 \\u0433\\u043b\\u0430\\u0432\\u043d\\u043e\\u0439 \\u043f\\u043e\\u0434\\u0433\\u0440\\u0443\\u043f\\u043f\\u044b \\u0442\\u0440\\u0435\\u0442\\u044c\\u0435\\u0439 \\u0433\\u0440\\u0443\\u043f\\u043f\\u044b ) , \\u0432\\u0442\\u043e\\u0440\\u043e\\u0433\\u043e \\u043f\\u0435\\u0440\\u0438\\u043e\\u0434\\u0430 \\u043f\\u0435\\u0440\\u0438\\u043e\\u0434\\u0438\\u0447\\u0435\\u0441\\u043a\\u043e\\u0439 \\u0441\\u0438\\u0441\\u0442\\u0435\\u043c\\u044b \\u0445\\u0438\\u043c\\u0438\\u0447\\u0435\\u0441\\u043a\\u0438\\u0445 \\u044d\\u043b\\u0435\\u043c\\u0435\\u043d\\u0442\\u043e\\u0432 \\u0441 \\u0430\\u0442\\u043e\\u043c\\u043d\\u044b\\u043c \\u043d\\u043e\\u043c\\u0435\\u0440\\u043e\\u043c . \\u043e\\u0431\\u043e\\u0437\\u043d\\u0430\\u0447\\u0430\\u0435\\u0442\\u0441\\u044f \\u0441\\u0438\\u043c\\u0432\\u043e\\u043b\\u043e\\u043c b ( ) . \\u0432 \\u0441\\u0432\\u043e\\u0431\\u043e\\u0434\\u043d\\u043e\\u043c \\u0441\\u043e\\u0441\\u0442\\u043e\\u044f\\u043d\\u0438\\u0438\"\n        ],\n        \"semantic_type\": \"\",\n        \"description\": \"\"\n      }\n    },\n    {\n      \"column\": \"gold_sense_id\",\n      \"properties\": {\n        \"dtype\": \"number\",\n        \"std\": 0,\n        \"min\": 1,\n        \"max\": 1,\n        \"num_unique_values\": 1,\n        \"samples\": [\n          1\n        ],\n        \"semantic_type\": \"\",\n        \"description\": \"\"\n      }\n    }\n  ]\n}"
            }
          },
          "metadata": {},
          "execution_count": 160
        }
      ]
    },
    {
      "cell_type": "code",
      "source": [
        "len(grouped_df.get_group('замок')['context'].values)"
      ],
      "metadata": {
        "colab": {
          "base_uri": "https://localhost:8080/"
        },
        "id": "U2cbqzLE-4CL",
        "outputId": "eef8e49f-1bd6-4169-ed0c-d23808610d02"
      },
      "id": "U2cbqzLE-4CL",
      "execution_count": 161,
      "outputs": [
        {
          "output_type": "execute_result",
          "data": {
            "text/plain": [
              "138"
            ]
          },
          "metadata": {},
          "execution_count": 161
        }
      ]
    },
    {
      "cell_type": "code",
      "source": [
        "def get_metric(df, algo, word, **kwargs):\n",
        "    parameters = kwargs\n",
        "    texts = df.get_group(word)['context'].values\n",
        "    X = np.zeros((len(texts), 768))\n",
        "\n",
        "    batches = []\n",
        "    batch_size = 16\n",
        "    for i in range(0, len(texts), batch_size):\n",
        "        batch = texts[i:i + batch_size]\n",
        "        batches.append(batch)\n",
        "    processed = 0\n",
        "    for batch in batches:\n",
        "        for i, vector in enumerate(embed(batch)):\n",
        "            i += processed\n",
        "            X[i] = vector\n",
        "        processed += len(batch)\n",
        "\n",
        "    match algo:\n",
        "      case 'DBSCAN':\n",
        "        if not 'min_samples' in parameters:\n",
        "            parameters['min_samples'] = 1\n",
        "        if not 'eps' in parameters:\n",
        "            parameters['eps'] = 0.1\n",
        "\n",
        "        cluster = DBSCAN(**parameters)\n",
        "      case 'AffProp':\n",
        "        cluster = AffinityPropagation(**parameters)\n",
        "      case 'AggClust':\n",
        "          if 'distance_threshold' in parameters:\n",
        "              parameters['n_clusters'] = None\n",
        "          cluster = AgglomerativeClustering(**parameters)\n",
        "      case 'Kmeans':\n",
        "          if 'n_clusters' not in parameters:\n",
        "              parameters['n_clusters'] = 3\n",
        "          cluster = KMeans(**parameters)\n",
        "      case 'SpectClust':\n",
        "          if 'n_clusters' not in parameters:\n",
        "              parameters['n_clusters'] = 3\n",
        "          cluster = SpectralClustering(**parameters)\n",
        "\n",
        "    cluster.fit(X)\n",
        "    labels = np.array(cluster.labels_)+1\n",
        "\n",
        "    return adjusted_rand_score(df.get_group(word)['gold_sense_id'], labels)\n"
      ],
      "metadata": {
        "id": "cDZ5CjZ_-pNA"
      },
      "id": "cDZ5CjZ_-pNA",
      "execution_count": 182,
      "outputs": []
    },
    {
      "cell_type": "markdown",
      "source": [
        "## DBSCAN"
      ],
      "metadata": {
        "id": "-Gx9D24UI7E2"
      },
      "id": "-Gx9D24UI7E2"
    },
    {
      "cell_type": "code",
      "source": [
        "import time"
      ],
      "metadata": {
        "id": "hxjTId0DqFUo"
      },
      "id": "hxjTId0DqFUo",
      "execution_count": 188,
      "outputs": []
    },
    {
      "cell_type": "code",
      "source": [
        "start_time_1 = time.time()\n",
        "ARI_default = [get_metric(grouped_df, 'DBSCAN', key) for key, _ in grouped_df]\n",
        "end_time_1 = time.time()\n",
        "start_time_2 = time.time()\n",
        "ARI_cosine = [get_metric(grouped_df, 'DBSCAN', key, metric='cosine') for key, _ in grouped_df]\n",
        "end_time_2 = time.time()"
      ],
      "metadata": {
        "id": "yvSTr2qA-d3e"
      },
      "id": "yvSTr2qA-d3e",
      "execution_count": 191,
      "outputs": []
    },
    {
      "cell_type": "code",
      "source": [
        "print(f'Стандартный DBSCAN: {np.mean(ARI_default):.5f}\\nВремя: {end_time_1-start_time_1}')\n",
        "print('\\n')\n",
        "print(f'DBSCAN metric=cosine: {np.mean(ARI_default):.5f}\\nВремя: {end_time_2-start_time_2}')"
      ],
      "metadata": {
        "colab": {
          "base_uri": "https://localhost:8080/"
        },
        "id": "JDV78bBUG1Yb",
        "outputId": "332408be-22a9-4bde-cd9a-ced5c2e85684"
      },
      "id": "JDV78bBUG1Yb",
      "execution_count": 193,
      "outputs": [
        {
          "output_type": "stream",
          "name": "stdout",
          "text": [
            "Стандартный DBSCAN: 0.00105\n",
            "Время: 11.02499008178711\n",
            "\n",
            "\n",
            "DBSCAN metric=cosine: 0.00105\n",
            "Время: 11.237125396728516\n"
          ]
        }
      ]
    },
    {
      "cell_type": "code",
      "source": [
        "start_time_1 = time.time()\n",
        "ARI_cosine_brute_eps = [get_metric(grouped_df, 'DBSCAN', key, eps=0.2, metric='cosine', algorithm='brute') for key, _ in grouped_df]\n",
        "end_time_1 = time.time()\n",
        "\n",
        "start_time_2 = time.time()\n",
        "ARI_cosine_brute_eps_samples = [get_metric(grouped_df, 'DBSCAN', key, eps=0.2, min_samples=3, metric='cosine', algorithm='brute') for key, _ in grouped_df]\n",
        "end_time_2 = time.time()"
      ],
      "metadata": {
        "id": "8wxGUMuPHDM1"
      },
      "id": "8wxGUMuPHDM1",
      "execution_count": 194,
      "outputs": []
    },
    {
      "cell_type": "code",
      "source": [
        "print(f'DBSCAN metric=cosine, algorithm=brute, eps=0.2: {np.mean(ARI_cosine_brute_eps):.5f}\\nВремя: {end_time_1-start_time_1}')\n",
        "print('\\n')\n",
        "print(f'DBSCAN metric=cosine, algorithm=brute, eps=0.2, samples=3: {np.mean(ARI_cosine_brute_eps_samples):.5f}\\nВремя: {end_time_2-start_time_2}')"
      ],
      "metadata": {
        "colab": {
          "base_uri": "https://localhost:8080/"
        },
        "id": "TsR_LWFGHn0T",
        "outputId": "5b645e69-d99c-4dad-f15e-cbf61d57698a"
      },
      "id": "TsR_LWFGHn0T",
      "execution_count": 196,
      "outputs": [
        {
          "output_type": "stream",
          "name": "stdout",
          "text": [
            "DBSCAN metric=cosine, algorithm=brute, eps=0.2: 0.07489\n",
            "Время: 10.913528442382812\n",
            "\n",
            "\n",
            "DBSCAN metric=cosine, algorithm=brute, eps=0.2, samples=3: 0.07306\n",
            "Время: 11.150765419006348\n"
          ]
        }
      ]
    },
    {
      "cell_type": "code",
      "source": [
        "start_time_1 = time.time()\n",
        "ARI_cosine_brute_eps_samples_5 = [get_metric(grouped_df, 'DBSCAN', key, eps=0.2, min_samples=5, metric='cosine', algorithm='brute') for key, _ in grouped_df]\n",
        "end_time_1 = time.time()"
      ],
      "metadata": {
        "id": "rSxWHRhsrU7n"
      },
      "id": "rSxWHRhsrU7n",
      "execution_count": 197,
      "outputs": []
    },
    {
      "cell_type": "code",
      "source": [
        "print(f'DBSCAN metric=cosine, algorithm=brute, eps=0.2, samples=5: {np.mean(ARI_cosine_brute_eps_samples_5):.5f}\\nВремя: {end_time_1-start_time_1}')"
      ],
      "metadata": {
        "colab": {
          "base_uri": "https://localhost:8080/"
        },
        "id": "x3AExJv-rbaL",
        "outputId": "82469fc8-1cc9-4cb9-e8c1-c47afaeb69d4"
      },
      "id": "x3AExJv-rbaL",
      "execution_count": 198,
      "outputs": [
        {
          "output_type": "stream",
          "name": "stdout",
          "text": [
            "DBSCAN metric=cosine, algorithm=brute, eps=0.2, samples=5: 0.08064\n",
            "Время: 10.976757287979126\n"
          ]
        }
      ]
    },
    {
      "cell_type": "markdown",
      "source": [
        "**Лучшая метрика** -- *0.08064*\n",
        "\n",
        "\n",
        "---\n",
        "\n",
        "\n",
        "```\n",
        "metric=cosine, algorithm=brute, eps=0.2, samples=5\n",
        "```\n",
        "\n",
        "Среднее время: 10-11 секунд\n",
        "\n"
      ],
      "metadata": {
        "id": "vX4XJeo8IJbA"
      },
      "id": "vX4XJeo8IJbA"
    },
    {
      "cell_type": "markdown",
      "source": [
        "## AffinityPropagation"
      ],
      "metadata": {
        "id": "U9eLb67lI99-"
      },
      "id": "U9eLb67lI99-"
    },
    {
      "cell_type": "code",
      "source": [
        "start_time_1 = time.time()\n",
        "ARI_default = [get_metric(grouped_df, 'AffProp', key, random_state=25) for key, _ in grouped_df]\n",
        "end_time_1 = time.time()\n",
        "\n",
        "start_time_2 = time.time()\n",
        "ARI_damping = [get_metric(grouped_df, 'AffProp', key, damping=0.7, random_state=25) for key, _ in grouped_df]\n",
        "end_time_2 = time.time()\n",
        "\n",
        "start_time_3 = time.time()\n",
        "ARI_damping_less = [get_metric(grouped_df, 'AffProp', key, damping=0.6, random_state=25) for key, _ in grouped_df]\n",
        "end_time_3 = time.time()"
      ],
      "metadata": {
        "id": "BA74lYinILVF"
      },
      "id": "BA74lYinILVF",
      "execution_count": 199,
      "outputs": []
    },
    {
      "cell_type": "code",
      "source": [
        "print(f'Стандартный AffProp: {np.mean(ARI_default):.5f}\\nВремя: {end_time_1-start_time_1}')\n",
        "print('\\n')\n",
        "print(f'AffProp damping=0.7: {np.mean(ARI_damping):.5f}\\nВремя: {end_time_2-start_time_2}')\n",
        "print('\\n')\n",
        "print(f'AffProp damping=0.6: {np.mean(ARI_damping_less):.5f}\\nВремя: {end_time_3-start_time_3}')"
      ],
      "metadata": {
        "colab": {
          "base_uri": "https://localhost:8080/"
        },
        "id": "k0uLJqJTJYqQ",
        "outputId": "a57c9231-43c4-492f-e7a6-dad18b91bc31"
      },
      "id": "k0uLJqJTJYqQ",
      "execution_count": 200,
      "outputs": [
        {
          "output_type": "stream",
          "name": "stdout",
          "text": [
            "Стандартный AffProp: 0.04274\n",
            "Время: 11.10112738609314\n",
            "\n",
            "\n",
            "AffProp damping=0.7: 0.04155\n",
            "Время: 11.455334901809692\n",
            "\n",
            "\n",
            "AffProp damping=0.6: 0.04274\n",
            "Время: 12.016026735305786\n"
          ]
        }
      ]
    },
    {
      "cell_type": "code",
      "source": [
        "start_time_1 = time.time()\n",
        "ARI_damping_coverg = [get_metric(grouped_df, 'AffProp', key, damping=0.6, random_state=25, convergence_iter=30) for key, _ in grouped_df]\n",
        "end_time_1 = time.time()\n",
        "\n",
        "start_time_2 = time.time()\n",
        "ARI_damping_iters = [get_metric(grouped_df, 'AffProp', key, damping=0.6, random_state=25) for key, _ in grouped_df]\n",
        "end_time_2 = time.time()"
      ],
      "metadata": {
        "id": "lJp22QaXKWex"
      },
      "id": "lJp22QaXKWex",
      "execution_count": null,
      "outputs": []
    },
    {
      "cell_type": "code",
      "source": [
        "print(f'AffProp damping=0.6, convergence_iter=30: {np.mean(ARI_damping_coverg):.5f}\\nВремя: {end_time_1-start_time_1}')\n",
        "print('\\n')\n",
        "print(f'AffProp damping=0.6, max_iter=300: {np.mean(ARI_damping_iters):.5f}\\nВремя: {end_time_2-start_time_2}')"
      ],
      "metadata": {
        "colab": {
          "base_uri": "https://localhost:8080/"
        },
        "id": "1qTqMX52Kl7B",
        "outputId": "3d13ba21-4d50-465d-c03a-8a2020d8d24a"
      },
      "id": "1qTqMX52Kl7B",
      "execution_count": 201,
      "outputs": [
        {
          "output_type": "stream",
          "name": "stdout",
          "text": [
            "AffProp damping=0.6, convergence_iter=30: 0.04274\n",
            "Время: 11.10112738609314\n",
            "\n",
            "\n",
            "AffProp damping=0.6, max_iter=300: 0.04274\n",
            "Время: 11.455334901809692\n"
          ]
        }
      ]
    },
    {
      "cell_type": "markdown",
      "source": [
        "**Лучшая метрика** -- 0.04274 (стандартный AffProp)\n",
        "\n",
        "\n",
        "---\n",
        "\n",
        "среднее время -- 11-12 секунд"
      ],
      "metadata": {
        "id": "LPeg3RzPZAXH"
      },
      "id": "LPeg3RzPZAXH"
    },
    {
      "cell_type": "markdown",
      "source": [
        "## Agglomerative clustering"
      ],
      "metadata": {
        "id": "-BDbuVCYZTtr"
      },
      "id": "-BDbuVCYZTtr"
    },
    {
      "cell_type": "code",
      "source": [
        "from sklearn.cluster import AgglomerativeClustering"
      ],
      "metadata": {
        "id": "9xw3WhjaZV7j"
      },
      "id": "9xw3WhjaZV7j",
      "execution_count": null,
      "outputs": []
    },
    {
      "cell_type": "code",
      "source": [
        "start_time_1 = time.time()\n",
        "ARI_threshold = [get_metric(grouped_df, 'AggClust', key, distance_threshold=0.8) for key, _ in grouped_df]\n",
        "end_time_1 = time.time()\n",
        "\n",
        "start_time_2 = time.time()\n",
        "ARI_clusters = [get_metric(grouped_df, 'AggClust', key, n_clusters=5) for key, _ in grouped_df]\n",
        "end_time_2 = time.time()\n",
        "\n",
        "start_time_3 = time.time()\n",
        "ARI_cosine = [get_metric(grouped_df, 'AggClust', key, distance_threshold=0.8, metric='cosine', linkage='average') for key, _ in grouped_df]\n",
        "end_time_3 = time.time()"
      ],
      "metadata": {
        "id": "rY0hiv5sZrT1"
      },
      "id": "rY0hiv5sZrT1",
      "execution_count": 202,
      "outputs": []
    },
    {
      "cell_type": "code",
      "source": [
        "print(f'Стандартный (threshold=0.8) AggClust: {np.mean(ARI_threshold):.5f}\\nВремя: {end_time_1-start_time_1}')\n",
        "print('\\n')\n",
        "print(f'AggClust n_clusters=5: {np.mean(ARI_clusters):.5f}\\nВремя: {end_time_2-start_time_2}')\n",
        "print('\\n')\n",
        "print(f'AggClust (threshold=0.8) metric=cosine, linkage=average: {np.mean(ARI_cosine):.5f}\\nВремя: {end_time_3-start_time_3}')"
      ],
      "metadata": {
        "colab": {
          "base_uri": "https://localhost:8080/"
        },
        "id": "mZiIDVvxaMok",
        "outputId": "d9ba5c6c-11c3-4478-d6be-d43e21a06cce"
      },
      "id": "mZiIDVvxaMok",
      "execution_count": 203,
      "outputs": [
        {
          "output_type": "stream",
          "name": "stdout",
          "text": [
            "Стандартный (threshold=0.8) AggClust: 0.03763\n",
            "Время: 10.727065801620483\n",
            "\n",
            "\n",
            "AggClust n_clusters=5: 0.03379\n",
            "Время: 11.362627744674683\n",
            "\n",
            "\n",
            "AggClust (threshold=0.8) metric=cosine, linkage=average: 0.00000\n",
            "Время: 11.603286027908325\n"
          ]
        }
      ]
    },
    {
      "cell_type": "code",
      "source": [
        "start_time_1 = time.time()\n",
        "ARI_cosine_average = [get_metric(grouped_df, 'AggClust', key, distance_threshold=0.2, metric='cosine', linkage='average') for key, _ in grouped_df]\n",
        "end_time_1 = time.time()"
      ],
      "metadata": {
        "id": "xqRfIaX1aavd"
      },
      "id": "xqRfIaX1aavd",
      "execution_count": 204,
      "outputs": []
    },
    {
      "cell_type": "code",
      "source": [
        "print(f'AggClust (threshold=0.2) metric=cosine, linkage=average: {np.mean(ARI_cosine_average):.5f}\\nВремя: {end_time_1-start_time_1}')"
      ],
      "metadata": {
        "colab": {
          "base_uri": "https://localhost:8080/"
        },
        "id": "g626vb2ycUGG",
        "outputId": "8d99222b-c3aa-4a5f-8c85-5e85a0394f52"
      },
      "id": "g626vb2ycUGG",
      "execution_count": 205,
      "outputs": [
        {
          "output_type": "stream",
          "name": "stdout",
          "text": [
            "AggClust (threshold=0.2) metric=cosine, linkage=average: 0.11555\n",
            "Время: 11.034559488296509\n"
          ]
        }
      ]
    },
    {
      "cell_type": "code",
      "source": [
        "start_time_1 = time.time()\n",
        "ARI_cosine_average_2 = [get_metric(grouped_df, 'AggClust', key, distance_threshold=0.1, metric='cosine', linkage='average') for key, _ in grouped_df]\n",
        "end_time_1 = time.time()"
      ],
      "metadata": {
        "id": "CmphuJb9cy0-"
      },
      "id": "CmphuJb9cy0-",
      "execution_count": 206,
      "outputs": []
    },
    {
      "cell_type": "code",
      "source": [
        "print(f'AggClust (threshold=0.1) metric=cosine, linkage=average: {np.mean(ARI_cosine_average_2):.5f}\\nВремя: {end_time_1-start_time_1}')"
      ],
      "metadata": {
        "colab": {
          "base_uri": "https://localhost:8080/"
        },
        "id": "XhZoSNhcc2DO",
        "outputId": "4cbfe8ea-39e9-48cd-e7bc-6352e88bd96f"
      },
      "id": "XhZoSNhcc2DO",
      "execution_count": 207,
      "outputs": [
        {
          "output_type": "stream",
          "name": "stdout",
          "text": [
            "AggClust (threshold=0.1) metric=cosine, linkage=average: 0.01794\n",
            "Время: 11.859452962875366\n"
          ]
        }
      ]
    },
    {
      "cell_type": "code",
      "source": [
        "start_time_1 = time.time()\n",
        "ARI_cosine_single = [get_metric(grouped_df, 'AggClust', key, distance_threshold=0.2, metric='cosine', linkage='complete') for key, _ in grouped_df]\n",
        "end_time_1 = time.time()"
      ],
      "metadata": {
        "id": "zm49_Z41c44b"
      },
      "id": "zm49_Z41c44b",
      "execution_count": 208,
      "outputs": []
    },
    {
      "cell_type": "code",
      "source": [
        "print(f'AggClust (threshold=0.2) metric=cosine, linkage=average: {np.mean(ARI_cosine_single):.5f}\\nВремя: {end_time_1-start_time_1}')"
      ],
      "metadata": {
        "colab": {
          "base_uri": "https://localhost:8080/"
        },
        "id": "FK5PgUUKdHbK",
        "outputId": "433cc47a-58ee-4743-fe05-4402327ccd18"
      },
      "id": "FK5PgUUKdHbK",
      "execution_count": 209,
      "outputs": [
        {
          "output_type": "stream",
          "name": "stdout",
          "text": [
            "AggClust (threshold=0.2) metric=cosine, linkage=average: 0.03909\n",
            "Время: 11.447248935699463\n"
          ]
        }
      ]
    },
    {
      "cell_type": "code",
      "source": [
        "start_time_1 = time.time()\n",
        "ARI_cosine_average_3 = [get_metric(grouped_df, 'AggClust', key, distance_threshold=0.3, metric='cosine', linkage='average') for key, _ in grouped_df]\n",
        "end_time_1 = time.time()"
      ],
      "metadata": {
        "id": "pfjGmUzUdMlJ"
      },
      "id": "pfjGmUzUdMlJ",
      "execution_count": 210,
      "outputs": []
    },
    {
      "cell_type": "code",
      "source": [
        "print(f'AggClust (threshold=0.3) metric=cosine, linkage=average: {np.mean(ARI_cosine_average_3):.5f}\\nВремя: {end_time_1-start_time_1}')"
      ],
      "metadata": {
        "colab": {
          "base_uri": "https://localhost:8080/"
        },
        "id": "AItFdKF1dQb9",
        "outputId": "18f8ba27-7218-4e42-a8f7-1e6c91e0c60d"
      },
      "id": "AItFdKF1dQb9",
      "execution_count": 211,
      "outputs": [
        {
          "output_type": "stream",
          "name": "stdout",
          "text": [
            "AggClust (threshold=0.3) metric=cosine, linkage=average: 0.05477\n",
            "Время: 11.232676982879639\n"
          ]
        }
      ]
    },
    {
      "cell_type": "markdown",
      "source": [
        "Лучшая метрика -- **0.11555**\n",
        "\n",
        "\n",
        "---\n",
        "\n",
        "\n",
        "`AggClust (threshold=0.2) metric=cosine, linkage=average`\n",
        "\n",
        "Среднее время: 11-12 секунд"
      ],
      "metadata": {
        "id": "rDsngLWodiTK"
      },
      "id": "rDsngLWodiTK"
    },
    {
      "cell_type": "markdown",
      "source": [
        "## Kmeans"
      ],
      "metadata": {
        "id": "Mw3w8KdrdoW7"
      },
      "id": "Mw3w8KdrdoW7"
    },
    {
      "cell_type": "code",
      "source": [
        "start_time_1 = time.time()\n",
        "ARI_3_clusters = [get_metric(grouped_df, 'Kmeans', key, random_state=25) for key, _ in grouped_df]\n",
        "end_time_1 = time.time()\n",
        "\n",
        "start_time_2 = time.time()\n",
        "ARI_2_clusters = [get_metric(grouped_df, 'Kmeans', key, n_clusters=2, random_state=25) for key, _ in grouped_df]\n",
        "end_time_2 = time.time()\n",
        "\n",
        "start_time_3 = time.time()\n",
        "ARI_5_clusters = [get_metric(grouped_df, 'Kmeans', key, n_clusters=5, random_state=25) for key, _ in grouped_df]\n",
        "end_time_3 = time.time()"
      ],
      "metadata": {
        "id": "bkexDNOgdvEW"
      },
      "id": "bkexDNOgdvEW",
      "execution_count": 219,
      "outputs": []
    },
    {
      "cell_type": "code",
      "source": [
        "print(f'Стандартный (n_clusters=3) Kmeans: {np.mean(ARI_3_clusters):.5f}\\nВремя: {end_time_1-start_time_1}')\n",
        "print('\\n')\n",
        "print(f'Kmeans n_clusters=2: {np.mean(ARI_2_clusters):.5f}\\nВремя: {end_time_2-start_time_2}')\n",
        "print('\\n')\n",
        "print(f'Kmeans n_clusters=5: {np.mean(ARI_5_clusters):.5f}\\nВремя: {end_time_3-start_time_3}')"
      ],
      "metadata": {
        "colab": {
          "base_uri": "https://localhost:8080/"
        },
        "id": "PDyQnGy9eYfS",
        "outputId": "6a01ef93-4451-458c-fd58-eafac9b44ca3"
      },
      "id": "PDyQnGy9eYfS",
      "execution_count": 220,
      "outputs": [
        {
          "output_type": "stream",
          "name": "stdout",
          "text": [
            "Стандартный (n_clusters=3) Kmeans: 0.05379\n",
            "Время: 11.557048320770264\n",
            "\n",
            "\n",
            "Kmeans n_clusters=2: 0.02282\n",
            "Время: 12.537479639053345\n",
            "\n",
            "\n",
            "Kmeans n_clusters=5: 0.03148\n",
            "Время: 12.506959676742554\n"
          ]
        }
      ]
    },
    {
      "cell_type": "code",
      "source": [
        "start_time_1 = time.time()\n",
        "ARI_15_init = [get_metric(grouped_df, 'Kmeans', key, n_init=15, random_state=25) for key, _ in grouped_df]\n",
        "end_time_1 = time.time()\n",
        "\n",
        "start_time_2 = time.time()\n",
        "ARI_20_init_5_clusters = [get_metric(grouped_df, 'Kmeans', key, n_init=20, n_clusters=5, random_state=25) for key, _ in grouped_df]\n",
        "end_time_2 = time.time()"
      ],
      "metadata": {
        "id": "9qpoXs4YfBUT"
      },
      "id": "9qpoXs4YfBUT",
      "execution_count": 221,
      "outputs": []
    },
    {
      "cell_type": "code",
      "source": [
        "print(f'Стандартный (n_clusters=3) Kmeans + 15 попыток с разными центрами: {np.mean(ARI_15_init):.5f}\\nВремя: {end_time_1-start_time_1}')\n",
        "print('\\n')\n",
        "print(f'Kmeans n_clusters=5 + 20 попыток с разными центрами: {np.mean(ARI_20_init_5_clusters):.5f}\\nВремя: {end_time_2-start_time_2}')"
      ],
      "metadata": {
        "colab": {
          "base_uri": "https://localhost:8080/"
        },
        "id": "CrICWhVQfROV",
        "outputId": "c4ade75d-ce8a-491d-f1ec-c39ee82c9257"
      },
      "id": "CrICWhVQfROV",
      "execution_count": 222,
      "outputs": [
        {
          "output_type": "stream",
          "name": "stdout",
          "text": [
            "Стандартный (n_clusters=3) Kmeans + 15 попыток с разными центрами: 0.05656\n",
            "Время: 13.3409104347229\n",
            "\n",
            "\n",
            "Kmeans n_clusters=5 + 20 попыток с разными центрами: 0.07562\n",
            "Время: 12.694476842880249\n"
          ]
        }
      ]
    },
    {
      "cell_type": "markdown",
      "source": [
        "Лучшая метрика -- **0.07562**\n",
        "\n",
        "\n",
        "---\n",
        "\n",
        "\n",
        "`Kmeans n_clusters=5 + 20 попыток с разными центрами`\n",
        "\n",
        "Среднее время: 12-13 секунд"
      ],
      "metadata": {
        "id": "fK3tHJUdhnN4"
      },
      "id": "fK3tHJUdhnN4"
    },
    {
      "cell_type": "markdown",
      "source": [
        "## SpectralClustering"
      ],
      "metadata": {
        "id": "M0wxD2yjiKIN"
      },
      "id": "M0wxD2yjiKIN"
    },
    {
      "cell_type": "code",
      "source": [
        "from sklearn.cluster import SpectralClustering"
      ],
      "metadata": {
        "id": "0oH36B_9iLEW"
      },
      "id": "0oH36B_9iLEW",
      "execution_count": 163,
      "outputs": []
    },
    {
      "cell_type": "code",
      "source": [
        "start_time_1 = time.time()\n",
        "ARI_3_clusters = [get_metric(grouped_df, 'SpectClust', key, random_state=25) for key, _ in grouped_df]\n",
        "end_time_1 = time.time()\n",
        "\n",
        "start_time_2 = time.time()\n",
        "ARI_5_clusters = [get_metric(grouped_df, 'SpectClust', key, n_clusters=5, random_state=25) for key, _ in grouped_df]\n",
        "end_time_2 = time.time()\n",
        "\n",
        "start_time_3 = time.time()\n",
        "ARI_5_clusters_nn = [get_metric(grouped_df, 'SpectClust', key, n_clusters=5, affinity='nearest_neighbors', random_state=25) for key, _ in grouped_df]\n",
        "end_time_3 = time.time()"
      ],
      "metadata": {
        "id": "GxXSCfNXiNj_"
      },
      "id": "GxXSCfNXiNj_",
      "execution_count": 223,
      "outputs": []
    },
    {
      "cell_type": "code",
      "source": [
        "print(f'Стандартный (n_clusters=3) SpectralClustering: {np.mean(ARI_3_clusters):.5f}\\nВремя: {end_time_1-start_time_1}')\n",
        "print('\\n')\n",
        "print(f'SpectralClustering (n_clusters=5): {np.mean(ARI_5_clusters):.5f}\\nВремя: {end_time_2-start_time_2}')\n",
        "print('\\n')\n",
        "print(f'SpectralClustering (n_clusters=5) affinity=nearest_neighbors: {np.mean(ARI_5_clusters_nn):.5f}\\nВремя: {end_time_3-start_time_3}')"
      ],
      "metadata": {
        "colab": {
          "base_uri": "https://localhost:8080/"
        },
        "id": "zV7DupojinWv",
        "outputId": "a7c1ab57-661d-4141-859b-3031ca3b0922"
      },
      "id": "zV7DupojinWv",
      "execution_count": 224,
      "outputs": [
        {
          "output_type": "stream",
          "name": "stdout",
          "text": [
            "Стандартный (n_clusters=3) SpectralClustering: 0.05770\n",
            "Время: 11.898951053619385\n",
            "\n",
            "\n",
            "SpectralClustering (n_clusters=5): 0.06619\n",
            "Время: 12.190648555755615\n",
            "\n",
            "\n",
            "SpectralClustering (n_clusters=5) affinity=nearest_neighbors: 0.05635\n",
            "Время: 12.325382471084595\n"
          ]
        }
      ]
    },
    {
      "cell_type": "code",
      "source": [
        "start_time_1 = time.time()\n",
        "ARI_5_clusters_nn_15 = [get_metric(grouped_df, 'SpectClust', key, n_clusters=5, affinity='nearest_neighbors', n_neighbors=15, random_state=25) for key, _ in grouped_df]\n",
        "end_time_1 = time.time()\n",
        "\n",
        "\n",
        "start_time_2 = time.time()\n",
        "ARI_3_clusters_nn_10 = [get_metric(grouped_df, 'SpectClust', key, n_clusters=3, affinity='nearest_neighbors', n_neighbors=10, random_state=25) for key, _ in grouped_df]\n",
        "end_time_2 = time.time()"
      ],
      "metadata": {
        "id": "yxj_h-vfjb-_"
      },
      "id": "yxj_h-vfjb-_",
      "execution_count": 225,
      "outputs": []
    },
    {
      "cell_type": "code",
      "source": [
        "print(f'SpectralClustering (n_clusters=5) affinity=nearest_neighbors n_neighbors=15: {np.mean(ARI_5_clusters_nn_15):.5f}\\nВремя: {end_time_1-start_time_1}')\n",
        "print('\\n')\n",
        "print(f'SpectralClustering (n_clusters=3) affinity=nearest_neighbors n_neighbors=8: {np.mean(ARI_3_clusters_nn_10):.5f}\\nВремя: {end_time_2-start_time_2}')"
      ],
      "metadata": {
        "colab": {
          "base_uri": "https://localhost:8080/"
        },
        "id": "uxfv4MEnjauf",
        "outputId": "73d1bb28-170f-47b9-c605-eee883c102d6"
      },
      "id": "uxfv4MEnjauf",
      "execution_count": 226,
      "outputs": [
        {
          "output_type": "stream",
          "name": "stdout",
          "text": [
            "SpectralClustering (n_clusters=5) affinity=nearest_neighbors n_neighbors=15: 0.05449\n",
            "Время: 11.604997873306274\n",
            "\n",
            "\n",
            "SpectralClustering (n_clusters=3) affinity=nearest_neighbors n_neighbors=8: 0.08330\n",
            "Время: 11.706103801727295\n"
          ]
        }
      ]
    },
    {
      "cell_type": "markdown",
      "source": [
        "Лучшая метрика -- **0.08330**\n",
        "\n",
        "\n",
        "\n",
        "---\n",
        "\n",
        "\n",
        "`SpectralClustering (n_clusters=3) affinity=nearest_neighbors n_neighbors=8`\n",
        "\n",
        "Среднее время: 11-12 секунд"
      ],
      "metadata": {
        "id": "fxc7_1gro3Jj"
      },
      "id": "fxc7_1gro3Jj"
    },
    {
      "cell_type": "markdown",
      "source": [
        "Spectral clustering работает через граф: мы смотрим на точки данных не как на координаты в пространстве, а как на вершины графа, соединённые рёбрами по мере их похожести. Получается, что кластеры — это группы точек, внутри которых связи плотнее, чем между разными группами. Чтобы это увидеть, берут матрицу лапласиана графа и находят её собственные векторы, которые показывают, где естественные разрывы в данных.\n",
        "\n",
        "Дальше точки проецируются в новое пространство этих векторов, где границы между кластерами становятся более явными для разделения. На этом шаге применим обычный алгоритм типа KMeans, чтобы чётко выделить группы.\n",
        "\n",
        "\n",
        "Подход особенно хорошо работает там, где кластеры имеют сложную форму чем шарики, как предполагает KMeans.\n",
        "\n",
        "По сути, спектральная кластеризация улавливыет глобальную структуру данных за счёт анализа связей между объектами, а не только их геометрического положения.\n",
        "\n",
        "Я не уверена, что она здесь реально подходит, но она меня заинтересовала, потому что не отталкивается как будто от идеальной формы в пространстве. Плюс картинка интересная"
      ],
      "metadata": {
        "id": "iZYPQ-yjwTxd"
      },
      "id": "iZYPQ-yjwTxd"
    },
    {
      "cell_type": "markdown",
      "source": [
        "![comparison.png](<comparison.png>)"
      ],
      "metadata": {
        "id": "RZgzdRjJw5HT"
      },
      "id": "RZgzdRjJw5HT"
    },
    {
      "cell_type": "markdown",
      "source": [
        "## Выводы\n",
        "\n",
        "В итоге по времени все алгоритмы работали примерно одинаково, лучше всего сработалв агломеративная кластеризация.\n",
        "\n",
        "Некоторые методы кластеризации как будто очень плохо подходят, потому что нужно подбирать все-таки количество кластеров, а подглядывать в gold-разметку – не очень правильно"
      ],
      "metadata": {
        "id": "1In-MaMsxDr2"
      },
      "id": "1In-MaMsxDr2"
    }
  ],
  "metadata": {
    "kernelspec": {
      "display_name": "Python 3",
      "name": "python3"
    },
    "language_info": {
      "codemirror_mode": {
        "name": "ipython",
        "version": 3
      },
      "file_extension": ".py",
      "mimetype": "text/x-python",
      "name": "python",
      "nbconvert_exporter": "python",
      "pygments_lexer": "ipython3",
      "version": "3.10.9"
    },
    "colab": {
      "provenance": [],
      "gpuType": "T4"
    },
    "accelerator": "GPU",
    "widgets": {
      "application/vnd.jupyter.widget-state+json": {
        "da0d8fe1f7714844a7cbfe1fbe29dba2": {
          "model_module": "@jupyter-widgets/controls",
          "model_name": "HBoxModel",
          "model_module_version": "1.5.0",
          "state": {
            "_dom_classes": [],
            "_model_module": "@jupyter-widgets/controls",
            "_model_module_version": "1.5.0",
            "_model_name": "HBoxModel",
            "_view_count": null,
            "_view_module": "@jupyter-widgets/controls",
            "_view_module_version": "1.5.0",
            "_view_name": "HBoxView",
            "box_style": "",
            "children": [
              "IPY_MODEL_10ac4fd48f71451183ca8900e9372dcd",
              "IPY_MODEL_2bcf57e0237b49539e404a52a17c05ec",
              "IPY_MODEL_738cae09d4584a48a3054d89f8156186"
            ],
            "layout": "IPY_MODEL_c6b25954063146c08ec44db90d6a6018"
          }
        },
        "10ac4fd48f71451183ca8900e9372dcd": {
          "model_module": "@jupyter-widgets/controls",
          "model_name": "HTMLModel",
          "model_module_version": "1.5.0",
          "state": {
            "_dom_classes": [],
            "_model_module": "@jupyter-widgets/controls",
            "_model_module_version": "1.5.0",
            "_model_name": "HTMLModel",
            "_view_count": null,
            "_view_module": "@jupyter-widgets/controls",
            "_view_module_version": "1.5.0",
            "_view_name": "HTMLView",
            "description": "",
            "description_tooltip": null,
            "layout": "IPY_MODEL_7748c132b513497ebafc4aed8f098698",
            "placeholder": "​",
            "style": "IPY_MODEL_035a6b5a56494d8aa6eb7fa885cbb9d8",
            "value": "modules.json: 100%"
          }
        },
        "2bcf57e0237b49539e404a52a17c05ec": {
          "model_module": "@jupyter-widgets/controls",
          "model_name": "FloatProgressModel",
          "model_module_version": "1.5.0",
          "state": {
            "_dom_classes": [],
            "_model_module": "@jupyter-widgets/controls",
            "_model_module_version": "1.5.0",
            "_model_name": "FloatProgressModel",
            "_view_count": null,
            "_view_module": "@jupyter-widgets/controls",
            "_view_module_version": "1.5.0",
            "_view_name": "ProgressView",
            "bar_style": "success",
            "description": "",
            "description_tooltip": null,
            "layout": "IPY_MODEL_54962bdac0074246be5bef8b76be27fd",
            "max": 349,
            "min": 0,
            "orientation": "horizontal",
            "style": "IPY_MODEL_c649a53a63a044b9b8d48f2989f0d349",
            "value": 349
          }
        },
        "738cae09d4584a48a3054d89f8156186": {
          "model_module": "@jupyter-widgets/controls",
          "model_name": "HTMLModel",
          "model_module_version": "1.5.0",
          "state": {
            "_dom_classes": [],
            "_model_module": "@jupyter-widgets/controls",
            "_model_module_version": "1.5.0",
            "_model_name": "HTMLModel",
            "_view_count": null,
            "_view_module": "@jupyter-widgets/controls",
            "_view_module_version": "1.5.0",
            "_view_name": "HTMLView",
            "description": "",
            "description_tooltip": null,
            "layout": "IPY_MODEL_81d0c950441d4fac9728237172638ba9",
            "placeholder": "​",
            "style": "IPY_MODEL_a15e70f8d85c43cd87da385ed2ba6c5f",
            "value": " 349/349 [00:00&lt;00:00, 29.8kB/s]"
          }
        },
        "c6b25954063146c08ec44db90d6a6018": {
          "model_module": "@jupyter-widgets/base",
          "model_name": "LayoutModel",
          "model_module_version": "1.2.0",
          "state": {
            "_model_module": "@jupyter-widgets/base",
            "_model_module_version": "1.2.0",
            "_model_name": "LayoutModel",
            "_view_count": null,
            "_view_module": "@jupyter-widgets/base",
            "_view_module_version": "1.2.0",
            "_view_name": "LayoutView",
            "align_content": null,
            "align_items": null,
            "align_self": null,
            "border": null,
            "bottom": null,
            "display": null,
            "flex": null,
            "flex_flow": null,
            "grid_area": null,
            "grid_auto_columns": null,
            "grid_auto_flow": null,
            "grid_auto_rows": null,
            "grid_column": null,
            "grid_gap": null,
            "grid_row": null,
            "grid_template_areas": null,
            "grid_template_columns": null,
            "grid_template_rows": null,
            "height": null,
            "justify_content": null,
            "justify_items": null,
            "left": null,
            "margin": null,
            "max_height": null,
            "max_width": null,
            "min_height": null,
            "min_width": null,
            "object_fit": null,
            "object_position": null,
            "order": null,
            "overflow": null,
            "overflow_x": null,
            "overflow_y": null,
            "padding": null,
            "right": null,
            "top": null,
            "visibility": null,
            "width": null
          }
        },
        "7748c132b513497ebafc4aed8f098698": {
          "model_module": "@jupyter-widgets/base",
          "model_name": "LayoutModel",
          "model_module_version": "1.2.0",
          "state": {
            "_model_module": "@jupyter-widgets/base",
            "_model_module_version": "1.2.0",
            "_model_name": "LayoutModel",
            "_view_count": null,
            "_view_module": "@jupyter-widgets/base",
            "_view_module_version": "1.2.0",
            "_view_name": "LayoutView",
            "align_content": null,
            "align_items": null,
            "align_self": null,
            "border": null,
            "bottom": null,
            "display": null,
            "flex": null,
            "flex_flow": null,
            "grid_area": null,
            "grid_auto_columns": null,
            "grid_auto_flow": null,
            "grid_auto_rows": null,
            "grid_column": null,
            "grid_gap": null,
            "grid_row": null,
            "grid_template_areas": null,
            "grid_template_columns": null,
            "grid_template_rows": null,
            "height": null,
            "justify_content": null,
            "justify_items": null,
            "left": null,
            "margin": null,
            "max_height": null,
            "max_width": null,
            "min_height": null,
            "min_width": null,
            "object_fit": null,
            "object_position": null,
            "order": null,
            "overflow": null,
            "overflow_x": null,
            "overflow_y": null,
            "padding": null,
            "right": null,
            "top": null,
            "visibility": null,
            "width": null
          }
        },
        "035a6b5a56494d8aa6eb7fa885cbb9d8": {
          "model_module": "@jupyter-widgets/controls",
          "model_name": "DescriptionStyleModel",
          "model_module_version": "1.5.0",
          "state": {
            "_model_module": "@jupyter-widgets/controls",
            "_model_module_version": "1.5.0",
            "_model_name": "DescriptionStyleModel",
            "_view_count": null,
            "_view_module": "@jupyter-widgets/base",
            "_view_module_version": "1.2.0",
            "_view_name": "StyleView",
            "description_width": ""
          }
        },
        "54962bdac0074246be5bef8b76be27fd": {
          "model_module": "@jupyter-widgets/base",
          "model_name": "LayoutModel",
          "model_module_version": "1.2.0",
          "state": {
            "_model_module": "@jupyter-widgets/base",
            "_model_module_version": "1.2.0",
            "_model_name": "LayoutModel",
            "_view_count": null,
            "_view_module": "@jupyter-widgets/base",
            "_view_module_version": "1.2.0",
            "_view_name": "LayoutView",
            "align_content": null,
            "align_items": null,
            "align_self": null,
            "border": null,
            "bottom": null,
            "display": null,
            "flex": null,
            "flex_flow": null,
            "grid_area": null,
            "grid_auto_columns": null,
            "grid_auto_flow": null,
            "grid_auto_rows": null,
            "grid_column": null,
            "grid_gap": null,
            "grid_row": null,
            "grid_template_areas": null,
            "grid_template_columns": null,
            "grid_template_rows": null,
            "height": null,
            "justify_content": null,
            "justify_items": null,
            "left": null,
            "margin": null,
            "max_height": null,
            "max_width": null,
            "min_height": null,
            "min_width": null,
            "object_fit": null,
            "object_position": null,
            "order": null,
            "overflow": null,
            "overflow_x": null,
            "overflow_y": null,
            "padding": null,
            "right": null,
            "top": null,
            "visibility": null,
            "width": null
          }
        },
        "c649a53a63a044b9b8d48f2989f0d349": {
          "model_module": "@jupyter-widgets/controls",
          "model_name": "ProgressStyleModel",
          "model_module_version": "1.5.0",
          "state": {
            "_model_module": "@jupyter-widgets/controls",
            "_model_module_version": "1.5.0",
            "_model_name": "ProgressStyleModel",
            "_view_count": null,
            "_view_module": "@jupyter-widgets/base",
            "_view_module_version": "1.2.0",
            "_view_name": "StyleView",
            "bar_color": null,
            "description_width": ""
          }
        },
        "81d0c950441d4fac9728237172638ba9": {
          "model_module": "@jupyter-widgets/base",
          "model_name": "LayoutModel",
          "model_module_version": "1.2.0",
          "state": {
            "_model_module": "@jupyter-widgets/base",
            "_model_module_version": "1.2.0",
            "_model_name": "LayoutModel",
            "_view_count": null,
            "_view_module": "@jupyter-widgets/base",
            "_view_module_version": "1.2.0",
            "_view_name": "LayoutView",
            "align_content": null,
            "align_items": null,
            "align_self": null,
            "border": null,
            "bottom": null,
            "display": null,
            "flex": null,
            "flex_flow": null,
            "grid_area": null,
            "grid_auto_columns": null,
            "grid_auto_flow": null,
            "grid_auto_rows": null,
            "grid_column": null,
            "grid_gap": null,
            "grid_row": null,
            "grid_template_areas": null,
            "grid_template_columns": null,
            "grid_template_rows": null,
            "height": null,
            "justify_content": null,
            "justify_items": null,
            "left": null,
            "margin": null,
            "max_height": null,
            "max_width": null,
            "min_height": null,
            "min_width": null,
            "object_fit": null,
            "object_position": null,
            "order": null,
            "overflow": null,
            "overflow_x": null,
            "overflow_y": null,
            "padding": null,
            "right": null,
            "top": null,
            "visibility": null,
            "width": null
          }
        },
        "a15e70f8d85c43cd87da385ed2ba6c5f": {
          "model_module": "@jupyter-widgets/controls",
          "model_name": "DescriptionStyleModel",
          "model_module_version": "1.5.0",
          "state": {
            "_model_module": "@jupyter-widgets/controls",
            "_model_module_version": "1.5.0",
            "_model_name": "DescriptionStyleModel",
            "_view_count": null,
            "_view_module": "@jupyter-widgets/base",
            "_view_module_version": "1.2.0",
            "_view_name": "StyleView",
            "description_width": ""
          }
        },
        "773d379736fa4bca906907c21155593c": {
          "model_module": "@jupyter-widgets/controls",
          "model_name": "HBoxModel",
          "model_module_version": "1.5.0",
          "state": {
            "_dom_classes": [],
            "_model_module": "@jupyter-widgets/controls",
            "_model_module_version": "1.5.0",
            "_model_name": "HBoxModel",
            "_view_count": null,
            "_view_module": "@jupyter-widgets/controls",
            "_view_module_version": "1.5.0",
            "_view_name": "HBoxView",
            "box_style": "",
            "children": [
              "IPY_MODEL_8925b42c94e544a1b987bbdc52fc55ea",
              "IPY_MODEL_69f96865fa4e446eac49b76454d37aa2",
              "IPY_MODEL_4d6b9d18467a4cfb89e19f70ea38aabe"
            ],
            "layout": "IPY_MODEL_5f4d3f5bf78f40b1ae3849cb737d5a7b"
          }
        },
        "8925b42c94e544a1b987bbdc52fc55ea": {
          "model_module": "@jupyter-widgets/controls",
          "model_name": "HTMLModel",
          "model_module_version": "1.5.0",
          "state": {
            "_dom_classes": [],
            "_model_module": "@jupyter-widgets/controls",
            "_model_module_version": "1.5.0",
            "_model_name": "HTMLModel",
            "_view_count": null,
            "_view_module": "@jupyter-widgets/controls",
            "_view_module_version": "1.5.0",
            "_view_name": "HTMLView",
            "description": "",
            "description_tooltip": null,
            "layout": "IPY_MODEL_52ebf426878049009d3ea8cd9948a18a",
            "placeholder": "​",
            "style": "IPY_MODEL_22ecd314f09d4309ac59b761193e03f1",
            "value": "config_sentence_transformers.json: 100%"
          }
        },
        "69f96865fa4e446eac49b76454d37aa2": {
          "model_module": "@jupyter-widgets/controls",
          "model_name": "FloatProgressModel",
          "model_module_version": "1.5.0",
          "state": {
            "_dom_classes": [],
            "_model_module": "@jupyter-widgets/controls",
            "_model_module_version": "1.5.0",
            "_model_name": "FloatProgressModel",
            "_view_count": null,
            "_view_module": "@jupyter-widgets/controls",
            "_view_module_version": "1.5.0",
            "_view_name": "ProgressView",
            "bar_style": "success",
            "description": "",
            "description_tooltip": null,
            "layout": "IPY_MODEL_df7a28d0901140bda4ce8901da664c59",
            "max": 116,
            "min": 0,
            "orientation": "horizontal",
            "style": "IPY_MODEL_702f85f5ca8f48af9605aea3a118a8d7",
            "value": 116
          }
        },
        "4d6b9d18467a4cfb89e19f70ea38aabe": {
          "model_module": "@jupyter-widgets/controls",
          "model_name": "HTMLModel",
          "model_module_version": "1.5.0",
          "state": {
            "_dom_classes": [],
            "_model_module": "@jupyter-widgets/controls",
            "_model_module_version": "1.5.0",
            "_model_name": "HTMLModel",
            "_view_count": null,
            "_view_module": "@jupyter-widgets/controls",
            "_view_module_version": "1.5.0",
            "_view_name": "HTMLView",
            "description": "",
            "description_tooltip": null,
            "layout": "IPY_MODEL_859c089058114a25bf877cbdfefffdee",
            "placeholder": "​",
            "style": "IPY_MODEL_b67daa4ca8294f4d99b4faa91cdd330e",
            "value": " 116/116 [00:00&lt;00:00, 10.8kB/s]"
          }
        },
        "5f4d3f5bf78f40b1ae3849cb737d5a7b": {
          "model_module": "@jupyter-widgets/base",
          "model_name": "LayoutModel",
          "model_module_version": "1.2.0",
          "state": {
            "_model_module": "@jupyter-widgets/base",
            "_model_module_version": "1.2.0",
            "_model_name": "LayoutModel",
            "_view_count": null,
            "_view_module": "@jupyter-widgets/base",
            "_view_module_version": "1.2.0",
            "_view_name": "LayoutView",
            "align_content": null,
            "align_items": null,
            "align_self": null,
            "border": null,
            "bottom": null,
            "display": null,
            "flex": null,
            "flex_flow": null,
            "grid_area": null,
            "grid_auto_columns": null,
            "grid_auto_flow": null,
            "grid_auto_rows": null,
            "grid_column": null,
            "grid_gap": null,
            "grid_row": null,
            "grid_template_areas": null,
            "grid_template_columns": null,
            "grid_template_rows": null,
            "height": null,
            "justify_content": null,
            "justify_items": null,
            "left": null,
            "margin": null,
            "max_height": null,
            "max_width": null,
            "min_height": null,
            "min_width": null,
            "object_fit": null,
            "object_position": null,
            "order": null,
            "overflow": null,
            "overflow_x": null,
            "overflow_y": null,
            "padding": null,
            "right": null,
            "top": null,
            "visibility": null,
            "width": null
          }
        },
        "52ebf426878049009d3ea8cd9948a18a": {
          "model_module": "@jupyter-widgets/base",
          "model_name": "LayoutModel",
          "model_module_version": "1.2.0",
          "state": {
            "_model_module": "@jupyter-widgets/base",
            "_model_module_version": "1.2.0",
            "_model_name": "LayoutModel",
            "_view_count": null,
            "_view_module": "@jupyter-widgets/base",
            "_view_module_version": "1.2.0",
            "_view_name": "LayoutView",
            "align_content": null,
            "align_items": null,
            "align_self": null,
            "border": null,
            "bottom": null,
            "display": null,
            "flex": null,
            "flex_flow": null,
            "grid_area": null,
            "grid_auto_columns": null,
            "grid_auto_flow": null,
            "grid_auto_rows": null,
            "grid_column": null,
            "grid_gap": null,
            "grid_row": null,
            "grid_template_areas": null,
            "grid_template_columns": null,
            "grid_template_rows": null,
            "height": null,
            "justify_content": null,
            "justify_items": null,
            "left": null,
            "margin": null,
            "max_height": null,
            "max_width": null,
            "min_height": null,
            "min_width": null,
            "object_fit": null,
            "object_position": null,
            "order": null,
            "overflow": null,
            "overflow_x": null,
            "overflow_y": null,
            "padding": null,
            "right": null,
            "top": null,
            "visibility": null,
            "width": null
          }
        },
        "22ecd314f09d4309ac59b761193e03f1": {
          "model_module": "@jupyter-widgets/controls",
          "model_name": "DescriptionStyleModel",
          "model_module_version": "1.5.0",
          "state": {
            "_model_module": "@jupyter-widgets/controls",
            "_model_module_version": "1.5.0",
            "_model_name": "DescriptionStyleModel",
            "_view_count": null,
            "_view_module": "@jupyter-widgets/base",
            "_view_module_version": "1.2.0",
            "_view_name": "StyleView",
            "description_width": ""
          }
        },
        "df7a28d0901140bda4ce8901da664c59": {
          "model_module": "@jupyter-widgets/base",
          "model_name": "LayoutModel",
          "model_module_version": "1.2.0",
          "state": {
            "_model_module": "@jupyter-widgets/base",
            "_model_module_version": "1.2.0",
            "_model_name": "LayoutModel",
            "_view_count": null,
            "_view_module": "@jupyter-widgets/base",
            "_view_module_version": "1.2.0",
            "_view_name": "LayoutView",
            "align_content": null,
            "align_items": null,
            "align_self": null,
            "border": null,
            "bottom": null,
            "display": null,
            "flex": null,
            "flex_flow": null,
            "grid_area": null,
            "grid_auto_columns": null,
            "grid_auto_flow": null,
            "grid_auto_rows": null,
            "grid_column": null,
            "grid_gap": null,
            "grid_row": null,
            "grid_template_areas": null,
            "grid_template_columns": null,
            "grid_template_rows": null,
            "height": null,
            "justify_content": null,
            "justify_items": null,
            "left": null,
            "margin": null,
            "max_height": null,
            "max_width": null,
            "min_height": null,
            "min_width": null,
            "object_fit": null,
            "object_position": null,
            "order": null,
            "overflow": null,
            "overflow_x": null,
            "overflow_y": null,
            "padding": null,
            "right": null,
            "top": null,
            "visibility": null,
            "width": null
          }
        },
        "702f85f5ca8f48af9605aea3a118a8d7": {
          "model_module": "@jupyter-widgets/controls",
          "model_name": "ProgressStyleModel",
          "model_module_version": "1.5.0",
          "state": {
            "_model_module": "@jupyter-widgets/controls",
            "_model_module_version": "1.5.0",
            "_model_name": "ProgressStyleModel",
            "_view_count": null,
            "_view_module": "@jupyter-widgets/base",
            "_view_module_version": "1.2.0",
            "_view_name": "StyleView",
            "bar_color": null,
            "description_width": ""
          }
        },
        "859c089058114a25bf877cbdfefffdee": {
          "model_module": "@jupyter-widgets/base",
          "model_name": "LayoutModel",
          "model_module_version": "1.2.0",
          "state": {
            "_model_module": "@jupyter-widgets/base",
            "_model_module_version": "1.2.0",
            "_model_name": "LayoutModel",
            "_view_count": null,
            "_view_module": "@jupyter-widgets/base",
            "_view_module_version": "1.2.0",
            "_view_name": "LayoutView",
            "align_content": null,
            "align_items": null,
            "align_self": null,
            "border": null,
            "bottom": null,
            "display": null,
            "flex": null,
            "flex_flow": null,
            "grid_area": null,
            "grid_auto_columns": null,
            "grid_auto_flow": null,
            "grid_auto_rows": null,
            "grid_column": null,
            "grid_gap": null,
            "grid_row": null,
            "grid_template_areas": null,
            "grid_template_columns": null,
            "grid_template_rows": null,
            "height": null,
            "justify_content": null,
            "justify_items": null,
            "left": null,
            "margin": null,
            "max_height": null,
            "max_width": null,
            "min_height": null,
            "min_width": null,
            "object_fit": null,
            "object_position": null,
            "order": null,
            "overflow": null,
            "overflow_x": null,
            "overflow_y": null,
            "padding": null,
            "right": null,
            "top": null,
            "visibility": null,
            "width": null
          }
        },
        "b67daa4ca8294f4d99b4faa91cdd330e": {
          "model_module": "@jupyter-widgets/controls",
          "model_name": "DescriptionStyleModel",
          "model_module_version": "1.5.0",
          "state": {
            "_model_module": "@jupyter-widgets/controls",
            "_model_module_version": "1.5.0",
            "_model_name": "DescriptionStyleModel",
            "_view_count": null,
            "_view_module": "@jupyter-widgets/base",
            "_view_module_version": "1.2.0",
            "_view_name": "StyleView",
            "description_width": ""
          }
        },
        "1889ac37caf742a1800a31c6ff20dfcd": {
          "model_module": "@jupyter-widgets/controls",
          "model_name": "HBoxModel",
          "model_module_version": "1.5.0",
          "state": {
            "_dom_classes": [],
            "_model_module": "@jupyter-widgets/controls",
            "_model_module_version": "1.5.0",
            "_model_name": "HBoxModel",
            "_view_count": null,
            "_view_module": "@jupyter-widgets/controls",
            "_view_module_version": "1.5.0",
            "_view_name": "HBoxView",
            "box_style": "",
            "children": [
              "IPY_MODEL_3f0782c4f1ce49c7943513503f06b6b8",
              "IPY_MODEL_ea85679203d449d6ac2617dd3be503f4",
              "IPY_MODEL_d05583a968bd417a9064a62a3e53128c"
            ],
            "layout": "IPY_MODEL_a4d1290c22bf46798267a0f651c985c4"
          }
        },
        "3f0782c4f1ce49c7943513503f06b6b8": {
          "model_module": "@jupyter-widgets/controls",
          "model_name": "HTMLModel",
          "model_module_version": "1.5.0",
          "state": {
            "_dom_classes": [],
            "_model_module": "@jupyter-widgets/controls",
            "_model_module_version": "1.5.0",
            "_model_name": "HTMLModel",
            "_view_count": null,
            "_view_module": "@jupyter-widgets/controls",
            "_view_module_version": "1.5.0",
            "_view_name": "HTMLView",
            "description": "",
            "description_tooltip": null,
            "layout": "IPY_MODEL_3b116bea4f01486385cb53dcd2ad3cb2",
            "placeholder": "​",
            "style": "IPY_MODEL_20593f3a1c184c118c3ddd62e05fda6a",
            "value": "README.md: "
          }
        },
        "ea85679203d449d6ac2617dd3be503f4": {
          "model_module": "@jupyter-widgets/controls",
          "model_name": "FloatProgressModel",
          "model_module_version": "1.5.0",
          "state": {
            "_dom_classes": [],
            "_model_module": "@jupyter-widgets/controls",
            "_model_module_version": "1.5.0",
            "_model_name": "FloatProgressModel",
            "_view_count": null,
            "_view_module": "@jupyter-widgets/controls",
            "_view_module_version": "1.5.0",
            "_view_name": "ProgressView",
            "bar_style": "success",
            "description": "",
            "description_tooltip": null,
            "layout": "IPY_MODEL_3e13de795fb94a0db835bb502a298108",
            "max": 1,
            "min": 0,
            "orientation": "horizontal",
            "style": "IPY_MODEL_428b4f402a6d46faacf82b24803cc6c8",
            "value": 1
          }
        },
        "d05583a968bd417a9064a62a3e53128c": {
          "model_module": "@jupyter-widgets/controls",
          "model_name": "HTMLModel",
          "model_module_version": "1.5.0",
          "state": {
            "_dom_classes": [],
            "_model_module": "@jupyter-widgets/controls",
            "_model_module_version": "1.5.0",
            "_model_name": "HTMLModel",
            "_view_count": null,
            "_view_module": "@jupyter-widgets/controls",
            "_view_module_version": "1.5.0",
            "_view_name": "HTMLView",
            "description": "",
            "description_tooltip": null,
            "layout": "IPY_MODEL_816b076a975448b6989cecb18e0e8e23",
            "placeholder": "​",
            "style": "IPY_MODEL_871aaf9b7c214750a8fae1b9ee78e73d",
            "value": " 11.6k/? [00:00&lt;00:00, 335kB/s]"
          }
        },
        "a4d1290c22bf46798267a0f651c985c4": {
          "model_module": "@jupyter-widgets/base",
          "model_name": "LayoutModel",
          "model_module_version": "1.2.0",
          "state": {
            "_model_module": "@jupyter-widgets/base",
            "_model_module_version": "1.2.0",
            "_model_name": "LayoutModel",
            "_view_count": null,
            "_view_module": "@jupyter-widgets/base",
            "_view_module_version": "1.2.0",
            "_view_name": "LayoutView",
            "align_content": null,
            "align_items": null,
            "align_self": null,
            "border": null,
            "bottom": null,
            "display": null,
            "flex": null,
            "flex_flow": null,
            "grid_area": null,
            "grid_auto_columns": null,
            "grid_auto_flow": null,
            "grid_auto_rows": null,
            "grid_column": null,
            "grid_gap": null,
            "grid_row": null,
            "grid_template_areas": null,
            "grid_template_columns": null,
            "grid_template_rows": null,
            "height": null,
            "justify_content": null,
            "justify_items": null,
            "left": null,
            "margin": null,
            "max_height": null,
            "max_width": null,
            "min_height": null,
            "min_width": null,
            "object_fit": null,
            "object_position": null,
            "order": null,
            "overflow": null,
            "overflow_x": null,
            "overflow_y": null,
            "padding": null,
            "right": null,
            "top": null,
            "visibility": null,
            "width": null
          }
        },
        "3b116bea4f01486385cb53dcd2ad3cb2": {
          "model_module": "@jupyter-widgets/base",
          "model_name": "LayoutModel",
          "model_module_version": "1.2.0",
          "state": {
            "_model_module": "@jupyter-widgets/base",
            "_model_module_version": "1.2.0",
            "_model_name": "LayoutModel",
            "_view_count": null,
            "_view_module": "@jupyter-widgets/base",
            "_view_module_version": "1.2.0",
            "_view_name": "LayoutView",
            "align_content": null,
            "align_items": null,
            "align_self": null,
            "border": null,
            "bottom": null,
            "display": null,
            "flex": null,
            "flex_flow": null,
            "grid_area": null,
            "grid_auto_columns": null,
            "grid_auto_flow": null,
            "grid_auto_rows": null,
            "grid_column": null,
            "grid_gap": null,
            "grid_row": null,
            "grid_template_areas": null,
            "grid_template_columns": null,
            "grid_template_rows": null,
            "height": null,
            "justify_content": null,
            "justify_items": null,
            "left": null,
            "margin": null,
            "max_height": null,
            "max_width": null,
            "min_height": null,
            "min_width": null,
            "object_fit": null,
            "object_position": null,
            "order": null,
            "overflow": null,
            "overflow_x": null,
            "overflow_y": null,
            "padding": null,
            "right": null,
            "top": null,
            "visibility": null,
            "width": null
          }
        },
        "20593f3a1c184c118c3ddd62e05fda6a": {
          "model_module": "@jupyter-widgets/controls",
          "model_name": "DescriptionStyleModel",
          "model_module_version": "1.5.0",
          "state": {
            "_model_module": "@jupyter-widgets/controls",
            "_model_module_version": "1.5.0",
            "_model_name": "DescriptionStyleModel",
            "_view_count": null,
            "_view_module": "@jupyter-widgets/base",
            "_view_module_version": "1.2.0",
            "_view_name": "StyleView",
            "description_width": ""
          }
        },
        "3e13de795fb94a0db835bb502a298108": {
          "model_module": "@jupyter-widgets/base",
          "model_name": "LayoutModel",
          "model_module_version": "1.2.0",
          "state": {
            "_model_module": "@jupyter-widgets/base",
            "_model_module_version": "1.2.0",
            "_model_name": "LayoutModel",
            "_view_count": null,
            "_view_module": "@jupyter-widgets/base",
            "_view_module_version": "1.2.0",
            "_view_name": "LayoutView",
            "align_content": null,
            "align_items": null,
            "align_self": null,
            "border": null,
            "bottom": null,
            "display": null,
            "flex": null,
            "flex_flow": null,
            "grid_area": null,
            "grid_auto_columns": null,
            "grid_auto_flow": null,
            "grid_auto_rows": null,
            "grid_column": null,
            "grid_gap": null,
            "grid_row": null,
            "grid_template_areas": null,
            "grid_template_columns": null,
            "grid_template_rows": null,
            "height": null,
            "justify_content": null,
            "justify_items": null,
            "left": null,
            "margin": null,
            "max_height": null,
            "max_width": null,
            "min_height": null,
            "min_width": null,
            "object_fit": null,
            "object_position": null,
            "order": null,
            "overflow": null,
            "overflow_x": null,
            "overflow_y": null,
            "padding": null,
            "right": null,
            "top": null,
            "visibility": null,
            "width": "20px"
          }
        },
        "428b4f402a6d46faacf82b24803cc6c8": {
          "model_module": "@jupyter-widgets/controls",
          "model_name": "ProgressStyleModel",
          "model_module_version": "1.5.0",
          "state": {
            "_model_module": "@jupyter-widgets/controls",
            "_model_module_version": "1.5.0",
            "_model_name": "ProgressStyleModel",
            "_view_count": null,
            "_view_module": "@jupyter-widgets/base",
            "_view_module_version": "1.2.0",
            "_view_name": "StyleView",
            "bar_color": null,
            "description_width": ""
          }
        },
        "816b076a975448b6989cecb18e0e8e23": {
          "model_module": "@jupyter-widgets/base",
          "model_name": "LayoutModel",
          "model_module_version": "1.2.0",
          "state": {
            "_model_module": "@jupyter-widgets/base",
            "_model_module_version": "1.2.0",
            "_model_name": "LayoutModel",
            "_view_count": null,
            "_view_module": "@jupyter-widgets/base",
            "_view_module_version": "1.2.0",
            "_view_name": "LayoutView",
            "align_content": null,
            "align_items": null,
            "align_self": null,
            "border": null,
            "bottom": null,
            "display": null,
            "flex": null,
            "flex_flow": null,
            "grid_area": null,
            "grid_auto_columns": null,
            "grid_auto_flow": null,
            "grid_auto_rows": null,
            "grid_column": null,
            "grid_gap": null,
            "grid_row": null,
            "grid_template_areas": null,
            "grid_template_columns": null,
            "grid_template_rows": null,
            "height": null,
            "justify_content": null,
            "justify_items": null,
            "left": null,
            "margin": null,
            "max_height": null,
            "max_width": null,
            "min_height": null,
            "min_width": null,
            "object_fit": null,
            "object_position": null,
            "order": null,
            "overflow": null,
            "overflow_x": null,
            "overflow_y": null,
            "padding": null,
            "right": null,
            "top": null,
            "visibility": null,
            "width": null
          }
        },
        "871aaf9b7c214750a8fae1b9ee78e73d": {
          "model_module": "@jupyter-widgets/controls",
          "model_name": "DescriptionStyleModel",
          "model_module_version": "1.5.0",
          "state": {
            "_model_module": "@jupyter-widgets/controls",
            "_model_module_version": "1.5.0",
            "_model_name": "DescriptionStyleModel",
            "_view_count": null,
            "_view_module": "@jupyter-widgets/base",
            "_view_module_version": "1.2.0",
            "_view_name": "StyleView",
            "description_width": ""
          }
        },
        "e1988d1d4a69498a97c3bee3b2dc7369": {
          "model_module": "@jupyter-widgets/controls",
          "model_name": "HBoxModel",
          "model_module_version": "1.5.0",
          "state": {
            "_dom_classes": [],
            "_model_module": "@jupyter-widgets/controls",
            "_model_module_version": "1.5.0",
            "_model_name": "HBoxModel",
            "_view_count": null,
            "_view_module": "@jupyter-widgets/controls",
            "_view_module_version": "1.5.0",
            "_view_name": "HBoxView",
            "box_style": "",
            "children": [
              "IPY_MODEL_8d3bf14bcab342d3b20e875a7be73adb",
              "IPY_MODEL_f18e784f7bcb4730b80ddca8184818d0",
              "IPY_MODEL_b8f9f32e84ac48b49f60d5fb326fe7b0"
            ],
            "layout": "IPY_MODEL_c12cbb911c5e473088e2936a3ccaa266"
          }
        },
        "8d3bf14bcab342d3b20e875a7be73adb": {
          "model_module": "@jupyter-widgets/controls",
          "model_name": "HTMLModel",
          "model_module_version": "1.5.0",
          "state": {
            "_dom_classes": [],
            "_model_module": "@jupyter-widgets/controls",
            "_model_module_version": "1.5.0",
            "_model_name": "HTMLModel",
            "_view_count": null,
            "_view_module": "@jupyter-widgets/controls",
            "_view_module_version": "1.5.0",
            "_view_name": "HTMLView",
            "description": "",
            "description_tooltip": null,
            "layout": "IPY_MODEL_dc1f544dd0e94d30ada67c6b6141f73e",
            "placeholder": "​",
            "style": "IPY_MODEL_18561e43c1994742b0177257e33a9984",
            "value": "sentence_bert_config.json: 100%"
          }
        },
        "f18e784f7bcb4730b80ddca8184818d0": {
          "model_module": "@jupyter-widgets/controls",
          "model_name": "FloatProgressModel",
          "model_module_version": "1.5.0",
          "state": {
            "_dom_classes": [],
            "_model_module": "@jupyter-widgets/controls",
            "_model_module_version": "1.5.0",
            "_model_name": "FloatProgressModel",
            "_view_count": null,
            "_view_module": "@jupyter-widgets/controls",
            "_view_module_version": "1.5.0",
            "_view_name": "ProgressView",
            "bar_style": "success",
            "description": "",
            "description_tooltip": null,
            "layout": "IPY_MODEL_c23aee74017c46fbbed3627636973fcb",
            "max": 53,
            "min": 0,
            "orientation": "horizontal",
            "style": "IPY_MODEL_913bcb96a18445a0a7212ffa2b46e41a",
            "value": 53
          }
        },
        "b8f9f32e84ac48b49f60d5fb326fe7b0": {
          "model_module": "@jupyter-widgets/controls",
          "model_name": "HTMLModel",
          "model_module_version": "1.5.0",
          "state": {
            "_dom_classes": [],
            "_model_module": "@jupyter-widgets/controls",
            "_model_module_version": "1.5.0",
            "_model_name": "HTMLModel",
            "_view_count": null,
            "_view_module": "@jupyter-widgets/controls",
            "_view_module_version": "1.5.0",
            "_view_name": "HTMLView",
            "description": "",
            "description_tooltip": null,
            "layout": "IPY_MODEL_eb1ebcc70ca4494680fa1c46f5a2adb6",
            "placeholder": "​",
            "style": "IPY_MODEL_e21039ddf6344dfc9d7cf0dfe5c3e0db",
            "value": " 53.0/53.0 [00:00&lt;00:00, 6.53kB/s]"
          }
        },
        "c12cbb911c5e473088e2936a3ccaa266": {
          "model_module": "@jupyter-widgets/base",
          "model_name": "LayoutModel",
          "model_module_version": "1.2.0",
          "state": {
            "_model_module": "@jupyter-widgets/base",
            "_model_module_version": "1.2.0",
            "_model_name": "LayoutModel",
            "_view_count": null,
            "_view_module": "@jupyter-widgets/base",
            "_view_module_version": "1.2.0",
            "_view_name": "LayoutView",
            "align_content": null,
            "align_items": null,
            "align_self": null,
            "border": null,
            "bottom": null,
            "display": null,
            "flex": null,
            "flex_flow": null,
            "grid_area": null,
            "grid_auto_columns": null,
            "grid_auto_flow": null,
            "grid_auto_rows": null,
            "grid_column": null,
            "grid_gap": null,
            "grid_row": null,
            "grid_template_areas": null,
            "grid_template_columns": null,
            "grid_template_rows": null,
            "height": null,
            "justify_content": null,
            "justify_items": null,
            "left": null,
            "margin": null,
            "max_height": null,
            "max_width": null,
            "min_height": null,
            "min_width": null,
            "object_fit": null,
            "object_position": null,
            "order": null,
            "overflow": null,
            "overflow_x": null,
            "overflow_y": null,
            "padding": null,
            "right": null,
            "top": null,
            "visibility": null,
            "width": null
          }
        },
        "dc1f544dd0e94d30ada67c6b6141f73e": {
          "model_module": "@jupyter-widgets/base",
          "model_name": "LayoutModel",
          "model_module_version": "1.2.0",
          "state": {
            "_model_module": "@jupyter-widgets/base",
            "_model_module_version": "1.2.0",
            "_model_name": "LayoutModel",
            "_view_count": null,
            "_view_module": "@jupyter-widgets/base",
            "_view_module_version": "1.2.0",
            "_view_name": "LayoutView",
            "align_content": null,
            "align_items": null,
            "align_self": null,
            "border": null,
            "bottom": null,
            "display": null,
            "flex": null,
            "flex_flow": null,
            "grid_area": null,
            "grid_auto_columns": null,
            "grid_auto_flow": null,
            "grid_auto_rows": null,
            "grid_column": null,
            "grid_gap": null,
            "grid_row": null,
            "grid_template_areas": null,
            "grid_template_columns": null,
            "grid_template_rows": null,
            "height": null,
            "justify_content": null,
            "justify_items": null,
            "left": null,
            "margin": null,
            "max_height": null,
            "max_width": null,
            "min_height": null,
            "min_width": null,
            "object_fit": null,
            "object_position": null,
            "order": null,
            "overflow": null,
            "overflow_x": null,
            "overflow_y": null,
            "padding": null,
            "right": null,
            "top": null,
            "visibility": null,
            "width": null
          }
        },
        "18561e43c1994742b0177257e33a9984": {
          "model_module": "@jupyter-widgets/controls",
          "model_name": "DescriptionStyleModel",
          "model_module_version": "1.5.0",
          "state": {
            "_model_module": "@jupyter-widgets/controls",
            "_model_module_version": "1.5.0",
            "_model_name": "DescriptionStyleModel",
            "_view_count": null,
            "_view_module": "@jupyter-widgets/base",
            "_view_module_version": "1.2.0",
            "_view_name": "StyleView",
            "description_width": ""
          }
        },
        "c23aee74017c46fbbed3627636973fcb": {
          "model_module": "@jupyter-widgets/base",
          "model_name": "LayoutModel",
          "model_module_version": "1.2.0",
          "state": {
            "_model_module": "@jupyter-widgets/base",
            "_model_module_version": "1.2.0",
            "_model_name": "LayoutModel",
            "_view_count": null,
            "_view_module": "@jupyter-widgets/base",
            "_view_module_version": "1.2.0",
            "_view_name": "LayoutView",
            "align_content": null,
            "align_items": null,
            "align_self": null,
            "border": null,
            "bottom": null,
            "display": null,
            "flex": null,
            "flex_flow": null,
            "grid_area": null,
            "grid_auto_columns": null,
            "grid_auto_flow": null,
            "grid_auto_rows": null,
            "grid_column": null,
            "grid_gap": null,
            "grid_row": null,
            "grid_template_areas": null,
            "grid_template_columns": null,
            "grid_template_rows": null,
            "height": null,
            "justify_content": null,
            "justify_items": null,
            "left": null,
            "margin": null,
            "max_height": null,
            "max_width": null,
            "min_height": null,
            "min_width": null,
            "object_fit": null,
            "object_position": null,
            "order": null,
            "overflow": null,
            "overflow_x": null,
            "overflow_y": null,
            "padding": null,
            "right": null,
            "top": null,
            "visibility": null,
            "width": null
          }
        },
        "913bcb96a18445a0a7212ffa2b46e41a": {
          "model_module": "@jupyter-widgets/controls",
          "model_name": "ProgressStyleModel",
          "model_module_version": "1.5.0",
          "state": {
            "_model_module": "@jupyter-widgets/controls",
            "_model_module_version": "1.5.0",
            "_model_name": "ProgressStyleModel",
            "_view_count": null,
            "_view_module": "@jupyter-widgets/base",
            "_view_module_version": "1.2.0",
            "_view_name": "StyleView",
            "bar_color": null,
            "description_width": ""
          }
        },
        "eb1ebcc70ca4494680fa1c46f5a2adb6": {
          "model_module": "@jupyter-widgets/base",
          "model_name": "LayoutModel",
          "model_module_version": "1.2.0",
          "state": {
            "_model_module": "@jupyter-widgets/base",
            "_model_module_version": "1.2.0",
            "_model_name": "LayoutModel",
            "_view_count": null,
            "_view_module": "@jupyter-widgets/base",
            "_view_module_version": "1.2.0",
            "_view_name": "LayoutView",
            "align_content": null,
            "align_items": null,
            "align_self": null,
            "border": null,
            "bottom": null,
            "display": null,
            "flex": null,
            "flex_flow": null,
            "grid_area": null,
            "grid_auto_columns": null,
            "grid_auto_flow": null,
            "grid_auto_rows": null,
            "grid_column": null,
            "grid_gap": null,
            "grid_row": null,
            "grid_template_areas": null,
            "grid_template_columns": null,
            "grid_template_rows": null,
            "height": null,
            "justify_content": null,
            "justify_items": null,
            "left": null,
            "margin": null,
            "max_height": null,
            "max_width": null,
            "min_height": null,
            "min_width": null,
            "object_fit": null,
            "object_position": null,
            "order": null,
            "overflow": null,
            "overflow_x": null,
            "overflow_y": null,
            "padding": null,
            "right": null,
            "top": null,
            "visibility": null,
            "width": null
          }
        },
        "e21039ddf6344dfc9d7cf0dfe5c3e0db": {
          "model_module": "@jupyter-widgets/controls",
          "model_name": "DescriptionStyleModel",
          "model_module_version": "1.5.0",
          "state": {
            "_model_module": "@jupyter-widgets/controls",
            "_model_module_version": "1.5.0",
            "_model_name": "DescriptionStyleModel",
            "_view_count": null,
            "_view_module": "@jupyter-widgets/base",
            "_view_module_version": "1.2.0",
            "_view_name": "StyleView",
            "description_width": ""
          }
        },
        "37476f6923d2443ea62d244bdac11bb4": {
          "model_module": "@jupyter-widgets/controls",
          "model_name": "HBoxModel",
          "model_module_version": "1.5.0",
          "state": {
            "_dom_classes": [],
            "_model_module": "@jupyter-widgets/controls",
            "_model_module_version": "1.5.0",
            "_model_name": "HBoxModel",
            "_view_count": null,
            "_view_module": "@jupyter-widgets/controls",
            "_view_module_version": "1.5.0",
            "_view_name": "HBoxView",
            "box_style": "",
            "children": [
              "IPY_MODEL_500f40b4dd8b4b42bfb52cb9aadaec71",
              "IPY_MODEL_7d43b0ab869c4833871a4b1819e409aa",
              "IPY_MODEL_f4061fe6217b4544a961fb41c1147e04"
            ],
            "layout": "IPY_MODEL_82a3914f87294556ad9f159d47e71490"
          }
        },
        "500f40b4dd8b4b42bfb52cb9aadaec71": {
          "model_module": "@jupyter-widgets/controls",
          "model_name": "HTMLModel",
          "model_module_version": "1.5.0",
          "state": {
            "_dom_classes": [],
            "_model_module": "@jupyter-widgets/controls",
            "_model_module_version": "1.5.0",
            "_model_name": "HTMLModel",
            "_view_count": null,
            "_view_module": "@jupyter-widgets/controls",
            "_view_module_version": "1.5.0",
            "_view_name": "HTMLView",
            "description": "",
            "description_tooltip": null,
            "layout": "IPY_MODEL_36e311a8143448bf95efa05333463f05",
            "placeholder": "​",
            "style": "IPY_MODEL_c808e64203a84a3f82ba7fdae639231e",
            "value": "config.json: 100%"
          }
        },
        "7d43b0ab869c4833871a4b1819e409aa": {
          "model_module": "@jupyter-widgets/controls",
          "model_name": "FloatProgressModel",
          "model_module_version": "1.5.0",
          "state": {
            "_dom_classes": [],
            "_model_module": "@jupyter-widgets/controls",
            "_model_module_version": "1.5.0",
            "_model_name": "FloatProgressModel",
            "_view_count": null,
            "_view_module": "@jupyter-widgets/controls",
            "_view_module_version": "1.5.0",
            "_view_name": "ProgressView",
            "bar_style": "success",
            "description": "",
            "description_tooltip": null,
            "layout": "IPY_MODEL_141b647abe6b4944bd86b7913112c875",
            "max": 571,
            "min": 0,
            "orientation": "horizontal",
            "style": "IPY_MODEL_f7db8eb1d112487c8494183cf82fc4fb",
            "value": 571
          }
        },
        "f4061fe6217b4544a961fb41c1147e04": {
          "model_module": "@jupyter-widgets/controls",
          "model_name": "HTMLModel",
          "model_module_version": "1.5.0",
          "state": {
            "_dom_classes": [],
            "_model_module": "@jupyter-widgets/controls",
            "_model_module_version": "1.5.0",
            "_model_name": "HTMLModel",
            "_view_count": null,
            "_view_module": "@jupyter-widgets/controls",
            "_view_module_version": "1.5.0",
            "_view_name": "HTMLView",
            "description": "",
            "description_tooltip": null,
            "layout": "IPY_MODEL_f55c01902edb456ba255a9100e86d5ee",
            "placeholder": "​",
            "style": "IPY_MODEL_ef19ceae799e40c1b7b766e79a9f775a",
            "value": " 571/571 [00:00&lt;00:00, 69.1kB/s]"
          }
        },
        "82a3914f87294556ad9f159d47e71490": {
          "model_module": "@jupyter-widgets/base",
          "model_name": "LayoutModel",
          "model_module_version": "1.2.0",
          "state": {
            "_model_module": "@jupyter-widgets/base",
            "_model_module_version": "1.2.0",
            "_model_name": "LayoutModel",
            "_view_count": null,
            "_view_module": "@jupyter-widgets/base",
            "_view_module_version": "1.2.0",
            "_view_name": "LayoutView",
            "align_content": null,
            "align_items": null,
            "align_self": null,
            "border": null,
            "bottom": null,
            "display": null,
            "flex": null,
            "flex_flow": null,
            "grid_area": null,
            "grid_auto_columns": null,
            "grid_auto_flow": null,
            "grid_auto_rows": null,
            "grid_column": null,
            "grid_gap": null,
            "grid_row": null,
            "grid_template_areas": null,
            "grid_template_columns": null,
            "grid_template_rows": null,
            "height": null,
            "justify_content": null,
            "justify_items": null,
            "left": null,
            "margin": null,
            "max_height": null,
            "max_width": null,
            "min_height": null,
            "min_width": null,
            "object_fit": null,
            "object_position": null,
            "order": null,
            "overflow": null,
            "overflow_x": null,
            "overflow_y": null,
            "padding": null,
            "right": null,
            "top": null,
            "visibility": null,
            "width": null
          }
        },
        "36e311a8143448bf95efa05333463f05": {
          "model_module": "@jupyter-widgets/base",
          "model_name": "LayoutModel",
          "model_module_version": "1.2.0",
          "state": {
            "_model_module": "@jupyter-widgets/base",
            "_model_module_version": "1.2.0",
            "_model_name": "LayoutModel",
            "_view_count": null,
            "_view_module": "@jupyter-widgets/base",
            "_view_module_version": "1.2.0",
            "_view_name": "LayoutView",
            "align_content": null,
            "align_items": null,
            "align_self": null,
            "border": null,
            "bottom": null,
            "display": null,
            "flex": null,
            "flex_flow": null,
            "grid_area": null,
            "grid_auto_columns": null,
            "grid_auto_flow": null,
            "grid_auto_rows": null,
            "grid_column": null,
            "grid_gap": null,
            "grid_row": null,
            "grid_template_areas": null,
            "grid_template_columns": null,
            "grid_template_rows": null,
            "height": null,
            "justify_content": null,
            "justify_items": null,
            "left": null,
            "margin": null,
            "max_height": null,
            "max_width": null,
            "min_height": null,
            "min_width": null,
            "object_fit": null,
            "object_position": null,
            "order": null,
            "overflow": null,
            "overflow_x": null,
            "overflow_y": null,
            "padding": null,
            "right": null,
            "top": null,
            "visibility": null,
            "width": null
          }
        },
        "c808e64203a84a3f82ba7fdae639231e": {
          "model_module": "@jupyter-widgets/controls",
          "model_name": "DescriptionStyleModel",
          "model_module_version": "1.5.0",
          "state": {
            "_model_module": "@jupyter-widgets/controls",
            "_model_module_version": "1.5.0",
            "_model_name": "DescriptionStyleModel",
            "_view_count": null,
            "_view_module": "@jupyter-widgets/base",
            "_view_module_version": "1.2.0",
            "_view_name": "StyleView",
            "description_width": ""
          }
        },
        "141b647abe6b4944bd86b7913112c875": {
          "model_module": "@jupyter-widgets/base",
          "model_name": "LayoutModel",
          "model_module_version": "1.2.0",
          "state": {
            "_model_module": "@jupyter-widgets/base",
            "_model_module_version": "1.2.0",
            "_model_name": "LayoutModel",
            "_view_count": null,
            "_view_module": "@jupyter-widgets/base",
            "_view_module_version": "1.2.0",
            "_view_name": "LayoutView",
            "align_content": null,
            "align_items": null,
            "align_self": null,
            "border": null,
            "bottom": null,
            "display": null,
            "flex": null,
            "flex_flow": null,
            "grid_area": null,
            "grid_auto_columns": null,
            "grid_auto_flow": null,
            "grid_auto_rows": null,
            "grid_column": null,
            "grid_gap": null,
            "grid_row": null,
            "grid_template_areas": null,
            "grid_template_columns": null,
            "grid_template_rows": null,
            "height": null,
            "justify_content": null,
            "justify_items": null,
            "left": null,
            "margin": null,
            "max_height": null,
            "max_width": null,
            "min_height": null,
            "min_width": null,
            "object_fit": null,
            "object_position": null,
            "order": null,
            "overflow": null,
            "overflow_x": null,
            "overflow_y": null,
            "padding": null,
            "right": null,
            "top": null,
            "visibility": null,
            "width": null
          }
        },
        "f7db8eb1d112487c8494183cf82fc4fb": {
          "model_module": "@jupyter-widgets/controls",
          "model_name": "ProgressStyleModel",
          "model_module_version": "1.5.0",
          "state": {
            "_model_module": "@jupyter-widgets/controls",
            "_model_module_version": "1.5.0",
            "_model_name": "ProgressStyleModel",
            "_view_count": null,
            "_view_module": "@jupyter-widgets/base",
            "_view_module_version": "1.2.0",
            "_view_name": "StyleView",
            "bar_color": null,
            "description_width": ""
          }
        },
        "f55c01902edb456ba255a9100e86d5ee": {
          "model_module": "@jupyter-widgets/base",
          "model_name": "LayoutModel",
          "model_module_version": "1.2.0",
          "state": {
            "_model_module": "@jupyter-widgets/base",
            "_model_module_version": "1.2.0",
            "_model_name": "LayoutModel",
            "_view_count": null,
            "_view_module": "@jupyter-widgets/base",
            "_view_module_version": "1.2.0",
            "_view_name": "LayoutView",
            "align_content": null,
            "align_items": null,
            "align_self": null,
            "border": null,
            "bottom": null,
            "display": null,
            "flex": null,
            "flex_flow": null,
            "grid_area": null,
            "grid_auto_columns": null,
            "grid_auto_flow": null,
            "grid_auto_rows": null,
            "grid_column": null,
            "grid_gap": null,
            "grid_row": null,
            "grid_template_areas": null,
            "grid_template_columns": null,
            "grid_template_rows": null,
            "height": null,
            "justify_content": null,
            "justify_items": null,
            "left": null,
            "margin": null,
            "max_height": null,
            "max_width": null,
            "min_height": null,
            "min_width": null,
            "object_fit": null,
            "object_position": null,
            "order": null,
            "overflow": null,
            "overflow_x": null,
            "overflow_y": null,
            "padding": null,
            "right": null,
            "top": null,
            "visibility": null,
            "width": null
          }
        },
        "ef19ceae799e40c1b7b766e79a9f775a": {
          "model_module": "@jupyter-widgets/controls",
          "model_name": "DescriptionStyleModel",
          "model_module_version": "1.5.0",
          "state": {
            "_model_module": "@jupyter-widgets/controls",
            "_model_module_version": "1.5.0",
            "_model_name": "DescriptionStyleModel",
            "_view_count": null,
            "_view_module": "@jupyter-widgets/base",
            "_view_module_version": "1.2.0",
            "_view_name": "StyleView",
            "description_width": ""
          }
        },
        "b2b39a9422b248b4b00803d6a50200f9": {
          "model_module": "@jupyter-widgets/controls",
          "model_name": "HBoxModel",
          "model_module_version": "1.5.0",
          "state": {
            "_dom_classes": [],
            "_model_module": "@jupyter-widgets/controls",
            "_model_module_version": "1.5.0",
            "_model_name": "HBoxModel",
            "_view_count": null,
            "_view_module": "@jupyter-widgets/controls",
            "_view_module_version": "1.5.0",
            "_view_name": "HBoxView",
            "box_style": "",
            "children": [
              "IPY_MODEL_49780ce25e554a7c87c710ebcae47cc4",
              "IPY_MODEL_32fbebe4a2b640108674b18c93fd7950",
              "IPY_MODEL_46cb7b5926694823966aff292f7c92a6"
            ],
            "layout": "IPY_MODEL_1b7f6cabe06b44999e28ccdf197bfb78"
          }
        },
        "49780ce25e554a7c87c710ebcae47cc4": {
          "model_module": "@jupyter-widgets/controls",
          "model_name": "HTMLModel",
          "model_module_version": "1.5.0",
          "state": {
            "_dom_classes": [],
            "_model_module": "@jupyter-widgets/controls",
            "_model_module_version": "1.5.0",
            "_model_name": "HTMLModel",
            "_view_count": null,
            "_view_module": "@jupyter-widgets/controls",
            "_view_module_version": "1.5.0",
            "_view_name": "HTMLView",
            "description": "",
            "description_tooltip": null,
            "layout": "IPY_MODEL_b44fee025a5d4e14811e9bd7160e5a70",
            "placeholder": "​",
            "style": "IPY_MODEL_48f01879bceb4b84a2491fbb2b3c2a48",
            "value": "model.safetensors: 100%"
          }
        },
        "32fbebe4a2b640108674b18c93fd7950": {
          "model_module": "@jupyter-widgets/controls",
          "model_name": "FloatProgressModel",
          "model_module_version": "1.5.0",
          "state": {
            "_dom_classes": [],
            "_model_module": "@jupyter-widgets/controls",
            "_model_module_version": "1.5.0",
            "_model_name": "FloatProgressModel",
            "_view_count": null,
            "_view_module": "@jupyter-widgets/controls",
            "_view_module_version": "1.5.0",
            "_view_name": "ProgressView",
            "bar_style": "success",
            "description": "",
            "description_tooltip": null,
            "layout": "IPY_MODEL_db710d8657f24b0faa438a52f6dfffed",
            "max": 437971872,
            "min": 0,
            "orientation": "horizontal",
            "style": "IPY_MODEL_ab40b5e1bf1b46d29783390a6f3b6704",
            "value": 437971872
          }
        },
        "46cb7b5926694823966aff292f7c92a6": {
          "model_module": "@jupyter-widgets/controls",
          "model_name": "HTMLModel",
          "model_module_version": "1.5.0",
          "state": {
            "_dom_classes": [],
            "_model_module": "@jupyter-widgets/controls",
            "_model_module_version": "1.5.0",
            "_model_name": "HTMLModel",
            "_view_count": null,
            "_view_module": "@jupyter-widgets/controls",
            "_view_module_version": "1.5.0",
            "_view_name": "HTMLView",
            "description": "",
            "description_tooltip": null,
            "layout": "IPY_MODEL_1ab2b1e366f7412e82f93f76a3b9787c",
            "placeholder": "​",
            "style": "IPY_MODEL_26fe9ea6312541a2bcc28ee4557a2658",
            "value": " 438M/438M [00:08&lt;00:00, 84.3MB/s]"
          }
        },
        "1b7f6cabe06b44999e28ccdf197bfb78": {
          "model_module": "@jupyter-widgets/base",
          "model_name": "LayoutModel",
          "model_module_version": "1.2.0",
          "state": {
            "_model_module": "@jupyter-widgets/base",
            "_model_module_version": "1.2.0",
            "_model_name": "LayoutModel",
            "_view_count": null,
            "_view_module": "@jupyter-widgets/base",
            "_view_module_version": "1.2.0",
            "_view_name": "LayoutView",
            "align_content": null,
            "align_items": null,
            "align_self": null,
            "border": null,
            "bottom": null,
            "display": null,
            "flex": null,
            "flex_flow": null,
            "grid_area": null,
            "grid_auto_columns": null,
            "grid_auto_flow": null,
            "grid_auto_rows": null,
            "grid_column": null,
            "grid_gap": null,
            "grid_row": null,
            "grid_template_areas": null,
            "grid_template_columns": null,
            "grid_template_rows": null,
            "height": null,
            "justify_content": null,
            "justify_items": null,
            "left": null,
            "margin": null,
            "max_height": null,
            "max_width": null,
            "min_height": null,
            "min_width": null,
            "object_fit": null,
            "object_position": null,
            "order": null,
            "overflow": null,
            "overflow_x": null,
            "overflow_y": null,
            "padding": null,
            "right": null,
            "top": null,
            "visibility": null,
            "width": null
          }
        },
        "b44fee025a5d4e14811e9bd7160e5a70": {
          "model_module": "@jupyter-widgets/base",
          "model_name": "LayoutModel",
          "model_module_version": "1.2.0",
          "state": {
            "_model_module": "@jupyter-widgets/base",
            "_model_module_version": "1.2.0",
            "_model_name": "LayoutModel",
            "_view_count": null,
            "_view_module": "@jupyter-widgets/base",
            "_view_module_version": "1.2.0",
            "_view_name": "LayoutView",
            "align_content": null,
            "align_items": null,
            "align_self": null,
            "border": null,
            "bottom": null,
            "display": null,
            "flex": null,
            "flex_flow": null,
            "grid_area": null,
            "grid_auto_columns": null,
            "grid_auto_flow": null,
            "grid_auto_rows": null,
            "grid_column": null,
            "grid_gap": null,
            "grid_row": null,
            "grid_template_areas": null,
            "grid_template_columns": null,
            "grid_template_rows": null,
            "height": null,
            "justify_content": null,
            "justify_items": null,
            "left": null,
            "margin": null,
            "max_height": null,
            "max_width": null,
            "min_height": null,
            "min_width": null,
            "object_fit": null,
            "object_position": null,
            "order": null,
            "overflow": null,
            "overflow_x": null,
            "overflow_y": null,
            "padding": null,
            "right": null,
            "top": null,
            "visibility": null,
            "width": null
          }
        },
        "48f01879bceb4b84a2491fbb2b3c2a48": {
          "model_module": "@jupyter-widgets/controls",
          "model_name": "DescriptionStyleModel",
          "model_module_version": "1.5.0",
          "state": {
            "_model_module": "@jupyter-widgets/controls",
            "_model_module_version": "1.5.0",
            "_model_name": "DescriptionStyleModel",
            "_view_count": null,
            "_view_module": "@jupyter-widgets/base",
            "_view_module_version": "1.2.0",
            "_view_name": "StyleView",
            "description_width": ""
          }
        },
        "db710d8657f24b0faa438a52f6dfffed": {
          "model_module": "@jupyter-widgets/base",
          "model_name": "LayoutModel",
          "model_module_version": "1.2.0",
          "state": {
            "_model_module": "@jupyter-widgets/base",
            "_model_module_version": "1.2.0",
            "_model_name": "LayoutModel",
            "_view_count": null,
            "_view_module": "@jupyter-widgets/base",
            "_view_module_version": "1.2.0",
            "_view_name": "LayoutView",
            "align_content": null,
            "align_items": null,
            "align_self": null,
            "border": null,
            "bottom": null,
            "display": null,
            "flex": null,
            "flex_flow": null,
            "grid_area": null,
            "grid_auto_columns": null,
            "grid_auto_flow": null,
            "grid_auto_rows": null,
            "grid_column": null,
            "grid_gap": null,
            "grid_row": null,
            "grid_template_areas": null,
            "grid_template_columns": null,
            "grid_template_rows": null,
            "height": null,
            "justify_content": null,
            "justify_items": null,
            "left": null,
            "margin": null,
            "max_height": null,
            "max_width": null,
            "min_height": null,
            "min_width": null,
            "object_fit": null,
            "object_position": null,
            "order": null,
            "overflow": null,
            "overflow_x": null,
            "overflow_y": null,
            "padding": null,
            "right": null,
            "top": null,
            "visibility": null,
            "width": null
          }
        },
        "ab40b5e1bf1b46d29783390a6f3b6704": {
          "model_module": "@jupyter-widgets/controls",
          "model_name": "ProgressStyleModel",
          "model_module_version": "1.5.0",
          "state": {
            "_model_module": "@jupyter-widgets/controls",
            "_model_module_version": "1.5.0",
            "_model_name": "ProgressStyleModel",
            "_view_count": null,
            "_view_module": "@jupyter-widgets/base",
            "_view_module_version": "1.2.0",
            "_view_name": "StyleView",
            "bar_color": null,
            "description_width": ""
          }
        },
        "1ab2b1e366f7412e82f93f76a3b9787c": {
          "model_module": "@jupyter-widgets/base",
          "model_name": "LayoutModel",
          "model_module_version": "1.2.0",
          "state": {
            "_model_module": "@jupyter-widgets/base",
            "_model_module_version": "1.2.0",
            "_model_name": "LayoutModel",
            "_view_count": null,
            "_view_module": "@jupyter-widgets/base",
            "_view_module_version": "1.2.0",
            "_view_name": "LayoutView",
            "align_content": null,
            "align_items": null,
            "align_self": null,
            "border": null,
            "bottom": null,
            "display": null,
            "flex": null,
            "flex_flow": null,
            "grid_area": null,
            "grid_auto_columns": null,
            "grid_auto_flow": null,
            "grid_auto_rows": null,
            "grid_column": null,
            "grid_gap": null,
            "grid_row": null,
            "grid_template_areas": null,
            "grid_template_columns": null,
            "grid_template_rows": null,
            "height": null,
            "justify_content": null,
            "justify_items": null,
            "left": null,
            "margin": null,
            "max_height": null,
            "max_width": null,
            "min_height": null,
            "min_width": null,
            "object_fit": null,
            "object_position": null,
            "order": null,
            "overflow": null,
            "overflow_x": null,
            "overflow_y": null,
            "padding": null,
            "right": null,
            "top": null,
            "visibility": null,
            "width": null
          }
        },
        "26fe9ea6312541a2bcc28ee4557a2658": {
          "model_module": "@jupyter-widgets/controls",
          "model_name": "DescriptionStyleModel",
          "model_module_version": "1.5.0",
          "state": {
            "_model_module": "@jupyter-widgets/controls",
            "_model_module_version": "1.5.0",
            "_model_name": "DescriptionStyleModel",
            "_view_count": null,
            "_view_module": "@jupyter-widgets/base",
            "_view_module_version": "1.2.0",
            "_view_name": "StyleView",
            "description_width": ""
          }
        },
        "cf49e6f188544df680fb17942eea22e1": {
          "model_module": "@jupyter-widgets/controls",
          "model_name": "HBoxModel",
          "model_module_version": "1.5.0",
          "state": {
            "_dom_classes": [],
            "_model_module": "@jupyter-widgets/controls",
            "_model_module_version": "1.5.0",
            "_model_name": "HBoxModel",
            "_view_count": null,
            "_view_module": "@jupyter-widgets/controls",
            "_view_module_version": "1.5.0",
            "_view_name": "HBoxView",
            "box_style": "",
            "children": [
              "IPY_MODEL_ea9c116a5b3944dd97c98d5e42564a2d",
              "IPY_MODEL_7fec1dc8eb9b4fbebe2aec8be2b168c6",
              "IPY_MODEL_55a1cbd084a940e0902bbaca16713956"
            ],
            "layout": "IPY_MODEL_2f31f55f932f4d58ba702f87371861ff"
          }
        },
        "ea9c116a5b3944dd97c98d5e42564a2d": {
          "model_module": "@jupyter-widgets/controls",
          "model_name": "HTMLModel",
          "model_module_version": "1.5.0",
          "state": {
            "_dom_classes": [],
            "_model_module": "@jupyter-widgets/controls",
            "_model_module_version": "1.5.0",
            "_model_name": "HTMLModel",
            "_view_count": null,
            "_view_module": "@jupyter-widgets/controls",
            "_view_module_version": "1.5.0",
            "_view_name": "HTMLView",
            "description": "",
            "description_tooltip": null,
            "layout": "IPY_MODEL_d45fc997e0df421ba22f0fb3dad9df01",
            "placeholder": "​",
            "style": "IPY_MODEL_60919a09bf7e414ca8970c6f53f8c800",
            "value": "tokenizer_config.json: 100%"
          }
        },
        "7fec1dc8eb9b4fbebe2aec8be2b168c6": {
          "model_module": "@jupyter-widgets/controls",
          "model_name": "FloatProgressModel",
          "model_module_version": "1.5.0",
          "state": {
            "_dom_classes": [],
            "_model_module": "@jupyter-widgets/controls",
            "_model_module_version": "1.5.0",
            "_model_name": "FloatProgressModel",
            "_view_count": null,
            "_view_module": "@jupyter-widgets/controls",
            "_view_module_version": "1.5.0",
            "_view_name": "ProgressView",
            "bar_style": "success",
            "description": "",
            "description_tooltip": null,
            "layout": "IPY_MODEL_335a52860d75412a89bcecfe5ad5f0b3",
            "max": 363,
            "min": 0,
            "orientation": "horizontal",
            "style": "IPY_MODEL_427707532a10417287ceda09abfae039",
            "value": 363
          }
        },
        "55a1cbd084a940e0902bbaca16713956": {
          "model_module": "@jupyter-widgets/controls",
          "model_name": "HTMLModel",
          "model_module_version": "1.5.0",
          "state": {
            "_dom_classes": [],
            "_model_module": "@jupyter-widgets/controls",
            "_model_module_version": "1.5.0",
            "_model_name": "HTMLModel",
            "_view_count": null,
            "_view_module": "@jupyter-widgets/controls",
            "_view_module_version": "1.5.0",
            "_view_name": "HTMLView",
            "description": "",
            "description_tooltip": null,
            "layout": "IPY_MODEL_3f7c6b238b61481ba8ffe3fc37520944",
            "placeholder": "​",
            "style": "IPY_MODEL_20b58bd8bc2748709e2091ed5fea516b",
            "value": " 363/363 [00:00&lt;00:00, 38.5kB/s]"
          }
        },
        "2f31f55f932f4d58ba702f87371861ff": {
          "model_module": "@jupyter-widgets/base",
          "model_name": "LayoutModel",
          "model_module_version": "1.2.0",
          "state": {
            "_model_module": "@jupyter-widgets/base",
            "_model_module_version": "1.2.0",
            "_model_name": "LayoutModel",
            "_view_count": null,
            "_view_module": "@jupyter-widgets/base",
            "_view_module_version": "1.2.0",
            "_view_name": "LayoutView",
            "align_content": null,
            "align_items": null,
            "align_self": null,
            "border": null,
            "bottom": null,
            "display": null,
            "flex": null,
            "flex_flow": null,
            "grid_area": null,
            "grid_auto_columns": null,
            "grid_auto_flow": null,
            "grid_auto_rows": null,
            "grid_column": null,
            "grid_gap": null,
            "grid_row": null,
            "grid_template_areas": null,
            "grid_template_columns": null,
            "grid_template_rows": null,
            "height": null,
            "justify_content": null,
            "justify_items": null,
            "left": null,
            "margin": null,
            "max_height": null,
            "max_width": null,
            "min_height": null,
            "min_width": null,
            "object_fit": null,
            "object_position": null,
            "order": null,
            "overflow": null,
            "overflow_x": null,
            "overflow_y": null,
            "padding": null,
            "right": null,
            "top": null,
            "visibility": null,
            "width": null
          }
        },
        "d45fc997e0df421ba22f0fb3dad9df01": {
          "model_module": "@jupyter-widgets/base",
          "model_name": "LayoutModel",
          "model_module_version": "1.2.0",
          "state": {
            "_model_module": "@jupyter-widgets/base",
            "_model_module_version": "1.2.0",
            "_model_name": "LayoutModel",
            "_view_count": null,
            "_view_module": "@jupyter-widgets/base",
            "_view_module_version": "1.2.0",
            "_view_name": "LayoutView",
            "align_content": null,
            "align_items": null,
            "align_self": null,
            "border": null,
            "bottom": null,
            "display": null,
            "flex": null,
            "flex_flow": null,
            "grid_area": null,
            "grid_auto_columns": null,
            "grid_auto_flow": null,
            "grid_auto_rows": null,
            "grid_column": null,
            "grid_gap": null,
            "grid_row": null,
            "grid_template_areas": null,
            "grid_template_columns": null,
            "grid_template_rows": null,
            "height": null,
            "justify_content": null,
            "justify_items": null,
            "left": null,
            "margin": null,
            "max_height": null,
            "max_width": null,
            "min_height": null,
            "min_width": null,
            "object_fit": null,
            "object_position": null,
            "order": null,
            "overflow": null,
            "overflow_x": null,
            "overflow_y": null,
            "padding": null,
            "right": null,
            "top": null,
            "visibility": null,
            "width": null
          }
        },
        "60919a09bf7e414ca8970c6f53f8c800": {
          "model_module": "@jupyter-widgets/controls",
          "model_name": "DescriptionStyleModel",
          "model_module_version": "1.5.0",
          "state": {
            "_model_module": "@jupyter-widgets/controls",
            "_model_module_version": "1.5.0",
            "_model_name": "DescriptionStyleModel",
            "_view_count": null,
            "_view_module": "@jupyter-widgets/base",
            "_view_module_version": "1.2.0",
            "_view_name": "StyleView",
            "description_width": ""
          }
        },
        "335a52860d75412a89bcecfe5ad5f0b3": {
          "model_module": "@jupyter-widgets/base",
          "model_name": "LayoutModel",
          "model_module_version": "1.2.0",
          "state": {
            "_model_module": "@jupyter-widgets/base",
            "_model_module_version": "1.2.0",
            "_model_name": "LayoutModel",
            "_view_count": null,
            "_view_module": "@jupyter-widgets/base",
            "_view_module_version": "1.2.0",
            "_view_name": "LayoutView",
            "align_content": null,
            "align_items": null,
            "align_self": null,
            "border": null,
            "bottom": null,
            "display": null,
            "flex": null,
            "flex_flow": null,
            "grid_area": null,
            "grid_auto_columns": null,
            "grid_auto_flow": null,
            "grid_auto_rows": null,
            "grid_column": null,
            "grid_gap": null,
            "grid_row": null,
            "grid_template_areas": null,
            "grid_template_columns": null,
            "grid_template_rows": null,
            "height": null,
            "justify_content": null,
            "justify_items": null,
            "left": null,
            "margin": null,
            "max_height": null,
            "max_width": null,
            "min_height": null,
            "min_width": null,
            "object_fit": null,
            "object_position": null,
            "order": null,
            "overflow": null,
            "overflow_x": null,
            "overflow_y": null,
            "padding": null,
            "right": null,
            "top": null,
            "visibility": null,
            "width": null
          }
        },
        "427707532a10417287ceda09abfae039": {
          "model_module": "@jupyter-widgets/controls",
          "model_name": "ProgressStyleModel",
          "model_module_version": "1.5.0",
          "state": {
            "_model_module": "@jupyter-widgets/controls",
            "_model_module_version": "1.5.0",
            "_model_name": "ProgressStyleModel",
            "_view_count": null,
            "_view_module": "@jupyter-widgets/base",
            "_view_module_version": "1.2.0",
            "_view_name": "StyleView",
            "bar_color": null,
            "description_width": ""
          }
        },
        "3f7c6b238b61481ba8ffe3fc37520944": {
          "model_module": "@jupyter-widgets/base",
          "model_name": "LayoutModel",
          "model_module_version": "1.2.0",
          "state": {
            "_model_module": "@jupyter-widgets/base",
            "_model_module_version": "1.2.0",
            "_model_name": "LayoutModel",
            "_view_count": null,
            "_view_module": "@jupyter-widgets/base",
            "_view_module_version": "1.2.0",
            "_view_name": "LayoutView",
            "align_content": null,
            "align_items": null,
            "align_self": null,
            "border": null,
            "bottom": null,
            "display": null,
            "flex": null,
            "flex_flow": null,
            "grid_area": null,
            "grid_auto_columns": null,
            "grid_auto_flow": null,
            "grid_auto_rows": null,
            "grid_column": null,
            "grid_gap": null,
            "grid_row": null,
            "grid_template_areas": null,
            "grid_template_columns": null,
            "grid_template_rows": null,
            "height": null,
            "justify_content": null,
            "justify_items": null,
            "left": null,
            "margin": null,
            "max_height": null,
            "max_width": null,
            "min_height": null,
            "min_width": null,
            "object_fit": null,
            "object_position": null,
            "order": null,
            "overflow": null,
            "overflow_x": null,
            "overflow_y": null,
            "padding": null,
            "right": null,
            "top": null,
            "visibility": null,
            "width": null
          }
        },
        "20b58bd8bc2748709e2091ed5fea516b": {
          "model_module": "@jupyter-widgets/controls",
          "model_name": "DescriptionStyleModel",
          "model_module_version": "1.5.0",
          "state": {
            "_model_module": "@jupyter-widgets/controls",
            "_model_module_version": "1.5.0",
            "_model_name": "DescriptionStyleModel",
            "_view_count": null,
            "_view_module": "@jupyter-widgets/base",
            "_view_module_version": "1.2.0",
            "_view_name": "StyleView",
            "description_width": ""
          }
        },
        "a4c2f378be8f403baa6547d1215071b1": {
          "model_module": "@jupyter-widgets/controls",
          "model_name": "HBoxModel",
          "model_module_version": "1.5.0",
          "state": {
            "_dom_classes": [],
            "_model_module": "@jupyter-widgets/controls",
            "_model_module_version": "1.5.0",
            "_model_name": "HBoxModel",
            "_view_count": null,
            "_view_module": "@jupyter-widgets/controls",
            "_view_module_version": "1.5.0",
            "_view_name": "HBoxView",
            "box_style": "",
            "children": [
              "IPY_MODEL_6cd85a325f9c4b95b57f99beef1f22ab",
              "IPY_MODEL_44a5095f8805433590a52423561746c5",
              "IPY_MODEL_2ea6eede0c1d4adf97db2370cbfb5456"
            ],
            "layout": "IPY_MODEL_e39e5f86272e47829a478e2dfdf72873"
          }
        },
        "6cd85a325f9c4b95b57f99beef1f22ab": {
          "model_module": "@jupyter-widgets/controls",
          "model_name": "HTMLModel",
          "model_module_version": "1.5.0",
          "state": {
            "_dom_classes": [],
            "_model_module": "@jupyter-widgets/controls",
            "_model_module_version": "1.5.0",
            "_model_name": "HTMLModel",
            "_view_count": null,
            "_view_module": "@jupyter-widgets/controls",
            "_view_module_version": "1.5.0",
            "_view_name": "HTMLView",
            "description": "",
            "description_tooltip": null,
            "layout": "IPY_MODEL_c2f11cfedbe7471d8f916ffd165cc764",
            "placeholder": "​",
            "style": "IPY_MODEL_8ac5b977436e46479ede4c20bd2a3753",
            "value": "vocab.txt: "
          }
        },
        "44a5095f8805433590a52423561746c5": {
          "model_module": "@jupyter-widgets/controls",
          "model_name": "FloatProgressModel",
          "model_module_version": "1.5.0",
          "state": {
            "_dom_classes": [],
            "_model_module": "@jupyter-widgets/controls",
            "_model_module_version": "1.5.0",
            "_model_name": "FloatProgressModel",
            "_view_count": null,
            "_view_module": "@jupyter-widgets/controls",
            "_view_module_version": "1.5.0",
            "_view_name": "ProgressView",
            "bar_style": "success",
            "description": "",
            "description_tooltip": null,
            "layout": "IPY_MODEL_aca6152ffe2941c3b11aff70cf74e778",
            "max": 1,
            "min": 0,
            "orientation": "horizontal",
            "style": "IPY_MODEL_5a97c7adf2f64bbcbfc0f4eb2e8bc3bb",
            "value": 1
          }
        },
        "2ea6eede0c1d4adf97db2370cbfb5456": {
          "model_module": "@jupyter-widgets/controls",
          "model_name": "HTMLModel",
          "model_module_version": "1.5.0",
          "state": {
            "_dom_classes": [],
            "_model_module": "@jupyter-widgets/controls",
            "_model_module_version": "1.5.0",
            "_model_name": "HTMLModel",
            "_view_count": null,
            "_view_module": "@jupyter-widgets/controls",
            "_view_module_version": "1.5.0",
            "_view_name": "HTMLView",
            "description": "",
            "description_tooltip": null,
            "layout": "IPY_MODEL_667dcab12acb4f38bd7605a5c2217fa8",
            "placeholder": "​",
            "style": "IPY_MODEL_420c2ae8ab2740db9eef991a6d1aab0b",
            "value": " 232k/? [00:00&lt;00:00, 8.10MB/s]"
          }
        },
        "e39e5f86272e47829a478e2dfdf72873": {
          "model_module": "@jupyter-widgets/base",
          "model_name": "LayoutModel",
          "model_module_version": "1.2.0",
          "state": {
            "_model_module": "@jupyter-widgets/base",
            "_model_module_version": "1.2.0",
            "_model_name": "LayoutModel",
            "_view_count": null,
            "_view_module": "@jupyter-widgets/base",
            "_view_module_version": "1.2.0",
            "_view_name": "LayoutView",
            "align_content": null,
            "align_items": null,
            "align_self": null,
            "border": null,
            "bottom": null,
            "display": null,
            "flex": null,
            "flex_flow": null,
            "grid_area": null,
            "grid_auto_columns": null,
            "grid_auto_flow": null,
            "grid_auto_rows": null,
            "grid_column": null,
            "grid_gap": null,
            "grid_row": null,
            "grid_template_areas": null,
            "grid_template_columns": null,
            "grid_template_rows": null,
            "height": null,
            "justify_content": null,
            "justify_items": null,
            "left": null,
            "margin": null,
            "max_height": null,
            "max_width": null,
            "min_height": null,
            "min_width": null,
            "object_fit": null,
            "object_position": null,
            "order": null,
            "overflow": null,
            "overflow_x": null,
            "overflow_y": null,
            "padding": null,
            "right": null,
            "top": null,
            "visibility": null,
            "width": null
          }
        },
        "c2f11cfedbe7471d8f916ffd165cc764": {
          "model_module": "@jupyter-widgets/base",
          "model_name": "LayoutModel",
          "model_module_version": "1.2.0",
          "state": {
            "_model_module": "@jupyter-widgets/base",
            "_model_module_version": "1.2.0",
            "_model_name": "LayoutModel",
            "_view_count": null,
            "_view_module": "@jupyter-widgets/base",
            "_view_module_version": "1.2.0",
            "_view_name": "LayoutView",
            "align_content": null,
            "align_items": null,
            "align_self": null,
            "border": null,
            "bottom": null,
            "display": null,
            "flex": null,
            "flex_flow": null,
            "grid_area": null,
            "grid_auto_columns": null,
            "grid_auto_flow": null,
            "grid_auto_rows": null,
            "grid_column": null,
            "grid_gap": null,
            "grid_row": null,
            "grid_template_areas": null,
            "grid_template_columns": null,
            "grid_template_rows": null,
            "height": null,
            "justify_content": null,
            "justify_items": null,
            "left": null,
            "margin": null,
            "max_height": null,
            "max_width": null,
            "min_height": null,
            "min_width": null,
            "object_fit": null,
            "object_position": null,
            "order": null,
            "overflow": null,
            "overflow_x": null,
            "overflow_y": null,
            "padding": null,
            "right": null,
            "top": null,
            "visibility": null,
            "width": null
          }
        },
        "8ac5b977436e46479ede4c20bd2a3753": {
          "model_module": "@jupyter-widgets/controls",
          "model_name": "DescriptionStyleModel",
          "model_module_version": "1.5.0",
          "state": {
            "_model_module": "@jupyter-widgets/controls",
            "_model_module_version": "1.5.0",
            "_model_name": "DescriptionStyleModel",
            "_view_count": null,
            "_view_module": "@jupyter-widgets/base",
            "_view_module_version": "1.2.0",
            "_view_name": "StyleView",
            "description_width": ""
          }
        },
        "aca6152ffe2941c3b11aff70cf74e778": {
          "model_module": "@jupyter-widgets/base",
          "model_name": "LayoutModel",
          "model_module_version": "1.2.0",
          "state": {
            "_model_module": "@jupyter-widgets/base",
            "_model_module_version": "1.2.0",
            "_model_name": "LayoutModel",
            "_view_count": null,
            "_view_module": "@jupyter-widgets/base",
            "_view_module_version": "1.2.0",
            "_view_name": "LayoutView",
            "align_content": null,
            "align_items": null,
            "align_self": null,
            "border": null,
            "bottom": null,
            "display": null,
            "flex": null,
            "flex_flow": null,
            "grid_area": null,
            "grid_auto_columns": null,
            "grid_auto_flow": null,
            "grid_auto_rows": null,
            "grid_column": null,
            "grid_gap": null,
            "grid_row": null,
            "grid_template_areas": null,
            "grid_template_columns": null,
            "grid_template_rows": null,
            "height": null,
            "justify_content": null,
            "justify_items": null,
            "left": null,
            "margin": null,
            "max_height": null,
            "max_width": null,
            "min_height": null,
            "min_width": null,
            "object_fit": null,
            "object_position": null,
            "order": null,
            "overflow": null,
            "overflow_x": null,
            "overflow_y": null,
            "padding": null,
            "right": null,
            "top": null,
            "visibility": null,
            "width": "20px"
          }
        },
        "5a97c7adf2f64bbcbfc0f4eb2e8bc3bb": {
          "model_module": "@jupyter-widgets/controls",
          "model_name": "ProgressStyleModel",
          "model_module_version": "1.5.0",
          "state": {
            "_model_module": "@jupyter-widgets/controls",
            "_model_module_version": "1.5.0",
            "_model_name": "ProgressStyleModel",
            "_view_count": null,
            "_view_module": "@jupyter-widgets/base",
            "_view_module_version": "1.2.0",
            "_view_name": "StyleView",
            "bar_color": null,
            "description_width": ""
          }
        },
        "667dcab12acb4f38bd7605a5c2217fa8": {
          "model_module": "@jupyter-widgets/base",
          "model_name": "LayoutModel",
          "model_module_version": "1.2.0",
          "state": {
            "_model_module": "@jupyter-widgets/base",
            "_model_module_version": "1.2.0",
            "_model_name": "LayoutModel",
            "_view_count": null,
            "_view_module": "@jupyter-widgets/base",
            "_view_module_version": "1.2.0",
            "_view_name": "LayoutView",
            "align_content": null,
            "align_items": null,
            "align_self": null,
            "border": null,
            "bottom": null,
            "display": null,
            "flex": null,
            "flex_flow": null,
            "grid_area": null,
            "grid_auto_columns": null,
            "grid_auto_flow": null,
            "grid_auto_rows": null,
            "grid_column": null,
            "grid_gap": null,
            "grid_row": null,
            "grid_template_areas": null,
            "grid_template_columns": null,
            "grid_template_rows": null,
            "height": null,
            "justify_content": null,
            "justify_items": null,
            "left": null,
            "margin": null,
            "max_height": null,
            "max_width": null,
            "min_height": null,
            "min_width": null,
            "object_fit": null,
            "object_position": null,
            "order": null,
            "overflow": null,
            "overflow_x": null,
            "overflow_y": null,
            "padding": null,
            "right": null,
            "top": null,
            "visibility": null,
            "width": null
          }
        },
        "420c2ae8ab2740db9eef991a6d1aab0b": {
          "model_module": "@jupyter-widgets/controls",
          "model_name": "DescriptionStyleModel",
          "model_module_version": "1.5.0",
          "state": {
            "_model_module": "@jupyter-widgets/controls",
            "_model_module_version": "1.5.0",
            "_model_name": "DescriptionStyleModel",
            "_view_count": null,
            "_view_module": "@jupyter-widgets/base",
            "_view_module_version": "1.2.0",
            "_view_name": "StyleView",
            "description_width": ""
          }
        },
        "e10ed5c7ecae4ae79e0978be38026ae1": {
          "model_module": "@jupyter-widgets/controls",
          "model_name": "HBoxModel",
          "model_module_version": "1.5.0",
          "state": {
            "_dom_classes": [],
            "_model_module": "@jupyter-widgets/controls",
            "_model_module_version": "1.5.0",
            "_model_name": "HBoxModel",
            "_view_count": null,
            "_view_module": "@jupyter-widgets/controls",
            "_view_module_version": "1.5.0",
            "_view_name": "HBoxView",
            "box_style": "",
            "children": [
              "IPY_MODEL_25b8d32409ce4f3dbfbd395c910f8e46",
              "IPY_MODEL_b54e083e3cff4b67a8b3acc072a68c06",
              "IPY_MODEL_0cb7b945bb234a6db06164368f57be2c"
            ],
            "layout": "IPY_MODEL_e368cdda8a794254917b7abb489afd25"
          }
        },
        "25b8d32409ce4f3dbfbd395c910f8e46": {
          "model_module": "@jupyter-widgets/controls",
          "model_name": "HTMLModel",
          "model_module_version": "1.5.0",
          "state": {
            "_dom_classes": [],
            "_model_module": "@jupyter-widgets/controls",
            "_model_module_version": "1.5.0",
            "_model_name": "HTMLModel",
            "_view_count": null,
            "_view_module": "@jupyter-widgets/controls",
            "_view_module_version": "1.5.0",
            "_view_name": "HTMLView",
            "description": "",
            "description_tooltip": null,
            "layout": "IPY_MODEL_67c3538e82ff4383b39eff5707d777f4",
            "placeholder": "​",
            "style": "IPY_MODEL_e997237eb76e46c2b73bd235cab97942",
            "value": "tokenizer.json: "
          }
        },
        "b54e083e3cff4b67a8b3acc072a68c06": {
          "model_module": "@jupyter-widgets/controls",
          "model_name": "FloatProgressModel",
          "model_module_version": "1.5.0",
          "state": {
            "_dom_classes": [],
            "_model_module": "@jupyter-widgets/controls",
            "_model_module_version": "1.5.0",
            "_model_name": "FloatProgressModel",
            "_view_count": null,
            "_view_module": "@jupyter-widgets/controls",
            "_view_module_version": "1.5.0",
            "_view_name": "ProgressView",
            "bar_style": "success",
            "description": "",
            "description_tooltip": null,
            "layout": "IPY_MODEL_5e56d97dc8854a76ae166f91f5442d44",
            "max": 1,
            "min": 0,
            "orientation": "horizontal",
            "style": "IPY_MODEL_ea644946fc9b473aa22d70bbb0fb28c1",
            "value": 1
          }
        },
        "0cb7b945bb234a6db06164368f57be2c": {
          "model_module": "@jupyter-widgets/controls",
          "model_name": "HTMLModel",
          "model_module_version": "1.5.0",
          "state": {
            "_dom_classes": [],
            "_model_module": "@jupyter-widgets/controls",
            "_model_module_version": "1.5.0",
            "_model_name": "HTMLModel",
            "_view_count": null,
            "_view_module": "@jupyter-widgets/controls",
            "_view_module_version": "1.5.0",
            "_view_name": "HTMLView",
            "description": "",
            "description_tooltip": null,
            "layout": "IPY_MODEL_a93e1755273144858ef22d251ffac5ac",
            "placeholder": "​",
            "style": "IPY_MODEL_cc94a0a69c664d08a2813f9750c80300",
            "value": " 466k/? [00:00&lt;00:00, 10.3MB/s]"
          }
        },
        "e368cdda8a794254917b7abb489afd25": {
          "model_module": "@jupyter-widgets/base",
          "model_name": "LayoutModel",
          "model_module_version": "1.2.0",
          "state": {
            "_model_module": "@jupyter-widgets/base",
            "_model_module_version": "1.2.0",
            "_model_name": "LayoutModel",
            "_view_count": null,
            "_view_module": "@jupyter-widgets/base",
            "_view_module_version": "1.2.0",
            "_view_name": "LayoutView",
            "align_content": null,
            "align_items": null,
            "align_self": null,
            "border": null,
            "bottom": null,
            "display": null,
            "flex": null,
            "flex_flow": null,
            "grid_area": null,
            "grid_auto_columns": null,
            "grid_auto_flow": null,
            "grid_auto_rows": null,
            "grid_column": null,
            "grid_gap": null,
            "grid_row": null,
            "grid_template_areas": null,
            "grid_template_columns": null,
            "grid_template_rows": null,
            "height": null,
            "justify_content": null,
            "justify_items": null,
            "left": null,
            "margin": null,
            "max_height": null,
            "max_width": null,
            "min_height": null,
            "min_width": null,
            "object_fit": null,
            "object_position": null,
            "order": null,
            "overflow": null,
            "overflow_x": null,
            "overflow_y": null,
            "padding": null,
            "right": null,
            "top": null,
            "visibility": null,
            "width": null
          }
        },
        "67c3538e82ff4383b39eff5707d777f4": {
          "model_module": "@jupyter-widgets/base",
          "model_name": "LayoutModel",
          "model_module_version": "1.2.0",
          "state": {
            "_model_module": "@jupyter-widgets/base",
            "_model_module_version": "1.2.0",
            "_model_name": "LayoutModel",
            "_view_count": null,
            "_view_module": "@jupyter-widgets/base",
            "_view_module_version": "1.2.0",
            "_view_name": "LayoutView",
            "align_content": null,
            "align_items": null,
            "align_self": null,
            "border": null,
            "bottom": null,
            "display": null,
            "flex": null,
            "flex_flow": null,
            "grid_area": null,
            "grid_auto_columns": null,
            "grid_auto_flow": null,
            "grid_auto_rows": null,
            "grid_column": null,
            "grid_gap": null,
            "grid_row": null,
            "grid_template_areas": null,
            "grid_template_columns": null,
            "grid_template_rows": null,
            "height": null,
            "justify_content": null,
            "justify_items": null,
            "left": null,
            "margin": null,
            "max_height": null,
            "max_width": null,
            "min_height": null,
            "min_width": null,
            "object_fit": null,
            "object_position": null,
            "order": null,
            "overflow": null,
            "overflow_x": null,
            "overflow_y": null,
            "padding": null,
            "right": null,
            "top": null,
            "visibility": null,
            "width": null
          }
        },
        "e997237eb76e46c2b73bd235cab97942": {
          "model_module": "@jupyter-widgets/controls",
          "model_name": "DescriptionStyleModel",
          "model_module_version": "1.5.0",
          "state": {
            "_model_module": "@jupyter-widgets/controls",
            "_model_module_version": "1.5.0",
            "_model_name": "DescriptionStyleModel",
            "_view_count": null,
            "_view_module": "@jupyter-widgets/base",
            "_view_module_version": "1.2.0",
            "_view_name": "StyleView",
            "description_width": ""
          }
        },
        "5e56d97dc8854a76ae166f91f5442d44": {
          "model_module": "@jupyter-widgets/base",
          "model_name": "LayoutModel",
          "model_module_version": "1.2.0",
          "state": {
            "_model_module": "@jupyter-widgets/base",
            "_model_module_version": "1.2.0",
            "_model_name": "LayoutModel",
            "_view_count": null,
            "_view_module": "@jupyter-widgets/base",
            "_view_module_version": "1.2.0",
            "_view_name": "LayoutView",
            "align_content": null,
            "align_items": null,
            "align_self": null,
            "border": null,
            "bottom": null,
            "display": null,
            "flex": null,
            "flex_flow": null,
            "grid_area": null,
            "grid_auto_columns": null,
            "grid_auto_flow": null,
            "grid_auto_rows": null,
            "grid_column": null,
            "grid_gap": null,
            "grid_row": null,
            "grid_template_areas": null,
            "grid_template_columns": null,
            "grid_template_rows": null,
            "height": null,
            "justify_content": null,
            "justify_items": null,
            "left": null,
            "margin": null,
            "max_height": null,
            "max_width": null,
            "min_height": null,
            "min_width": null,
            "object_fit": null,
            "object_position": null,
            "order": null,
            "overflow": null,
            "overflow_x": null,
            "overflow_y": null,
            "padding": null,
            "right": null,
            "top": null,
            "visibility": null,
            "width": "20px"
          }
        },
        "ea644946fc9b473aa22d70bbb0fb28c1": {
          "model_module": "@jupyter-widgets/controls",
          "model_name": "ProgressStyleModel",
          "model_module_version": "1.5.0",
          "state": {
            "_model_module": "@jupyter-widgets/controls",
            "_model_module_version": "1.5.0",
            "_model_name": "ProgressStyleModel",
            "_view_count": null,
            "_view_module": "@jupyter-widgets/base",
            "_view_module_version": "1.2.0",
            "_view_name": "StyleView",
            "bar_color": null,
            "description_width": ""
          }
        },
        "a93e1755273144858ef22d251ffac5ac": {
          "model_module": "@jupyter-widgets/base",
          "model_name": "LayoutModel",
          "model_module_version": "1.2.0",
          "state": {
            "_model_module": "@jupyter-widgets/base",
            "_model_module_version": "1.2.0",
            "_model_name": "LayoutModel",
            "_view_count": null,
            "_view_module": "@jupyter-widgets/base",
            "_view_module_version": "1.2.0",
            "_view_name": "LayoutView",
            "align_content": null,
            "align_items": null,
            "align_self": null,
            "border": null,
            "bottom": null,
            "display": null,
            "flex": null,
            "flex_flow": null,
            "grid_area": null,
            "grid_auto_columns": null,
            "grid_auto_flow": null,
            "grid_auto_rows": null,
            "grid_column": null,
            "grid_gap": null,
            "grid_row": null,
            "grid_template_areas": null,
            "grid_template_columns": null,
            "grid_template_rows": null,
            "height": null,
            "justify_content": null,
            "justify_items": null,
            "left": null,
            "margin": null,
            "max_height": null,
            "max_width": null,
            "min_height": null,
            "min_width": null,
            "object_fit": null,
            "object_position": null,
            "order": null,
            "overflow": null,
            "overflow_x": null,
            "overflow_y": null,
            "padding": null,
            "right": null,
            "top": null,
            "visibility": null,
            "width": null
          }
        },
        "cc94a0a69c664d08a2813f9750c80300": {
          "model_module": "@jupyter-widgets/controls",
          "model_name": "DescriptionStyleModel",
          "model_module_version": "1.5.0",
          "state": {
            "_model_module": "@jupyter-widgets/controls",
            "_model_module_version": "1.5.0",
            "_model_name": "DescriptionStyleModel",
            "_view_count": null,
            "_view_module": "@jupyter-widgets/base",
            "_view_module_version": "1.2.0",
            "_view_name": "StyleView",
            "description_width": ""
          }
        },
        "baff33829ff2442288a8d7ec95b1a265": {
          "model_module": "@jupyter-widgets/controls",
          "model_name": "HBoxModel",
          "model_module_version": "1.5.0",
          "state": {
            "_dom_classes": [],
            "_model_module": "@jupyter-widgets/controls",
            "_model_module_version": "1.5.0",
            "_model_name": "HBoxModel",
            "_view_count": null,
            "_view_module": "@jupyter-widgets/controls",
            "_view_module_version": "1.5.0",
            "_view_name": "HBoxView",
            "box_style": "",
            "children": [
              "IPY_MODEL_77a5384fa225400a823d3e08a2b925aa",
              "IPY_MODEL_c7be201b004042c49e5cbd79787a3bc9",
              "IPY_MODEL_5385ff3f2dee4fedbb13318510e01452"
            ],
            "layout": "IPY_MODEL_f5553a4725d8483dbe84b1860dd54bfe"
          }
        },
        "77a5384fa225400a823d3e08a2b925aa": {
          "model_module": "@jupyter-widgets/controls",
          "model_name": "HTMLModel",
          "model_module_version": "1.5.0",
          "state": {
            "_dom_classes": [],
            "_model_module": "@jupyter-widgets/controls",
            "_model_module_version": "1.5.0",
            "_model_name": "HTMLModel",
            "_view_count": null,
            "_view_module": "@jupyter-widgets/controls",
            "_view_module_version": "1.5.0",
            "_view_name": "HTMLView",
            "description": "",
            "description_tooltip": null,
            "layout": "IPY_MODEL_8e06e4f002004f5b991072de75fbf212",
            "placeholder": "​",
            "style": "IPY_MODEL_7e9d5d05bb5444edba35780765b15d93",
            "value": "special_tokens_map.json: 100%"
          }
        },
        "c7be201b004042c49e5cbd79787a3bc9": {
          "model_module": "@jupyter-widgets/controls",
          "model_name": "FloatProgressModel",
          "model_module_version": "1.5.0",
          "state": {
            "_dom_classes": [],
            "_model_module": "@jupyter-widgets/controls",
            "_model_module_version": "1.5.0",
            "_model_name": "FloatProgressModel",
            "_view_count": null,
            "_view_module": "@jupyter-widgets/controls",
            "_view_module_version": "1.5.0",
            "_view_name": "ProgressView",
            "bar_style": "success",
            "description": "",
            "description_tooltip": null,
            "layout": "IPY_MODEL_522d8f8da07a4b94b0de5f591ec56f20",
            "max": 239,
            "min": 0,
            "orientation": "horizontal",
            "style": "IPY_MODEL_f144cd9a69d549f1bed6a3c8ebc9f685",
            "value": 239
          }
        },
        "5385ff3f2dee4fedbb13318510e01452": {
          "model_module": "@jupyter-widgets/controls",
          "model_name": "HTMLModel",
          "model_module_version": "1.5.0",
          "state": {
            "_dom_classes": [],
            "_model_module": "@jupyter-widgets/controls",
            "_model_module_version": "1.5.0",
            "_model_name": "HTMLModel",
            "_view_count": null,
            "_view_module": "@jupyter-widgets/controls",
            "_view_module_version": "1.5.0",
            "_view_name": "HTMLView",
            "description": "",
            "description_tooltip": null,
            "layout": "IPY_MODEL_98c271b6a08049d399eeed21c71f0a28",
            "placeholder": "​",
            "style": "IPY_MODEL_f3ebcbda091945ff9211278b71849d6d",
            "value": " 239/239 [00:00&lt;00:00, 9.13kB/s]"
          }
        },
        "f5553a4725d8483dbe84b1860dd54bfe": {
          "model_module": "@jupyter-widgets/base",
          "model_name": "LayoutModel",
          "model_module_version": "1.2.0",
          "state": {
            "_model_module": "@jupyter-widgets/base",
            "_model_module_version": "1.2.0",
            "_model_name": "LayoutModel",
            "_view_count": null,
            "_view_module": "@jupyter-widgets/base",
            "_view_module_version": "1.2.0",
            "_view_name": "LayoutView",
            "align_content": null,
            "align_items": null,
            "align_self": null,
            "border": null,
            "bottom": null,
            "display": null,
            "flex": null,
            "flex_flow": null,
            "grid_area": null,
            "grid_auto_columns": null,
            "grid_auto_flow": null,
            "grid_auto_rows": null,
            "grid_column": null,
            "grid_gap": null,
            "grid_row": null,
            "grid_template_areas": null,
            "grid_template_columns": null,
            "grid_template_rows": null,
            "height": null,
            "justify_content": null,
            "justify_items": null,
            "left": null,
            "margin": null,
            "max_height": null,
            "max_width": null,
            "min_height": null,
            "min_width": null,
            "object_fit": null,
            "object_position": null,
            "order": null,
            "overflow": null,
            "overflow_x": null,
            "overflow_y": null,
            "padding": null,
            "right": null,
            "top": null,
            "visibility": null,
            "width": null
          }
        },
        "8e06e4f002004f5b991072de75fbf212": {
          "model_module": "@jupyter-widgets/base",
          "model_name": "LayoutModel",
          "model_module_version": "1.2.0",
          "state": {
            "_model_module": "@jupyter-widgets/base",
            "_model_module_version": "1.2.0",
            "_model_name": "LayoutModel",
            "_view_count": null,
            "_view_module": "@jupyter-widgets/base",
            "_view_module_version": "1.2.0",
            "_view_name": "LayoutView",
            "align_content": null,
            "align_items": null,
            "align_self": null,
            "border": null,
            "bottom": null,
            "display": null,
            "flex": null,
            "flex_flow": null,
            "grid_area": null,
            "grid_auto_columns": null,
            "grid_auto_flow": null,
            "grid_auto_rows": null,
            "grid_column": null,
            "grid_gap": null,
            "grid_row": null,
            "grid_template_areas": null,
            "grid_template_columns": null,
            "grid_template_rows": null,
            "height": null,
            "justify_content": null,
            "justify_items": null,
            "left": null,
            "margin": null,
            "max_height": null,
            "max_width": null,
            "min_height": null,
            "min_width": null,
            "object_fit": null,
            "object_position": null,
            "order": null,
            "overflow": null,
            "overflow_x": null,
            "overflow_y": null,
            "padding": null,
            "right": null,
            "top": null,
            "visibility": null,
            "width": null
          }
        },
        "7e9d5d05bb5444edba35780765b15d93": {
          "model_module": "@jupyter-widgets/controls",
          "model_name": "DescriptionStyleModel",
          "model_module_version": "1.5.0",
          "state": {
            "_model_module": "@jupyter-widgets/controls",
            "_model_module_version": "1.5.0",
            "_model_name": "DescriptionStyleModel",
            "_view_count": null,
            "_view_module": "@jupyter-widgets/base",
            "_view_module_version": "1.2.0",
            "_view_name": "StyleView",
            "description_width": ""
          }
        },
        "522d8f8da07a4b94b0de5f591ec56f20": {
          "model_module": "@jupyter-widgets/base",
          "model_name": "LayoutModel",
          "model_module_version": "1.2.0",
          "state": {
            "_model_module": "@jupyter-widgets/base",
            "_model_module_version": "1.2.0",
            "_model_name": "LayoutModel",
            "_view_count": null,
            "_view_module": "@jupyter-widgets/base",
            "_view_module_version": "1.2.0",
            "_view_name": "LayoutView",
            "align_content": null,
            "align_items": null,
            "align_self": null,
            "border": null,
            "bottom": null,
            "display": null,
            "flex": null,
            "flex_flow": null,
            "grid_area": null,
            "grid_auto_columns": null,
            "grid_auto_flow": null,
            "grid_auto_rows": null,
            "grid_column": null,
            "grid_gap": null,
            "grid_row": null,
            "grid_template_areas": null,
            "grid_template_columns": null,
            "grid_template_rows": null,
            "height": null,
            "justify_content": null,
            "justify_items": null,
            "left": null,
            "margin": null,
            "max_height": null,
            "max_width": null,
            "min_height": null,
            "min_width": null,
            "object_fit": null,
            "object_position": null,
            "order": null,
            "overflow": null,
            "overflow_x": null,
            "overflow_y": null,
            "padding": null,
            "right": null,
            "top": null,
            "visibility": null,
            "width": null
          }
        },
        "f144cd9a69d549f1bed6a3c8ebc9f685": {
          "model_module": "@jupyter-widgets/controls",
          "model_name": "ProgressStyleModel",
          "model_module_version": "1.5.0",
          "state": {
            "_model_module": "@jupyter-widgets/controls",
            "_model_module_version": "1.5.0",
            "_model_name": "ProgressStyleModel",
            "_view_count": null,
            "_view_module": "@jupyter-widgets/base",
            "_view_module_version": "1.2.0",
            "_view_name": "StyleView",
            "bar_color": null,
            "description_width": ""
          }
        },
        "98c271b6a08049d399eeed21c71f0a28": {
          "model_module": "@jupyter-widgets/base",
          "model_name": "LayoutModel",
          "model_module_version": "1.2.0",
          "state": {
            "_model_module": "@jupyter-widgets/base",
            "_model_module_version": "1.2.0",
            "_model_name": "LayoutModel",
            "_view_count": null,
            "_view_module": "@jupyter-widgets/base",
            "_view_module_version": "1.2.0",
            "_view_name": "LayoutView",
            "align_content": null,
            "align_items": null,
            "align_self": null,
            "border": null,
            "bottom": null,
            "display": null,
            "flex": null,
            "flex_flow": null,
            "grid_area": null,
            "grid_auto_columns": null,
            "grid_auto_flow": null,
            "grid_auto_rows": null,
            "grid_column": null,
            "grid_gap": null,
            "grid_row": null,
            "grid_template_areas": null,
            "grid_template_columns": null,
            "grid_template_rows": null,
            "height": null,
            "justify_content": null,
            "justify_items": null,
            "left": null,
            "margin": null,
            "max_height": null,
            "max_width": null,
            "min_height": null,
            "min_width": null,
            "object_fit": null,
            "object_position": null,
            "order": null,
            "overflow": null,
            "overflow_x": null,
            "overflow_y": null,
            "padding": null,
            "right": null,
            "top": null,
            "visibility": null,
            "width": null
          }
        },
        "f3ebcbda091945ff9211278b71849d6d": {
          "model_module": "@jupyter-widgets/controls",
          "model_name": "DescriptionStyleModel",
          "model_module_version": "1.5.0",
          "state": {
            "_model_module": "@jupyter-widgets/controls",
            "_model_module_version": "1.5.0",
            "_model_name": "DescriptionStyleModel",
            "_view_count": null,
            "_view_module": "@jupyter-widgets/base",
            "_view_module_version": "1.2.0",
            "_view_name": "StyleView",
            "description_width": ""
          }
        },
        "d73f4d3d83d94712b0ff77436987567b": {
          "model_module": "@jupyter-widgets/controls",
          "model_name": "HBoxModel",
          "model_module_version": "1.5.0",
          "state": {
            "_dom_classes": [],
            "_model_module": "@jupyter-widgets/controls",
            "_model_module_version": "1.5.0",
            "_model_name": "HBoxModel",
            "_view_count": null,
            "_view_module": "@jupyter-widgets/controls",
            "_view_module_version": "1.5.0",
            "_view_name": "HBoxView",
            "box_style": "",
            "children": [
              "IPY_MODEL_96ba56feef724bcd98dbc250ac1f632d",
              "IPY_MODEL_02e34e42617e493e8931c2d178ebf22f",
              "IPY_MODEL_d9c3c9d8013548fb8e54bf8351c12945"
            ],
            "layout": "IPY_MODEL_2b34d6a052194e4c8bb6dff4e73b6311"
          }
        },
        "96ba56feef724bcd98dbc250ac1f632d": {
          "model_module": "@jupyter-widgets/controls",
          "model_name": "HTMLModel",
          "model_module_version": "1.5.0",
          "state": {
            "_dom_classes": [],
            "_model_module": "@jupyter-widgets/controls",
            "_model_module_version": "1.5.0",
            "_model_name": "HTMLModel",
            "_view_count": null,
            "_view_module": "@jupyter-widgets/controls",
            "_view_module_version": "1.5.0",
            "_view_name": "HTMLView",
            "description": "",
            "description_tooltip": null,
            "layout": "IPY_MODEL_4467581cdadc4fcf9eac12a84f322197",
            "placeholder": "​",
            "style": "IPY_MODEL_9325846d32cc4b2097888041783cff54",
            "value": "config.json: 100%"
          }
        },
        "02e34e42617e493e8931c2d178ebf22f": {
          "model_module": "@jupyter-widgets/controls",
          "model_name": "FloatProgressModel",
          "model_module_version": "1.5.0",
          "state": {
            "_dom_classes": [],
            "_model_module": "@jupyter-widgets/controls",
            "_model_module_version": "1.5.0",
            "_model_name": "FloatProgressModel",
            "_view_count": null,
            "_view_module": "@jupyter-widgets/controls",
            "_view_module_version": "1.5.0",
            "_view_name": "ProgressView",
            "bar_style": "success",
            "description": "",
            "description_tooltip": null,
            "layout": "IPY_MODEL_5e6ca1aafe274c6bac60fceb2e2365b2",
            "max": 190,
            "min": 0,
            "orientation": "horizontal",
            "style": "IPY_MODEL_f27d6acfc58a480d895e5dfbf848aa38",
            "value": 190
          }
        },
        "d9c3c9d8013548fb8e54bf8351c12945": {
          "model_module": "@jupyter-widgets/controls",
          "model_name": "HTMLModel",
          "model_module_version": "1.5.0",
          "state": {
            "_dom_classes": [],
            "_model_module": "@jupyter-widgets/controls",
            "_model_module_version": "1.5.0",
            "_model_name": "HTMLModel",
            "_view_count": null,
            "_view_module": "@jupyter-widgets/controls",
            "_view_module_version": "1.5.0",
            "_view_name": "HTMLView",
            "description": "",
            "description_tooltip": null,
            "layout": "IPY_MODEL_e699b795424847e6a3dc519e4cacfb79",
            "placeholder": "​",
            "style": "IPY_MODEL_e139f6ec86b9477ea5267a456047ac10",
            "value": " 190/190 [00:00&lt;00:00, 9.32kB/s]"
          }
        },
        "2b34d6a052194e4c8bb6dff4e73b6311": {
          "model_module": "@jupyter-widgets/base",
          "model_name": "LayoutModel",
          "model_module_version": "1.2.0",
          "state": {
            "_model_module": "@jupyter-widgets/base",
            "_model_module_version": "1.2.0",
            "_model_name": "LayoutModel",
            "_view_count": null,
            "_view_module": "@jupyter-widgets/base",
            "_view_module_version": "1.2.0",
            "_view_name": "LayoutView",
            "align_content": null,
            "align_items": null,
            "align_self": null,
            "border": null,
            "bottom": null,
            "display": null,
            "flex": null,
            "flex_flow": null,
            "grid_area": null,
            "grid_auto_columns": null,
            "grid_auto_flow": null,
            "grid_auto_rows": null,
            "grid_column": null,
            "grid_gap": null,
            "grid_row": null,
            "grid_template_areas": null,
            "grid_template_columns": null,
            "grid_template_rows": null,
            "height": null,
            "justify_content": null,
            "justify_items": null,
            "left": null,
            "margin": null,
            "max_height": null,
            "max_width": null,
            "min_height": null,
            "min_width": null,
            "object_fit": null,
            "object_position": null,
            "order": null,
            "overflow": null,
            "overflow_x": null,
            "overflow_y": null,
            "padding": null,
            "right": null,
            "top": null,
            "visibility": null,
            "width": null
          }
        },
        "4467581cdadc4fcf9eac12a84f322197": {
          "model_module": "@jupyter-widgets/base",
          "model_name": "LayoutModel",
          "model_module_version": "1.2.0",
          "state": {
            "_model_module": "@jupyter-widgets/base",
            "_model_module_version": "1.2.0",
            "_model_name": "LayoutModel",
            "_view_count": null,
            "_view_module": "@jupyter-widgets/base",
            "_view_module_version": "1.2.0",
            "_view_name": "LayoutView",
            "align_content": null,
            "align_items": null,
            "align_self": null,
            "border": null,
            "bottom": null,
            "display": null,
            "flex": null,
            "flex_flow": null,
            "grid_area": null,
            "grid_auto_columns": null,
            "grid_auto_flow": null,
            "grid_auto_rows": null,
            "grid_column": null,
            "grid_gap": null,
            "grid_row": null,
            "grid_template_areas": null,
            "grid_template_columns": null,
            "grid_template_rows": null,
            "height": null,
            "justify_content": null,
            "justify_items": null,
            "left": null,
            "margin": null,
            "max_height": null,
            "max_width": null,
            "min_height": null,
            "min_width": null,
            "object_fit": null,
            "object_position": null,
            "order": null,
            "overflow": null,
            "overflow_x": null,
            "overflow_y": null,
            "padding": null,
            "right": null,
            "top": null,
            "visibility": null,
            "width": null
          }
        },
        "9325846d32cc4b2097888041783cff54": {
          "model_module": "@jupyter-widgets/controls",
          "model_name": "DescriptionStyleModel",
          "model_module_version": "1.5.0",
          "state": {
            "_model_module": "@jupyter-widgets/controls",
            "_model_module_version": "1.5.0",
            "_model_name": "DescriptionStyleModel",
            "_view_count": null,
            "_view_module": "@jupyter-widgets/base",
            "_view_module_version": "1.2.0",
            "_view_name": "StyleView",
            "description_width": ""
          }
        },
        "5e6ca1aafe274c6bac60fceb2e2365b2": {
          "model_module": "@jupyter-widgets/base",
          "model_name": "LayoutModel",
          "model_module_version": "1.2.0",
          "state": {
            "_model_module": "@jupyter-widgets/base",
            "_model_module_version": "1.2.0",
            "_model_name": "LayoutModel",
            "_view_count": null,
            "_view_module": "@jupyter-widgets/base",
            "_view_module_version": "1.2.0",
            "_view_name": "LayoutView",
            "align_content": null,
            "align_items": null,
            "align_self": null,
            "border": null,
            "bottom": null,
            "display": null,
            "flex": null,
            "flex_flow": null,
            "grid_area": null,
            "grid_auto_columns": null,
            "grid_auto_flow": null,
            "grid_auto_rows": null,
            "grid_column": null,
            "grid_gap": null,
            "grid_row": null,
            "grid_template_areas": null,
            "grid_template_columns": null,
            "grid_template_rows": null,
            "height": null,
            "justify_content": null,
            "justify_items": null,
            "left": null,
            "margin": null,
            "max_height": null,
            "max_width": null,
            "min_height": null,
            "min_width": null,
            "object_fit": null,
            "object_position": null,
            "order": null,
            "overflow": null,
            "overflow_x": null,
            "overflow_y": null,
            "padding": null,
            "right": null,
            "top": null,
            "visibility": null,
            "width": null
          }
        },
        "f27d6acfc58a480d895e5dfbf848aa38": {
          "model_module": "@jupyter-widgets/controls",
          "model_name": "ProgressStyleModel",
          "model_module_version": "1.5.0",
          "state": {
            "_model_module": "@jupyter-widgets/controls",
            "_model_module_version": "1.5.0",
            "_model_name": "ProgressStyleModel",
            "_view_count": null,
            "_view_module": "@jupyter-widgets/base",
            "_view_module_version": "1.2.0",
            "_view_name": "StyleView",
            "bar_color": null,
            "description_width": ""
          }
        },
        "e699b795424847e6a3dc519e4cacfb79": {
          "model_module": "@jupyter-widgets/base",
          "model_name": "LayoutModel",
          "model_module_version": "1.2.0",
          "state": {
            "_model_module": "@jupyter-widgets/base",
            "_model_module_version": "1.2.0",
            "_model_name": "LayoutModel",
            "_view_count": null,
            "_view_module": "@jupyter-widgets/base",
            "_view_module_version": "1.2.0",
            "_view_name": "LayoutView",
            "align_content": null,
            "align_items": null,
            "align_self": null,
            "border": null,
            "bottom": null,
            "display": null,
            "flex": null,
            "flex_flow": null,
            "grid_area": null,
            "grid_auto_columns": null,
            "grid_auto_flow": null,
            "grid_auto_rows": null,
            "grid_column": null,
            "grid_gap": null,
            "grid_row": null,
            "grid_template_areas": null,
            "grid_template_columns": null,
            "grid_template_rows": null,
            "height": null,
            "justify_content": null,
            "justify_items": null,
            "left": null,
            "margin": null,
            "max_height": null,
            "max_width": null,
            "min_height": null,
            "min_width": null,
            "object_fit": null,
            "object_position": null,
            "order": null,
            "overflow": null,
            "overflow_x": null,
            "overflow_y": null,
            "padding": null,
            "right": null,
            "top": null,
            "visibility": null,
            "width": null
          }
        },
        "e139f6ec86b9477ea5267a456047ac10": {
          "model_module": "@jupyter-widgets/controls",
          "model_name": "DescriptionStyleModel",
          "model_module_version": "1.5.0",
          "state": {
            "_model_module": "@jupyter-widgets/controls",
            "_model_module_version": "1.5.0",
            "_model_name": "DescriptionStyleModel",
            "_view_count": null,
            "_view_module": "@jupyter-widgets/base",
            "_view_module_version": "1.2.0",
            "_view_name": "StyleView",
            "description_width": ""
          }
        }
      }
    }
  },
  "nbformat": 4,
  "nbformat_minor": 5
}

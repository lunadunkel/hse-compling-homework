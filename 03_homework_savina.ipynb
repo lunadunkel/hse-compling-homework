{
  "cells": [
    {
      "cell_type": "markdown",
      "id": "1c678e33-7efc-47da-bd84-890daf4b5beb",
      "metadata": {
        "id": "1c678e33-7efc-47da-bd84-890daf4b5beb"
      },
      "source": [
        "# Задание 1 (5 балла)\n",
        "\n",
        "Имплементируйте алгоритм Леска (описание есть в семинаре) и оцените качество его работы на датасете `data/corpus_wsd_50k.txt`\n",
        "\n",
        "В качестве метрики близости вы должны попробовать два подхода:\n",
        "\n",
        "1) Jaccard score на множествах слов (определений и контекста)\n",
        "2) Cosine distance на эмбедингах sentence_transformers\n",
        "\n",
        "В качестве метрики используйте accuracy (% правильных ответов). Предсказывайте только многозначные слова в датасете\n",
        "\n",
        "Контекст вы можете определить самостоятельно (окно вокруг целевого слова или все предложение). Также можете поэкспериментировать с предобработкой для обоих методов."
      ]
    },
    {
      "cell_type": "code",
      "source": [
        "from sklearn.metrics.pairwise import cosine_distances, cosine_similarity\n",
        "from sentence_transformers import SentenceTransformer"
      ],
      "metadata": {
        "id": "4HsewYFFJ3uu"
      },
      "id": "4HsewYFFJ3uu",
      "execution_count": null,
      "outputs": []
    },
    {
      "cell_type": "code",
      "source": [
        "model = SentenceTransformer('sentence-transformers/all-mpnet-base-v2')\n",
        "embed = model.encode"
      ],
      "metadata": {
        "colab": {
          "base_uri": "https://localhost:8080/",
          "height": 450,
          "referenced_widgets": [
            "da0d8fe1f7714844a7cbfe1fbe29dba2",
            "10ac4fd48f71451183ca8900e9372dcd",
            "2bcf57e0237b49539e404a52a17c05ec",
            "738cae09d4584a48a3054d89f8156186",
            "c6b25954063146c08ec44db90d6a6018",
            "7748c132b513497ebafc4aed8f098698",
            "035a6b5a56494d8aa6eb7fa885cbb9d8",
            "54962bdac0074246be5bef8b76be27fd",
            "c649a53a63a044b9b8d48f2989f0d349",
            "81d0c950441d4fac9728237172638ba9",
            "a15e70f8d85c43cd87da385ed2ba6c5f",
            "773d379736fa4bca906907c21155593c",
            "8925b42c94e544a1b987bbdc52fc55ea",
            "69f96865fa4e446eac49b76454d37aa2",
            "4d6b9d18467a4cfb89e19f70ea38aabe",
            "5f4d3f5bf78f40b1ae3849cb737d5a7b",
            "52ebf426878049009d3ea8cd9948a18a",
            "22ecd314f09d4309ac59b761193e03f1",
            "df7a28d0901140bda4ce8901da664c59",
            "702f85f5ca8f48af9605aea3a118a8d7",
            "859c089058114a25bf877cbdfefffdee",
            "b67daa4ca8294f4d99b4faa91cdd330e",
            "1889ac37caf742a1800a31c6ff20dfcd",
            "3f0782c4f1ce49c7943513503f06b6b8",
            "ea85679203d449d6ac2617dd3be503f4",
            "d05583a968bd417a9064a62a3e53128c",
            "a4d1290c22bf46798267a0f651c985c4",
            "3b116bea4f01486385cb53dcd2ad3cb2",
            "20593f3a1c184c118c3ddd62e05fda6a",
            "3e13de795fb94a0db835bb502a298108",
            "428b4f402a6d46faacf82b24803cc6c8",
            "816b076a975448b6989cecb18e0e8e23",
            "871aaf9b7c214750a8fae1b9ee78e73d",
            "e1988d1d4a69498a97c3bee3b2dc7369",
            "8d3bf14bcab342d3b20e875a7be73adb",
            "f18e784f7bcb4730b80ddca8184818d0",
            "b8f9f32e84ac48b49f60d5fb326fe7b0",
            "c12cbb911c5e473088e2936a3ccaa266",
            "dc1f544dd0e94d30ada67c6b6141f73e",
            "18561e43c1994742b0177257e33a9984",
            "c23aee74017c46fbbed3627636973fcb",
            "913bcb96a18445a0a7212ffa2b46e41a",
            "eb1ebcc70ca4494680fa1c46f5a2adb6",
            "e21039ddf6344dfc9d7cf0dfe5c3e0db",
            "37476f6923d2443ea62d244bdac11bb4",
            "500f40b4dd8b4b42bfb52cb9aadaec71",
            "7d43b0ab869c4833871a4b1819e409aa",
            "f4061fe6217b4544a961fb41c1147e04",
            "82a3914f87294556ad9f159d47e71490",
            "36e311a8143448bf95efa05333463f05",
            "c808e64203a84a3f82ba7fdae639231e",
            "141b647abe6b4944bd86b7913112c875",
            "f7db8eb1d112487c8494183cf82fc4fb",
            "f55c01902edb456ba255a9100e86d5ee",
            "ef19ceae799e40c1b7b766e79a9f775a",
            "b2b39a9422b248b4b00803d6a50200f9",
            "49780ce25e554a7c87c710ebcae47cc4",
            "32fbebe4a2b640108674b18c93fd7950",
            "46cb7b5926694823966aff292f7c92a6",
            "1b7f6cabe06b44999e28ccdf197bfb78",
            "b44fee025a5d4e14811e9bd7160e5a70",
            "48f01879bceb4b84a2491fbb2b3c2a48",
            "db710d8657f24b0faa438a52f6dfffed",
            "ab40b5e1bf1b46d29783390a6f3b6704",
            "1ab2b1e366f7412e82f93f76a3b9787c",
            "26fe9ea6312541a2bcc28ee4557a2658",
            "cf49e6f188544df680fb17942eea22e1",
            "ea9c116a5b3944dd97c98d5e42564a2d",
            "7fec1dc8eb9b4fbebe2aec8be2b168c6",
            "55a1cbd084a940e0902bbaca16713956",
            "2f31f55f932f4d58ba702f87371861ff",
            "d45fc997e0df421ba22f0fb3dad9df01",
            "60919a09bf7e414ca8970c6f53f8c800",
            "335a52860d75412a89bcecfe5ad5f0b3",
            "427707532a10417287ceda09abfae039",
            "3f7c6b238b61481ba8ffe3fc37520944",
            "20b58bd8bc2748709e2091ed5fea516b",
            "a4c2f378be8f403baa6547d1215071b1",
            "6cd85a325f9c4b95b57f99beef1f22ab",
            "44a5095f8805433590a52423561746c5",
            "2ea6eede0c1d4adf97db2370cbfb5456",
            "e39e5f86272e47829a478e2dfdf72873",
            "c2f11cfedbe7471d8f916ffd165cc764",
            "8ac5b977436e46479ede4c20bd2a3753",
            "aca6152ffe2941c3b11aff70cf74e778",
            "5a97c7adf2f64bbcbfc0f4eb2e8bc3bb",
            "667dcab12acb4f38bd7605a5c2217fa8",
            "420c2ae8ab2740db9eef991a6d1aab0b",
            "e10ed5c7ecae4ae79e0978be38026ae1",
            "25b8d32409ce4f3dbfbd395c910f8e46",
            "b54e083e3cff4b67a8b3acc072a68c06",
            "0cb7b945bb234a6db06164368f57be2c",
            "e368cdda8a794254917b7abb489afd25",
            "67c3538e82ff4383b39eff5707d777f4",
            "e997237eb76e46c2b73bd235cab97942",
            "5e56d97dc8854a76ae166f91f5442d44",
            "ea644946fc9b473aa22d70bbb0fb28c1",
            "a93e1755273144858ef22d251ffac5ac",
            "cc94a0a69c664d08a2813f9750c80300",
            "baff33829ff2442288a8d7ec95b1a265",
            "77a5384fa225400a823d3e08a2b925aa",
            "c7be201b004042c49e5cbd79787a3bc9",
            "5385ff3f2dee4fedbb13318510e01452",
            "f5553a4725d8483dbe84b1860dd54bfe",
            "8e06e4f002004f5b991072de75fbf212",
            "7e9d5d05bb5444edba35780765b15d93",
            "522d8f8da07a4b94b0de5f591ec56f20",
            "f144cd9a69d549f1bed6a3c8ebc9f685",
            "98c271b6a08049d399eeed21c71f0a28",
            "f3ebcbda091945ff9211278b71849d6d",
            "d73f4d3d83d94712b0ff77436987567b",
            "96ba56feef724bcd98dbc250ac1f632d",
            "02e34e42617e493e8931c2d178ebf22f",
            "d9c3c9d8013548fb8e54bf8351c12945",
            "2b34d6a052194e4c8bb6dff4e73b6311",
            "4467581cdadc4fcf9eac12a84f322197",
            "9325846d32cc4b2097888041783cff54",
            "5e6ca1aafe274c6bac60fceb2e2365b2",
            "f27d6acfc58a480d895e5dfbf848aa38",
            "e699b795424847e6a3dc519e4cacfb79",
            "e139f6ec86b9477ea5267a456047ac10"
          ]
        },
        "id": "aR3jDr08J5dZ",
        "outputId": "5ac29c98-a6e3-42e1-a926-bb88db62e9e4"
      },
      "id": "aR3jDr08J5dZ",
      "execution_count": null,
      "outputs": [
        {
          "output_type": "stream",
          "name": "stderr",
          "text": [
            "/usr/local/lib/python3.12/dist-packages/huggingface_hub/utils/_auth.py:86: UserWarning: \n",
            "Access to the secret `HF_TOKEN` has not been granted on this notebook.\n",
            "You will not be requested again.\n",
            "Please restart the session if you want to be prompted again.\n",
            "  warnings.warn(\n"
          ]
        },
        {
          "output_type": "display_data",
          "data": {
            "text/plain": [
              "modules.json:   0%|          | 0.00/349 [00:00<?, ?B/s]"
            ],
            "application/vnd.jupyter.widget-view+json": {
              "version_major": 2,
              "version_minor": 0,
              "model_id": "da0d8fe1f7714844a7cbfe1fbe29dba2"
            }
          },
          "metadata": {}
        },
        {
          "output_type": "display_data",
          "data": {
            "text/plain": [
              "config_sentence_transformers.json:   0%|          | 0.00/116 [00:00<?, ?B/s]"
            ],
            "application/vnd.jupyter.widget-view+json": {
              "version_major": 2,
              "version_minor": 0,
              "model_id": "773d379736fa4bca906907c21155593c"
            }
          },
          "metadata": {}
        },
        {
          "output_type": "display_data",
          "data": {
            "text/plain": [
              "README.md: 0.00B [00:00, ?B/s]"
            ],
            "application/vnd.jupyter.widget-view+json": {
              "version_major": 2,
              "version_minor": 0,
              "model_id": "1889ac37caf742a1800a31c6ff20dfcd"
            }
          },
          "metadata": {}
        },
        {
          "output_type": "display_data",
          "data": {
            "text/plain": [
              "sentence_bert_config.json:   0%|          | 0.00/53.0 [00:00<?, ?B/s]"
            ],
            "application/vnd.jupyter.widget-view+json": {
              "version_major": 2,
              "version_minor": 0,
              "model_id": "e1988d1d4a69498a97c3bee3b2dc7369"
            }
          },
          "metadata": {}
        },
        {
          "output_type": "display_data",
          "data": {
            "text/plain": [
              "config.json:   0%|          | 0.00/571 [00:00<?, ?B/s]"
            ],
            "application/vnd.jupyter.widget-view+json": {
              "version_major": 2,
              "version_minor": 0,
              "model_id": "37476f6923d2443ea62d244bdac11bb4"
            }
          },
          "metadata": {}
        },
        {
          "output_type": "display_data",
          "data": {
            "text/plain": [
              "model.safetensors:   0%|          | 0.00/438M [00:00<?, ?B/s]"
            ],
            "application/vnd.jupyter.widget-view+json": {
              "version_major": 2,
              "version_minor": 0,
              "model_id": "b2b39a9422b248b4b00803d6a50200f9"
            }
          },
          "metadata": {}
        },
        {
          "output_type": "display_data",
          "data": {
            "text/plain": [
              "tokenizer_config.json:   0%|          | 0.00/363 [00:00<?, ?B/s]"
            ],
            "application/vnd.jupyter.widget-view+json": {
              "version_major": 2,
              "version_minor": 0,
              "model_id": "cf49e6f188544df680fb17942eea22e1"
            }
          },
          "metadata": {}
        },
        {
          "output_type": "display_data",
          "data": {
            "text/plain": [
              "vocab.txt: 0.00B [00:00, ?B/s]"
            ],
            "application/vnd.jupyter.widget-view+json": {
              "version_major": 2,
              "version_minor": 0,
              "model_id": "a4c2f378be8f403baa6547d1215071b1"
            }
          },
          "metadata": {}
        },
        {
          "output_type": "display_data",
          "data": {
            "text/plain": [
              "tokenizer.json: 0.00B [00:00, ?B/s]"
            ],
            "application/vnd.jupyter.widget-view+json": {
              "version_major": 2,
              "version_minor": 0,
              "model_id": "e10ed5c7ecae4ae79e0978be38026ae1"
            }
          },
          "metadata": {}
        },
        {
          "output_type": "display_data",
          "data": {
            "text/plain": [
              "special_tokens_map.json:   0%|          | 0.00/239 [00:00<?, ?B/s]"
            ],
            "application/vnd.jupyter.widget-view+json": {
              "version_major": 2,
              "version_minor": 0,
              "model_id": "baff33829ff2442288a8d7ec95b1a265"
            }
          },
          "metadata": {}
        },
        {
          "output_type": "display_data",
          "data": {
            "text/plain": [
              "config.json:   0%|          | 0.00/190 [00:00<?, ?B/s]"
            ],
            "application/vnd.jupyter.widget-view+json": {
              "version_major": 2,
              "version_minor": 0,
              "model_id": "d73f4d3d83d94712b0ff77436987567b"
            }
          },
          "metadata": {}
        }
      ]
    },
    {
      "cell_type": "code",
      "source": [
        "model.device"
      ],
      "metadata": {
        "colab": {
          "base_uri": "https://localhost:8080/"
        },
        "id": "jPY-rA4BKf73",
        "outputId": "4f07a3d9-d6f9-493a-a945-68da93a32df3"
      },
      "id": "jPY-rA4BKf73",
      "execution_count": null,
      "outputs": [
        {
          "output_type": "execute_result",
          "data": {
            "text/plain": [
              "device(type='cuda', index=0)"
            ]
          },
          "metadata": {},
          "execution_count": 3
        }
      ]
    },
    {
      "cell_type": "code",
      "source": [
        "import nltk\n",
        "nltk.download('wordnet')"
      ],
      "metadata": {
        "colab": {
          "base_uri": "https://localhost:8080/"
        },
        "id": "mAt3VDvZnrHM",
        "outputId": "5fa23562-a933-41cf-bda9-63b3846f8434"
      },
      "id": "mAt3VDvZnrHM",
      "execution_count": null,
      "outputs": [
        {
          "output_type": "stream",
          "name": "stderr",
          "text": [
            "[nltk_data] Downloading package wordnet to /root/nltk_data...\n"
          ]
        },
        {
          "output_type": "execute_result",
          "data": {
            "text/plain": [
              "True"
            ]
          },
          "metadata": {},
          "execution_count": 4
        }
      ]
    },
    {
      "cell_type": "code",
      "source": [
        "from nltk.corpus import wordnet as wn"
      ],
      "metadata": {
        "id": "Ka70s4kouStN"
      },
      "id": "Ka70s4kouStN",
      "execution_count": null,
      "outputs": []
    },
    {
      "cell_type": "code",
      "source": [
        "corpus = open('corpus_wsd_50k.txt').read().split('\\n\\n')"
      ],
      "metadata": {
        "id": "C81Wt63Q4Dly"
      },
      "id": "C81Wt63Q4Dly",
      "execution_count": null,
      "outputs": []
    },
    {
      "cell_type": "code",
      "source": [
        "from collections import defaultdict"
      ],
      "metadata": {
        "id": "WXRD3V4UtCL-"
      },
      "id": "WXRD3V4UtCL-",
      "execution_count": null,
      "outputs": []
    },
    {
      "cell_type": "code",
      "source": [
        "def get_word_info(instance, cosine=False):\n",
        "  whole_context = []\n",
        "  all_polysemy_words = defaultdict(dict)\n",
        "  for num, line in enumerate(instance.split('\\n')):\n",
        "      sep_words = line.split()\n",
        "      if len(sep_words) > 2:\n",
        "          whole_context.append(sep_words[2])\n",
        "      else:\n",
        "          whole_context.append(sep_words[1])\n",
        "          continue\n",
        "      all_polysemy_words[sep_words[2]]['definition'] = sep_words[0]\n",
        "      all_polysemy_words[sep_words[2]]['lemma'] = sep_words[1]\n",
        "      all_polysemy_words[sep_words[2]]['word_pos'] = num\n",
        "  for x in all_polysemy_words:\n",
        "      all_polysemy_words[x]['context'] = whole_context\n",
        "  return all_polysemy_words"
      ],
      "metadata": {
        "id": "24Df-fVonAfS"
      },
      "id": "24Df-fVonAfS",
      "execution_count": null,
      "outputs": []
    },
    {
      "cell_type": "code",
      "source": [
        "def jaccard_algorithm(definition, context):\n",
        "    intersection = (set(definition.split()) & set(context.split()))\n",
        "    union = (set(definition.split()) | set(context.split()))\n",
        "    jaccard =  len(intersection) / len(union)\n",
        "    return jaccard"
      ],
      "metadata": {
        "id": "AKnFouyKxRex"
      },
      "id": "AKnFouyKxRex",
      "execution_count": null,
      "outputs": []
    },
    {
      "cell_type": "code",
      "source": [
        "def cosine_distance(definition, context):\n",
        "    return cosine_distances(definition.reshape(1, -1), context.reshape(1, -1))[0][0]"
      ],
      "metadata": {
        "id": "nQbkXiCSJN7e"
      },
      "id": "nQbkXiCSJN7e",
      "execution_count": null,
      "outputs": []
    },
    {
      "cell_type": "code",
      "source": [
        "import numpy as np"
      ],
      "metadata": {
        "id": "xX5hhmicB0PO"
      },
      "id": "xX5hhmicB0PO",
      "execution_count": null,
      "outputs": []
    },
    {
      "cell_type": "code",
      "source": [
        "# я знаю, что это не очень красиво так делать,\n",
        "# но я объявлю словарь с эмбеддингами определений, потому что не получила их все изначально\n",
        "# сильно переписывать функцию не хочется, а из словаря вытаскивать уже возможные посчитанный эмбеддинги побыстрее\n",
        "emb_dict = {}"
      ],
      "metadata": {
        "id": "SdaL3CkjMhTE"
      },
      "id": "SdaL3CkjMhTE",
      "execution_count": null,
      "outputs": []
    },
    {
      "cell_type": "code",
      "source": [
        "def lesk_algorithm(word: str, instance: dict, metric: str, window: int=None):\n",
        "    word_lemma_key = instance['definition']\n",
        "    lemma = instance['lemma']\n",
        "    word_definition = wn.lemma_from_key(word_lemma_key).synset().definition()\n",
        "    word_pos = instance['word_pos']\n",
        "\n",
        "    # определения всех значений слова\n",
        "    all_definitions = [x.definition() for x in wn.synsets(lemma)]\n",
        "\n",
        "    new_context = [x for x in instance['context']]\n",
        "    new_context[word_pos] = '_'\n",
        "\n",
        "    # выборк контекста\n",
        "    if window is None:\n",
        "        new_context = ' '.join(new_context)\n",
        "    else:\n",
        "        prev_cont = word_pos-window if window <= word_pos else 0\n",
        "        ant_cont = word_pos+window if word_pos+window < len(new_context) else len(new_context)\n",
        "        new_context = ' '.join(new_context[prev_cont:ant_cont])\n",
        "\n",
        "    # выбор метрики\n",
        "    answer = []\n",
        "    match metric:\n",
        "      case 'jaccard':\n",
        "          jaccard_metric = [jaccard_algorithm(x, new_context)  for x in all_definitions]\n",
        "          max_definition = np.argmax(jaccard_metric)\n",
        "          if all_definitions[max_definition] == word_definition:\n",
        "              return True\n",
        "          else:\n",
        "              return False\n",
        "      case 'cos_dist':\n",
        "          to_embed = [x for x in all_definitions if x not in emb_dict]\n",
        "\n",
        "          for x, y in zip(embed(to_embed), to_embed):\n",
        "              emb_dict[y] = x\n",
        "\n",
        "          context_emb = embed(new_context)\n",
        "          cosine_metric = [cosine_distance(emb_dict[x], context_emb)  for x in all_definitions]\n",
        "          def_min_dist = np.argmin(cosine_metric)\n",
        "          if all_definitions[def_min_dist] == word_definition:\n",
        "              return True\n",
        "          else:\n",
        "              return False\n",
        "      case _:\n",
        "        return"
      ],
      "metadata": {
        "id": "f3mQ0E5OmjI3"
      },
      "id": "f3mQ0E5OmjI3",
      "execution_count": null,
      "outputs": []
    },
    {
      "cell_type": "code",
      "source": [
        "from tqdm import tqdm"
      ],
      "metadata": {
        "id": "FqTn89hiE47C"
      },
      "id": "FqTn89hiE47C",
      "execution_count": null,
      "outputs": []
    },
    {
      "cell_type": "code",
      "source": [
        "all_words = 0\n",
        "correct_answers_default = 0\n",
        "correct_answers_window_10 = 0\n",
        "correct_answers_window_6 = 0\n",
        "correct_answers_window_4 = 0\n",
        "for line in tqdm(corpus):\n",
        "    polysemy_words = get_word_info(line)\n",
        "    for word in polysemy_words:\n",
        "      all_words += 1\n",
        "      correct_answers_default += 1 if lesk_algorithm(word, polysemy_words[word], 'jaccard') else 0\n",
        "      correct_answers_window_10 += 1 if lesk_algorithm(word, polysemy_words[word], 'jaccard', window=10) else 0\n",
        "      correct_answers_window_6 += 1 if lesk_algorithm(word, polysemy_words[word], 'jaccard', window=6) else 0\n",
        "      correct_answers_window_4 += 1 if lesk_algorithm(word, polysemy_words[word], 'jaccard', window=4) else 0"
      ],
      "metadata": {
        "colab": {
          "base_uri": "https://localhost:8080/"
        },
        "id": "lu6t3cthq5Tw",
        "outputId": "a0e5c75b-e2e8-4030-976f-70620b4f5684"
      },
      "id": "lu6t3cthq5Tw",
      "execution_count": null,
      "outputs": [
        {
          "output_type": "stream",
          "name": "stderr",
          "text": [
            "100%|██████████| 49452/49452 [03:00<00:00, 274.19it/s] \n"
          ]
        }
      ]
    },
    {
      "cell_type": "code",
      "source": [
        "print('Jaccard score')\n",
        "print('-'*25)\n",
        "print(f'Весь контекст: {(correct_answers_default / all_words):.2f}')\n",
        "print(f'Контекст – 10 слов: {(correct_answers_window_10 / all_words):.2f}')\n",
        "print(f'Контекст – 6 слов: {(correct_answers_window_6 / all_words):.2f}')\n",
        "print(f'Контекст – 4 слова {(correct_answers_window_4 / all_words):.2f}')"
      ],
      "metadata": {
        "colab": {
          "base_uri": "https://localhost:8080/"
        },
        "id": "oC4sVv_iEp1t",
        "outputId": "f25d560c-5318-4f5e-b6fb-d7b2c3de74e4"
      },
      "id": "oC4sVv_iEp1t",
      "execution_count": null,
      "outputs": [
        {
          "output_type": "stream",
          "name": "stdout",
          "text": [
            "Jaccard score\n",
            "-------------------------\n",
            "Весь контекст: 0.30\n",
            "Контекст – 10 слов: 0.31\n",
            "Контекст – 6 слов: 0.32\n",
            "Контекст – 4 слова 0.34\n"
          ]
        }
      ]
    },
    {
      "cell_type": "code",
      "source": [
        "def get_word_info_emb(instance, cosine=False):\n",
        "  whole_context = []\n",
        "  all_polysemy_words = defaultdict(dict)\n",
        "  for num, line in enumerate(instance.split('\\n')):\n",
        "      sep_words = line.split()\n",
        "      if len(sep_words) > 2:\n",
        "          whole_context.append(sep_words[2])\n",
        "      else:\n",
        "          whole_context.append(sep_words[1])\n",
        "          continue\n",
        "      all_polysemy_words[sep_words[2]]['definition'] = sep_words[0]\n",
        "      all_polysemy_words[sep_words[2]]['lemma'] = sep_words[1]\n",
        "      all_polysemy_words[sep_words[2]]['word_pos'] = num\n",
        "  for x in all_polysemy_words:\n",
        "      all_polysemy_words[x]['context'] = whole_context\n",
        "  return all_polysemy_words"
      ],
      "metadata": {
        "id": "Dxnb0yUmL_lB"
      },
      "id": "Dxnb0yUmL_lB",
      "execution_count": null,
      "outputs": []
    },
    {
      "cell_type": "code",
      "source": [
        "all_words = 0\n",
        "cosine_correct_answers_window_4 = 0\n",
        "for line in tqdm(corpus):\n",
        "    polysemy_words = get_word_info(line)\n",
        "    for word in polysemy_words:\n",
        "      all_words += 1\n",
        "      cosine_correct_answers_window_4 += 1 if lesk_algorithm(word, polysemy_words[word], 'cos_dist', window=4) else 0"
      ],
      "metadata": {
        "colab": {
          "base_uri": "https://localhost:8080/"
        },
        "id": "JMfwKJDoK6DN",
        "outputId": "bd194741-0517-4549-dcd1-cc37262ea4fb"
      },
      "id": "JMfwKJDoK6DN",
      "execution_count": null,
      "outputs": [
        {
          "output_type": "stream",
          "name": "stderr",
          "text": [
            "100%|██████████| 49452/49452 [1:09:50<00:00, 11.80it/s]\n"
          ]
        }
      ]
    },
    {
      "cell_type": "code",
      "source": [
        "print('Cosine distance (minimal) | Cosine similarity | With SentenceEmbs')\n",
        "print('-'*50)\n",
        "print(f'Контекст – 4 слова {(cosine_correct_answers_window_4 / all_words):.2f}')"
      ],
      "metadata": {
        "colab": {
          "base_uri": "https://localhost:8080/"
        },
        "id": "WBCycDSQGdex",
        "outputId": "81c367af-755d-47dc-bf39-873a230272d7"
      },
      "id": "WBCycDSQGdex",
      "execution_count": null,
      "outputs": [
        {
          "output_type": "stream",
          "name": "stdout",
          "text": [
            "Cosine distance (minimal) | Cosine similarity | With SentenceEmbs\n",
            "--------------------------------------------------\n",
            "Контекст – 4 слова 0.35\n"
          ]
        }
      ]
    },
    {
      "cell_type": "markdown",
      "id": "39efde9a-af0b-4c94-bfd0-249e7054562f",
      "metadata": {
        "id": "39efde9a-af0b-4c94-bfd0-249e7054562f"
      },
      "source": [
        "# Задание 2 (5 балла)\n",
        "Попробуйте разные алгоритмы кластеризации на датасете - `https://github.com/nlpub/russe-wsi-kit/blob/initial/data/main/wiki-wiki/train.csv`\n",
        "\n",
        "Используйте код из семинара как основу. Используйте ARI как метрику качества.\n",
        "\n",
        "Попробуйте все 4 алгоритма кластеризации, про которые говорилось на семинаре. Для каждого из алгоритмов попробуйте настраивать гиперпараметры (посмотрите их в документации). Прогоните как минимум 5 экспериментов (не обязательно успешных) с разными параметрами на каждый алгоритме кластеризации и оцените: качество кластеризации, скорость работы, интуитивность параметров.\n",
        "\n",
        "Помимо этого также выберите 1 дополнительный алгоритм кластеризации отсюда - https://scikit-learn.org/stable/modules/clustering.html , опишите своими словами принцип его работы  и проделайте аналогичные эксперименты."
      ]
    },
    {
      "cell_type": "code",
      "execution_count": 154,
      "id": "d59bef3e-1af7-4ce2-b43a-dfef282050f2",
      "metadata": {
        "id": "d59bef3e-1af7-4ce2-b43a-dfef282050f2",
        "colab": {
          "base_uri": "https://localhost:8080/"
        },
        "outputId": "1db6a2f4-1c59-4b04-e21c-1e1723c704c7"
      },
      "outputs": [
        {
          "output_type": "stream",
          "name": "stdout",
          "text": [
            "--2025-10-04 14:01:23--  https://raw.githubusercontent.com/nlpub/russe-wsi-kit/initial/data/main/wiki-wiki/train.csv\n",
            "Resolving raw.githubusercontent.com (raw.githubusercontent.com)... 185.199.111.133, 185.199.108.133, 185.199.110.133, ...\n",
            "Connecting to raw.githubusercontent.com (raw.githubusercontent.com)|185.199.111.133|:443... connected.\n",
            "HTTP request sent, awaiting response... 200 OK\n",
            "Length: 365614 (357K) [text/plain]\n",
            "Saving to: ‘train.csv.1’\n",
            "\n",
            "train.csv.1         100%[===================>] 357.04K  --.-KB/s    in 0.005s  \n",
            "\n",
            "2025-10-04 14:01:23 (70.2 MB/s) - ‘train.csv.1’ saved [365614/365614]\n",
            "\n"
          ]
        }
      ],
      "source": [
        "!wget https://raw.githubusercontent.com/nlpub/russe-wsi-kit/initial/data/main/wiki-wiki/train.csv"
      ]
    },
    {
      "cell_type": "code",
      "source": [
        "import pandas as pd"
      ],
      "metadata": {
        "id": "h48H5-WJ9OjI"
      },
      "id": "h48H5-WJ9OjI",
      "execution_count": 155,
      "outputs": []
    },
    {
      "cell_type": "code",
      "source": [
        "df = pd.read_csv('train.csv', sep='\\t')"
      ],
      "metadata": {
        "id": "zy4OVLFi9PQX"
      },
      "id": "zy4OVLFi9PQX",
      "execution_count": 156,
      "outputs": []
    },
    {
      "cell_type": "code",
      "source": [
        "df.head()"
      ],
      "metadata": {
        "colab": {
          "base_uri": "https://localhost:8080/",
          "height": 201
        },
        "id": "bbd4t4xh9j9U",
        "outputId": "fe214716-8725-4b74-a084-44f301775c87"
      },
      "id": "bbd4t4xh9j9U",
      "execution_count": 157,
      "outputs": [
        {
          "output_type": "execute_result",
          "data": {
            "text/plain": [
              "   context_id   word  gold_sense_id  predict_sense_id              positions  \\\n",
              "0           1  замок              1               NaN           0-5, 339-344   \n",
              "1           2  замок              1               NaN  11-16, 17-22, 188-193   \n",
              "2           3  замок              1               NaN                299-304   \n",
              "3           4  замок              1               NaN                111-116   \n",
              "4           5  замок              1               NaN       134-139, 262-267   \n",
              "\n",
              "                                             context  \n",
              "0  замок владимира мономаха в любече . многочисле...  \n",
              "1  шильонский замок замок шильйон ( ) , известный...  \n",
              "2  проведения архитектурно - археологических рабо...  \n",
              "3  топи с . , л . белокуров легенда о завещании м...  \n",
              "4  великий князь литовский гедимин после успешной...  "
            ],
            "text/html": [
              "\n",
              "  <div id=\"df-0553ddcc-7b06-4d98-95d4-11b19a5cda13\" class=\"colab-df-container\">\n",
              "    <div>\n",
              "<style scoped>\n",
              "    .dataframe tbody tr th:only-of-type {\n",
              "        vertical-align: middle;\n",
              "    }\n",
              "\n",
              "    .dataframe tbody tr th {\n",
              "        vertical-align: top;\n",
              "    }\n",
              "\n",
              "    .dataframe thead th {\n",
              "        text-align: right;\n",
              "    }\n",
              "</style>\n",
              "<table border=\"1\" class=\"dataframe\">\n",
              "  <thead>\n",
              "    <tr style=\"text-align: right;\">\n",
              "      <th></th>\n",
              "      <th>context_id</th>\n",
              "      <th>word</th>\n",
              "      <th>gold_sense_id</th>\n",
              "      <th>predict_sense_id</th>\n",
              "      <th>positions</th>\n",
              "      <th>context</th>\n",
              "    </tr>\n",
              "  </thead>\n",
              "  <tbody>\n",
              "    <tr>\n",
              "      <th>0</th>\n",
              "      <td>1</td>\n",
              "      <td>замок</td>\n",
              "      <td>1</td>\n",
              "      <td>NaN</td>\n",
              "      <td>0-5, 339-344</td>\n",
              "      <td>замок владимира мономаха в любече . многочисле...</td>\n",
              "    </tr>\n",
              "    <tr>\n",
              "      <th>1</th>\n",
              "      <td>2</td>\n",
              "      <td>замок</td>\n",
              "      <td>1</td>\n",
              "      <td>NaN</td>\n",
              "      <td>11-16, 17-22, 188-193</td>\n",
              "      <td>шильонский замок замок шильйон ( ) , известный...</td>\n",
              "    </tr>\n",
              "    <tr>\n",
              "      <th>2</th>\n",
              "      <td>3</td>\n",
              "      <td>замок</td>\n",
              "      <td>1</td>\n",
              "      <td>NaN</td>\n",
              "      <td>299-304</td>\n",
              "      <td>проведения архитектурно - археологических рабо...</td>\n",
              "    </tr>\n",
              "    <tr>\n",
              "      <th>3</th>\n",
              "      <td>4</td>\n",
              "      <td>замок</td>\n",
              "      <td>1</td>\n",
              "      <td>NaN</td>\n",
              "      <td>111-116</td>\n",
              "      <td>топи с . , л . белокуров легенда о завещании м...</td>\n",
              "    </tr>\n",
              "    <tr>\n",
              "      <th>4</th>\n",
              "      <td>5</td>\n",
              "      <td>замок</td>\n",
              "      <td>1</td>\n",
              "      <td>NaN</td>\n",
              "      <td>134-139, 262-267</td>\n",
              "      <td>великий князь литовский гедимин после успешной...</td>\n",
              "    </tr>\n",
              "  </tbody>\n",
              "</table>\n",
              "</div>\n",
              "    <div class=\"colab-df-buttons\">\n",
              "\n",
              "  <div class=\"colab-df-container\">\n",
              "    <button class=\"colab-df-convert\" onclick=\"convertToInteractive('df-0553ddcc-7b06-4d98-95d4-11b19a5cda13')\"\n",
              "            title=\"Convert this dataframe to an interactive table.\"\n",
              "            style=\"display:none;\">\n",
              "\n",
              "  <svg xmlns=\"http://www.w3.org/2000/svg\" height=\"24px\" viewBox=\"0 -960 960 960\">\n",
              "    <path d=\"M120-120v-720h720v720H120Zm60-500h600v-160H180v160Zm220 220h160v-160H400v160Zm0 220h160v-160H400v160ZM180-400h160v-160H180v160Zm440 0h160v-160H620v160ZM180-180h160v-160H180v160Zm440 0h160v-160H620v160Z\"/>\n",
              "  </svg>\n",
              "    </button>\n",
              "\n",
              "  <style>\n",
              "    .colab-df-container {\n",
              "      display:flex;\n",
              "      gap: 12px;\n",
              "    }\n",
              "\n",
              "    .colab-df-convert {\n",
              "      background-color: #E8F0FE;\n",
              "      border: none;\n",
              "      border-radius: 50%;\n",
              "      cursor: pointer;\n",
              "      display: none;\n",
              "      fill: #1967D2;\n",
              "      height: 32px;\n",
              "      padding: 0 0 0 0;\n",
              "      width: 32px;\n",
              "    }\n",
              "\n",
              "    .colab-df-convert:hover {\n",
              "      background-color: #E2EBFA;\n",
              "      box-shadow: 0px 1px 2px rgba(60, 64, 67, 0.3), 0px 1px 3px 1px rgba(60, 64, 67, 0.15);\n",
              "      fill: #174EA6;\n",
              "    }\n",
              "\n",
              "    .colab-df-buttons div {\n",
              "      margin-bottom: 4px;\n",
              "    }\n",
              "\n",
              "    [theme=dark] .colab-df-convert {\n",
              "      background-color: #3B4455;\n",
              "      fill: #D2E3FC;\n",
              "    }\n",
              "\n",
              "    [theme=dark] .colab-df-convert:hover {\n",
              "      background-color: #434B5C;\n",
              "      box-shadow: 0px 1px 3px 1px rgba(0, 0, 0, 0.15);\n",
              "      filter: drop-shadow(0px 1px 2px rgba(0, 0, 0, 0.3));\n",
              "      fill: #FFFFFF;\n",
              "    }\n",
              "  </style>\n",
              "\n",
              "    <script>\n",
              "      const buttonEl =\n",
              "        document.querySelector('#df-0553ddcc-7b06-4d98-95d4-11b19a5cda13 button.colab-df-convert');\n",
              "      buttonEl.style.display =\n",
              "        google.colab.kernel.accessAllowed ? 'block' : 'none';\n",
              "\n",
              "      async function convertToInteractive(key) {\n",
              "        const element = document.querySelector('#df-0553ddcc-7b06-4d98-95d4-11b19a5cda13');\n",
              "        const dataTable =\n",
              "          await google.colab.kernel.invokeFunction('convertToInteractive',\n",
              "                                                    [key], {});\n",
              "        if (!dataTable) return;\n",
              "\n",
              "        const docLinkHtml = 'Like what you see? Visit the ' +\n",
              "          '<a target=\"_blank\" href=https://colab.research.google.com/notebooks/data_table.ipynb>data table notebook</a>'\n",
              "          + ' to learn more about interactive tables.';\n",
              "        element.innerHTML = '';\n",
              "        dataTable['output_type'] = 'display_data';\n",
              "        await google.colab.output.renderOutput(dataTable, element);\n",
              "        const docLink = document.createElement('div');\n",
              "        docLink.innerHTML = docLinkHtml;\n",
              "        element.appendChild(docLink);\n",
              "      }\n",
              "    </script>\n",
              "  </div>\n",
              "\n",
              "\n",
              "    <div id=\"df-f58f7ba0-fac2-4352-a126-15204ce41b9f\">\n",
              "      <button class=\"colab-df-quickchart\" onclick=\"quickchart('df-f58f7ba0-fac2-4352-a126-15204ce41b9f')\"\n",
              "                title=\"Suggest charts\"\n",
              "                style=\"display:none;\">\n",
              "\n",
              "<svg xmlns=\"http://www.w3.org/2000/svg\" height=\"24px\"viewBox=\"0 0 24 24\"\n",
              "     width=\"24px\">\n",
              "    <g>\n",
              "        <path d=\"M19 3H5c-1.1 0-2 .9-2 2v14c0 1.1.9 2 2 2h14c1.1 0 2-.9 2-2V5c0-1.1-.9-2-2-2zM9 17H7v-7h2v7zm4 0h-2V7h2v10zm4 0h-2v-4h2v4z\"/>\n",
              "    </g>\n",
              "</svg>\n",
              "      </button>\n",
              "\n",
              "<style>\n",
              "  .colab-df-quickchart {\n",
              "      --bg-color: #E8F0FE;\n",
              "      --fill-color: #1967D2;\n",
              "      --hover-bg-color: #E2EBFA;\n",
              "      --hover-fill-color: #174EA6;\n",
              "      --disabled-fill-color: #AAA;\n",
              "      --disabled-bg-color: #DDD;\n",
              "  }\n",
              "\n",
              "  [theme=dark] .colab-df-quickchart {\n",
              "      --bg-color: #3B4455;\n",
              "      --fill-color: #D2E3FC;\n",
              "      --hover-bg-color: #434B5C;\n",
              "      --hover-fill-color: #FFFFFF;\n",
              "      --disabled-bg-color: #3B4455;\n",
              "      --disabled-fill-color: #666;\n",
              "  }\n",
              "\n",
              "  .colab-df-quickchart {\n",
              "    background-color: var(--bg-color);\n",
              "    border: none;\n",
              "    border-radius: 50%;\n",
              "    cursor: pointer;\n",
              "    display: none;\n",
              "    fill: var(--fill-color);\n",
              "    height: 32px;\n",
              "    padding: 0;\n",
              "    width: 32px;\n",
              "  }\n",
              "\n",
              "  .colab-df-quickchart:hover {\n",
              "    background-color: var(--hover-bg-color);\n",
              "    box-shadow: 0 1px 2px rgba(60, 64, 67, 0.3), 0 1px 3px 1px rgba(60, 64, 67, 0.15);\n",
              "    fill: var(--button-hover-fill-color);\n",
              "  }\n",
              "\n",
              "  .colab-df-quickchart-complete:disabled,\n",
              "  .colab-df-quickchart-complete:disabled:hover {\n",
              "    background-color: var(--disabled-bg-color);\n",
              "    fill: var(--disabled-fill-color);\n",
              "    box-shadow: none;\n",
              "  }\n",
              "\n",
              "  .colab-df-spinner {\n",
              "    border: 2px solid var(--fill-color);\n",
              "    border-color: transparent;\n",
              "    border-bottom-color: var(--fill-color);\n",
              "    animation:\n",
              "      spin 1s steps(1) infinite;\n",
              "  }\n",
              "\n",
              "  @keyframes spin {\n",
              "    0% {\n",
              "      border-color: transparent;\n",
              "      border-bottom-color: var(--fill-color);\n",
              "      border-left-color: var(--fill-color);\n",
              "    }\n",
              "    20% {\n",
              "      border-color: transparent;\n",
              "      border-left-color: var(--fill-color);\n",
              "      border-top-color: var(--fill-color);\n",
              "    }\n",
              "    30% {\n",
              "      border-color: transparent;\n",
              "      border-left-color: var(--fill-color);\n",
              "      border-top-color: var(--fill-color);\n",
              "      border-right-color: var(--fill-color);\n",
              "    }\n",
              "    40% {\n",
              "      border-color: transparent;\n",
              "      border-right-color: var(--fill-color);\n",
              "      border-top-color: var(--fill-color);\n",
              "    }\n",
              "    60% {\n",
              "      border-color: transparent;\n",
              "      border-right-color: var(--fill-color);\n",
              "    }\n",
              "    80% {\n",
              "      border-color: transparent;\n",
              "      border-right-color: var(--fill-color);\n",
              "      border-bottom-color: var(--fill-color);\n",
              "    }\n",
              "    90% {\n",
              "      border-color: transparent;\n",
              "      border-bottom-color: var(--fill-color);\n",
              "    }\n",
              "  }\n",
              "</style>\n",
              "\n",
              "      <script>\n",
              "        async function quickchart(key) {\n",
              "          const quickchartButtonEl =\n",
              "            document.querySelector('#' + key + ' button');\n",
              "          quickchartButtonEl.disabled = true;  // To prevent multiple clicks.\n",
              "          quickchartButtonEl.classList.add('colab-df-spinner');\n",
              "          try {\n",
              "            const charts = await google.colab.kernel.invokeFunction(\n",
              "                'suggestCharts', [key], {});\n",
              "          } catch (error) {\n",
              "            console.error('Error during call to suggestCharts:', error);\n",
              "          }\n",
              "          quickchartButtonEl.classList.remove('colab-df-spinner');\n",
              "          quickchartButtonEl.classList.add('colab-df-quickchart-complete');\n",
              "        }\n",
              "        (() => {\n",
              "          let quickchartButtonEl =\n",
              "            document.querySelector('#df-f58f7ba0-fac2-4352-a126-15204ce41b9f button');\n",
              "          quickchartButtonEl.style.display =\n",
              "            google.colab.kernel.accessAllowed ? 'block' : 'none';\n",
              "        })();\n",
              "      </script>\n",
              "    </div>\n",
              "    </div>\n",
              "  </div>\n"
            ],
            "application/vnd.google.colaboratory.intrinsic+json": {
              "type": "dataframe",
              "variable_name": "df",
              "summary": "{\n  \"name\": \"df\",\n  \"rows\": 439,\n  \"fields\": [\n    {\n      \"column\": \"context_id\",\n      \"properties\": {\n        \"dtype\": \"number\",\n        \"std\": 126,\n        \"min\": 1,\n        \"max\": 439,\n        \"num_unique_values\": 439,\n        \"samples\": [\n          266,\n          79,\n          348\n        ],\n        \"semantic_type\": \"\",\n        \"description\": \"\"\n      }\n    },\n    {\n      \"column\": \"word\",\n      \"properties\": {\n        \"dtype\": \"category\",\n        \"num_unique_values\": 4,\n        \"samples\": [\n          \"\\u043b\\u0443\\u043a\",\n          \"\\u0431\\u043e\\u0440\",\n          \"\\u0437\\u0430\\u043c\\u043e\\u043a\"\n        ],\n        \"semantic_type\": \"\",\n        \"description\": \"\"\n      }\n    },\n    {\n      \"column\": \"gold_sense_id\",\n      \"properties\": {\n        \"dtype\": \"number\",\n        \"std\": 0,\n        \"min\": 1,\n        \"max\": 2,\n        \"num_unique_values\": 2,\n        \"samples\": [\n          2,\n          1\n        ],\n        \"semantic_type\": \"\",\n        \"description\": \"\"\n      }\n    },\n    {\n      \"column\": \"predict_sense_id\",\n      \"properties\": {\n        \"dtype\": \"number\",\n        \"std\": null,\n        \"min\": null,\n        \"max\": null,\n        \"num_unique_values\": 0,\n        \"samples\": [],\n        \"semantic_type\": \"\",\n        \"description\": \"\"\n      }\n    },\n    {\n      \"column\": \"positions\",\n      \"properties\": {\n        \"dtype\": \"string\",\n        \"num_unique_values\": 381,\n        \"samples\": [],\n        \"semantic_type\": \"\",\n        \"description\": \"\"\n      }\n    },\n    {\n      \"column\": \"context\",\n      \"properties\": {\n        \"dtype\": \"string\",\n        \"num_unique_values\": 439,\n        \"samples\": [],\n        \"semantic_type\": \"\",\n        \"description\": \"\"\n      }\n    }\n  ]\n}"
            }
          },
          "metadata": {},
          "execution_count": 157
        }
      ]
    },
    {
      "cell_type": "code",
      "source": [
        "grouped_df = df.groupby('word')[['word', 'context', 'gold_sense_id']]"
      ],
      "metadata": {
        "id": "2iTLN35W919b"
      },
      "id": "2iTLN35W919b",
      "execution_count": 158,
      "outputs": []
    },
    {
      "cell_type": "code",
      "source": [
        "from sklearn.cluster import KMeans, DBSCAN, AffinityPropagation\n",
        "import numpy as np\n",
        "from sklearn.metrics import adjusted_rand_score"
      ],
      "metadata": {
        "id": "WU_5dUTj-Anr"
      },
      "id": "WU_5dUTj-Anr",
      "execution_count": 159,
      "outputs": []
    },
    {
      "cell_type": "code",
      "source": [
        "grouped_df.head()"
      ],
      "metadata": {
        "colab": {
          "base_uri": "https://localhost:8080/",
          "height": 657
        },
        "id": "pITdEcS_-UeN",
        "outputId": "b5f3a929-3132-47f1-92f7-158fe436c481"
      },
      "id": "pITdEcS_-UeN",
      "execution_count": 160,
      "outputs": [
        {
          "output_type": "execute_result",
          "data": {
            "text/plain": [
              "      word                                            context  gold_sense_id\n",
              "0    замок  замок владимира мономаха в любече . многочисле...              1\n",
              "1    замок  шильонский замок замок шильйон ( ) , известный...              1\n",
              "2    замок  проведения архитектурно - археологических рабо...              1\n",
              "3    замок  топи с . , л . белокуров легенда о завещании м...              1\n",
              "4    замок  великий князь литовский гедимин после успешной...              1\n",
              "138    лук  они были основными слушателями баллад , а криз...              1\n",
              "139    лук  якутский лук якутский лук принадлежит к северн...              1\n",
              "140    лук  из всех трех типов луков — классики , олимпика...              1\n",
              "141    лук  английский длинный лук английский длинный лук ...              1\n",
              "142    лук  металлических утяжелителей дуг . составной лук...              1\n",
              "248   суда  перехода поместья к новому владельцу в ) год п...              1\n",
              "249   суда  опасный квартал города . и… оказалась не в том...              1\n",
              "250   суда  пленум верховного суда российской федерации пл...              1\n",
              "251   суда  повторяют византийские формы , на xvi—xvii век...              1\n",
              "252   суда  военная коллегия верховного суда ссср военная ...              1\n",
              "383    бор  бор ( элемент ) бор — элемент тринадцатой груп...              1\n",
              "384    бор  бор - углерод - кремний семейство сплавов на о...              1\n",
              "385    бор  с большим выделением теплоты , образуется окси...              1\n",
              "386    бор  это объясняется прежде всего тем , что у компл...              1\n",
              "387    бор  совсем малочисленна . элементарный бор в приро...              1"
            ],
            "text/html": [
              "\n",
              "  <div id=\"df-246a9dde-bc0e-4a0c-a4c8-ad2bb06942fa\" class=\"colab-df-container\">\n",
              "    <div>\n",
              "<style scoped>\n",
              "    .dataframe tbody tr th:only-of-type {\n",
              "        vertical-align: middle;\n",
              "    }\n",
              "\n",
              "    .dataframe tbody tr th {\n",
              "        vertical-align: top;\n",
              "    }\n",
              "\n",
              "    .dataframe thead th {\n",
              "        text-align: right;\n",
              "    }\n",
              "</style>\n",
              "<table border=\"1\" class=\"dataframe\">\n",
              "  <thead>\n",
              "    <tr style=\"text-align: right;\">\n",
              "      <th></th>\n",
              "      <th>word</th>\n",
              "      <th>context</th>\n",
              "      <th>gold_sense_id</th>\n",
              "    </tr>\n",
              "  </thead>\n",
              "  <tbody>\n",
              "    <tr>\n",
              "      <th>0</th>\n",
              "      <td>замок</td>\n",
              "      <td>замок владимира мономаха в любече . многочисле...</td>\n",
              "      <td>1</td>\n",
              "    </tr>\n",
              "    <tr>\n",
              "      <th>1</th>\n",
              "      <td>замок</td>\n",
              "      <td>шильонский замок замок шильйон ( ) , известный...</td>\n",
              "      <td>1</td>\n",
              "    </tr>\n",
              "    <tr>\n",
              "      <th>2</th>\n",
              "      <td>замок</td>\n",
              "      <td>проведения архитектурно - археологических рабо...</td>\n",
              "      <td>1</td>\n",
              "    </tr>\n",
              "    <tr>\n",
              "      <th>3</th>\n",
              "      <td>замок</td>\n",
              "      <td>топи с . , л . белокуров легенда о завещании м...</td>\n",
              "      <td>1</td>\n",
              "    </tr>\n",
              "    <tr>\n",
              "      <th>4</th>\n",
              "      <td>замок</td>\n",
              "      <td>великий князь литовский гедимин после успешной...</td>\n",
              "      <td>1</td>\n",
              "    </tr>\n",
              "    <tr>\n",
              "      <th>138</th>\n",
              "      <td>лук</td>\n",
              "      <td>они были основными слушателями баллад , а криз...</td>\n",
              "      <td>1</td>\n",
              "    </tr>\n",
              "    <tr>\n",
              "      <th>139</th>\n",
              "      <td>лук</td>\n",
              "      <td>якутский лук якутский лук принадлежит к северн...</td>\n",
              "      <td>1</td>\n",
              "    </tr>\n",
              "    <tr>\n",
              "      <th>140</th>\n",
              "      <td>лук</td>\n",
              "      <td>из всех трех типов луков — классики , олимпика...</td>\n",
              "      <td>1</td>\n",
              "    </tr>\n",
              "    <tr>\n",
              "      <th>141</th>\n",
              "      <td>лук</td>\n",
              "      <td>английский длинный лук английский длинный лук ...</td>\n",
              "      <td>1</td>\n",
              "    </tr>\n",
              "    <tr>\n",
              "      <th>142</th>\n",
              "      <td>лук</td>\n",
              "      <td>металлических утяжелителей дуг . составной лук...</td>\n",
              "      <td>1</td>\n",
              "    </tr>\n",
              "    <tr>\n",
              "      <th>248</th>\n",
              "      <td>суда</td>\n",
              "      <td>перехода поместья к новому владельцу в ) год п...</td>\n",
              "      <td>1</td>\n",
              "    </tr>\n",
              "    <tr>\n",
              "      <th>249</th>\n",
              "      <td>суда</td>\n",
              "      <td>опасный квартал города . и… оказалась не в том...</td>\n",
              "      <td>1</td>\n",
              "    </tr>\n",
              "    <tr>\n",
              "      <th>250</th>\n",
              "      <td>суда</td>\n",
              "      <td>пленум верховного суда российской федерации пл...</td>\n",
              "      <td>1</td>\n",
              "    </tr>\n",
              "    <tr>\n",
              "      <th>251</th>\n",
              "      <td>суда</td>\n",
              "      <td>повторяют византийские формы , на xvi—xvii век...</td>\n",
              "      <td>1</td>\n",
              "    </tr>\n",
              "    <tr>\n",
              "      <th>252</th>\n",
              "      <td>суда</td>\n",
              "      <td>военная коллегия верховного суда ссср военная ...</td>\n",
              "      <td>1</td>\n",
              "    </tr>\n",
              "    <tr>\n",
              "      <th>383</th>\n",
              "      <td>бор</td>\n",
              "      <td>бор ( элемент ) бор — элемент тринадцатой груп...</td>\n",
              "      <td>1</td>\n",
              "    </tr>\n",
              "    <tr>\n",
              "      <th>384</th>\n",
              "      <td>бор</td>\n",
              "      <td>бор - углерод - кремний семейство сплавов на о...</td>\n",
              "      <td>1</td>\n",
              "    </tr>\n",
              "    <tr>\n",
              "      <th>385</th>\n",
              "      <td>бор</td>\n",
              "      <td>с большим выделением теплоты , образуется окси...</td>\n",
              "      <td>1</td>\n",
              "    </tr>\n",
              "    <tr>\n",
              "      <th>386</th>\n",
              "      <td>бор</td>\n",
              "      <td>это объясняется прежде всего тем , что у компл...</td>\n",
              "      <td>1</td>\n",
              "    </tr>\n",
              "    <tr>\n",
              "      <th>387</th>\n",
              "      <td>бор</td>\n",
              "      <td>совсем малочисленна . элементарный бор в приро...</td>\n",
              "      <td>1</td>\n",
              "    </tr>\n",
              "  </tbody>\n",
              "</table>\n",
              "</div>\n",
              "    <div class=\"colab-df-buttons\">\n",
              "\n",
              "  <div class=\"colab-df-container\">\n",
              "    <button class=\"colab-df-convert\" onclick=\"convertToInteractive('df-246a9dde-bc0e-4a0c-a4c8-ad2bb06942fa')\"\n",
              "            title=\"Convert this dataframe to an interactive table.\"\n",
              "            style=\"display:none;\">\n",
              "\n",
              "  <svg xmlns=\"http://www.w3.org/2000/svg\" height=\"24px\" viewBox=\"0 -960 960 960\">\n",
              "    <path d=\"M120-120v-720h720v720H120Zm60-500h600v-160H180v160Zm220 220h160v-160H400v160Zm0 220h160v-160H400v160ZM180-400h160v-160H180v160Zm440 0h160v-160H620v160ZM180-180h160v-160H180v160Zm440 0h160v-160H620v160Z\"/>\n",
              "  </svg>\n",
              "    </button>\n",
              "\n",
              "  <style>\n",
              "    .colab-df-container {\n",
              "      display:flex;\n",
              "      gap: 12px;\n",
              "    }\n",
              "\n",
              "    .colab-df-convert {\n",
              "      background-color: #E8F0FE;\n",
              "      border: none;\n",
              "      border-radius: 50%;\n",
              "      cursor: pointer;\n",
              "      display: none;\n",
              "      fill: #1967D2;\n",
              "      height: 32px;\n",
              "      padding: 0 0 0 0;\n",
              "      width: 32px;\n",
              "    }\n",
              "\n",
              "    .colab-df-convert:hover {\n",
              "      background-color: #E2EBFA;\n",
              "      box-shadow: 0px 1px 2px rgba(60, 64, 67, 0.3), 0px 1px 3px 1px rgba(60, 64, 67, 0.15);\n",
              "      fill: #174EA6;\n",
              "    }\n",
              "\n",
              "    .colab-df-buttons div {\n",
              "      margin-bottom: 4px;\n",
              "    }\n",
              "\n",
              "    [theme=dark] .colab-df-convert {\n",
              "      background-color: #3B4455;\n",
              "      fill: #D2E3FC;\n",
              "    }\n",
              "\n",
              "    [theme=dark] .colab-df-convert:hover {\n",
              "      background-color: #434B5C;\n",
              "      box-shadow: 0px 1px 3px 1px rgba(0, 0, 0, 0.15);\n",
              "      filter: drop-shadow(0px 1px 2px rgba(0, 0, 0, 0.3));\n",
              "      fill: #FFFFFF;\n",
              "    }\n",
              "  </style>\n",
              "\n",
              "    <script>\n",
              "      const buttonEl =\n",
              "        document.querySelector('#df-246a9dde-bc0e-4a0c-a4c8-ad2bb06942fa button.colab-df-convert');\n",
              "      buttonEl.style.display =\n",
              "        google.colab.kernel.accessAllowed ? 'block' : 'none';\n",
              "\n",
              "      async function convertToInteractive(key) {\n",
              "        const element = document.querySelector('#df-246a9dde-bc0e-4a0c-a4c8-ad2bb06942fa');\n",
              "        const dataTable =\n",
              "          await google.colab.kernel.invokeFunction('convertToInteractive',\n",
              "                                                    [key], {});\n",
              "        if (!dataTable) return;\n",
              "\n",
              "        const docLinkHtml = 'Like what you see? Visit the ' +\n",
              "          '<a target=\"_blank\" href=https://colab.research.google.com/notebooks/data_table.ipynb>data table notebook</a>'\n",
              "          + ' to learn more about interactive tables.';\n",
              "        element.innerHTML = '';\n",
              "        dataTable['output_type'] = 'display_data';\n",
              "        await google.colab.output.renderOutput(dataTable, element);\n",
              "        const docLink = document.createElement('div');\n",
              "        docLink.innerHTML = docLinkHtml;\n",
              "        element.appendChild(docLink);\n",
              "      }\n",
              "    </script>\n",
              "  </div>\n",
              "\n",
              "\n",
              "    <div id=\"df-a46173d3-0ca6-48e4-8faf-82b8ee5f2dc3\">\n",
              "      <button class=\"colab-df-quickchart\" onclick=\"quickchart('df-a46173d3-0ca6-48e4-8faf-82b8ee5f2dc3')\"\n",
              "                title=\"Suggest charts\"\n",
              "                style=\"display:none;\">\n",
              "\n",
              "<svg xmlns=\"http://www.w3.org/2000/svg\" height=\"24px\"viewBox=\"0 0 24 24\"\n",
              "     width=\"24px\">\n",
              "    <g>\n",
              "        <path d=\"M19 3H5c-1.1 0-2 .9-2 2v14c0 1.1.9 2 2 2h14c1.1 0 2-.9 2-2V5c0-1.1-.9-2-2-2zM9 17H7v-7h2v7zm4 0h-2V7h2v10zm4 0h-2v-4h2v4z\"/>\n",
              "    </g>\n",
              "</svg>\n",
              "      </button>\n",
              "\n",
              "<style>\n",
              "  .colab-df-quickchart {\n",
              "      --bg-color: #E8F0FE;\n",
              "      --fill-color: #1967D2;\n",
              "      --hover-bg-color: #E2EBFA;\n",
              "      --hover-fill-color: #174EA6;\n",
              "      --disabled-fill-color: #AAA;\n",
              "      --disabled-bg-color: #DDD;\n",
              "  }\n",
              "\n",
              "  [theme=dark] .colab-df-quickchart {\n",
              "      --bg-color: #3B4455;\n",
              "      --fill-color: #D2E3FC;\n",
              "      --hover-bg-color: #434B5C;\n",
              "      --hover-fill-color: #FFFFFF;\n",
              "      --disabled-bg-color: #3B4455;\n",
              "      --disabled-fill-color: #666;\n",
              "  }\n",
              "\n",
              "  .colab-df-quickchart {\n",
              "    background-color: var(--bg-color);\n",
              "    border: none;\n",
              "    border-radius: 50%;\n",
              "    cursor: pointer;\n",
              "    display: none;\n",
              "    fill: var(--fill-color);\n",
              "    height: 32px;\n",
              "    padding: 0;\n",
              "    width: 32px;\n",
              "  }\n",
              "\n",
              "  .colab-df-quickchart:hover {\n",
              "    background-color: var(--hover-bg-color);\n",
              "    box-shadow: 0 1px 2px rgba(60, 64, 67, 0.3), 0 1px 3px 1px rgba(60, 64, 67, 0.15);\n",
              "    fill: var(--button-hover-fill-color);\n",
              "  }\n",
              "\n",
              "  .colab-df-quickchart-complete:disabled,\n",
              "  .colab-df-quickchart-complete:disabled:hover {\n",
              "    background-color: var(--disabled-bg-color);\n",
              "    fill: var(--disabled-fill-color);\n",
              "    box-shadow: none;\n",
              "  }\n",
              "\n",
              "  .colab-df-spinner {\n",
              "    border: 2px solid var(--fill-color);\n",
              "    border-color: transparent;\n",
              "    border-bottom-color: var(--fill-color);\n",
              "    animation:\n",
              "      spin 1s steps(1) infinite;\n",
              "  }\n",
              "\n",
              "  @keyframes spin {\n",
              "    0% {\n",
              "      border-color: transparent;\n",
              "      border-bottom-color: var(--fill-color);\n",
              "      border-left-color: var(--fill-color);\n",
              "    }\n",
              "    20% {\n",
              "      border-color: transparent;\n",
              "      border-left-color: var(--fill-color);\n",
              "      border-top-color: var(--fill-color);\n",
              "    }\n",
              "    30% {\n",
              "      border-color: transparent;\n",
              "      border-left-color: var(--fill-color);\n",
              "      border-top-color: var(--fill-color);\n",
              "      border-right-color: var(--fill-color);\n",
              "    }\n",
              "    40% {\n",
              "      border-color: transparent;\n",
              "      border-right-color: var(--fill-color);\n",
              "      border-top-color: var(--fill-color);\n",
              "    }\n",
              "    60% {\n",
              "      border-color: transparent;\n",
              "      border-right-color: var(--fill-color);\n",
              "    }\n",
              "    80% {\n",
              "      border-color: transparent;\n",
              "      border-right-color: var(--fill-color);\n",
              "      border-bottom-color: var(--fill-color);\n",
              "    }\n",
              "    90% {\n",
              "      border-color: transparent;\n",
              "      border-bottom-color: var(--fill-color);\n",
              "    }\n",
              "  }\n",
              "</style>\n",
              "\n",
              "      <script>\n",
              "        async function quickchart(key) {\n",
              "          const quickchartButtonEl =\n",
              "            document.querySelector('#' + key + ' button');\n",
              "          quickchartButtonEl.disabled = true;  // To prevent multiple clicks.\n",
              "          quickchartButtonEl.classList.add('colab-df-spinner');\n",
              "          try {\n",
              "            const charts = await google.colab.kernel.invokeFunction(\n",
              "                'suggestCharts', [key], {});\n",
              "          } catch (error) {\n",
              "            console.error('Error during call to suggestCharts:', error);\n",
              "          }\n",
              "          quickchartButtonEl.classList.remove('colab-df-spinner');\n",
              "          quickchartButtonEl.classList.add('colab-df-quickchart-complete');\n",
              "        }\n",
              "        (() => {\n",
              "          let quickchartButtonEl =\n",
              "            document.querySelector('#df-a46173d3-0ca6-48e4-8faf-82b8ee5f2dc3 button');\n",
              "          quickchartButtonEl.style.display =\n",
              "            google.colab.kernel.accessAllowed ? 'block' : 'none';\n",
              "        })();\n",
              "      </script>\n",
              "    </div>\n",
              "    </div>\n",
              "  </div>\n"
            ],
            "application/vnd.google.colaboratory.intrinsic+json": {
              "type": "dataframe",
              "summary": "{\n  \"name\": \"grouped_df\",\n  \"rows\": 20,\n  \"fields\": [\n    {\n      \"column\": \"word\",\n      \"properties\": {\n        \"dtype\": \"category\",\n        \"num_unique_values\": 4,\n        \"samples\": [\n          \"\\u043b\\u0443\\u043a\",\n          \"\\u0431\\u043e\\u0440\",\n          \"\\u0437\\u0430\\u043c\\u043e\\u043a\"\n        ],\n        \"semantic_type\": \"\",\n        \"description\": \"\"\n      }\n    },\n    {\n      \"column\": \"context\",\n      \"properties\": {\n        \"dtype\": \"string\",\n        \"num_unique_values\": 20,\n        \"samples\": [\n          \"\\u0437\\u0430\\u043c\\u043e\\u043a \\u0432\\u043b\\u0430\\u0434\\u0438\\u043c\\u0438\\u0440\\u0430 \\u043c\\u043e\\u043d\\u043e\\u043c\\u0430\\u0445\\u0430 \\u0432 \\u043b\\u044e\\u0431\\u0435\\u0447\\u0435 . \\u043c\\u043d\\u043e\\u0433\\u043e\\u0447\\u0438\\u0441\\u043b\\u0435\\u043d\\u043d\\u044b\\u0435 \\u0443\\u043a\\u0440\\u0435\\u043f\\u043b\\u0435\\u043d\\u043d\\u044b\\u0435 \\u043c\\u043e\\u043d\\u0430\\u0441\\u0442\\u044b\\u0440\\u0438 \\u0442\\u0430\\u043a\\u0436\\u0435 \\u043d\\u0435 \\u044f\\u0432\\u043b\\u044f\\u043b\\u0438\\u0441\\u044c \\u0437\\u0430\\u043c\\u043a\\u0430\\u043c\\u0438 \\u043a\\u0430\\u043a \\u0442\\u0430\\u043a\\u043e\\u0432\\u044b\\u043c\\u0438\\u00a0\\u2014 \\u044d\\u0442\\u043e \\u0431\\u044b\\u043b\\u0438 \\u043a\\u0440\\u0435\\u043f\\u043e\\u0441\\u0442\\u0438 . \\u0440\\u0430\\u043d\\u043d\\u0438\\u0435 \\u0435\\u0432\\u0440\\u043e\\u043f\\u0435\\u0439\\u0441\\u043a\\u0438\\u0435 \\u0437\\u0430\\u043c\\u043a\\u0438 \\u0441\\u0442\\u0440\\u043e\\u0438\\u043b\\u0438\\u0441\\u044c \\u043f\\u0440\\u0435\\u0438\\u043c\\u0443\\u0449\\u0435\\u0441\\u0442\\u0432\\u0435\\u043d\\u043d\\u043e \\u0438\\u0437 \\u0434\\u0435\\u0440\\u0435\\u0432\\u0430 \\u043e\\u043d\\u0438 \\u043e\\u043f\\u043e\\u044f\\u0441\\u044b\\u0432\\u0430\\u043b\\u0438\\u0441\\u044c \\u0434\\u0435\\u0440\\u0435\\u0432\\u044f\\u043d\\u043d\\u043e\\u0439 \\u043e\\u0433\\u0440\\u0430\\u0434\\u043e\\u0439\\u00a0\\u2014 \\u043f\\u0430\\u043b\\u0438\\u0441\\u0430\\u0434\\u043e\\u043c \\u0443\\u0436\\u0435 \\u0442\\u043e\\u0433\\u0434\\u0430 \\u0432\\u043e\\u043a\\u0440\\u0443\\u0433 \\u0437\\u0430\\u043c\\u043a\\u043e\\u0432 \\u0441\\u0442\\u0430\\u043b\\u0438 \\u043f\\u043e\\u044f\\u0432\\u043b\\u044f\\u0442\\u044c\\u0441\\u044f \\u0440\\u0432\\u044b . \\u043f\\u0440\\u0438\\u043c\\u0435\\u0440\\u043e\\u043c \\u0442\\u0430\\u043a\\u043e\\u0433\\u043e \\u0437\\u0430\\u043c\\u043a\\u0430 \\u043c\\u043e\\u0436\\u0435\\u0442 \\u0441\\u043b\\u0443\\u0436\\u0438\\u0442\\u044c \\u0432\\u044b\\u0448\\u0433\\u043e\\u0440\\u043e\\u0434\\u0441\\u043a\\u0438\\u0439 \\u0437\\u0430\\u043c\\u043e\\u043a \\u043a\\u0438\\u0435\\u0432\\u0441\\u043a\\u0438\\u0445 \\u043a\\u043d\\u044f\\u0437\\u0435\\u0439 . \\u043a\\u0430\\u043c\\u0435\\u043d\\u043d\\u043e\\u0435 \\u0437\\u0430\\u043c\\u043a\\u043e\\u0432\\u043e\\u0435 \\u0441\\u0442\\u0440\\u043e\\u0438\\u0442\\u0435\\u043b\\u044c\\u0441\\u0442\\u0432\\u043e \\u0440\\u0430\\u0441\\u043f\\u0440\\u043e\\u0441\\u0442\\u0440\\u0430\\u043d\\u0438\\u043b\\u043e\\u0441\\u044c \\u0432 \\u0437\\u0430\\u043f\\u0430\\u0434\\u043d\\u043e\\u0439 \\u0438 \\u0446\\u0435\\u043d\\u0442\\u0440\\u0430\\u043b\\u044c\\u043d\\u043e\\u0439 \\u0435\\u0432\\u0440\\u043e\\u043f\\u0435 \\u043b\\u0438\\u0448\\u044c \\u043a xii \\u0432\\u0435\\u043a\\u0443 . \\u0433\\u043b\\u0430\\u0432\\u043d\\u043e\\u0439 \\u0447\\u0430\\u0441\\u0442\\u044c\\u044e \\u0441\\u0440\\u0435\\u0434\\u043d\\u0435\\u0432\\u0435\\u043a\\u043e\\u0432\\u043e\\u0433\\u043e \\u0437\\u0430\\u043c\\u043a\\u0430 \\u044f\\u0432\\u043b\\u044f\\u043b\\u0430\\u0441\\u044c \\u0446\\u0435\\u043d\\u0442\\u0440\\u0430\\u043b\\u044c\\u043d\\u0430\\u044f \\u0431\\u0430\\u0448\\u043d\\u044f\\u00a0\\u2014 \\u0434\\u043e\\u043d\\u0436\\u043e\\u043d , \\u0432\\u044b\\u043f\\u043e\\u043b\\u043d\\u044f\\u0432\\u0448\\u0430\\u044f \\u0444\\u0443\\u043d\\u043a\\u0446\\u0438\\u0438 \\u0446\\u0438\\u0442\\u0430\\u0434\\u0435\\u043b\\u0438 . \\u043f\\u043e\\u043c\\u0438\\u043c\\u043e \\u0441\\u0432\\u043e\\u0438\\u0445 \\u043e\\u0431\\u043e\\u0440\\u043e\\u043d\\u0438\\u0442\\u0435\\u043b\\u044c\\u043d\\u044b\\u0445 \\u0444\\u0443\\u043d\\u043a\\u0446\\u0438\\u0439 , \\u0434\\u043e\\u043d\\u0436\\u043e\\u043d \\u044f\\u0432\\u043b\\u044f\\u043b\\u0441\\u044f \\u043d\\u0435\\u043f\\u043e\\u0441\\u0440\\u0435\\u0434\\u0441\\u0442\\u0432\\u0435\\u043d\\u043d\\u044b\\u043c \\u0436\\u0438\\u043b\\u0438\\u0449\\u0435\\u043c \\u0444\\u0435\\u043e\\u0434\\u0430\\u043b\\u0430 . \\u0442\\u0430\\u043a\\u0436\\u0435 \\u0432 \\u0433\\u043b\\u0430\\u0432\\u043d\\u043e\\u0439 \\u0431\\u0430\\u0448\\u043d\\u0435\",\n          \"\\u0441 \\u0431\\u043e\\u043b\\u044c\\u0448\\u0438\\u043c \\u0432\\u044b\\u0434\\u0435\\u043b\\u0435\\u043d\\u0438\\u0435\\u043c \\u0442\\u0435\\u043f\\u043b\\u043e\\u0442\\u044b , \\u043e\\u0431\\u0440\\u0430\\u0437\\u0443\\u0435\\u0442\\u0441\\u044f \\u043e\\u043a\\u0441\\u0438\\u0434 b o \\u0434\\u0430\\u043d\\u043d\\u043e\\u0435 \\u0441\\u0432\\u043e\\u0439\\u0441\\u0442\\u0432\\u043e \\u0431\\u043e\\u0440\\u0430 \\u043c\\u043e\\u0436\\u043d\\u043e \\u043e\\u0431\\u044a\\u044f\\u0441\\u043d\\u0438\\u0442\\u044c \\u043e\\u0447\\u0435\\u043d\\u044c \\u0432\\u044b\\u0441\\u043e\\u043a\\u043e\\u0439 \\u043f\\u0440\\u043e\\u0447\\u043d\\u043e\\u0441\\u0442\\u044c\\u044e \\u0445\\u0438\\u043c\\u0438\\u0447\\u0435\\u0441\\u043a\\u0438\\u0445 \\u0441\\u0432\\u044f\\u0437\\u0435\\u0439 \\u0432 \\u043e\\u043a\\u0441\\u0438\\u0434\\u0435 \\u0431\\u043e\\u0440\\u0430 b o . \\u043f\\u0440\\u0438 \\u043e\\u0442\\u0441\\u0443\\u0442\\u0441\\u0442\\u0432\\u0438\\u0438 \\u043e\\u043a\\u0438\\u0441\\u043b\\u0438\\u0442\\u0435\\u043b\\u0435\\u0439 \\u0431\\u043e\\u0440 \\u0443\\u0441\\u0442\\u043e\\u0439\\u0447\\u0438\\u0432 \\u043a \\u0434\\u0435\\u0439\\u0441\\u0442\\u0432\\u0438\\u044e \\u0440\\u0430\\u0441\\u0442\\u0432\\u043e\\u0440\\u043e\\u0432 \\u0449\\u0435\\u043b\\u043e\\u0447\\u0435\\u0439 . \\u0432 \\u0433\\u043e\\u0440\\u044f\\u0447\\u0435\\u0439 \\u0430\\u0437\\u043e\\u0442\\u043d\\u043e\\u0439 , \\u0441\\u0435\\u0440\\u043d\\u043e\\u0439 \\u043a\\u0438\\u0441\\u043b\\u043e\\u0442\\u0430\\u0445 \\u0438 \\u0432 \\u0446\\u0430\\u0440\\u0441\\u043a\\u043e\\u0439 \\u0432\\u043e\\u0434\\u043a\\u0435 \\u0431\\u043e\\u0440 \\u0440\\u0430\\u0441\\u0442\\u0432\\u043e\\u0440\\u044f\\u0435\\u0442\\u0441\\u044f \\u0441 \\u043e\\u0431\\u0440\\u0430\\u0437\\u043e\\u0432\\u0430\\u043d\\u0438\\u0435\\u043c \\u0431\\u043e\\u0440\\u043d\\u043e\\u0439 \\u043a\\u0438\\u0441\\u043b\\u043e\\u0442\\u044b formula_ . \\u043e\\u043a\\u0441\\u0438\\u0434 \\u0431\\u043e\\u0440\\u0430 formula_ \\u00a0\\u2014 \\u0442\\u0438\\u043f\\u0438\\u0447\\u043d\\u044b\\u0439 \\u043a\\u0438\\u0441\\u043b\\u043e\\u0442\\u043d\\u044b\\u0439 \\u043e\\u043a\\u0441\\u0438\\u0434 . \\u043e\\u043d \\u0440\\u0435\\u0430\\u0433\\u0438\\u0440\\u0443\\u0435\\u0442 \\u0441 \\u0432\\u043e\\u0434\\u043e\\u0439 \\u0441 \\u043e\\u0431\\u0440\\u0430\\u0437\\u043e\\u0432\\u0430\\u043d\\u0438\\u0435\\u043c \\u0431\\u043e\\u0440\\u043d\\u043e\\u0439 \\u043a\\u0438\\u0441\\u043b\\u043e\\u0442\\u044b \\u043f\\u0440\\u0438 \\u0432\\u0437\\u0430\\u0438\\u043c\\u043e\\u0434\\u0435\\u0439\\u0441\\u0442\\u0432\\u0438\\u0438 \\u0431\\u043e\\u0440\\u043d\\u043e\\u0439 \\u043a\\u0438\\u0441\\u043b\\u043e\\u0442\\u044b \\u0441\\u043e \\u0449\\u0435\\u043b\\u043e\\u0447\\u0430\\u043c\\u0438 \\u0432\\u043e\\u0437\\u043d\\u0438\\u043a\\u0430\\u044e\\u0442 \\u0441\\u043e\\u043b\\u0438 \\u043d\\u0435 \\u0441\\u0430\\u043c\\u043e\\u0439 \\u0431\\u043e\\u0440\\u043d\\u043e\\u0439 \\u043a\\u0438\\u0441\\u043b\\u043e\\u0442\\u044b\\u00a0\\u2014 \\u0431\\u043e\\u0440\\u0430\\u0442\\u044b ( \\u0441\\u043e\\u0434\\u0435\\u0440\\u0436\\u0430\\u0449\\u0438\\u0435 \\u0430\\u043d\\u0438\\u043e\\u043d bo\",\n          \"\\u0431\\u043e\\u0440 ( \\u044d\\u043b\\u0435\\u043c\\u0435\\u043d\\u0442 ) \\u0431\\u043e\\u0440\\u00a0\\u2014 \\u044d\\u043b\\u0435\\u043c\\u0435\\u043d\\u0442 \\u0442\\u0440\\u0438\\u043d\\u0430\\u0434\\u0446\\u0430\\u0442\\u043e\\u0439 \\u0433\\u0440\\u0443\\u043f\\u043f\\u044b ( \\u043f\\u043e \\u0443\\u0441\\u0442\\u0430\\u0440\\u0435\\u0432\\u0448\\u0435\\u0439 \\u043a\\u043b\\u0430\\u0441\\u0441\\u0438\\u0444\\u0438\\u043a\\u0430\\u0446\\u0438\\u0438 \\u2014 \\u0433\\u043b\\u0430\\u0432\\u043d\\u043e\\u0439 \\u043f\\u043e\\u0434\\u0433\\u0440\\u0443\\u043f\\u043f\\u044b \\u0442\\u0440\\u0435\\u0442\\u044c\\u0435\\u0439 \\u0433\\u0440\\u0443\\u043f\\u043f\\u044b ) , \\u0432\\u0442\\u043e\\u0440\\u043e\\u0433\\u043e \\u043f\\u0435\\u0440\\u0438\\u043e\\u0434\\u0430 \\u043f\\u0435\\u0440\\u0438\\u043e\\u0434\\u0438\\u0447\\u0435\\u0441\\u043a\\u043e\\u0439 \\u0441\\u0438\\u0441\\u0442\\u0435\\u043c\\u044b \\u0445\\u0438\\u043c\\u0438\\u0447\\u0435\\u0441\\u043a\\u0438\\u0445 \\u044d\\u043b\\u0435\\u043c\\u0435\\u043d\\u0442\\u043e\\u0432 \\u0441 \\u0430\\u0442\\u043e\\u043c\\u043d\\u044b\\u043c \\u043d\\u043e\\u043c\\u0435\\u0440\\u043e\\u043c . \\u043e\\u0431\\u043e\\u0437\\u043d\\u0430\\u0447\\u0430\\u0435\\u0442\\u0441\\u044f \\u0441\\u0438\\u043c\\u0432\\u043e\\u043b\\u043e\\u043c b ( ) . \\u0432 \\u0441\\u0432\\u043e\\u0431\\u043e\\u0434\\u043d\\u043e\\u043c \\u0441\\u043e\\u0441\\u0442\\u043e\\u044f\\u043d\\u0438\\u0438\"\n        ],\n        \"semantic_type\": \"\",\n        \"description\": \"\"\n      }\n    },\n    {\n      \"column\": \"gold_sense_id\",\n      \"properties\": {\n        \"dtype\": \"number\",\n        \"std\": 0,\n        \"min\": 1,\n        \"max\": 1,\n        \"num_unique_values\": 1,\n        \"samples\": [\n          1\n        ],\n        \"semantic_type\": \"\",\n        \"description\": \"\"\n      }\n    }\n  ]\n}"
            }
          },
          "metadata": {},
          "execution_count": 160
        }
      ]
    },
    {
      "cell_type": "code",
      "source": [
        "len(grouped_df.get_group('замок')['context'].values)"
      ],
      "metadata": {
        "colab": {
          "base_uri": "https://localhost:8080/"
        },
        "id": "U2cbqzLE-4CL",
        "outputId": "eef8e49f-1bd6-4169-ed0c-d23808610d02"
      },
      "id": "U2cbqzLE-4CL",
      "execution_count": 161,
      "outputs": [
        {
          "output_type": "execute_result",
          "data": {
            "text/plain": [
              "138"
            ]
          },
          "metadata": {},
          "execution_count": 161
        }
      ]
    },
    {
      "cell_type": "code",
      "source": [
        "def get_metric(df, algo, word, **kwargs):\n",
        "    parameters = kwargs\n",
        "    texts = df.get_group(word)['context'].values\n",
        "    X = np.zeros((len(texts), 768))\n",
        "\n",
        "    batches = []\n",
        "    batch_size = 16\n",
        "    for i in range(0, len(texts), batch_size):\n",
        "        batch = texts[i:i + batch_size]\n",
        "        batches.append(batch)\n",
        "    processed = 0\n",
        "    for batch in batches:\n",
        "        for i, vector in enumerate(embed(batch)):\n",
        "            i += processed\n",
        "            X[i] = vector\n",
        "        processed += len(batch)\n",
        "\n",
        "    match algo:\n",
        "      case 'DBSCAN':\n",
        "        if not 'min_samples' in parameters:\n",
        "            parameters['min_samples'] = 1\n",
        "        if not 'eps' in parameters:\n",
        "            parameters['eps'] = 0.1\n",
        "\n",
        "        cluster = DBSCAN(**parameters)\n",
        "      case 'AffProp':\n",
        "        cluster = AffinityPropagation(**parameters)\n",
        "      case 'AggClust':\n",
        "          if 'distance_threshold' in parameters:\n",
        "              parameters['n_clusters'] = None\n",
        "          cluster = AgglomerativeClustering(**parameters)\n",
        "      case 'Kmeans':\n",
        "          if 'n_clusters' not in parameters:\n",
        "              parameters['n_clusters'] = 3\n",
        "          cluster = KMeans(**parameters)\n",
        "      case 'SpectClust':\n",
        "          if 'n_clusters' not in parameters:\n",
        "              parameters['n_clusters'] = 3\n",
        "          cluster = SpectralClustering(**parameters)\n",
        "\n",
        "    cluster.fit(X)\n",
        "    labels = np.array(cluster.labels_)+1\n",
        "\n",
        "    return adjusted_rand_score(df.get_group(word)['gold_sense_id'], labels)\n"
      ],
      "metadata": {
        "id": "cDZ5CjZ_-pNA"
      },
      "id": "cDZ5CjZ_-pNA",
      "execution_count": 182,
      "outputs": []
    },
    {
      "cell_type": "markdown",
      "source": [
        "## DBSCAN"
      ],
      "metadata": {
        "id": "-Gx9D24UI7E2"
      },
      "id": "-Gx9D24UI7E2"
    },
    {
      "cell_type": "code",
      "source": [
        "import time"
      ],
      "metadata": {
        "id": "hxjTId0DqFUo"
      },
      "id": "hxjTId0DqFUo",
      "execution_count": 188,
      "outputs": []
    },
    {
      "cell_type": "code",
      "source": [
        "start_time_1 = time.time()\n",
        "ARI_default = [get_metric(grouped_df, 'DBSCAN', key) for key, _ in grouped_df]\n",
        "end_time_1 = time.time()\n",
        "start_time_2 = time.time()\n",
        "ARI_cosine = [get_metric(grouped_df, 'DBSCAN', key, metric='cosine') for key, _ in grouped_df]\n",
        "end_time_2 = time.time()"
      ],
      "metadata": {
        "id": "yvSTr2qA-d3e"
      },
      "id": "yvSTr2qA-d3e",
      "execution_count": 191,
      "outputs": []
    },
    {
      "cell_type": "code",
      "source": [
        "print(f'Стандартный DBSCAN: {np.mean(ARI_default):.5f}\\nВремя: {end_time_1-start_time_1}')\n",
        "print('\\n')\n",
        "print(f'DBSCAN metric=cosine: {np.mean(ARI_default):.5f}\\nВремя: {end_time_2-start_time_2}')"
      ],
      "metadata": {
        "colab": {
          "base_uri": "https://localhost:8080/"
        },
        "id": "JDV78bBUG1Yb",
        "outputId": "332408be-22a9-4bde-cd9a-ced5c2e85684"
      },
      "id": "JDV78bBUG1Yb",
      "execution_count": 193,
      "outputs": [
        {
          "output_type": "stream",
          "name": "stdout",
          "text": [
            "Стандартный DBSCAN: 0.00105\n",
            "Время: 11.02499008178711\n",
            "\n",
            "\n",
            "DBSCAN metric=cosine: 0.00105\n",
            "Время: 11.237125396728516\n"
          ]
        }
      ]
    },
    {
      "cell_type": "code",
      "source": [
        "start_time_1 = time.time()\n",
        "ARI_cosine_brute_eps = [get_metric(grouped_df, 'DBSCAN', key, eps=0.2, metric='cosine', algorithm='brute') for key, _ in grouped_df]\n",
        "end_time_1 = time.time()\n",
        "\n",
        "start_time_2 = time.time()\n",
        "ARI_cosine_brute_eps_samples = [get_metric(grouped_df, 'DBSCAN', key, eps=0.2, min_samples=3, metric='cosine', algorithm='brute') for key, _ in grouped_df]\n",
        "end_time_2 = time.time()"
      ],
      "metadata": {
        "id": "8wxGUMuPHDM1"
      },
      "id": "8wxGUMuPHDM1",
      "execution_count": 194,
      "outputs": []
    },
    {
      "cell_type": "code",
      "source": [
        "print(f'DBSCAN metric=cosine, algorithm=brute, eps=0.2: {np.mean(ARI_cosine_brute_eps):.5f}\\nВремя: {end_time_1-start_time_1}')\n",
        "print('\\n')\n",
        "print(f'DBSCAN metric=cosine, algorithm=brute, eps=0.2, samples=3: {np.mean(ARI_cosine_brute_eps_samples):.5f}\\nВремя: {end_time_2-start_time_2}')"
      ],
      "metadata": {
        "colab": {
          "base_uri": "https://localhost:8080/"
        },
        "id": "TsR_LWFGHn0T",
        "outputId": "5b645e69-d99c-4dad-f15e-cbf61d57698a"
      },
      "id": "TsR_LWFGHn0T",
      "execution_count": 196,
      "outputs": [
        {
          "output_type": "stream",
          "name": "stdout",
          "text": [
            "DBSCAN metric=cosine, algorithm=brute, eps=0.2: 0.07489\n",
            "Время: 10.913528442382812\n",
            "\n",
            "\n",
            "DBSCAN metric=cosine, algorithm=brute, eps=0.2, samples=3: 0.07306\n",
            "Время: 11.150765419006348\n"
          ]
        }
      ]
    },
    {
      "cell_type": "code",
      "source": [
        "start_time_1 = time.time()\n",
        "ARI_cosine_brute_eps_samples_5 = [get_metric(grouped_df, 'DBSCAN', key, eps=0.2, min_samples=5, metric='cosine', algorithm='brute') for key, _ in grouped_df]\n",
        "end_time_1 = time.time()"
      ],
      "metadata": {
        "id": "rSxWHRhsrU7n"
      },
      "id": "rSxWHRhsrU7n",
      "execution_count": 197,
      "outputs": []
    },
    {
      "cell_type": "code",
      "source": [
        "print(f'DBSCAN metric=cosine, algorithm=brute, eps=0.2, samples=5: {np.mean(ARI_cosine_brute_eps_samples_5):.5f}\\nВремя: {end_time_1-start_time_1}')"
      ],
      "metadata": {
        "colab": {
          "base_uri": "https://localhost:8080/"
        },
        "id": "x3AExJv-rbaL",
        "outputId": "82469fc8-1cc9-4cb9-e8c1-c47afaeb69d4"
      },
      "id": "x3AExJv-rbaL",
      "execution_count": 198,
      "outputs": [
        {
          "output_type": "stream",
          "name": "stdout",
          "text": [
            "DBSCAN metric=cosine, algorithm=brute, eps=0.2, samples=5: 0.08064\n",
            "Время: 10.976757287979126\n"
          ]
        }
      ]
    },
    {
      "cell_type": "markdown",
      "source": [
        "**Лучшая метрика** -- *0.08064*\n",
        "\n",
        "\n",
        "---\n",
        "\n",
        "\n",
        "```\n",
        "metric=cosine, algorithm=brute, eps=0.2, samples=5\n",
        "```\n",
        "\n",
        "Среднее время: 10-11 секунд\n",
        "\n"
      ],
      "metadata": {
        "id": "vX4XJeo8IJbA"
      },
      "id": "vX4XJeo8IJbA"
    },
    {
      "cell_type": "markdown",
      "source": [
        "## AffinityPropagation"
      ],
      "metadata": {
        "id": "U9eLb67lI99-"
      },
      "id": "U9eLb67lI99-"
    },
    {
      "cell_type": "code",
      "source": [
        "start_time_1 = time.time()\n",
        "ARI_default = [get_metric(grouped_df, 'AffProp', key, random_state=25) for key, _ in grouped_df]\n",
        "end_time_1 = time.time()\n",
        "\n",
        "start_time_2 = time.time()\n",
        "ARI_damping = [get_metric(grouped_df, 'AffProp', key, damping=0.7, random_state=25) for key, _ in grouped_df]\n",
        "end_time_2 = time.time()\n",
        "\n",
        "start_time_3 = time.time()\n",
        "ARI_damping_less = [get_metric(grouped_df, 'AffProp', key, damping=0.6, random_state=25) for key, _ in grouped_df]\n",
        "end_time_3 = time.time()"
      ],
      "metadata": {
        "id": "BA74lYinILVF"
      },
      "id": "BA74lYinILVF",
      "execution_count": 199,
      "outputs": []
    },
    {
      "cell_type": "code",
      "source": [
        "print(f'Стандартный AffProp: {np.mean(ARI_default):.5f}\\nВремя: {end_time_1-start_time_1}')\n",
        "print('\\n')\n",
        "print(f'AffProp damping=0.7: {np.mean(ARI_damping):.5f}\\nВремя: {end_time_2-start_time_2}')\n",
        "print('\\n')\n",
        "print(f'AffProp damping=0.6: {np.mean(ARI_damping_less):.5f}\\nВремя: {end_time_3-start_time_3}')"
      ],
      "metadata": {
        "colab": {
          "base_uri": "https://localhost:8080/"
        },
        "id": "k0uLJqJTJYqQ",
        "outputId": "a57c9231-43c4-492f-e7a6-dad18b91bc31"
      },
      "id": "k0uLJqJTJYqQ",
      "execution_count": 200,
      "outputs": [
        {
          "output_type": "stream",
          "name": "stdout",
          "text": [
            "Стандартный AffProp: 0.04274\n",
            "Время: 11.10112738609314\n",
            "\n",
            "\n",
            "AffProp damping=0.7: 0.04155\n",
            "Время: 11.455334901809692\n",
            "\n",
            "\n",
            "AffProp damping=0.6: 0.04274\n",
            "Время: 12.016026735305786\n"
          ]
        }
      ]
    },
    {
      "cell_type": "code",
      "source": [
        "start_time_1 = time.time()\n",
        "ARI_damping_coverg = [get_metric(grouped_df, 'AffProp', key, damping=0.6, random_state=25, convergence_iter=30) for key, _ in grouped_df]\n",
        "end_time_1 = time.time()\n",
        "\n",
        "start_time_2 = time.time()\n",
        "ARI_damping_iters = [get_metric(grouped_df, 'AffProp', key, damping=0.6, random_state=25) for key, _ in grouped_df]\n",
        "end_time_2 = time.time()"
      ],
      "metadata": {
        "id": "lJp22QaXKWex"
      },
      "id": "lJp22QaXKWex",
      "execution_count": null,
      "outputs": []
    },
    {
      "cell_type": "code",
      "source": [
        "print(f'AffProp damping=0.6, convergence_iter=30: {np.mean(ARI_damping_coverg):.5f}\\nВремя: {end_time_1-start_time_1}')\n",
        "print('\\n')\n",
        "print(f'AffProp damping=0.6, max_iter=300: {np.mean(ARI_damping_iters):.5f}\\nВремя: {end_time_2-start_time_2}')"
      ],
      "metadata": {
        "colab": {
          "base_uri": "https://localhost:8080/"
        },
        "id": "1qTqMX52Kl7B",
        "outputId": "3d13ba21-4d50-465d-c03a-8a2020d8d24a"
      },
      "id": "1qTqMX52Kl7B",
      "execution_count": 201,
      "outputs": [
        {
          "output_type": "stream",
          "name": "stdout",
          "text": [
            "AffProp damping=0.6, convergence_iter=30: 0.04274\n",
            "Время: 11.10112738609314\n",
            "\n",
            "\n",
            "AffProp damping=0.6, max_iter=300: 0.04274\n",
            "Время: 11.455334901809692\n"
          ]
        }
      ]
    },
    {
      "cell_type": "markdown",
      "source": [
        "**Лучшая метрика** -- 0.04274 (стандартный AffProp)\n",
        "\n",
        "\n",
        "---\n",
        "\n",
        "среднее время -- 11-12 секунд"
      ],
      "metadata": {
        "id": "LPeg3RzPZAXH"
      },
      "id": "LPeg3RzPZAXH"
    },
    {
      "cell_type": "markdown",
      "source": [
        "## Agglomerative clustering"
      ],
      "metadata": {
        "id": "-BDbuVCYZTtr"
      },
      "id": "-BDbuVCYZTtr"
    },
    {
      "cell_type": "code",
      "source": [
        "from sklearn.cluster import AgglomerativeClustering"
      ],
      "metadata": {
        "id": "9xw3WhjaZV7j"
      },
      "id": "9xw3WhjaZV7j",
      "execution_count": null,
      "outputs": []
    },
    {
      "cell_type": "code",
      "source": [
        "start_time_1 = time.time()\n",
        "ARI_threshold = [get_metric(grouped_df, 'AggClust', key, distance_threshold=0.8) for key, _ in grouped_df]\n",
        "end_time_1 = time.time()\n",
        "\n",
        "start_time_2 = time.time()\n",
        "ARI_clusters = [get_metric(grouped_df, 'AggClust', key, n_clusters=5) for key, _ in grouped_df]\n",
        "end_time_2 = time.time()\n",
        "\n",
        "start_time_3 = time.time()\n",
        "ARI_cosine = [get_metric(grouped_df, 'AggClust', key, distance_threshold=0.8, metric='cosine', linkage='average') for key, _ in grouped_df]\n",
        "end_time_3 = time.time()"
      ],
      "metadata": {
        "id": "rY0hiv5sZrT1"
      },
      "id": "rY0hiv5sZrT1",
      "execution_count": 202,
      "outputs": []
    },
    {
      "cell_type": "code",
      "source": [
        "print(f'Стандартный (threshold=0.8) AggClust: {np.mean(ARI_threshold):.5f}\\nВремя: {end_time_1-start_time_1}')\n",
        "print('\\n')\n",
        "print(f'AggClust n_clusters=5: {np.mean(ARI_clusters):.5f}\\nВремя: {end_time_2-start_time_2}')\n",
        "print('\\n')\n",
        "print(f'AggClust (threshold=0.8) metric=cosine, linkage=average: {np.mean(ARI_cosine):.5f}\\nВремя: {end_time_3-start_time_3}')"
      ],
      "metadata": {
        "colab": {
          "base_uri": "https://localhost:8080/"
        },
        "id": "mZiIDVvxaMok",
        "outputId": "d9ba5c6c-11c3-4478-d6be-d43e21a06cce"
      },
      "id": "mZiIDVvxaMok",
      "execution_count": 203,
      "outputs": [
        {
          "output_type": "stream",
          "name": "stdout",
          "text": [
            "Стандартный (threshold=0.8) AggClust: 0.03763\n",
            "Время: 10.727065801620483\n",
            "\n",
            "\n",
            "AggClust n_clusters=5: 0.03379\n",
            "Время: 11.362627744674683\n",
            "\n",
            "\n",
            "AggClust (threshold=0.8) metric=cosine, linkage=average: 0.00000\n",
            "Время: 11.603286027908325\n"
          ]
        }
      ]
    },
    {
      "cell_type": "code",
      "source": [
        "start_time_1 = time.time()\n",
        "ARI_cosine_average = [get_metric(grouped_df, 'AggClust', key, distance_threshold=0.2, metric='cosine', linkage='average') for key, _ in grouped_df]\n",
        "end_time_1 = time.time()"
      ],
      "metadata": {
        "id": "xqRfIaX1aavd"
      },
      "id": "xqRfIaX1aavd",
      "execution_count": 204,
      "outputs": []
    },
    {
      "cell_type": "code",
      "source": [
        "print(f'AggClust (threshold=0.2) metric=cosine, linkage=average: {np.mean(ARI_cosine_average):.5f}\\nВремя: {end_time_1-start_time_1}')"
      ],
      "metadata": {
        "colab": {
          "base_uri": "https://localhost:8080/"
        },
        "id": "g626vb2ycUGG",
        "outputId": "8d99222b-c3aa-4a5f-8c85-5e85a0394f52"
      },
      "id": "g626vb2ycUGG",
      "execution_count": 205,
      "outputs": [
        {
          "output_type": "stream",
          "name": "stdout",
          "text": [
            "AggClust (threshold=0.2) metric=cosine, linkage=average: 0.11555\n",
            "Время: 11.034559488296509\n"
          ]
        }
      ]
    },
    {
      "cell_type": "code",
      "source": [
        "start_time_1 = time.time()\n",
        "ARI_cosine_average_2 = [get_metric(grouped_df, 'AggClust', key, distance_threshold=0.1, metric='cosine', linkage='average') for key, _ in grouped_df]\n",
        "end_time_1 = time.time()"
      ],
      "metadata": {
        "id": "CmphuJb9cy0-"
      },
      "id": "CmphuJb9cy0-",
      "execution_count": 206,
      "outputs": []
    },
    {
      "cell_type": "code",
      "source": [
        "print(f'AggClust (threshold=0.1) metric=cosine, linkage=average: {np.mean(ARI_cosine_average_2):.5f}\\nВремя: {end_time_1-start_time_1}')"
      ],
      "metadata": {
        "colab": {
          "base_uri": "https://localhost:8080/"
        },
        "id": "XhZoSNhcc2DO",
        "outputId": "4cbfe8ea-39e9-48cd-e7bc-6352e88bd96f"
      },
      "id": "XhZoSNhcc2DO",
      "execution_count": 207,
      "outputs": [
        {
          "output_type": "stream",
          "name": "stdout",
          "text": [
            "AggClust (threshold=0.1) metric=cosine, linkage=average: 0.01794\n",
            "Время: 11.859452962875366\n"
          ]
        }
      ]
    },
    {
      "cell_type": "code",
      "source": [
        "start_time_1 = time.time()\n",
        "ARI_cosine_single = [get_metric(grouped_df, 'AggClust', key, distance_threshold=0.2, metric='cosine', linkage='complete') for key, _ in grouped_df]\n",
        "end_time_1 = time.time()"
      ],
      "metadata": {
        "id": "zm49_Z41c44b"
      },
      "id": "zm49_Z41c44b",
      "execution_count": 208,
      "outputs": []
    },
    {
      "cell_type": "code",
      "source": [
        "print(f'AggClust (threshold=0.2) metric=cosine, linkage=average: {np.mean(ARI_cosine_single):.5f}\\nВремя: {end_time_1-start_time_1}')"
      ],
      "metadata": {
        "colab": {
          "base_uri": "https://localhost:8080/"
        },
        "id": "FK5PgUUKdHbK",
        "outputId": "433cc47a-58ee-4743-fe05-4402327ccd18"
      },
      "id": "FK5PgUUKdHbK",
      "execution_count": 209,
      "outputs": [
        {
          "output_type": "stream",
          "name": "stdout",
          "text": [
            "AggClust (threshold=0.2) metric=cosine, linkage=average: 0.03909\n",
            "Время: 11.447248935699463\n"
          ]
        }
      ]
    },
    {
      "cell_type": "code",
      "source": [
        "start_time_1 = time.time()\n",
        "ARI_cosine_average_3 = [get_metric(grouped_df, 'AggClust', key, distance_threshold=0.3, metric='cosine', linkage='average') for key, _ in grouped_df]\n",
        "end_time_1 = time.time()"
      ],
      "metadata": {
        "id": "pfjGmUzUdMlJ"
      },
      "id": "pfjGmUzUdMlJ",
      "execution_count": 210,
      "outputs": []
    },
    {
      "cell_type": "code",
      "source": [
        "print(f'AggClust (threshold=0.3) metric=cosine, linkage=average: {np.mean(ARI_cosine_average_3):.5f}\\nВремя: {end_time_1-start_time_1}')"
      ],
      "metadata": {
        "colab": {
          "base_uri": "https://localhost:8080/"
        },
        "id": "AItFdKF1dQb9",
        "outputId": "18f8ba27-7218-4e42-a8f7-1e6c91e0c60d"
      },
      "id": "AItFdKF1dQb9",
      "execution_count": 211,
      "outputs": [
        {
          "output_type": "stream",
          "name": "stdout",
          "text": [
            "AggClust (threshold=0.3) metric=cosine, linkage=average: 0.05477\n",
            "Время: 11.232676982879639\n"
          ]
        }
      ]
    },
    {
      "cell_type": "markdown",
      "source": [
        "Лучшая метрика -- **0.11555**\n",
        "\n",
        "\n",
        "---\n",
        "\n",
        "\n",
        "`AggClust (threshold=0.2) metric=cosine, linkage=average`\n",
        "\n",
        "Среднее время: 11-12 секунд"
      ],
      "metadata": {
        "id": "rDsngLWodiTK"
      },
      "id": "rDsngLWodiTK"
    },
    {
      "cell_type": "markdown",
      "source": [
        "## Kmeans"
      ],
      "metadata": {
        "id": "Mw3w8KdrdoW7"
      },
      "id": "Mw3w8KdrdoW7"
    },
    {
      "cell_type": "code",
      "source": [
        "start_time_1 = time.time()\n",
        "ARI_3_clusters = [get_metric(grouped_df, 'Kmeans', key, random_state=25) for key, _ in grouped_df]\n",
        "end_time_1 = time.time()\n",
        "\n",
        "start_time_2 = time.time()\n",
        "ARI_2_clusters = [get_metric(grouped_df, 'Kmeans', key, n_clusters=2, random_state=25) for key, _ in grouped_df]\n",
        "end_time_2 = time.time()\n",
        "\n",
        "start_time_3 = time.time()\n",
        "ARI_5_clusters = [get_metric(grouped_df, 'Kmeans', key, n_clusters=5, random_state=25) for key, _ in grouped_df]\n",
        "end_time_3 = time.time()"
      ],
      "metadata": {
        "id": "bkexDNOgdvEW"
      },
      "id": "bkexDNOgdvEW",
      "execution_count": 219,
      "outputs": []
    },
    {
      "cell_type": "code",
      "source": [
        "print(f'Стандартный (n_clusters=3) Kmeans: {np.mean(ARI_3_clusters):.5f}\\nВремя: {end_time_1-start_time_1}')\n",
        "print('\\n')\n",
        "print(f'Kmeans n_clusters=2: {np.mean(ARI_2_clusters):.5f}\\nВремя: {end_time_2-start_time_2}')\n",
        "print('\\n')\n",
        "print(f'Kmeans n_clusters=5: {np.mean(ARI_5_clusters):.5f}\\nВремя: {end_time_3-start_time_3}')"
      ],
      "metadata": {
        "colab": {
          "base_uri": "https://localhost:8080/"
        },
        "id": "PDyQnGy9eYfS",
        "outputId": "6a01ef93-4451-458c-fd58-eafac9b44ca3"
      },
      "id": "PDyQnGy9eYfS",
      "execution_count": 220,
      "outputs": [
        {
          "output_type": "stream",
          "name": "stdout",
          "text": [
            "Стандартный (n_clusters=3) Kmeans: 0.05379\n",
            "Время: 11.557048320770264\n",
            "\n",
            "\n",
            "Kmeans n_clusters=2: 0.02282\n",
            "Время: 12.537479639053345\n",
            "\n",
            "\n",
            "Kmeans n_clusters=5: 0.03148\n",
            "Время: 12.506959676742554\n"
          ]
        }
      ]
    },
    {
      "cell_type": "code",
      "source": [
        "start_time_1 = time.time()\n",
        "ARI_15_init = [get_metric(grouped_df, 'Kmeans', key, n_init=15, random_state=25) for key, _ in grouped_df]\n",
        "end_time_1 = time.time()\n",
        "\n",
        "start_time_2 = time.time()\n",
        "ARI_20_init_5_clusters = [get_metric(grouped_df, 'Kmeans', key, n_init=20, n_clusters=5, random_state=25) for key, _ in grouped_df]\n",
        "end_time_2 = time.time()"
      ],
      "metadata": {
        "id": "9qpoXs4YfBUT"
      },
      "id": "9qpoXs4YfBUT",
      "execution_count": 221,
      "outputs": []
    },
    {
      "cell_type": "code",
      "source": [
        "print(f'Стандартный (n_clusters=3) Kmeans + 15 попыток с разными центрами: {np.mean(ARI_15_init):.5f}\\nВремя: {end_time_1-start_time_1}')\n",
        "print('\\n')\n",
        "print(f'Kmeans n_clusters=5 + 20 попыток с разными центрами: {np.mean(ARI_20_init_5_clusters):.5f}\\nВремя: {end_time_2-start_time_2}')"
      ],
      "metadata": {
        "colab": {
          "base_uri": "https://localhost:8080/"
        },
        "id": "CrICWhVQfROV",
        "outputId": "c4ade75d-ce8a-491d-f1ec-c39ee82c9257"
      },
      "id": "CrICWhVQfROV",
      "execution_count": 222,
      "outputs": [
        {
          "output_type": "stream",
          "name": "stdout",
          "text": [
            "Стандартный (n_clusters=3) Kmeans + 15 попыток с разными центрами: 0.05656\n",
            "Время: 13.3409104347229\n",
            "\n",
            "\n",
            "Kmeans n_clusters=5 + 20 попыток с разными центрами: 0.07562\n",
            "Время: 12.694476842880249\n"
          ]
        }
      ]
    },
    {
      "cell_type": "markdown",
      "source": [
        "Лучшая метрика -- **0.07562**\n",
        "\n",
        "\n",
        "---\n",
        "\n",
        "\n",
        "`Kmeans n_clusters=5 + 20 попыток с разными центрами`\n",
        "\n",
        "Среднее время: 12-13 секунд"
      ],
      "metadata": {
        "id": "fK3tHJUdhnN4"
      },
      "id": "fK3tHJUdhnN4"
    },
    {
      "cell_type": "markdown",
      "source": [
        "## SpectralClustering"
      ],
      "metadata": {
        "id": "M0wxD2yjiKIN"
      },
      "id": "M0wxD2yjiKIN"
    },
    {
      "cell_type": "code",
      "source": [
        "from sklearn.cluster import SpectralClustering"
      ],
      "metadata": {
        "id": "0oH36B_9iLEW"
      },
      "id": "0oH36B_9iLEW",
      "execution_count": 163,
      "outputs": []
    },
    {
      "cell_type": "code",
      "source": [
        "start_time_1 = time.time()\n",
        "ARI_3_clusters = [get_metric(grouped_df, 'SpectClust', key, random_state=25) for key, _ in grouped_df]\n",
        "end_time_1 = time.time()\n",
        "\n",
        "start_time_2 = time.time()\n",
        "ARI_5_clusters = [get_metric(grouped_df, 'SpectClust', key, n_clusters=5, random_state=25) for key, _ in grouped_df]\n",
        "end_time_2 = time.time()\n",
        "\n",
        "start_time_3 = time.time()\n",
        "ARI_5_clusters_nn = [get_metric(grouped_df, 'SpectClust', key, n_clusters=5, affinity='nearest_neighbors', random_state=25) for key, _ in grouped_df]\n",
        "end_time_3 = time.time()"
      ],
      "metadata": {
        "id": "GxXSCfNXiNj_"
      },
      "id": "GxXSCfNXiNj_",
      "execution_count": 223,
      "outputs": []
    },
    {
      "cell_type": "code",
      "source": [
        "print(f'Стандартный (n_clusters=3) SpectralClustering: {np.mean(ARI_3_clusters):.5f}\\nВремя: {end_time_1-start_time_1}')\n",
        "print('\\n')\n",
        "print(f'SpectralClustering (n_clusters=5): {np.mean(ARI_5_clusters):.5f}\\nВремя: {end_time_2-start_time_2}')\n",
        "print('\\n')\n",
        "print(f'SpectralClustering (n_clusters=5) affinity=nearest_neighbors: {np.mean(ARI_5_clusters_nn):.5f}\\nВремя: {end_time_3-start_time_3}')"
      ],
      "metadata": {
        "colab": {
          "base_uri": "https://localhost:8080/"
        },
        "id": "zV7DupojinWv",
        "outputId": "a7c1ab57-661d-4141-859b-3031ca3b0922"
      },
      "id": "zV7DupojinWv",
      "execution_count": 224,
      "outputs": [
        {
          "output_type": "stream",
          "name": "stdout",
          "text": [
            "Стандартный (n_clusters=3) SpectralClustering: 0.05770\n",
            "Время: 11.898951053619385\n",
            "\n",
            "\n",
            "SpectralClustering (n_clusters=5): 0.06619\n",
            "Время: 12.190648555755615\n",
            "\n",
            "\n",
            "SpectralClustering (n_clusters=5) affinity=nearest_neighbors: 0.05635\n",
            "Время: 12.325382471084595\n"
          ]
        }
      ]
    },
    {
      "cell_type": "code",
      "source": [
        "start_time_1 = time.time()\n",
        "ARI_5_clusters_nn_15 = [get_metric(grouped_df, 'SpectClust', key, n_clusters=5, affinity='nearest_neighbors', n_neighbors=15, random_state=25) for key, _ in grouped_df]\n",
        "end_time_1 = time.time()\n",
        "\n",
        "\n",
        "start_time_2 = time.time()\n",
        "ARI_3_clusters_nn_10 = [get_metric(grouped_df, 'SpectClust', key, n_clusters=3, affinity='nearest_neighbors', n_neighbors=10, random_state=25) for key, _ in grouped_df]\n",
        "end_time_2 = time.time()"
      ],
      "metadata": {
        "id": "yxj_h-vfjb-_"
      },
      "id": "yxj_h-vfjb-_",
      "execution_count": 225,
      "outputs": []
    },
    {
      "cell_type": "code",
      "source": [
        "print(f'SpectralClustering (n_clusters=5) affinity=nearest_neighbors n_neighbors=15: {np.mean(ARI_5_clusters_nn_15):.5f}\\nВремя: {end_time_1-start_time_1}')\n",
        "print('\\n')\n",
        "print(f'SpectralClustering (n_clusters=3) affinity=nearest_neighbors n_neighbors=8: {np.mean(ARI_3_clusters_nn_10):.5f}\\nВремя: {end_time_2-start_time_2}')"
      ],
      "metadata": {
        "colab": {
          "base_uri": "https://localhost:8080/"
        },
        "id": "uxfv4MEnjauf",
        "outputId": "73d1bb28-170f-47b9-c605-eee883c102d6"
      },
      "id": "uxfv4MEnjauf",
      "execution_count": 226,
      "outputs": [
        {
          "output_type": "stream",
          "name": "stdout",
          "text": [
            "SpectralClustering (n_clusters=5) affinity=nearest_neighbors n_neighbors=15: 0.05449\n",
            "Время: 11.604997873306274\n",
            "\n",
            "\n",
            "SpectralClustering (n_clusters=3) affinity=nearest_neighbors n_neighbors=8: 0.08330\n",
            "Время: 11.706103801727295\n"
          ]
        }
      ]
    },
    {
      "cell_type": "markdown",
      "source": [
        "Лучшая метрика -- **0.08330**\n",
        "\n",
        "\n",
        "\n",
        "---\n",
        "\n",
        "\n",
        "`SpectralClustering (n_clusters=3) affinity=nearest_neighbors n_neighbors=8`\n",
        "\n",
        "Среднее время: 11-12 секунд"
      ],
      "metadata": {
        "id": "fxc7_1gro3Jj"
      },
      "id": "fxc7_1gro3Jj"
    },
    {
      "cell_type": "markdown",
      "source": [
        "Spectral clustering работает через граф: мы смотрим на точки данных не как на координаты в пространстве, а как на вершины графа, соединённые рёбрами по мере их похожести. Получается, что кластеры — это группы точек, внутри которых связи плотнее, чем между разными группами. Чтобы это увидеть, берут матрицу лапласиана графа и находят её собственные векторы, которые показывают, где естественные разрывы в данных.\n",
        "\n",
        "Дальше точки проецируются в новое пространство этих векторов, где границы между кластерами становятся более явными для разделения. На этом шаге применим обычный алгоритм типа KMeans, чтобы чётко выделить группы.\n",
        "\n",
        "\n",
        "Подход особенно хорошо работает там, где кластеры имеют сложную форму чем шарики, как предполагает KMeans.\n",
        "\n",
        "По сути, спектральная кластеризация улавливыет глобальную структуру данных за счёт анализа связей между объектами, а не только их геометрического положения.\n",
        "\n",
        "Я не уверена, что она здесь реально подходит, но она меня заинтересовала, потому что не отталкивается как будто от идеальной формы в пространстве. Плюс картинка интересная"
      ],
      "metadata": {
        "id": "iZYPQ-yjwTxd"
      },
      "id": "iZYPQ-yjwTxd"
    },
    {
      "cell_type": "markdown",
      "source": [
        "![a-Comparison-of-Wasserstein-Spectral-clustering-spectral-clustering-and-k-means-on.png](data:image/png;base64,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)"
      ],
      "metadata": {
        "id": "RZgzdRjJw5HT"
      },
      "id": "RZgzdRjJw5HT"
    },
    {
      "cell_type": "markdown",
      "source": [
        "## Выводы\n",
        "\n",
        "В итоге по времени все алгоритмы работали примерно одинаково, лучше всего сработалв агломеративная кластеризация.\n",
        "\n",
        "Некоторые методы кластеризации как будто очень плохо подходят, потому что нужно подбирать все-таки количество кластеров, а подглядывать в gold-разметку – не очень правильно"
      ],
      "metadata": {
        "id": "1In-MaMsxDr2"
      },
      "id": "1In-MaMsxDr2"
    }
  ],
  "metadata": {
    "kernelspec": {
      "display_name": "Python 3",
      "name": "python3"
    },
    "language_info": {
      "codemirror_mode": {
        "name": "ipython",
        "version": 3
      },
      "file_extension": ".py",
      "mimetype": "text/x-python",
      "name": "python",
      "nbconvert_exporter": "python",
      "pygments_lexer": "ipython3",
      "version": "3.10.9"
    },
    "colab": {
      "provenance": [],
      "gpuType": "T4"
    },
    "accelerator": "GPU",
    "widgets": {
      "application/vnd.jupyter.widget-state+json": {
        "da0d8fe1f7714844a7cbfe1fbe29dba2": {
          "model_module": "@jupyter-widgets/controls",
          "model_name": "HBoxModel",
          "model_module_version": "1.5.0",
          "state": {
            "_dom_classes": [],
            "_model_module": "@jupyter-widgets/controls",
            "_model_module_version": "1.5.0",
            "_model_name": "HBoxModel",
            "_view_count": null,
            "_view_module": "@jupyter-widgets/controls",
            "_view_module_version": "1.5.0",
            "_view_name": "HBoxView",
            "box_style": "",
            "children": [
              "IPY_MODEL_10ac4fd48f71451183ca8900e9372dcd",
              "IPY_MODEL_2bcf57e0237b49539e404a52a17c05ec",
              "IPY_MODEL_738cae09d4584a48a3054d89f8156186"
            ],
            "layout": "IPY_MODEL_c6b25954063146c08ec44db90d6a6018"
          }
        },
        "10ac4fd48f71451183ca8900e9372dcd": {
          "model_module": "@jupyter-widgets/controls",
          "model_name": "HTMLModel",
          "model_module_version": "1.5.0",
          "state": {
            "_dom_classes": [],
            "_model_module": "@jupyter-widgets/controls",
            "_model_module_version": "1.5.0",
            "_model_name": "HTMLModel",
            "_view_count": null,
            "_view_module": "@jupyter-widgets/controls",
            "_view_module_version": "1.5.0",
            "_view_name": "HTMLView",
            "description": "",
            "description_tooltip": null,
            "layout": "IPY_MODEL_7748c132b513497ebafc4aed8f098698",
            "placeholder": "​",
            "style": "IPY_MODEL_035a6b5a56494d8aa6eb7fa885cbb9d8",
            "value": "modules.json: 100%"
          }
        },
        "2bcf57e0237b49539e404a52a17c05ec": {
          "model_module": "@jupyter-widgets/controls",
          "model_name": "FloatProgressModel",
          "model_module_version": "1.5.0",
          "state": {
            "_dom_classes": [],
            "_model_module": "@jupyter-widgets/controls",
            "_model_module_version": "1.5.0",
            "_model_name": "FloatProgressModel",
            "_view_count": null,
            "_view_module": "@jupyter-widgets/controls",
            "_view_module_version": "1.5.0",
            "_view_name": "ProgressView",
            "bar_style": "success",
            "description": "",
            "description_tooltip": null,
            "layout": "IPY_MODEL_54962bdac0074246be5bef8b76be27fd",
            "max": 349,
            "min": 0,
            "orientation": "horizontal",
            "style": "IPY_MODEL_c649a53a63a044b9b8d48f2989f0d349",
            "value": 349
          }
        },
        "738cae09d4584a48a3054d89f8156186": {
          "model_module": "@jupyter-widgets/controls",
          "model_name": "HTMLModel",
          "model_module_version": "1.5.0",
          "state": {
            "_dom_classes": [],
            "_model_module": "@jupyter-widgets/controls",
            "_model_module_version": "1.5.0",
            "_model_name": "HTMLModel",
            "_view_count": null,
            "_view_module": "@jupyter-widgets/controls",
            "_view_module_version": "1.5.0",
            "_view_name": "HTMLView",
            "description": "",
            "description_tooltip": null,
            "layout": "IPY_MODEL_81d0c950441d4fac9728237172638ba9",
            "placeholder": "​",
            "style": "IPY_MODEL_a15e70f8d85c43cd87da385ed2ba6c5f",
            "value": " 349/349 [00:00&lt;00:00, 29.8kB/s]"
          }
        },
        "c6b25954063146c08ec44db90d6a6018": {
          "model_module": "@jupyter-widgets/base",
          "model_name": "LayoutModel",
          "model_module_version": "1.2.0",
          "state": {
            "_model_module": "@jupyter-widgets/base",
            "_model_module_version": "1.2.0",
            "_model_name": "LayoutModel",
            "_view_count": null,
            "_view_module": "@jupyter-widgets/base",
            "_view_module_version": "1.2.0",
            "_view_name": "LayoutView",
            "align_content": null,
            "align_items": null,
            "align_self": null,
            "border": null,
            "bottom": null,
            "display": null,
            "flex": null,
            "flex_flow": null,
            "grid_area": null,
            "grid_auto_columns": null,
            "grid_auto_flow": null,
            "grid_auto_rows": null,
            "grid_column": null,
            "grid_gap": null,
            "grid_row": null,
            "grid_template_areas": null,
            "grid_template_columns": null,
            "grid_template_rows": null,
            "height": null,
            "justify_content": null,
            "justify_items": null,
            "left": null,
            "margin": null,
            "max_height": null,
            "max_width": null,
            "min_height": null,
            "min_width": null,
            "object_fit": null,
            "object_position": null,
            "order": null,
            "overflow": null,
            "overflow_x": null,
            "overflow_y": null,
            "padding": null,
            "right": null,
            "top": null,
            "visibility": null,
            "width": null
          }
        },
        "7748c132b513497ebafc4aed8f098698": {
          "model_module": "@jupyter-widgets/base",
          "model_name": "LayoutModel",
          "model_module_version": "1.2.0",
          "state": {
            "_model_module": "@jupyter-widgets/base",
            "_model_module_version": "1.2.0",
            "_model_name": "LayoutModel",
            "_view_count": null,
            "_view_module": "@jupyter-widgets/base",
            "_view_module_version": "1.2.0",
            "_view_name": "LayoutView",
            "align_content": null,
            "align_items": null,
            "align_self": null,
            "border": null,
            "bottom": null,
            "display": null,
            "flex": null,
            "flex_flow": null,
            "grid_area": null,
            "grid_auto_columns": null,
            "grid_auto_flow": null,
            "grid_auto_rows": null,
            "grid_column": null,
            "grid_gap": null,
            "grid_row": null,
            "grid_template_areas": null,
            "grid_template_columns": null,
            "grid_template_rows": null,
            "height": null,
            "justify_content": null,
            "justify_items": null,
            "left": null,
            "margin": null,
            "max_height": null,
            "max_width": null,
            "min_height": null,
            "min_width": null,
            "object_fit": null,
            "object_position": null,
            "order": null,
            "overflow": null,
            "overflow_x": null,
            "overflow_y": null,
            "padding": null,
            "right": null,
            "top": null,
            "visibility": null,
            "width": null
          }
        },
        "035a6b5a56494d8aa6eb7fa885cbb9d8": {
          "model_module": "@jupyter-widgets/controls",
          "model_name": "DescriptionStyleModel",
          "model_module_version": "1.5.0",
          "state": {
            "_model_module": "@jupyter-widgets/controls",
            "_model_module_version": "1.5.0",
            "_model_name": "DescriptionStyleModel",
            "_view_count": null,
            "_view_module": "@jupyter-widgets/base",
            "_view_module_version": "1.2.0",
            "_view_name": "StyleView",
            "description_width": ""
          }
        },
        "54962bdac0074246be5bef8b76be27fd": {
          "model_module": "@jupyter-widgets/base",
          "model_name": "LayoutModel",
          "model_module_version": "1.2.0",
          "state": {
            "_model_module": "@jupyter-widgets/base",
            "_model_module_version": "1.2.0",
            "_model_name": "LayoutModel",
            "_view_count": null,
            "_view_module": "@jupyter-widgets/base",
            "_view_module_version": "1.2.0",
            "_view_name": "LayoutView",
            "align_content": null,
            "align_items": null,
            "align_self": null,
            "border": null,
            "bottom": null,
            "display": null,
            "flex": null,
            "flex_flow": null,
            "grid_area": null,
            "grid_auto_columns": null,
            "grid_auto_flow": null,
            "grid_auto_rows": null,
            "grid_column": null,
            "grid_gap": null,
            "grid_row": null,
            "grid_template_areas": null,
            "grid_template_columns": null,
            "grid_template_rows": null,
            "height": null,
            "justify_content": null,
            "justify_items": null,
            "left": null,
            "margin": null,
            "max_height": null,
            "max_width": null,
            "min_height": null,
            "min_width": null,
            "object_fit": null,
            "object_position": null,
            "order": null,
            "overflow": null,
            "overflow_x": null,
            "overflow_y": null,
            "padding": null,
            "right": null,
            "top": null,
            "visibility": null,
            "width": null
          }
        },
        "c649a53a63a044b9b8d48f2989f0d349": {
          "model_module": "@jupyter-widgets/controls",
          "model_name": "ProgressStyleModel",
          "model_module_version": "1.5.0",
          "state": {
            "_model_module": "@jupyter-widgets/controls",
            "_model_module_version": "1.5.0",
            "_model_name": "ProgressStyleModel",
            "_view_count": null,
            "_view_module": "@jupyter-widgets/base",
            "_view_module_version": "1.2.0",
            "_view_name": "StyleView",
            "bar_color": null,
            "description_width": ""
          }
        },
        "81d0c950441d4fac9728237172638ba9": {
          "model_module": "@jupyter-widgets/base",
          "model_name": "LayoutModel",
          "model_module_version": "1.2.0",
          "state": {
            "_model_module": "@jupyter-widgets/base",
            "_model_module_version": "1.2.0",
            "_model_name": "LayoutModel",
            "_view_count": null,
            "_view_module": "@jupyter-widgets/base",
            "_view_module_version": "1.2.0",
            "_view_name": "LayoutView",
            "align_content": null,
            "align_items": null,
            "align_self": null,
            "border": null,
            "bottom": null,
            "display": null,
            "flex": null,
            "flex_flow": null,
            "grid_area": null,
            "grid_auto_columns": null,
            "grid_auto_flow": null,
            "grid_auto_rows": null,
            "grid_column": null,
            "grid_gap": null,
            "grid_row": null,
            "grid_template_areas": null,
            "grid_template_columns": null,
            "grid_template_rows": null,
            "height": null,
            "justify_content": null,
            "justify_items": null,
            "left": null,
            "margin": null,
            "max_height": null,
            "max_width": null,
            "min_height": null,
            "min_width": null,
            "object_fit": null,
            "object_position": null,
            "order": null,
            "overflow": null,
            "overflow_x": null,
            "overflow_y": null,
            "padding": null,
            "right": null,
            "top": null,
            "visibility": null,
            "width": null
          }
        },
        "a15e70f8d85c43cd87da385ed2ba6c5f": {
          "model_module": "@jupyter-widgets/controls",
          "model_name": "DescriptionStyleModel",
          "model_module_version": "1.5.0",
          "state": {
            "_model_module": "@jupyter-widgets/controls",
            "_model_module_version": "1.5.0",
            "_model_name": "DescriptionStyleModel",
            "_view_count": null,
            "_view_module": "@jupyter-widgets/base",
            "_view_module_version": "1.2.0",
            "_view_name": "StyleView",
            "description_width": ""
          }
        },
        "773d379736fa4bca906907c21155593c": {
          "model_module": "@jupyter-widgets/controls",
          "model_name": "HBoxModel",
          "model_module_version": "1.5.0",
          "state": {
            "_dom_classes": [],
            "_model_module": "@jupyter-widgets/controls",
            "_model_module_version": "1.5.0",
            "_model_name": "HBoxModel",
            "_view_count": null,
            "_view_module": "@jupyter-widgets/controls",
            "_view_module_version": "1.5.0",
            "_view_name": "HBoxView",
            "box_style": "",
            "children": [
              "IPY_MODEL_8925b42c94e544a1b987bbdc52fc55ea",
              "IPY_MODEL_69f96865fa4e446eac49b76454d37aa2",
              "IPY_MODEL_4d6b9d18467a4cfb89e19f70ea38aabe"
            ],
            "layout": "IPY_MODEL_5f4d3f5bf78f40b1ae3849cb737d5a7b"
          }
        },
        "8925b42c94e544a1b987bbdc52fc55ea": {
          "model_module": "@jupyter-widgets/controls",
          "model_name": "HTMLModel",
          "model_module_version": "1.5.0",
          "state": {
            "_dom_classes": [],
            "_model_module": "@jupyter-widgets/controls",
            "_model_module_version": "1.5.0",
            "_model_name": "HTMLModel",
            "_view_count": null,
            "_view_module": "@jupyter-widgets/controls",
            "_view_module_version": "1.5.0",
            "_view_name": "HTMLView",
            "description": "",
            "description_tooltip": null,
            "layout": "IPY_MODEL_52ebf426878049009d3ea8cd9948a18a",
            "placeholder": "​",
            "style": "IPY_MODEL_22ecd314f09d4309ac59b761193e03f1",
            "value": "config_sentence_transformers.json: 100%"
          }
        },
        "69f96865fa4e446eac49b76454d37aa2": {
          "model_module": "@jupyter-widgets/controls",
          "model_name": "FloatProgressModel",
          "model_module_version": "1.5.0",
          "state": {
            "_dom_classes": [],
            "_model_module": "@jupyter-widgets/controls",
            "_model_module_version": "1.5.0",
            "_model_name": "FloatProgressModel",
            "_view_count": null,
            "_view_module": "@jupyter-widgets/controls",
            "_view_module_version": "1.5.0",
            "_view_name": "ProgressView",
            "bar_style": "success",
            "description": "",
            "description_tooltip": null,
            "layout": "IPY_MODEL_df7a28d0901140bda4ce8901da664c59",
            "max": 116,
            "min": 0,
            "orientation": "horizontal",
            "style": "IPY_MODEL_702f85f5ca8f48af9605aea3a118a8d7",
            "value": 116
          }
        },
        "4d6b9d18467a4cfb89e19f70ea38aabe": {
          "model_module": "@jupyter-widgets/controls",
          "model_name": "HTMLModel",
          "model_module_version": "1.5.0",
          "state": {
            "_dom_classes": [],
            "_model_module": "@jupyter-widgets/controls",
            "_model_module_version": "1.5.0",
            "_model_name": "HTMLModel",
            "_view_count": null,
            "_view_module": "@jupyter-widgets/controls",
            "_view_module_version": "1.5.0",
            "_view_name": "HTMLView",
            "description": "",
            "description_tooltip": null,
            "layout": "IPY_MODEL_859c089058114a25bf877cbdfefffdee",
            "placeholder": "​",
            "style": "IPY_MODEL_b67daa4ca8294f4d99b4faa91cdd330e",
            "value": " 116/116 [00:00&lt;00:00, 10.8kB/s]"
          }
        },
        "5f4d3f5bf78f40b1ae3849cb737d5a7b": {
          "model_module": "@jupyter-widgets/base",
          "model_name": "LayoutModel",
          "model_module_version": "1.2.0",
          "state": {
            "_model_module": "@jupyter-widgets/base",
            "_model_module_version": "1.2.0",
            "_model_name": "LayoutModel",
            "_view_count": null,
            "_view_module": "@jupyter-widgets/base",
            "_view_module_version": "1.2.0",
            "_view_name": "LayoutView",
            "align_content": null,
            "align_items": null,
            "align_self": null,
            "border": null,
            "bottom": null,
            "display": null,
            "flex": null,
            "flex_flow": null,
            "grid_area": null,
            "grid_auto_columns": null,
            "grid_auto_flow": null,
            "grid_auto_rows": null,
            "grid_column": null,
            "grid_gap": null,
            "grid_row": null,
            "grid_template_areas": null,
            "grid_template_columns": null,
            "grid_template_rows": null,
            "height": null,
            "justify_content": null,
            "justify_items": null,
            "left": null,
            "margin": null,
            "max_height": null,
            "max_width": null,
            "min_height": null,
            "min_width": null,
            "object_fit": null,
            "object_position": null,
            "order": null,
            "overflow": null,
            "overflow_x": null,
            "overflow_y": null,
            "padding": null,
            "right": null,
            "top": null,
            "visibility": null,
            "width": null
          }
        },
        "52ebf426878049009d3ea8cd9948a18a": {
          "model_module": "@jupyter-widgets/base",
          "model_name": "LayoutModel",
          "model_module_version": "1.2.0",
          "state": {
            "_model_module": "@jupyter-widgets/base",
            "_model_module_version": "1.2.0",
            "_model_name": "LayoutModel",
            "_view_count": null,
            "_view_module": "@jupyter-widgets/base",
            "_view_module_version": "1.2.0",
            "_view_name": "LayoutView",
            "align_content": null,
            "align_items": null,
            "align_self": null,
            "border": null,
            "bottom": null,
            "display": null,
            "flex": null,
            "flex_flow": null,
            "grid_area": null,
            "grid_auto_columns": null,
            "grid_auto_flow": null,
            "grid_auto_rows": null,
            "grid_column": null,
            "grid_gap": null,
            "grid_row": null,
            "grid_template_areas": null,
            "grid_template_columns": null,
            "grid_template_rows": null,
            "height": null,
            "justify_content": null,
            "justify_items": null,
            "left": null,
            "margin": null,
            "max_height": null,
            "max_width": null,
            "min_height": null,
            "min_width": null,
            "object_fit": null,
            "object_position": null,
            "order": null,
            "overflow": null,
            "overflow_x": null,
            "overflow_y": null,
            "padding": null,
            "right": null,
            "top": null,
            "visibility": null,
            "width": null
          }
        },
        "22ecd314f09d4309ac59b761193e03f1": {
          "model_module": "@jupyter-widgets/controls",
          "model_name": "DescriptionStyleModel",
          "model_module_version": "1.5.0",
          "state": {
            "_model_module": "@jupyter-widgets/controls",
            "_model_module_version": "1.5.0",
            "_model_name": "DescriptionStyleModel",
            "_view_count": null,
            "_view_module": "@jupyter-widgets/base",
            "_view_module_version": "1.2.0",
            "_view_name": "StyleView",
            "description_width": ""
          }
        },
        "df7a28d0901140bda4ce8901da664c59": {
          "model_module": "@jupyter-widgets/base",
          "model_name": "LayoutModel",
          "model_module_version": "1.2.0",
          "state": {
            "_model_module": "@jupyter-widgets/base",
            "_model_module_version": "1.2.0",
            "_model_name": "LayoutModel",
            "_view_count": null,
            "_view_module": "@jupyter-widgets/base",
            "_view_module_version": "1.2.0",
            "_view_name": "LayoutView",
            "align_content": null,
            "align_items": null,
            "align_self": null,
            "border": null,
            "bottom": null,
            "display": null,
            "flex": null,
            "flex_flow": null,
            "grid_area": null,
            "grid_auto_columns": null,
            "grid_auto_flow": null,
            "grid_auto_rows": null,
            "grid_column": null,
            "grid_gap": null,
            "grid_row": null,
            "grid_template_areas": null,
            "grid_template_columns": null,
            "grid_template_rows": null,
            "height": null,
            "justify_content": null,
            "justify_items": null,
            "left": null,
            "margin": null,
            "max_height": null,
            "max_width": null,
            "min_height": null,
            "min_width": null,
            "object_fit": null,
            "object_position": null,
            "order": null,
            "overflow": null,
            "overflow_x": null,
            "overflow_y": null,
            "padding": null,
            "right": null,
            "top": null,
            "visibility": null,
            "width": null
          }
        },
        "702f85f5ca8f48af9605aea3a118a8d7": {
          "model_module": "@jupyter-widgets/controls",
          "model_name": "ProgressStyleModel",
          "model_module_version": "1.5.0",
          "state": {
            "_model_module": "@jupyter-widgets/controls",
            "_model_module_version": "1.5.0",
            "_model_name": "ProgressStyleModel",
            "_view_count": null,
            "_view_module": "@jupyter-widgets/base",
            "_view_module_version": "1.2.0",
            "_view_name": "StyleView",
            "bar_color": null,
            "description_width": ""
          }
        },
        "859c089058114a25bf877cbdfefffdee": {
          "model_module": "@jupyter-widgets/base",
          "model_name": "LayoutModel",
          "model_module_version": "1.2.0",
          "state": {
            "_model_module": "@jupyter-widgets/base",
            "_model_module_version": "1.2.0",
            "_model_name": "LayoutModel",
            "_view_count": null,
            "_view_module": "@jupyter-widgets/base",
            "_view_module_version": "1.2.0",
            "_view_name": "LayoutView",
            "align_content": null,
            "align_items": null,
            "align_self": null,
            "border": null,
            "bottom": null,
            "display": null,
            "flex": null,
            "flex_flow": null,
            "grid_area": null,
            "grid_auto_columns": null,
            "grid_auto_flow": null,
            "grid_auto_rows": null,
            "grid_column": null,
            "grid_gap": null,
            "grid_row": null,
            "grid_template_areas": null,
            "grid_template_columns": null,
            "grid_template_rows": null,
            "height": null,
            "justify_content": null,
            "justify_items": null,
            "left": null,
            "margin": null,
            "max_height": null,
            "max_width": null,
            "min_height": null,
            "min_width": null,
            "object_fit": null,
            "object_position": null,
            "order": null,
            "overflow": null,
            "overflow_x": null,
            "overflow_y": null,
            "padding": null,
            "right": null,
            "top": null,
            "visibility": null,
            "width": null
          }
        },
        "b67daa4ca8294f4d99b4faa91cdd330e": {
          "model_module": "@jupyter-widgets/controls",
          "model_name": "DescriptionStyleModel",
          "model_module_version": "1.5.0",
          "state": {
            "_model_module": "@jupyter-widgets/controls",
            "_model_module_version": "1.5.0",
            "_model_name": "DescriptionStyleModel",
            "_view_count": null,
            "_view_module": "@jupyter-widgets/base",
            "_view_module_version": "1.2.0",
            "_view_name": "StyleView",
            "description_width": ""
          }
        },
        "1889ac37caf742a1800a31c6ff20dfcd": {
          "model_module": "@jupyter-widgets/controls",
          "model_name": "HBoxModel",
          "model_module_version": "1.5.0",
          "state": {
            "_dom_classes": [],
            "_model_module": "@jupyter-widgets/controls",
            "_model_module_version": "1.5.0",
            "_model_name": "HBoxModel",
            "_view_count": null,
            "_view_module": "@jupyter-widgets/controls",
            "_view_module_version": "1.5.0",
            "_view_name": "HBoxView",
            "box_style": "",
            "children": [
              "IPY_MODEL_3f0782c4f1ce49c7943513503f06b6b8",
              "IPY_MODEL_ea85679203d449d6ac2617dd3be503f4",
              "IPY_MODEL_d05583a968bd417a9064a62a3e53128c"
            ],
            "layout": "IPY_MODEL_a4d1290c22bf46798267a0f651c985c4"
          }
        },
        "3f0782c4f1ce49c7943513503f06b6b8": {
          "model_module": "@jupyter-widgets/controls",
          "model_name": "HTMLModel",
          "model_module_version": "1.5.0",
          "state": {
            "_dom_classes": [],
            "_model_module": "@jupyter-widgets/controls",
            "_model_module_version": "1.5.0",
            "_model_name": "HTMLModel",
            "_view_count": null,
            "_view_module": "@jupyter-widgets/controls",
            "_view_module_version": "1.5.0",
            "_view_name": "HTMLView",
            "description": "",
            "description_tooltip": null,
            "layout": "IPY_MODEL_3b116bea4f01486385cb53dcd2ad3cb2",
            "placeholder": "​",
            "style": "IPY_MODEL_20593f3a1c184c118c3ddd62e05fda6a",
            "value": "README.md: "
          }
        },
        "ea85679203d449d6ac2617dd3be503f4": {
          "model_module": "@jupyter-widgets/controls",
          "model_name": "FloatProgressModel",
          "model_module_version": "1.5.0",
          "state": {
            "_dom_classes": [],
            "_model_module": "@jupyter-widgets/controls",
            "_model_module_version": "1.5.0",
            "_model_name": "FloatProgressModel",
            "_view_count": null,
            "_view_module": "@jupyter-widgets/controls",
            "_view_module_version": "1.5.0",
            "_view_name": "ProgressView",
            "bar_style": "success",
            "description": "",
            "description_tooltip": null,
            "layout": "IPY_MODEL_3e13de795fb94a0db835bb502a298108",
            "max": 1,
            "min": 0,
            "orientation": "horizontal",
            "style": "IPY_MODEL_428b4f402a6d46faacf82b24803cc6c8",
            "value": 1
          }
        },
        "d05583a968bd417a9064a62a3e53128c": {
          "model_module": "@jupyter-widgets/controls",
          "model_name": "HTMLModel",
          "model_module_version": "1.5.0",
          "state": {
            "_dom_classes": [],
            "_model_module": "@jupyter-widgets/controls",
            "_model_module_version": "1.5.0",
            "_model_name": "HTMLModel",
            "_view_count": null,
            "_view_module": "@jupyter-widgets/controls",
            "_view_module_version": "1.5.0",
            "_view_name": "HTMLView",
            "description": "",
            "description_tooltip": null,
            "layout": "IPY_MODEL_816b076a975448b6989cecb18e0e8e23",
            "placeholder": "​",
            "style": "IPY_MODEL_871aaf9b7c214750a8fae1b9ee78e73d",
            "value": " 11.6k/? [00:00&lt;00:00, 335kB/s]"
          }
        },
        "a4d1290c22bf46798267a0f651c985c4": {
          "model_module": "@jupyter-widgets/base",
          "model_name": "LayoutModel",
          "model_module_version": "1.2.0",
          "state": {
            "_model_module": "@jupyter-widgets/base",
            "_model_module_version": "1.2.0",
            "_model_name": "LayoutModel",
            "_view_count": null,
            "_view_module": "@jupyter-widgets/base",
            "_view_module_version": "1.2.0",
            "_view_name": "LayoutView",
            "align_content": null,
            "align_items": null,
            "align_self": null,
            "border": null,
            "bottom": null,
            "display": null,
            "flex": null,
            "flex_flow": null,
            "grid_area": null,
            "grid_auto_columns": null,
            "grid_auto_flow": null,
            "grid_auto_rows": null,
            "grid_column": null,
            "grid_gap": null,
            "grid_row": null,
            "grid_template_areas": null,
            "grid_template_columns": null,
            "grid_template_rows": null,
            "height": null,
            "justify_content": null,
            "justify_items": null,
            "left": null,
            "margin": null,
            "max_height": null,
            "max_width": null,
            "min_height": null,
            "min_width": null,
            "object_fit": null,
            "object_position": null,
            "order": null,
            "overflow": null,
            "overflow_x": null,
            "overflow_y": null,
            "padding": null,
            "right": null,
            "top": null,
            "visibility": null,
            "width": null
          }
        },
        "3b116bea4f01486385cb53dcd2ad3cb2": {
          "model_module": "@jupyter-widgets/base",
          "model_name": "LayoutModel",
          "model_module_version": "1.2.0",
          "state": {
            "_model_module": "@jupyter-widgets/base",
            "_model_module_version": "1.2.0",
            "_model_name": "LayoutModel",
            "_view_count": null,
            "_view_module": "@jupyter-widgets/base",
            "_view_module_version": "1.2.0",
            "_view_name": "LayoutView",
            "align_content": null,
            "align_items": null,
            "align_self": null,
            "border": null,
            "bottom": null,
            "display": null,
            "flex": null,
            "flex_flow": null,
            "grid_area": null,
            "grid_auto_columns": null,
            "grid_auto_flow": null,
            "grid_auto_rows": null,
            "grid_column": null,
            "grid_gap": null,
            "grid_row": null,
            "grid_template_areas": null,
            "grid_template_columns": null,
            "grid_template_rows": null,
            "height": null,
            "justify_content": null,
            "justify_items": null,
            "left": null,
            "margin": null,
            "max_height": null,
            "max_width": null,
            "min_height": null,
            "min_width": null,
            "object_fit": null,
            "object_position": null,
            "order": null,
            "overflow": null,
            "overflow_x": null,
            "overflow_y": null,
            "padding": null,
            "right": null,
            "top": null,
            "visibility": null,
            "width": null
          }
        },
        "20593f3a1c184c118c3ddd62e05fda6a": {
          "model_module": "@jupyter-widgets/controls",
          "model_name": "DescriptionStyleModel",
          "model_module_version": "1.5.0",
          "state": {
            "_model_module": "@jupyter-widgets/controls",
            "_model_module_version": "1.5.0",
            "_model_name": "DescriptionStyleModel",
            "_view_count": null,
            "_view_module": "@jupyter-widgets/base",
            "_view_module_version": "1.2.0",
            "_view_name": "StyleView",
            "description_width": ""
          }
        },
        "3e13de795fb94a0db835bb502a298108": {
          "model_module": "@jupyter-widgets/base",
          "model_name": "LayoutModel",
          "model_module_version": "1.2.0",
          "state": {
            "_model_module": "@jupyter-widgets/base",
            "_model_module_version": "1.2.0",
            "_model_name": "LayoutModel",
            "_view_count": null,
            "_view_module": "@jupyter-widgets/base",
            "_view_module_version": "1.2.0",
            "_view_name": "LayoutView",
            "align_content": null,
            "align_items": null,
            "align_self": null,
            "border": null,
            "bottom": null,
            "display": null,
            "flex": null,
            "flex_flow": null,
            "grid_area": null,
            "grid_auto_columns": null,
            "grid_auto_flow": null,
            "grid_auto_rows": null,
            "grid_column": null,
            "grid_gap": null,
            "grid_row": null,
            "grid_template_areas": null,
            "grid_template_columns": null,
            "grid_template_rows": null,
            "height": null,
            "justify_content": null,
            "justify_items": null,
            "left": null,
            "margin": null,
            "max_height": null,
            "max_width": null,
            "min_height": null,
            "min_width": null,
            "object_fit": null,
            "object_position": null,
            "order": null,
            "overflow": null,
            "overflow_x": null,
            "overflow_y": null,
            "padding": null,
            "right": null,
            "top": null,
            "visibility": null,
            "width": "20px"
          }
        },
        "428b4f402a6d46faacf82b24803cc6c8": {
          "model_module": "@jupyter-widgets/controls",
          "model_name": "ProgressStyleModel",
          "model_module_version": "1.5.0",
          "state": {
            "_model_module": "@jupyter-widgets/controls",
            "_model_module_version": "1.5.0",
            "_model_name": "ProgressStyleModel",
            "_view_count": null,
            "_view_module": "@jupyter-widgets/base",
            "_view_module_version": "1.2.0",
            "_view_name": "StyleView",
            "bar_color": null,
            "description_width": ""
          }
        },
        "816b076a975448b6989cecb18e0e8e23": {
          "model_module": "@jupyter-widgets/base",
          "model_name": "LayoutModel",
          "model_module_version": "1.2.0",
          "state": {
            "_model_module": "@jupyter-widgets/base",
            "_model_module_version": "1.2.0",
            "_model_name": "LayoutModel",
            "_view_count": null,
            "_view_module": "@jupyter-widgets/base",
            "_view_module_version": "1.2.0",
            "_view_name": "LayoutView",
            "align_content": null,
            "align_items": null,
            "align_self": null,
            "border": null,
            "bottom": null,
            "display": null,
            "flex": null,
            "flex_flow": null,
            "grid_area": null,
            "grid_auto_columns": null,
            "grid_auto_flow": null,
            "grid_auto_rows": null,
            "grid_column": null,
            "grid_gap": null,
            "grid_row": null,
            "grid_template_areas": null,
            "grid_template_columns": null,
            "grid_template_rows": null,
            "height": null,
            "justify_content": null,
            "justify_items": null,
            "left": null,
            "margin": null,
            "max_height": null,
            "max_width": null,
            "min_height": null,
            "min_width": null,
            "object_fit": null,
            "object_position": null,
            "order": null,
            "overflow": null,
            "overflow_x": null,
            "overflow_y": null,
            "padding": null,
            "right": null,
            "top": null,
            "visibility": null,
            "width": null
          }
        },
        "871aaf9b7c214750a8fae1b9ee78e73d": {
          "model_module": "@jupyter-widgets/controls",
          "model_name": "DescriptionStyleModel",
          "model_module_version": "1.5.0",
          "state": {
            "_model_module": "@jupyter-widgets/controls",
            "_model_module_version": "1.5.0",
            "_model_name": "DescriptionStyleModel",
            "_view_count": null,
            "_view_module": "@jupyter-widgets/base",
            "_view_module_version": "1.2.0",
            "_view_name": "StyleView",
            "description_width": ""
          }
        },
        "e1988d1d4a69498a97c3bee3b2dc7369": {
          "model_module": "@jupyter-widgets/controls",
          "model_name": "HBoxModel",
          "model_module_version": "1.5.0",
          "state": {
            "_dom_classes": [],
            "_model_module": "@jupyter-widgets/controls",
            "_model_module_version": "1.5.0",
            "_model_name": "HBoxModel",
            "_view_count": null,
            "_view_module": "@jupyter-widgets/controls",
            "_view_module_version": "1.5.0",
            "_view_name": "HBoxView",
            "box_style": "",
            "children": [
              "IPY_MODEL_8d3bf14bcab342d3b20e875a7be73adb",
              "IPY_MODEL_f18e784f7bcb4730b80ddca8184818d0",
              "IPY_MODEL_b8f9f32e84ac48b49f60d5fb326fe7b0"
            ],
            "layout": "IPY_MODEL_c12cbb911c5e473088e2936a3ccaa266"
          }
        },
        "8d3bf14bcab342d3b20e875a7be73adb": {
          "model_module": "@jupyter-widgets/controls",
          "model_name": "HTMLModel",
          "model_module_version": "1.5.0",
          "state": {
            "_dom_classes": [],
            "_model_module": "@jupyter-widgets/controls",
            "_model_module_version": "1.5.0",
            "_model_name": "HTMLModel",
            "_view_count": null,
            "_view_module": "@jupyter-widgets/controls",
            "_view_module_version": "1.5.0",
            "_view_name": "HTMLView",
            "description": "",
            "description_tooltip": null,
            "layout": "IPY_MODEL_dc1f544dd0e94d30ada67c6b6141f73e",
            "placeholder": "​",
            "style": "IPY_MODEL_18561e43c1994742b0177257e33a9984",
            "value": "sentence_bert_config.json: 100%"
          }
        },
        "f18e784f7bcb4730b80ddca8184818d0": {
          "model_module": "@jupyter-widgets/controls",
          "model_name": "FloatProgressModel",
          "model_module_version": "1.5.0",
          "state": {
            "_dom_classes": [],
            "_model_module": "@jupyter-widgets/controls",
            "_model_module_version": "1.5.0",
            "_model_name": "FloatProgressModel",
            "_view_count": null,
            "_view_module": "@jupyter-widgets/controls",
            "_view_module_version": "1.5.0",
            "_view_name": "ProgressView",
            "bar_style": "success",
            "description": "",
            "description_tooltip": null,
            "layout": "IPY_MODEL_c23aee74017c46fbbed3627636973fcb",
            "max": 53,
            "min": 0,
            "orientation": "horizontal",
            "style": "IPY_MODEL_913bcb96a18445a0a7212ffa2b46e41a",
            "value": 53
          }
        },
        "b8f9f32e84ac48b49f60d5fb326fe7b0": {
          "model_module": "@jupyter-widgets/controls",
          "model_name": "HTMLModel",
          "model_module_version": "1.5.0",
          "state": {
            "_dom_classes": [],
            "_model_module": "@jupyter-widgets/controls",
            "_model_module_version": "1.5.0",
            "_model_name": "HTMLModel",
            "_view_count": null,
            "_view_module": "@jupyter-widgets/controls",
            "_view_module_version": "1.5.0",
            "_view_name": "HTMLView",
            "description": "",
            "description_tooltip": null,
            "layout": "IPY_MODEL_eb1ebcc70ca4494680fa1c46f5a2adb6",
            "placeholder": "​",
            "style": "IPY_MODEL_e21039ddf6344dfc9d7cf0dfe5c3e0db",
            "value": " 53.0/53.0 [00:00&lt;00:00, 6.53kB/s]"
          }
        },
        "c12cbb911c5e473088e2936a3ccaa266": {
          "model_module": "@jupyter-widgets/base",
          "model_name": "LayoutModel",
          "model_module_version": "1.2.0",
          "state": {
            "_model_module": "@jupyter-widgets/base",
            "_model_module_version": "1.2.0",
            "_model_name": "LayoutModel",
            "_view_count": null,
            "_view_module": "@jupyter-widgets/base",
            "_view_module_version": "1.2.0",
            "_view_name": "LayoutView",
            "align_content": null,
            "align_items": null,
            "align_self": null,
            "border": null,
            "bottom": null,
            "display": null,
            "flex": null,
            "flex_flow": null,
            "grid_area": null,
            "grid_auto_columns": null,
            "grid_auto_flow": null,
            "grid_auto_rows": null,
            "grid_column": null,
            "grid_gap": null,
            "grid_row": null,
            "grid_template_areas": null,
            "grid_template_columns": null,
            "grid_template_rows": null,
            "height": null,
            "justify_content": null,
            "justify_items": null,
            "left": null,
            "margin": null,
            "max_height": null,
            "max_width": null,
            "min_height": null,
            "min_width": null,
            "object_fit": null,
            "object_position": null,
            "order": null,
            "overflow": null,
            "overflow_x": null,
            "overflow_y": null,
            "padding": null,
            "right": null,
            "top": null,
            "visibility": null,
            "width": null
          }
        },
        "dc1f544dd0e94d30ada67c6b6141f73e": {
          "model_module": "@jupyter-widgets/base",
          "model_name": "LayoutModel",
          "model_module_version": "1.2.0",
          "state": {
            "_model_module": "@jupyter-widgets/base",
            "_model_module_version": "1.2.0",
            "_model_name": "LayoutModel",
            "_view_count": null,
            "_view_module": "@jupyter-widgets/base",
            "_view_module_version": "1.2.0",
            "_view_name": "LayoutView",
            "align_content": null,
            "align_items": null,
            "align_self": null,
            "border": null,
            "bottom": null,
            "display": null,
            "flex": null,
            "flex_flow": null,
            "grid_area": null,
            "grid_auto_columns": null,
            "grid_auto_flow": null,
            "grid_auto_rows": null,
            "grid_column": null,
            "grid_gap": null,
            "grid_row": null,
            "grid_template_areas": null,
            "grid_template_columns": null,
            "grid_template_rows": null,
            "height": null,
            "justify_content": null,
            "justify_items": null,
            "left": null,
            "margin": null,
            "max_height": null,
            "max_width": null,
            "min_height": null,
            "min_width": null,
            "object_fit": null,
            "object_position": null,
            "order": null,
            "overflow": null,
            "overflow_x": null,
            "overflow_y": null,
            "padding": null,
            "right": null,
            "top": null,
            "visibility": null,
            "width": null
          }
        },
        "18561e43c1994742b0177257e33a9984": {
          "model_module": "@jupyter-widgets/controls",
          "model_name": "DescriptionStyleModel",
          "model_module_version": "1.5.0",
          "state": {
            "_model_module": "@jupyter-widgets/controls",
            "_model_module_version": "1.5.0",
            "_model_name": "DescriptionStyleModel",
            "_view_count": null,
            "_view_module": "@jupyter-widgets/base",
            "_view_module_version": "1.2.0",
            "_view_name": "StyleView",
            "description_width": ""
          }
        },
        "c23aee74017c46fbbed3627636973fcb": {
          "model_module": "@jupyter-widgets/base",
          "model_name": "LayoutModel",
          "model_module_version": "1.2.0",
          "state": {
            "_model_module": "@jupyter-widgets/base",
            "_model_module_version": "1.2.0",
            "_model_name": "LayoutModel",
            "_view_count": null,
            "_view_module": "@jupyter-widgets/base",
            "_view_module_version": "1.2.0",
            "_view_name": "LayoutView",
            "align_content": null,
            "align_items": null,
            "align_self": null,
            "border": null,
            "bottom": null,
            "display": null,
            "flex": null,
            "flex_flow": null,
            "grid_area": null,
            "grid_auto_columns": null,
            "grid_auto_flow": null,
            "grid_auto_rows": null,
            "grid_column": null,
            "grid_gap": null,
            "grid_row": null,
            "grid_template_areas": null,
            "grid_template_columns": null,
            "grid_template_rows": null,
            "height": null,
            "justify_content": null,
            "justify_items": null,
            "left": null,
            "margin": null,
            "max_height": null,
            "max_width": null,
            "min_height": null,
            "min_width": null,
            "object_fit": null,
            "object_position": null,
            "order": null,
            "overflow": null,
            "overflow_x": null,
            "overflow_y": null,
            "padding": null,
            "right": null,
            "top": null,
            "visibility": null,
            "width": null
          }
        },
        "913bcb96a18445a0a7212ffa2b46e41a": {
          "model_module": "@jupyter-widgets/controls",
          "model_name": "ProgressStyleModel",
          "model_module_version": "1.5.0",
          "state": {
            "_model_module": "@jupyter-widgets/controls",
            "_model_module_version": "1.5.0",
            "_model_name": "ProgressStyleModel",
            "_view_count": null,
            "_view_module": "@jupyter-widgets/base",
            "_view_module_version": "1.2.0",
            "_view_name": "StyleView",
            "bar_color": null,
            "description_width": ""
          }
        },
        "eb1ebcc70ca4494680fa1c46f5a2adb6": {
          "model_module": "@jupyter-widgets/base",
          "model_name": "LayoutModel",
          "model_module_version": "1.2.0",
          "state": {
            "_model_module": "@jupyter-widgets/base",
            "_model_module_version": "1.2.0",
            "_model_name": "LayoutModel",
            "_view_count": null,
            "_view_module": "@jupyter-widgets/base",
            "_view_module_version": "1.2.0",
            "_view_name": "LayoutView",
            "align_content": null,
            "align_items": null,
            "align_self": null,
            "border": null,
            "bottom": null,
            "display": null,
            "flex": null,
            "flex_flow": null,
            "grid_area": null,
            "grid_auto_columns": null,
            "grid_auto_flow": null,
            "grid_auto_rows": null,
            "grid_column": null,
            "grid_gap": null,
            "grid_row": null,
            "grid_template_areas": null,
            "grid_template_columns": null,
            "grid_template_rows": null,
            "height": null,
            "justify_content": null,
            "justify_items": null,
            "left": null,
            "margin": null,
            "max_height": null,
            "max_width": null,
            "min_height": null,
            "min_width": null,
            "object_fit": null,
            "object_position": null,
            "order": null,
            "overflow": null,
            "overflow_x": null,
            "overflow_y": null,
            "padding": null,
            "right": null,
            "top": null,
            "visibility": null,
            "width": null
          }
        },
        "e21039ddf6344dfc9d7cf0dfe5c3e0db": {
          "model_module": "@jupyter-widgets/controls",
          "model_name": "DescriptionStyleModel",
          "model_module_version": "1.5.0",
          "state": {
            "_model_module": "@jupyter-widgets/controls",
            "_model_module_version": "1.5.0",
            "_model_name": "DescriptionStyleModel",
            "_view_count": null,
            "_view_module": "@jupyter-widgets/base",
            "_view_module_version": "1.2.0",
            "_view_name": "StyleView",
            "description_width": ""
          }
        },
        "37476f6923d2443ea62d244bdac11bb4": {
          "model_module": "@jupyter-widgets/controls",
          "model_name": "HBoxModel",
          "model_module_version": "1.5.0",
          "state": {
            "_dom_classes": [],
            "_model_module": "@jupyter-widgets/controls",
            "_model_module_version": "1.5.0",
            "_model_name": "HBoxModel",
            "_view_count": null,
            "_view_module": "@jupyter-widgets/controls",
            "_view_module_version": "1.5.0",
            "_view_name": "HBoxView",
            "box_style": "",
            "children": [
              "IPY_MODEL_500f40b4dd8b4b42bfb52cb9aadaec71",
              "IPY_MODEL_7d43b0ab869c4833871a4b1819e409aa",
              "IPY_MODEL_f4061fe6217b4544a961fb41c1147e04"
            ],
            "layout": "IPY_MODEL_82a3914f87294556ad9f159d47e71490"
          }
        },
        "500f40b4dd8b4b42bfb52cb9aadaec71": {
          "model_module": "@jupyter-widgets/controls",
          "model_name": "HTMLModel",
          "model_module_version": "1.5.0",
          "state": {
            "_dom_classes": [],
            "_model_module": "@jupyter-widgets/controls",
            "_model_module_version": "1.5.0",
            "_model_name": "HTMLModel",
            "_view_count": null,
            "_view_module": "@jupyter-widgets/controls",
            "_view_module_version": "1.5.0",
            "_view_name": "HTMLView",
            "description": "",
            "description_tooltip": null,
            "layout": "IPY_MODEL_36e311a8143448bf95efa05333463f05",
            "placeholder": "​",
            "style": "IPY_MODEL_c808e64203a84a3f82ba7fdae639231e",
            "value": "config.json: 100%"
          }
        },
        "7d43b0ab869c4833871a4b1819e409aa": {
          "model_module": "@jupyter-widgets/controls",
          "model_name": "FloatProgressModel",
          "model_module_version": "1.5.0",
          "state": {
            "_dom_classes": [],
            "_model_module": "@jupyter-widgets/controls",
            "_model_module_version": "1.5.0",
            "_model_name": "FloatProgressModel",
            "_view_count": null,
            "_view_module": "@jupyter-widgets/controls",
            "_view_module_version": "1.5.0",
            "_view_name": "ProgressView",
            "bar_style": "success",
            "description": "",
            "description_tooltip": null,
            "layout": "IPY_MODEL_141b647abe6b4944bd86b7913112c875",
            "max": 571,
            "min": 0,
            "orientation": "horizontal",
            "style": "IPY_MODEL_f7db8eb1d112487c8494183cf82fc4fb",
            "value": 571
          }
        },
        "f4061fe6217b4544a961fb41c1147e04": {
          "model_module": "@jupyter-widgets/controls",
          "model_name": "HTMLModel",
          "model_module_version": "1.5.0",
          "state": {
            "_dom_classes": [],
            "_model_module": "@jupyter-widgets/controls",
            "_model_module_version": "1.5.0",
            "_model_name": "HTMLModel",
            "_view_count": null,
            "_view_module": "@jupyter-widgets/controls",
            "_view_module_version": "1.5.0",
            "_view_name": "HTMLView",
            "description": "",
            "description_tooltip": null,
            "layout": "IPY_MODEL_f55c01902edb456ba255a9100e86d5ee",
            "placeholder": "​",
            "style": "IPY_MODEL_ef19ceae799e40c1b7b766e79a9f775a",
            "value": " 571/571 [00:00&lt;00:00, 69.1kB/s]"
          }
        },
        "82a3914f87294556ad9f159d47e71490": {
          "model_module": "@jupyter-widgets/base",
          "model_name": "LayoutModel",
          "model_module_version": "1.2.0",
          "state": {
            "_model_module": "@jupyter-widgets/base",
            "_model_module_version": "1.2.0",
            "_model_name": "LayoutModel",
            "_view_count": null,
            "_view_module": "@jupyter-widgets/base",
            "_view_module_version": "1.2.0",
            "_view_name": "LayoutView",
            "align_content": null,
            "align_items": null,
            "align_self": null,
            "border": null,
            "bottom": null,
            "display": null,
            "flex": null,
            "flex_flow": null,
            "grid_area": null,
            "grid_auto_columns": null,
            "grid_auto_flow": null,
            "grid_auto_rows": null,
            "grid_column": null,
            "grid_gap": null,
            "grid_row": null,
            "grid_template_areas": null,
            "grid_template_columns": null,
            "grid_template_rows": null,
            "height": null,
            "justify_content": null,
            "justify_items": null,
            "left": null,
            "margin": null,
            "max_height": null,
            "max_width": null,
            "min_height": null,
            "min_width": null,
            "object_fit": null,
            "object_position": null,
            "order": null,
            "overflow": null,
            "overflow_x": null,
            "overflow_y": null,
            "padding": null,
            "right": null,
            "top": null,
            "visibility": null,
            "width": null
          }
        },
        "36e311a8143448bf95efa05333463f05": {
          "model_module": "@jupyter-widgets/base",
          "model_name": "LayoutModel",
          "model_module_version": "1.2.0",
          "state": {
            "_model_module": "@jupyter-widgets/base",
            "_model_module_version": "1.2.0",
            "_model_name": "LayoutModel",
            "_view_count": null,
            "_view_module": "@jupyter-widgets/base",
            "_view_module_version": "1.2.0",
            "_view_name": "LayoutView",
            "align_content": null,
            "align_items": null,
            "align_self": null,
            "border": null,
            "bottom": null,
            "display": null,
            "flex": null,
            "flex_flow": null,
            "grid_area": null,
            "grid_auto_columns": null,
            "grid_auto_flow": null,
            "grid_auto_rows": null,
            "grid_column": null,
            "grid_gap": null,
            "grid_row": null,
            "grid_template_areas": null,
            "grid_template_columns": null,
            "grid_template_rows": null,
            "height": null,
            "justify_content": null,
            "justify_items": null,
            "left": null,
            "margin": null,
            "max_height": null,
            "max_width": null,
            "min_height": null,
            "min_width": null,
            "object_fit": null,
            "object_position": null,
            "order": null,
            "overflow": null,
            "overflow_x": null,
            "overflow_y": null,
            "padding": null,
            "right": null,
            "top": null,
            "visibility": null,
            "width": null
          }
        },
        "c808e64203a84a3f82ba7fdae639231e": {
          "model_module": "@jupyter-widgets/controls",
          "model_name": "DescriptionStyleModel",
          "model_module_version": "1.5.0",
          "state": {
            "_model_module": "@jupyter-widgets/controls",
            "_model_module_version": "1.5.0",
            "_model_name": "DescriptionStyleModel",
            "_view_count": null,
            "_view_module": "@jupyter-widgets/base",
            "_view_module_version": "1.2.0",
            "_view_name": "StyleView",
            "description_width": ""
          }
        },
        "141b647abe6b4944bd86b7913112c875": {
          "model_module": "@jupyter-widgets/base",
          "model_name": "LayoutModel",
          "model_module_version": "1.2.0",
          "state": {
            "_model_module": "@jupyter-widgets/base",
            "_model_module_version": "1.2.0",
            "_model_name": "LayoutModel",
            "_view_count": null,
            "_view_module": "@jupyter-widgets/base",
            "_view_module_version": "1.2.0",
            "_view_name": "LayoutView",
            "align_content": null,
            "align_items": null,
            "align_self": null,
            "border": null,
            "bottom": null,
            "display": null,
            "flex": null,
            "flex_flow": null,
            "grid_area": null,
            "grid_auto_columns": null,
            "grid_auto_flow": null,
            "grid_auto_rows": null,
            "grid_column": null,
            "grid_gap": null,
            "grid_row": null,
            "grid_template_areas": null,
            "grid_template_columns": null,
            "grid_template_rows": null,
            "height": null,
            "justify_content": null,
            "justify_items": null,
            "left": null,
            "margin": null,
            "max_height": null,
            "max_width": null,
            "min_height": null,
            "min_width": null,
            "object_fit": null,
            "object_position": null,
            "order": null,
            "overflow": null,
            "overflow_x": null,
            "overflow_y": null,
            "padding": null,
            "right": null,
            "top": null,
            "visibility": null,
            "width": null
          }
        },
        "f7db8eb1d112487c8494183cf82fc4fb": {
          "model_module": "@jupyter-widgets/controls",
          "model_name": "ProgressStyleModel",
          "model_module_version": "1.5.0",
          "state": {
            "_model_module": "@jupyter-widgets/controls",
            "_model_module_version": "1.5.0",
            "_model_name": "ProgressStyleModel",
            "_view_count": null,
            "_view_module": "@jupyter-widgets/base",
            "_view_module_version": "1.2.0",
            "_view_name": "StyleView",
            "bar_color": null,
            "description_width": ""
          }
        },
        "f55c01902edb456ba255a9100e86d5ee": {
          "model_module": "@jupyter-widgets/base",
          "model_name": "LayoutModel",
          "model_module_version": "1.2.0",
          "state": {
            "_model_module": "@jupyter-widgets/base",
            "_model_module_version": "1.2.0",
            "_model_name": "LayoutModel",
            "_view_count": null,
            "_view_module": "@jupyter-widgets/base",
            "_view_module_version": "1.2.0",
            "_view_name": "LayoutView",
            "align_content": null,
            "align_items": null,
            "align_self": null,
            "border": null,
            "bottom": null,
            "display": null,
            "flex": null,
            "flex_flow": null,
            "grid_area": null,
            "grid_auto_columns": null,
            "grid_auto_flow": null,
            "grid_auto_rows": null,
            "grid_column": null,
            "grid_gap": null,
            "grid_row": null,
            "grid_template_areas": null,
            "grid_template_columns": null,
            "grid_template_rows": null,
            "height": null,
            "justify_content": null,
            "justify_items": null,
            "left": null,
            "margin": null,
            "max_height": null,
            "max_width": null,
            "min_height": null,
            "min_width": null,
            "object_fit": null,
            "object_position": null,
            "order": null,
            "overflow": null,
            "overflow_x": null,
            "overflow_y": null,
            "padding": null,
            "right": null,
            "top": null,
            "visibility": null,
            "width": null
          }
        },
        "ef19ceae799e40c1b7b766e79a9f775a": {
          "model_module": "@jupyter-widgets/controls",
          "model_name": "DescriptionStyleModel",
          "model_module_version": "1.5.0",
          "state": {
            "_model_module": "@jupyter-widgets/controls",
            "_model_module_version": "1.5.0",
            "_model_name": "DescriptionStyleModel",
            "_view_count": null,
            "_view_module": "@jupyter-widgets/base",
            "_view_module_version": "1.2.0",
            "_view_name": "StyleView",
            "description_width": ""
          }
        },
        "b2b39a9422b248b4b00803d6a50200f9": {
          "model_module": "@jupyter-widgets/controls",
          "model_name": "HBoxModel",
          "model_module_version": "1.5.0",
          "state": {
            "_dom_classes": [],
            "_model_module": "@jupyter-widgets/controls",
            "_model_module_version": "1.5.0",
            "_model_name": "HBoxModel",
            "_view_count": null,
            "_view_module": "@jupyter-widgets/controls",
            "_view_module_version": "1.5.0",
            "_view_name": "HBoxView",
            "box_style": "",
            "children": [
              "IPY_MODEL_49780ce25e554a7c87c710ebcae47cc4",
              "IPY_MODEL_32fbebe4a2b640108674b18c93fd7950",
              "IPY_MODEL_46cb7b5926694823966aff292f7c92a6"
            ],
            "layout": "IPY_MODEL_1b7f6cabe06b44999e28ccdf197bfb78"
          }
        },
        "49780ce25e554a7c87c710ebcae47cc4": {
          "model_module": "@jupyter-widgets/controls",
          "model_name": "HTMLModel",
          "model_module_version": "1.5.0",
          "state": {
            "_dom_classes": [],
            "_model_module": "@jupyter-widgets/controls",
            "_model_module_version": "1.5.0",
            "_model_name": "HTMLModel",
            "_view_count": null,
            "_view_module": "@jupyter-widgets/controls",
            "_view_module_version": "1.5.0",
            "_view_name": "HTMLView",
            "description": "",
            "description_tooltip": null,
            "layout": "IPY_MODEL_b44fee025a5d4e14811e9bd7160e5a70",
            "placeholder": "​",
            "style": "IPY_MODEL_48f01879bceb4b84a2491fbb2b3c2a48",
            "value": "model.safetensors: 100%"
          }
        },
        "32fbebe4a2b640108674b18c93fd7950": {
          "model_module": "@jupyter-widgets/controls",
          "model_name": "FloatProgressModel",
          "model_module_version": "1.5.0",
          "state": {
            "_dom_classes": [],
            "_model_module": "@jupyter-widgets/controls",
            "_model_module_version": "1.5.0",
            "_model_name": "FloatProgressModel",
            "_view_count": null,
            "_view_module": "@jupyter-widgets/controls",
            "_view_module_version": "1.5.0",
            "_view_name": "ProgressView",
            "bar_style": "success",
            "description": "",
            "description_tooltip": null,
            "layout": "IPY_MODEL_db710d8657f24b0faa438a52f6dfffed",
            "max": 437971872,
            "min": 0,
            "orientation": "horizontal",
            "style": "IPY_MODEL_ab40b5e1bf1b46d29783390a6f3b6704",
            "value": 437971872
          }
        },
        "46cb7b5926694823966aff292f7c92a6": {
          "model_module": "@jupyter-widgets/controls",
          "model_name": "HTMLModel",
          "model_module_version": "1.5.0",
          "state": {
            "_dom_classes": [],
            "_model_module": "@jupyter-widgets/controls",
            "_model_module_version": "1.5.0",
            "_model_name": "HTMLModel",
            "_view_count": null,
            "_view_module": "@jupyter-widgets/controls",
            "_view_module_version": "1.5.0",
            "_view_name": "HTMLView",
            "description": "",
            "description_tooltip": null,
            "layout": "IPY_MODEL_1ab2b1e366f7412e82f93f76a3b9787c",
            "placeholder": "​",
            "style": "IPY_MODEL_26fe9ea6312541a2bcc28ee4557a2658",
            "value": " 438M/438M [00:08&lt;00:00, 84.3MB/s]"
          }
        },
        "1b7f6cabe06b44999e28ccdf197bfb78": {
          "model_module": "@jupyter-widgets/base",
          "model_name": "LayoutModel",
          "model_module_version": "1.2.0",
          "state": {
            "_model_module": "@jupyter-widgets/base",
            "_model_module_version": "1.2.0",
            "_model_name": "LayoutModel",
            "_view_count": null,
            "_view_module": "@jupyter-widgets/base",
            "_view_module_version": "1.2.0",
            "_view_name": "LayoutView",
            "align_content": null,
            "align_items": null,
            "align_self": null,
            "border": null,
            "bottom": null,
            "display": null,
            "flex": null,
            "flex_flow": null,
            "grid_area": null,
            "grid_auto_columns": null,
            "grid_auto_flow": null,
            "grid_auto_rows": null,
            "grid_column": null,
            "grid_gap": null,
            "grid_row": null,
            "grid_template_areas": null,
            "grid_template_columns": null,
            "grid_template_rows": null,
            "height": null,
            "justify_content": null,
            "justify_items": null,
            "left": null,
            "margin": null,
            "max_height": null,
            "max_width": null,
            "min_height": null,
            "min_width": null,
            "object_fit": null,
            "object_position": null,
            "order": null,
            "overflow": null,
            "overflow_x": null,
            "overflow_y": null,
            "padding": null,
            "right": null,
            "top": null,
            "visibility": null,
            "width": null
          }
        },
        "b44fee025a5d4e14811e9bd7160e5a70": {
          "model_module": "@jupyter-widgets/base",
          "model_name": "LayoutModel",
          "model_module_version": "1.2.0",
          "state": {
            "_model_module": "@jupyter-widgets/base",
            "_model_module_version": "1.2.0",
            "_model_name": "LayoutModel",
            "_view_count": null,
            "_view_module": "@jupyter-widgets/base",
            "_view_module_version": "1.2.0",
            "_view_name": "LayoutView",
            "align_content": null,
            "align_items": null,
            "align_self": null,
            "border": null,
            "bottom": null,
            "display": null,
            "flex": null,
            "flex_flow": null,
            "grid_area": null,
            "grid_auto_columns": null,
            "grid_auto_flow": null,
            "grid_auto_rows": null,
            "grid_column": null,
            "grid_gap": null,
            "grid_row": null,
            "grid_template_areas": null,
            "grid_template_columns": null,
            "grid_template_rows": null,
            "height": null,
            "justify_content": null,
            "justify_items": null,
            "left": null,
            "margin": null,
            "max_height": null,
            "max_width": null,
            "min_height": null,
            "min_width": null,
            "object_fit": null,
            "object_position": null,
            "order": null,
            "overflow": null,
            "overflow_x": null,
            "overflow_y": null,
            "padding": null,
            "right": null,
            "top": null,
            "visibility": null,
            "width": null
          }
        },
        "48f01879bceb4b84a2491fbb2b3c2a48": {
          "model_module": "@jupyter-widgets/controls",
          "model_name": "DescriptionStyleModel",
          "model_module_version": "1.5.0",
          "state": {
            "_model_module": "@jupyter-widgets/controls",
            "_model_module_version": "1.5.0",
            "_model_name": "DescriptionStyleModel",
            "_view_count": null,
            "_view_module": "@jupyter-widgets/base",
            "_view_module_version": "1.2.0",
            "_view_name": "StyleView",
            "description_width": ""
          }
        },
        "db710d8657f24b0faa438a52f6dfffed": {
          "model_module": "@jupyter-widgets/base",
          "model_name": "LayoutModel",
          "model_module_version": "1.2.0",
          "state": {
            "_model_module": "@jupyter-widgets/base",
            "_model_module_version": "1.2.0",
            "_model_name": "LayoutModel",
            "_view_count": null,
            "_view_module": "@jupyter-widgets/base",
            "_view_module_version": "1.2.0",
            "_view_name": "LayoutView",
            "align_content": null,
            "align_items": null,
            "align_self": null,
            "border": null,
            "bottom": null,
            "display": null,
            "flex": null,
            "flex_flow": null,
            "grid_area": null,
            "grid_auto_columns": null,
            "grid_auto_flow": null,
            "grid_auto_rows": null,
            "grid_column": null,
            "grid_gap": null,
            "grid_row": null,
            "grid_template_areas": null,
            "grid_template_columns": null,
            "grid_template_rows": null,
            "height": null,
            "justify_content": null,
            "justify_items": null,
            "left": null,
            "margin": null,
            "max_height": null,
            "max_width": null,
            "min_height": null,
            "min_width": null,
            "object_fit": null,
            "object_position": null,
            "order": null,
            "overflow": null,
            "overflow_x": null,
            "overflow_y": null,
            "padding": null,
            "right": null,
            "top": null,
            "visibility": null,
            "width": null
          }
        },
        "ab40b5e1bf1b46d29783390a6f3b6704": {
          "model_module": "@jupyter-widgets/controls",
          "model_name": "ProgressStyleModel",
          "model_module_version": "1.5.0",
          "state": {
            "_model_module": "@jupyter-widgets/controls",
            "_model_module_version": "1.5.0",
            "_model_name": "ProgressStyleModel",
            "_view_count": null,
            "_view_module": "@jupyter-widgets/base",
            "_view_module_version": "1.2.0",
            "_view_name": "StyleView",
            "bar_color": null,
            "description_width": ""
          }
        },
        "1ab2b1e366f7412e82f93f76a3b9787c": {
          "model_module": "@jupyter-widgets/base",
          "model_name": "LayoutModel",
          "model_module_version": "1.2.0",
          "state": {
            "_model_module": "@jupyter-widgets/base",
            "_model_module_version": "1.2.0",
            "_model_name": "LayoutModel",
            "_view_count": null,
            "_view_module": "@jupyter-widgets/base",
            "_view_module_version": "1.2.0",
            "_view_name": "LayoutView",
            "align_content": null,
            "align_items": null,
            "align_self": null,
            "border": null,
            "bottom": null,
            "display": null,
            "flex": null,
            "flex_flow": null,
            "grid_area": null,
            "grid_auto_columns": null,
            "grid_auto_flow": null,
            "grid_auto_rows": null,
            "grid_column": null,
            "grid_gap": null,
            "grid_row": null,
            "grid_template_areas": null,
            "grid_template_columns": null,
            "grid_template_rows": null,
            "height": null,
            "justify_content": null,
            "justify_items": null,
            "left": null,
            "margin": null,
            "max_height": null,
            "max_width": null,
            "min_height": null,
            "min_width": null,
            "object_fit": null,
            "object_position": null,
            "order": null,
            "overflow": null,
            "overflow_x": null,
            "overflow_y": null,
            "padding": null,
            "right": null,
            "top": null,
            "visibility": null,
            "width": null
          }
        },
        "26fe9ea6312541a2bcc28ee4557a2658": {
          "model_module": "@jupyter-widgets/controls",
          "model_name": "DescriptionStyleModel",
          "model_module_version": "1.5.0",
          "state": {
            "_model_module": "@jupyter-widgets/controls",
            "_model_module_version": "1.5.0",
            "_model_name": "DescriptionStyleModel",
            "_view_count": null,
            "_view_module": "@jupyter-widgets/base",
            "_view_module_version": "1.2.0",
            "_view_name": "StyleView",
            "description_width": ""
          }
        },
        "cf49e6f188544df680fb17942eea22e1": {
          "model_module": "@jupyter-widgets/controls",
          "model_name": "HBoxModel",
          "model_module_version": "1.5.0",
          "state": {
            "_dom_classes": [],
            "_model_module": "@jupyter-widgets/controls",
            "_model_module_version": "1.5.0",
            "_model_name": "HBoxModel",
            "_view_count": null,
            "_view_module": "@jupyter-widgets/controls",
            "_view_module_version": "1.5.0",
            "_view_name": "HBoxView",
            "box_style": "",
            "children": [
              "IPY_MODEL_ea9c116a5b3944dd97c98d5e42564a2d",
              "IPY_MODEL_7fec1dc8eb9b4fbebe2aec8be2b168c6",
              "IPY_MODEL_55a1cbd084a940e0902bbaca16713956"
            ],
            "layout": "IPY_MODEL_2f31f55f932f4d58ba702f87371861ff"
          }
        },
        "ea9c116a5b3944dd97c98d5e42564a2d": {
          "model_module": "@jupyter-widgets/controls",
          "model_name": "HTMLModel",
          "model_module_version": "1.5.0",
          "state": {
            "_dom_classes": [],
            "_model_module": "@jupyter-widgets/controls",
            "_model_module_version": "1.5.0",
            "_model_name": "HTMLModel",
            "_view_count": null,
            "_view_module": "@jupyter-widgets/controls",
            "_view_module_version": "1.5.0",
            "_view_name": "HTMLView",
            "description": "",
            "description_tooltip": null,
            "layout": "IPY_MODEL_d45fc997e0df421ba22f0fb3dad9df01",
            "placeholder": "​",
            "style": "IPY_MODEL_60919a09bf7e414ca8970c6f53f8c800",
            "value": "tokenizer_config.json: 100%"
          }
        },
        "7fec1dc8eb9b4fbebe2aec8be2b168c6": {
          "model_module": "@jupyter-widgets/controls",
          "model_name": "FloatProgressModel",
          "model_module_version": "1.5.0",
          "state": {
            "_dom_classes": [],
            "_model_module": "@jupyter-widgets/controls",
            "_model_module_version": "1.5.0",
            "_model_name": "FloatProgressModel",
            "_view_count": null,
            "_view_module": "@jupyter-widgets/controls",
            "_view_module_version": "1.5.0",
            "_view_name": "ProgressView",
            "bar_style": "success",
            "description": "",
            "description_tooltip": null,
            "layout": "IPY_MODEL_335a52860d75412a89bcecfe5ad5f0b3",
            "max": 363,
            "min": 0,
            "orientation": "horizontal",
            "style": "IPY_MODEL_427707532a10417287ceda09abfae039",
            "value": 363
          }
        },
        "55a1cbd084a940e0902bbaca16713956": {
          "model_module": "@jupyter-widgets/controls",
          "model_name": "HTMLModel",
          "model_module_version": "1.5.0",
          "state": {
            "_dom_classes": [],
            "_model_module": "@jupyter-widgets/controls",
            "_model_module_version": "1.5.0",
            "_model_name": "HTMLModel",
            "_view_count": null,
            "_view_module": "@jupyter-widgets/controls",
            "_view_module_version": "1.5.0",
            "_view_name": "HTMLView",
            "description": "",
            "description_tooltip": null,
            "layout": "IPY_MODEL_3f7c6b238b61481ba8ffe3fc37520944",
            "placeholder": "​",
            "style": "IPY_MODEL_20b58bd8bc2748709e2091ed5fea516b",
            "value": " 363/363 [00:00&lt;00:00, 38.5kB/s]"
          }
        },
        "2f31f55f932f4d58ba702f87371861ff": {
          "model_module": "@jupyter-widgets/base",
          "model_name": "LayoutModel",
          "model_module_version": "1.2.0",
          "state": {
            "_model_module": "@jupyter-widgets/base",
            "_model_module_version": "1.2.0",
            "_model_name": "LayoutModel",
            "_view_count": null,
            "_view_module": "@jupyter-widgets/base",
            "_view_module_version": "1.2.0",
            "_view_name": "LayoutView",
            "align_content": null,
            "align_items": null,
            "align_self": null,
            "border": null,
            "bottom": null,
            "display": null,
            "flex": null,
            "flex_flow": null,
            "grid_area": null,
            "grid_auto_columns": null,
            "grid_auto_flow": null,
            "grid_auto_rows": null,
            "grid_column": null,
            "grid_gap": null,
            "grid_row": null,
            "grid_template_areas": null,
            "grid_template_columns": null,
            "grid_template_rows": null,
            "height": null,
            "justify_content": null,
            "justify_items": null,
            "left": null,
            "margin": null,
            "max_height": null,
            "max_width": null,
            "min_height": null,
            "min_width": null,
            "object_fit": null,
            "object_position": null,
            "order": null,
            "overflow": null,
            "overflow_x": null,
            "overflow_y": null,
            "padding": null,
            "right": null,
            "top": null,
            "visibility": null,
            "width": null
          }
        },
        "d45fc997e0df421ba22f0fb3dad9df01": {
          "model_module": "@jupyter-widgets/base",
          "model_name": "LayoutModel",
          "model_module_version": "1.2.0",
          "state": {
            "_model_module": "@jupyter-widgets/base",
            "_model_module_version": "1.2.0",
            "_model_name": "LayoutModel",
            "_view_count": null,
            "_view_module": "@jupyter-widgets/base",
            "_view_module_version": "1.2.0",
            "_view_name": "LayoutView",
            "align_content": null,
            "align_items": null,
            "align_self": null,
            "border": null,
            "bottom": null,
            "display": null,
            "flex": null,
            "flex_flow": null,
            "grid_area": null,
            "grid_auto_columns": null,
            "grid_auto_flow": null,
            "grid_auto_rows": null,
            "grid_column": null,
            "grid_gap": null,
            "grid_row": null,
            "grid_template_areas": null,
            "grid_template_columns": null,
            "grid_template_rows": null,
            "height": null,
            "justify_content": null,
            "justify_items": null,
            "left": null,
            "margin": null,
            "max_height": null,
            "max_width": null,
            "min_height": null,
            "min_width": null,
            "object_fit": null,
            "object_position": null,
            "order": null,
            "overflow": null,
            "overflow_x": null,
            "overflow_y": null,
            "padding": null,
            "right": null,
            "top": null,
            "visibility": null,
            "width": null
          }
        },
        "60919a09bf7e414ca8970c6f53f8c800": {
          "model_module": "@jupyter-widgets/controls",
          "model_name": "DescriptionStyleModel",
          "model_module_version": "1.5.0",
          "state": {
            "_model_module": "@jupyter-widgets/controls",
            "_model_module_version": "1.5.0",
            "_model_name": "DescriptionStyleModel",
            "_view_count": null,
            "_view_module": "@jupyter-widgets/base",
            "_view_module_version": "1.2.0",
            "_view_name": "StyleView",
            "description_width": ""
          }
        },
        "335a52860d75412a89bcecfe5ad5f0b3": {
          "model_module": "@jupyter-widgets/base",
          "model_name": "LayoutModel",
          "model_module_version": "1.2.0",
          "state": {
            "_model_module": "@jupyter-widgets/base",
            "_model_module_version": "1.2.0",
            "_model_name": "LayoutModel",
            "_view_count": null,
            "_view_module": "@jupyter-widgets/base",
            "_view_module_version": "1.2.0",
            "_view_name": "LayoutView",
            "align_content": null,
            "align_items": null,
            "align_self": null,
            "border": null,
            "bottom": null,
            "display": null,
            "flex": null,
            "flex_flow": null,
            "grid_area": null,
            "grid_auto_columns": null,
            "grid_auto_flow": null,
            "grid_auto_rows": null,
            "grid_column": null,
            "grid_gap": null,
            "grid_row": null,
            "grid_template_areas": null,
            "grid_template_columns": null,
            "grid_template_rows": null,
            "height": null,
            "justify_content": null,
            "justify_items": null,
            "left": null,
            "margin": null,
            "max_height": null,
            "max_width": null,
            "min_height": null,
            "min_width": null,
            "object_fit": null,
            "object_position": null,
            "order": null,
            "overflow": null,
            "overflow_x": null,
            "overflow_y": null,
            "padding": null,
            "right": null,
            "top": null,
            "visibility": null,
            "width": null
          }
        },
        "427707532a10417287ceda09abfae039": {
          "model_module": "@jupyter-widgets/controls",
          "model_name": "ProgressStyleModel",
          "model_module_version": "1.5.0",
          "state": {
            "_model_module": "@jupyter-widgets/controls",
            "_model_module_version": "1.5.0",
            "_model_name": "ProgressStyleModel",
            "_view_count": null,
            "_view_module": "@jupyter-widgets/base",
            "_view_module_version": "1.2.0",
            "_view_name": "StyleView",
            "bar_color": null,
            "description_width": ""
          }
        },
        "3f7c6b238b61481ba8ffe3fc37520944": {
          "model_module": "@jupyter-widgets/base",
          "model_name": "LayoutModel",
          "model_module_version": "1.2.0",
          "state": {
            "_model_module": "@jupyter-widgets/base",
            "_model_module_version": "1.2.0",
            "_model_name": "LayoutModel",
            "_view_count": null,
            "_view_module": "@jupyter-widgets/base",
            "_view_module_version": "1.2.0",
            "_view_name": "LayoutView",
            "align_content": null,
            "align_items": null,
            "align_self": null,
            "border": null,
            "bottom": null,
            "display": null,
            "flex": null,
            "flex_flow": null,
            "grid_area": null,
            "grid_auto_columns": null,
            "grid_auto_flow": null,
            "grid_auto_rows": null,
            "grid_column": null,
            "grid_gap": null,
            "grid_row": null,
            "grid_template_areas": null,
            "grid_template_columns": null,
            "grid_template_rows": null,
            "height": null,
            "justify_content": null,
            "justify_items": null,
            "left": null,
            "margin": null,
            "max_height": null,
            "max_width": null,
            "min_height": null,
            "min_width": null,
            "object_fit": null,
            "object_position": null,
            "order": null,
            "overflow": null,
            "overflow_x": null,
            "overflow_y": null,
            "padding": null,
            "right": null,
            "top": null,
            "visibility": null,
            "width": null
          }
        },
        "20b58bd8bc2748709e2091ed5fea516b": {
          "model_module": "@jupyter-widgets/controls",
          "model_name": "DescriptionStyleModel",
          "model_module_version": "1.5.0",
          "state": {
            "_model_module": "@jupyter-widgets/controls",
            "_model_module_version": "1.5.0",
            "_model_name": "DescriptionStyleModel",
            "_view_count": null,
            "_view_module": "@jupyter-widgets/base",
            "_view_module_version": "1.2.0",
            "_view_name": "StyleView",
            "description_width": ""
          }
        },
        "a4c2f378be8f403baa6547d1215071b1": {
          "model_module": "@jupyter-widgets/controls",
          "model_name": "HBoxModel",
          "model_module_version": "1.5.0",
          "state": {
            "_dom_classes": [],
            "_model_module": "@jupyter-widgets/controls",
            "_model_module_version": "1.5.0",
            "_model_name": "HBoxModel",
            "_view_count": null,
            "_view_module": "@jupyter-widgets/controls",
            "_view_module_version": "1.5.0",
            "_view_name": "HBoxView",
            "box_style": "",
            "children": [
              "IPY_MODEL_6cd85a325f9c4b95b57f99beef1f22ab",
              "IPY_MODEL_44a5095f8805433590a52423561746c5",
              "IPY_MODEL_2ea6eede0c1d4adf97db2370cbfb5456"
            ],
            "layout": "IPY_MODEL_e39e5f86272e47829a478e2dfdf72873"
          }
        },
        "6cd85a325f9c4b95b57f99beef1f22ab": {
          "model_module": "@jupyter-widgets/controls",
          "model_name": "HTMLModel",
          "model_module_version": "1.5.0",
          "state": {
            "_dom_classes": [],
            "_model_module": "@jupyter-widgets/controls",
            "_model_module_version": "1.5.0",
            "_model_name": "HTMLModel",
            "_view_count": null,
            "_view_module": "@jupyter-widgets/controls",
            "_view_module_version": "1.5.0",
            "_view_name": "HTMLView",
            "description": "",
            "description_tooltip": null,
            "layout": "IPY_MODEL_c2f11cfedbe7471d8f916ffd165cc764",
            "placeholder": "​",
            "style": "IPY_MODEL_8ac5b977436e46479ede4c20bd2a3753",
            "value": "vocab.txt: "
          }
        },
        "44a5095f8805433590a52423561746c5": {
          "model_module": "@jupyter-widgets/controls",
          "model_name": "FloatProgressModel",
          "model_module_version": "1.5.0",
          "state": {
            "_dom_classes": [],
            "_model_module": "@jupyter-widgets/controls",
            "_model_module_version": "1.5.0",
            "_model_name": "FloatProgressModel",
            "_view_count": null,
            "_view_module": "@jupyter-widgets/controls",
            "_view_module_version": "1.5.0",
            "_view_name": "ProgressView",
            "bar_style": "success",
            "description": "",
            "description_tooltip": null,
            "layout": "IPY_MODEL_aca6152ffe2941c3b11aff70cf74e778",
            "max": 1,
            "min": 0,
            "orientation": "horizontal",
            "style": "IPY_MODEL_5a97c7adf2f64bbcbfc0f4eb2e8bc3bb",
            "value": 1
          }
        },
        "2ea6eede0c1d4adf97db2370cbfb5456": {
          "model_module": "@jupyter-widgets/controls",
          "model_name": "HTMLModel",
          "model_module_version": "1.5.0",
          "state": {
            "_dom_classes": [],
            "_model_module": "@jupyter-widgets/controls",
            "_model_module_version": "1.5.0",
            "_model_name": "HTMLModel",
            "_view_count": null,
            "_view_module": "@jupyter-widgets/controls",
            "_view_module_version": "1.5.0",
            "_view_name": "HTMLView",
            "description": "",
            "description_tooltip": null,
            "layout": "IPY_MODEL_667dcab12acb4f38bd7605a5c2217fa8",
            "placeholder": "​",
            "style": "IPY_MODEL_420c2ae8ab2740db9eef991a6d1aab0b",
            "value": " 232k/? [00:00&lt;00:00, 8.10MB/s]"
          }
        },
        "e39e5f86272e47829a478e2dfdf72873": {
          "model_module": "@jupyter-widgets/base",
          "model_name": "LayoutModel",
          "model_module_version": "1.2.0",
          "state": {
            "_model_module": "@jupyter-widgets/base",
            "_model_module_version": "1.2.0",
            "_model_name": "LayoutModel",
            "_view_count": null,
            "_view_module": "@jupyter-widgets/base",
            "_view_module_version": "1.2.0",
            "_view_name": "LayoutView",
            "align_content": null,
            "align_items": null,
            "align_self": null,
            "border": null,
            "bottom": null,
            "display": null,
            "flex": null,
            "flex_flow": null,
            "grid_area": null,
            "grid_auto_columns": null,
            "grid_auto_flow": null,
            "grid_auto_rows": null,
            "grid_column": null,
            "grid_gap": null,
            "grid_row": null,
            "grid_template_areas": null,
            "grid_template_columns": null,
            "grid_template_rows": null,
            "height": null,
            "justify_content": null,
            "justify_items": null,
            "left": null,
            "margin": null,
            "max_height": null,
            "max_width": null,
            "min_height": null,
            "min_width": null,
            "object_fit": null,
            "object_position": null,
            "order": null,
            "overflow": null,
            "overflow_x": null,
            "overflow_y": null,
            "padding": null,
            "right": null,
            "top": null,
            "visibility": null,
            "width": null
          }
        },
        "c2f11cfedbe7471d8f916ffd165cc764": {
          "model_module": "@jupyter-widgets/base",
          "model_name": "LayoutModel",
          "model_module_version": "1.2.0",
          "state": {
            "_model_module": "@jupyter-widgets/base",
            "_model_module_version": "1.2.0",
            "_model_name": "LayoutModel",
            "_view_count": null,
            "_view_module": "@jupyter-widgets/base",
            "_view_module_version": "1.2.0",
            "_view_name": "LayoutView",
            "align_content": null,
            "align_items": null,
            "align_self": null,
            "border": null,
            "bottom": null,
            "display": null,
            "flex": null,
            "flex_flow": null,
            "grid_area": null,
            "grid_auto_columns": null,
            "grid_auto_flow": null,
            "grid_auto_rows": null,
            "grid_column": null,
            "grid_gap": null,
            "grid_row": null,
            "grid_template_areas": null,
            "grid_template_columns": null,
            "grid_template_rows": null,
            "height": null,
            "justify_content": null,
            "justify_items": null,
            "left": null,
            "margin": null,
            "max_height": null,
            "max_width": null,
            "min_height": null,
            "min_width": null,
            "object_fit": null,
            "object_position": null,
            "order": null,
            "overflow": null,
            "overflow_x": null,
            "overflow_y": null,
            "padding": null,
            "right": null,
            "top": null,
            "visibility": null,
            "width": null
          }
        },
        "8ac5b977436e46479ede4c20bd2a3753": {
          "model_module": "@jupyter-widgets/controls",
          "model_name": "DescriptionStyleModel",
          "model_module_version": "1.5.0",
          "state": {
            "_model_module": "@jupyter-widgets/controls",
            "_model_module_version": "1.5.0",
            "_model_name": "DescriptionStyleModel",
            "_view_count": null,
            "_view_module": "@jupyter-widgets/base",
            "_view_module_version": "1.2.0",
            "_view_name": "StyleView",
            "description_width": ""
          }
        },
        "aca6152ffe2941c3b11aff70cf74e778": {
          "model_module": "@jupyter-widgets/base",
          "model_name": "LayoutModel",
          "model_module_version": "1.2.0",
          "state": {
            "_model_module": "@jupyter-widgets/base",
            "_model_module_version": "1.2.0",
            "_model_name": "LayoutModel",
            "_view_count": null,
            "_view_module": "@jupyter-widgets/base",
            "_view_module_version": "1.2.0",
            "_view_name": "LayoutView",
            "align_content": null,
            "align_items": null,
            "align_self": null,
            "border": null,
            "bottom": null,
            "display": null,
            "flex": null,
            "flex_flow": null,
            "grid_area": null,
            "grid_auto_columns": null,
            "grid_auto_flow": null,
            "grid_auto_rows": null,
            "grid_column": null,
            "grid_gap": null,
            "grid_row": null,
            "grid_template_areas": null,
            "grid_template_columns": null,
            "grid_template_rows": null,
            "height": null,
            "justify_content": null,
            "justify_items": null,
            "left": null,
            "margin": null,
            "max_height": null,
            "max_width": null,
            "min_height": null,
            "min_width": null,
            "object_fit": null,
            "object_position": null,
            "order": null,
            "overflow": null,
            "overflow_x": null,
            "overflow_y": null,
            "padding": null,
            "right": null,
            "top": null,
            "visibility": null,
            "width": "20px"
          }
        },
        "5a97c7adf2f64bbcbfc0f4eb2e8bc3bb": {
          "model_module": "@jupyter-widgets/controls",
          "model_name": "ProgressStyleModel",
          "model_module_version": "1.5.0",
          "state": {
            "_model_module": "@jupyter-widgets/controls",
            "_model_module_version": "1.5.0",
            "_model_name": "ProgressStyleModel",
            "_view_count": null,
            "_view_module": "@jupyter-widgets/base",
            "_view_module_version": "1.2.0",
            "_view_name": "StyleView",
            "bar_color": null,
            "description_width": ""
          }
        },
        "667dcab12acb4f38bd7605a5c2217fa8": {
          "model_module": "@jupyter-widgets/base",
          "model_name": "LayoutModel",
          "model_module_version": "1.2.0",
          "state": {
            "_model_module": "@jupyter-widgets/base",
            "_model_module_version": "1.2.0",
            "_model_name": "LayoutModel",
            "_view_count": null,
            "_view_module": "@jupyter-widgets/base",
            "_view_module_version": "1.2.0",
            "_view_name": "LayoutView",
            "align_content": null,
            "align_items": null,
            "align_self": null,
            "border": null,
            "bottom": null,
            "display": null,
            "flex": null,
            "flex_flow": null,
            "grid_area": null,
            "grid_auto_columns": null,
            "grid_auto_flow": null,
            "grid_auto_rows": null,
            "grid_column": null,
            "grid_gap": null,
            "grid_row": null,
            "grid_template_areas": null,
            "grid_template_columns": null,
            "grid_template_rows": null,
            "height": null,
            "justify_content": null,
            "justify_items": null,
            "left": null,
            "margin": null,
            "max_height": null,
            "max_width": null,
            "min_height": null,
            "min_width": null,
            "object_fit": null,
            "object_position": null,
            "order": null,
            "overflow": null,
            "overflow_x": null,
            "overflow_y": null,
            "padding": null,
            "right": null,
            "top": null,
            "visibility": null,
            "width": null
          }
        },
        "420c2ae8ab2740db9eef991a6d1aab0b": {
          "model_module": "@jupyter-widgets/controls",
          "model_name": "DescriptionStyleModel",
          "model_module_version": "1.5.0",
          "state": {
            "_model_module": "@jupyter-widgets/controls",
            "_model_module_version": "1.5.0",
            "_model_name": "DescriptionStyleModel",
            "_view_count": null,
            "_view_module": "@jupyter-widgets/base",
            "_view_module_version": "1.2.0",
            "_view_name": "StyleView",
            "description_width": ""
          }
        },
        "e10ed5c7ecae4ae79e0978be38026ae1": {
          "model_module": "@jupyter-widgets/controls",
          "model_name": "HBoxModel",
          "model_module_version": "1.5.0",
          "state": {
            "_dom_classes": [],
            "_model_module": "@jupyter-widgets/controls",
            "_model_module_version": "1.5.0",
            "_model_name": "HBoxModel",
            "_view_count": null,
            "_view_module": "@jupyter-widgets/controls",
            "_view_module_version": "1.5.0",
            "_view_name": "HBoxView",
            "box_style": "",
            "children": [
              "IPY_MODEL_25b8d32409ce4f3dbfbd395c910f8e46",
              "IPY_MODEL_b54e083e3cff4b67a8b3acc072a68c06",
              "IPY_MODEL_0cb7b945bb234a6db06164368f57be2c"
            ],
            "layout": "IPY_MODEL_e368cdda8a794254917b7abb489afd25"
          }
        },
        "25b8d32409ce4f3dbfbd395c910f8e46": {
          "model_module": "@jupyter-widgets/controls",
          "model_name": "HTMLModel",
          "model_module_version": "1.5.0",
          "state": {
            "_dom_classes": [],
            "_model_module": "@jupyter-widgets/controls",
            "_model_module_version": "1.5.0",
            "_model_name": "HTMLModel",
            "_view_count": null,
            "_view_module": "@jupyter-widgets/controls",
            "_view_module_version": "1.5.0",
            "_view_name": "HTMLView",
            "description": "",
            "description_tooltip": null,
            "layout": "IPY_MODEL_67c3538e82ff4383b39eff5707d777f4",
            "placeholder": "​",
            "style": "IPY_MODEL_e997237eb76e46c2b73bd235cab97942",
            "value": "tokenizer.json: "
          }
        },
        "b54e083e3cff4b67a8b3acc072a68c06": {
          "model_module": "@jupyter-widgets/controls",
          "model_name": "FloatProgressModel",
          "model_module_version": "1.5.0",
          "state": {
            "_dom_classes": [],
            "_model_module": "@jupyter-widgets/controls",
            "_model_module_version": "1.5.0",
            "_model_name": "FloatProgressModel",
            "_view_count": null,
            "_view_module": "@jupyter-widgets/controls",
            "_view_module_version": "1.5.0",
            "_view_name": "ProgressView",
            "bar_style": "success",
            "description": "",
            "description_tooltip": null,
            "layout": "IPY_MODEL_5e56d97dc8854a76ae166f91f5442d44",
            "max": 1,
            "min": 0,
            "orientation": "horizontal",
            "style": "IPY_MODEL_ea644946fc9b473aa22d70bbb0fb28c1",
            "value": 1
          }
        },
        "0cb7b945bb234a6db06164368f57be2c": {
          "model_module": "@jupyter-widgets/controls",
          "model_name": "HTMLModel",
          "model_module_version": "1.5.0",
          "state": {
            "_dom_classes": [],
            "_model_module": "@jupyter-widgets/controls",
            "_model_module_version": "1.5.0",
            "_model_name": "HTMLModel",
            "_view_count": null,
            "_view_module": "@jupyter-widgets/controls",
            "_view_module_version": "1.5.0",
            "_view_name": "HTMLView",
            "description": "",
            "description_tooltip": null,
            "layout": "IPY_MODEL_a93e1755273144858ef22d251ffac5ac",
            "placeholder": "​",
            "style": "IPY_MODEL_cc94a0a69c664d08a2813f9750c80300",
            "value": " 466k/? [00:00&lt;00:00, 10.3MB/s]"
          }
        },
        "e368cdda8a794254917b7abb489afd25": {
          "model_module": "@jupyter-widgets/base",
          "model_name": "LayoutModel",
          "model_module_version": "1.2.0",
          "state": {
            "_model_module": "@jupyter-widgets/base",
            "_model_module_version": "1.2.0",
            "_model_name": "LayoutModel",
            "_view_count": null,
            "_view_module": "@jupyter-widgets/base",
            "_view_module_version": "1.2.0",
            "_view_name": "LayoutView",
            "align_content": null,
            "align_items": null,
            "align_self": null,
            "border": null,
            "bottom": null,
            "display": null,
            "flex": null,
            "flex_flow": null,
            "grid_area": null,
            "grid_auto_columns": null,
            "grid_auto_flow": null,
            "grid_auto_rows": null,
            "grid_column": null,
            "grid_gap": null,
            "grid_row": null,
            "grid_template_areas": null,
            "grid_template_columns": null,
            "grid_template_rows": null,
            "height": null,
            "justify_content": null,
            "justify_items": null,
            "left": null,
            "margin": null,
            "max_height": null,
            "max_width": null,
            "min_height": null,
            "min_width": null,
            "object_fit": null,
            "object_position": null,
            "order": null,
            "overflow": null,
            "overflow_x": null,
            "overflow_y": null,
            "padding": null,
            "right": null,
            "top": null,
            "visibility": null,
            "width": null
          }
        },
        "67c3538e82ff4383b39eff5707d777f4": {
          "model_module": "@jupyter-widgets/base",
          "model_name": "LayoutModel",
          "model_module_version": "1.2.0",
          "state": {
            "_model_module": "@jupyter-widgets/base",
            "_model_module_version": "1.2.0",
            "_model_name": "LayoutModel",
            "_view_count": null,
            "_view_module": "@jupyter-widgets/base",
            "_view_module_version": "1.2.0",
            "_view_name": "LayoutView",
            "align_content": null,
            "align_items": null,
            "align_self": null,
            "border": null,
            "bottom": null,
            "display": null,
            "flex": null,
            "flex_flow": null,
            "grid_area": null,
            "grid_auto_columns": null,
            "grid_auto_flow": null,
            "grid_auto_rows": null,
            "grid_column": null,
            "grid_gap": null,
            "grid_row": null,
            "grid_template_areas": null,
            "grid_template_columns": null,
            "grid_template_rows": null,
            "height": null,
            "justify_content": null,
            "justify_items": null,
            "left": null,
            "margin": null,
            "max_height": null,
            "max_width": null,
            "min_height": null,
            "min_width": null,
            "object_fit": null,
            "object_position": null,
            "order": null,
            "overflow": null,
            "overflow_x": null,
            "overflow_y": null,
            "padding": null,
            "right": null,
            "top": null,
            "visibility": null,
            "width": null
          }
        },
        "e997237eb76e46c2b73bd235cab97942": {
          "model_module": "@jupyter-widgets/controls",
          "model_name": "DescriptionStyleModel",
          "model_module_version": "1.5.0",
          "state": {
            "_model_module": "@jupyter-widgets/controls",
            "_model_module_version": "1.5.0",
            "_model_name": "DescriptionStyleModel",
            "_view_count": null,
            "_view_module": "@jupyter-widgets/base",
            "_view_module_version": "1.2.0",
            "_view_name": "StyleView",
            "description_width": ""
          }
        },
        "5e56d97dc8854a76ae166f91f5442d44": {
          "model_module": "@jupyter-widgets/base",
          "model_name": "LayoutModel",
          "model_module_version": "1.2.0",
          "state": {
            "_model_module": "@jupyter-widgets/base",
            "_model_module_version": "1.2.0",
            "_model_name": "LayoutModel",
            "_view_count": null,
            "_view_module": "@jupyter-widgets/base",
            "_view_module_version": "1.2.0",
            "_view_name": "LayoutView",
            "align_content": null,
            "align_items": null,
            "align_self": null,
            "border": null,
            "bottom": null,
            "display": null,
            "flex": null,
            "flex_flow": null,
            "grid_area": null,
            "grid_auto_columns": null,
            "grid_auto_flow": null,
            "grid_auto_rows": null,
            "grid_column": null,
            "grid_gap": null,
            "grid_row": null,
            "grid_template_areas": null,
            "grid_template_columns": null,
            "grid_template_rows": null,
            "height": null,
            "justify_content": null,
            "justify_items": null,
            "left": null,
            "margin": null,
            "max_height": null,
            "max_width": null,
            "min_height": null,
            "min_width": null,
            "object_fit": null,
            "object_position": null,
            "order": null,
            "overflow": null,
            "overflow_x": null,
            "overflow_y": null,
            "padding": null,
            "right": null,
            "top": null,
            "visibility": null,
            "width": "20px"
          }
        },
        "ea644946fc9b473aa22d70bbb0fb28c1": {
          "model_module": "@jupyter-widgets/controls",
          "model_name": "ProgressStyleModel",
          "model_module_version": "1.5.0",
          "state": {
            "_model_module": "@jupyter-widgets/controls",
            "_model_module_version": "1.5.0",
            "_model_name": "ProgressStyleModel",
            "_view_count": null,
            "_view_module": "@jupyter-widgets/base",
            "_view_module_version": "1.2.0",
            "_view_name": "StyleView",
            "bar_color": null,
            "description_width": ""
          }
        },
        "a93e1755273144858ef22d251ffac5ac": {
          "model_module": "@jupyter-widgets/base",
          "model_name": "LayoutModel",
          "model_module_version": "1.2.0",
          "state": {
            "_model_module": "@jupyter-widgets/base",
            "_model_module_version": "1.2.0",
            "_model_name": "LayoutModel",
            "_view_count": null,
            "_view_module": "@jupyter-widgets/base",
            "_view_module_version": "1.2.0",
            "_view_name": "LayoutView",
            "align_content": null,
            "align_items": null,
            "align_self": null,
            "border": null,
            "bottom": null,
            "display": null,
            "flex": null,
            "flex_flow": null,
            "grid_area": null,
            "grid_auto_columns": null,
            "grid_auto_flow": null,
            "grid_auto_rows": null,
            "grid_column": null,
            "grid_gap": null,
            "grid_row": null,
            "grid_template_areas": null,
            "grid_template_columns": null,
            "grid_template_rows": null,
            "height": null,
            "justify_content": null,
            "justify_items": null,
            "left": null,
            "margin": null,
            "max_height": null,
            "max_width": null,
            "min_height": null,
            "min_width": null,
            "object_fit": null,
            "object_position": null,
            "order": null,
            "overflow": null,
            "overflow_x": null,
            "overflow_y": null,
            "padding": null,
            "right": null,
            "top": null,
            "visibility": null,
            "width": null
          }
        },
        "cc94a0a69c664d08a2813f9750c80300": {
          "model_module": "@jupyter-widgets/controls",
          "model_name": "DescriptionStyleModel",
          "model_module_version": "1.5.0",
          "state": {
            "_model_module": "@jupyter-widgets/controls",
            "_model_module_version": "1.5.0",
            "_model_name": "DescriptionStyleModel",
            "_view_count": null,
            "_view_module": "@jupyter-widgets/base",
            "_view_module_version": "1.2.0",
            "_view_name": "StyleView",
            "description_width": ""
          }
        },
        "baff33829ff2442288a8d7ec95b1a265": {
          "model_module": "@jupyter-widgets/controls",
          "model_name": "HBoxModel",
          "model_module_version": "1.5.0",
          "state": {
            "_dom_classes": [],
            "_model_module": "@jupyter-widgets/controls",
            "_model_module_version": "1.5.0",
            "_model_name": "HBoxModel",
            "_view_count": null,
            "_view_module": "@jupyter-widgets/controls",
            "_view_module_version": "1.5.0",
            "_view_name": "HBoxView",
            "box_style": "",
            "children": [
              "IPY_MODEL_77a5384fa225400a823d3e08a2b925aa",
              "IPY_MODEL_c7be201b004042c49e5cbd79787a3bc9",
              "IPY_MODEL_5385ff3f2dee4fedbb13318510e01452"
            ],
            "layout": "IPY_MODEL_f5553a4725d8483dbe84b1860dd54bfe"
          }
        },
        "77a5384fa225400a823d3e08a2b925aa": {
          "model_module": "@jupyter-widgets/controls",
          "model_name": "HTMLModel",
          "model_module_version": "1.5.0",
          "state": {
            "_dom_classes": [],
            "_model_module": "@jupyter-widgets/controls",
            "_model_module_version": "1.5.0",
            "_model_name": "HTMLModel",
            "_view_count": null,
            "_view_module": "@jupyter-widgets/controls",
            "_view_module_version": "1.5.0",
            "_view_name": "HTMLView",
            "description": "",
            "description_tooltip": null,
            "layout": "IPY_MODEL_8e06e4f002004f5b991072de75fbf212",
            "placeholder": "​",
            "style": "IPY_MODEL_7e9d5d05bb5444edba35780765b15d93",
            "value": "special_tokens_map.json: 100%"
          }
        },
        "c7be201b004042c49e5cbd79787a3bc9": {
          "model_module": "@jupyter-widgets/controls",
          "model_name": "FloatProgressModel",
          "model_module_version": "1.5.0",
          "state": {
            "_dom_classes": [],
            "_model_module": "@jupyter-widgets/controls",
            "_model_module_version": "1.5.0",
            "_model_name": "FloatProgressModel",
            "_view_count": null,
            "_view_module": "@jupyter-widgets/controls",
            "_view_module_version": "1.5.0",
            "_view_name": "ProgressView",
            "bar_style": "success",
            "description": "",
            "description_tooltip": null,
            "layout": "IPY_MODEL_522d8f8da07a4b94b0de5f591ec56f20",
            "max": 239,
            "min": 0,
            "orientation": "horizontal",
            "style": "IPY_MODEL_f144cd9a69d549f1bed6a3c8ebc9f685",
            "value": 239
          }
        },
        "5385ff3f2dee4fedbb13318510e01452": {
          "model_module": "@jupyter-widgets/controls",
          "model_name": "HTMLModel",
          "model_module_version": "1.5.0",
          "state": {
            "_dom_classes": [],
            "_model_module": "@jupyter-widgets/controls",
            "_model_module_version": "1.5.0",
            "_model_name": "HTMLModel",
            "_view_count": null,
            "_view_module": "@jupyter-widgets/controls",
            "_view_module_version": "1.5.0",
            "_view_name": "HTMLView",
            "description": "",
            "description_tooltip": null,
            "layout": "IPY_MODEL_98c271b6a08049d399eeed21c71f0a28",
            "placeholder": "​",
            "style": "IPY_MODEL_f3ebcbda091945ff9211278b71849d6d",
            "value": " 239/239 [00:00&lt;00:00, 9.13kB/s]"
          }
        },
        "f5553a4725d8483dbe84b1860dd54bfe": {
          "model_module": "@jupyter-widgets/base",
          "model_name": "LayoutModel",
          "model_module_version": "1.2.0",
          "state": {
            "_model_module": "@jupyter-widgets/base",
            "_model_module_version": "1.2.0",
            "_model_name": "LayoutModel",
            "_view_count": null,
            "_view_module": "@jupyter-widgets/base",
            "_view_module_version": "1.2.0",
            "_view_name": "LayoutView",
            "align_content": null,
            "align_items": null,
            "align_self": null,
            "border": null,
            "bottom": null,
            "display": null,
            "flex": null,
            "flex_flow": null,
            "grid_area": null,
            "grid_auto_columns": null,
            "grid_auto_flow": null,
            "grid_auto_rows": null,
            "grid_column": null,
            "grid_gap": null,
            "grid_row": null,
            "grid_template_areas": null,
            "grid_template_columns": null,
            "grid_template_rows": null,
            "height": null,
            "justify_content": null,
            "justify_items": null,
            "left": null,
            "margin": null,
            "max_height": null,
            "max_width": null,
            "min_height": null,
            "min_width": null,
            "object_fit": null,
            "object_position": null,
            "order": null,
            "overflow": null,
            "overflow_x": null,
            "overflow_y": null,
            "padding": null,
            "right": null,
            "top": null,
            "visibility": null,
            "width": null
          }
        },
        "8e06e4f002004f5b991072de75fbf212": {
          "model_module": "@jupyter-widgets/base",
          "model_name": "LayoutModel",
          "model_module_version": "1.2.0",
          "state": {
            "_model_module": "@jupyter-widgets/base",
            "_model_module_version": "1.2.0",
            "_model_name": "LayoutModel",
            "_view_count": null,
            "_view_module": "@jupyter-widgets/base",
            "_view_module_version": "1.2.0",
            "_view_name": "LayoutView",
            "align_content": null,
            "align_items": null,
            "align_self": null,
            "border": null,
            "bottom": null,
            "display": null,
            "flex": null,
            "flex_flow": null,
            "grid_area": null,
            "grid_auto_columns": null,
            "grid_auto_flow": null,
            "grid_auto_rows": null,
            "grid_column": null,
            "grid_gap": null,
            "grid_row": null,
            "grid_template_areas": null,
            "grid_template_columns": null,
            "grid_template_rows": null,
            "height": null,
            "justify_content": null,
            "justify_items": null,
            "left": null,
            "margin": null,
            "max_height": null,
            "max_width": null,
            "min_height": null,
            "min_width": null,
            "object_fit": null,
            "object_position": null,
            "order": null,
            "overflow": null,
            "overflow_x": null,
            "overflow_y": null,
            "padding": null,
            "right": null,
            "top": null,
            "visibility": null,
            "width": null
          }
        },
        "7e9d5d05bb5444edba35780765b15d93": {
          "model_module": "@jupyter-widgets/controls",
          "model_name": "DescriptionStyleModel",
          "model_module_version": "1.5.0",
          "state": {
            "_model_module": "@jupyter-widgets/controls",
            "_model_module_version": "1.5.0",
            "_model_name": "DescriptionStyleModel",
            "_view_count": null,
            "_view_module": "@jupyter-widgets/base",
            "_view_module_version": "1.2.0",
            "_view_name": "StyleView",
            "description_width": ""
          }
        },
        "522d8f8da07a4b94b0de5f591ec56f20": {
          "model_module": "@jupyter-widgets/base",
          "model_name": "LayoutModel",
          "model_module_version": "1.2.0",
          "state": {
            "_model_module": "@jupyter-widgets/base",
            "_model_module_version": "1.2.0",
            "_model_name": "LayoutModel",
            "_view_count": null,
            "_view_module": "@jupyter-widgets/base",
            "_view_module_version": "1.2.0",
            "_view_name": "LayoutView",
            "align_content": null,
            "align_items": null,
            "align_self": null,
            "border": null,
            "bottom": null,
            "display": null,
            "flex": null,
            "flex_flow": null,
            "grid_area": null,
            "grid_auto_columns": null,
            "grid_auto_flow": null,
            "grid_auto_rows": null,
            "grid_column": null,
            "grid_gap": null,
            "grid_row": null,
            "grid_template_areas": null,
            "grid_template_columns": null,
            "grid_template_rows": null,
            "height": null,
            "justify_content": null,
            "justify_items": null,
            "left": null,
            "margin": null,
            "max_height": null,
            "max_width": null,
            "min_height": null,
            "min_width": null,
            "object_fit": null,
            "object_position": null,
            "order": null,
            "overflow": null,
            "overflow_x": null,
            "overflow_y": null,
            "padding": null,
            "right": null,
            "top": null,
            "visibility": null,
            "width": null
          }
        },
        "f144cd9a69d549f1bed6a3c8ebc9f685": {
          "model_module": "@jupyter-widgets/controls",
          "model_name": "ProgressStyleModel",
          "model_module_version": "1.5.0",
          "state": {
            "_model_module": "@jupyter-widgets/controls",
            "_model_module_version": "1.5.0",
            "_model_name": "ProgressStyleModel",
            "_view_count": null,
            "_view_module": "@jupyter-widgets/base",
            "_view_module_version": "1.2.0",
            "_view_name": "StyleView",
            "bar_color": null,
            "description_width": ""
          }
        },
        "98c271b6a08049d399eeed21c71f0a28": {
          "model_module": "@jupyter-widgets/base",
          "model_name": "LayoutModel",
          "model_module_version": "1.2.0",
          "state": {
            "_model_module": "@jupyter-widgets/base",
            "_model_module_version": "1.2.0",
            "_model_name": "LayoutModel",
            "_view_count": null,
            "_view_module": "@jupyter-widgets/base",
            "_view_module_version": "1.2.0",
            "_view_name": "LayoutView",
            "align_content": null,
            "align_items": null,
            "align_self": null,
            "border": null,
            "bottom": null,
            "display": null,
            "flex": null,
            "flex_flow": null,
            "grid_area": null,
            "grid_auto_columns": null,
            "grid_auto_flow": null,
            "grid_auto_rows": null,
            "grid_column": null,
            "grid_gap": null,
            "grid_row": null,
            "grid_template_areas": null,
            "grid_template_columns": null,
            "grid_template_rows": null,
            "height": null,
            "justify_content": null,
            "justify_items": null,
            "left": null,
            "margin": null,
            "max_height": null,
            "max_width": null,
            "min_height": null,
            "min_width": null,
            "object_fit": null,
            "object_position": null,
            "order": null,
            "overflow": null,
            "overflow_x": null,
            "overflow_y": null,
            "padding": null,
            "right": null,
            "top": null,
            "visibility": null,
            "width": null
          }
        },
        "f3ebcbda091945ff9211278b71849d6d": {
          "model_module": "@jupyter-widgets/controls",
          "model_name": "DescriptionStyleModel",
          "model_module_version": "1.5.0",
          "state": {
            "_model_module": "@jupyter-widgets/controls",
            "_model_module_version": "1.5.0",
            "_model_name": "DescriptionStyleModel",
            "_view_count": null,
            "_view_module": "@jupyter-widgets/base",
            "_view_module_version": "1.2.0",
            "_view_name": "StyleView",
            "description_width": ""
          }
        },
        "d73f4d3d83d94712b0ff77436987567b": {
          "model_module": "@jupyter-widgets/controls",
          "model_name": "HBoxModel",
          "model_module_version": "1.5.0",
          "state": {
            "_dom_classes": [],
            "_model_module": "@jupyter-widgets/controls",
            "_model_module_version": "1.5.0",
            "_model_name": "HBoxModel",
            "_view_count": null,
            "_view_module": "@jupyter-widgets/controls",
            "_view_module_version": "1.5.0",
            "_view_name": "HBoxView",
            "box_style": "",
            "children": [
              "IPY_MODEL_96ba56feef724bcd98dbc250ac1f632d",
              "IPY_MODEL_02e34e42617e493e8931c2d178ebf22f",
              "IPY_MODEL_d9c3c9d8013548fb8e54bf8351c12945"
            ],
            "layout": "IPY_MODEL_2b34d6a052194e4c8bb6dff4e73b6311"
          }
        },
        "96ba56feef724bcd98dbc250ac1f632d": {
          "model_module": "@jupyter-widgets/controls",
          "model_name": "HTMLModel",
          "model_module_version": "1.5.0",
          "state": {
            "_dom_classes": [],
            "_model_module": "@jupyter-widgets/controls",
            "_model_module_version": "1.5.0",
            "_model_name": "HTMLModel",
            "_view_count": null,
            "_view_module": "@jupyter-widgets/controls",
            "_view_module_version": "1.5.0",
            "_view_name": "HTMLView",
            "description": "",
            "description_tooltip": null,
            "layout": "IPY_MODEL_4467581cdadc4fcf9eac12a84f322197",
            "placeholder": "​",
            "style": "IPY_MODEL_9325846d32cc4b2097888041783cff54",
            "value": "config.json: 100%"
          }
        },
        "02e34e42617e493e8931c2d178ebf22f": {
          "model_module": "@jupyter-widgets/controls",
          "model_name": "FloatProgressModel",
          "model_module_version": "1.5.0",
          "state": {
            "_dom_classes": [],
            "_model_module": "@jupyter-widgets/controls",
            "_model_module_version": "1.5.0",
            "_model_name": "FloatProgressModel",
            "_view_count": null,
            "_view_module": "@jupyter-widgets/controls",
            "_view_module_version": "1.5.0",
            "_view_name": "ProgressView",
            "bar_style": "success",
            "description": "",
            "description_tooltip": null,
            "layout": "IPY_MODEL_5e6ca1aafe274c6bac60fceb2e2365b2",
            "max": 190,
            "min": 0,
            "orientation": "horizontal",
            "style": "IPY_MODEL_f27d6acfc58a480d895e5dfbf848aa38",
            "value": 190
          }
        },
        "d9c3c9d8013548fb8e54bf8351c12945": {
          "model_module": "@jupyter-widgets/controls",
          "model_name": "HTMLModel",
          "model_module_version": "1.5.0",
          "state": {
            "_dom_classes": [],
            "_model_module": "@jupyter-widgets/controls",
            "_model_module_version": "1.5.0",
            "_model_name": "HTMLModel",
            "_view_count": null,
            "_view_module": "@jupyter-widgets/controls",
            "_view_module_version": "1.5.0",
            "_view_name": "HTMLView",
            "description": "",
            "description_tooltip": null,
            "layout": "IPY_MODEL_e699b795424847e6a3dc519e4cacfb79",
            "placeholder": "​",
            "style": "IPY_MODEL_e139f6ec86b9477ea5267a456047ac10",
            "value": " 190/190 [00:00&lt;00:00, 9.32kB/s]"
          }
        },
        "2b34d6a052194e4c8bb6dff4e73b6311": {
          "model_module": "@jupyter-widgets/base",
          "model_name": "LayoutModel",
          "model_module_version": "1.2.0",
          "state": {
            "_model_module": "@jupyter-widgets/base",
            "_model_module_version": "1.2.0",
            "_model_name": "LayoutModel",
            "_view_count": null,
            "_view_module": "@jupyter-widgets/base",
            "_view_module_version": "1.2.0",
            "_view_name": "LayoutView",
            "align_content": null,
            "align_items": null,
            "align_self": null,
            "border": null,
            "bottom": null,
            "display": null,
            "flex": null,
            "flex_flow": null,
            "grid_area": null,
            "grid_auto_columns": null,
            "grid_auto_flow": null,
            "grid_auto_rows": null,
            "grid_column": null,
            "grid_gap": null,
            "grid_row": null,
            "grid_template_areas": null,
            "grid_template_columns": null,
            "grid_template_rows": null,
            "height": null,
            "justify_content": null,
            "justify_items": null,
            "left": null,
            "margin": null,
            "max_height": null,
            "max_width": null,
            "min_height": null,
            "min_width": null,
            "object_fit": null,
            "object_position": null,
            "order": null,
            "overflow": null,
            "overflow_x": null,
            "overflow_y": null,
            "padding": null,
            "right": null,
            "top": null,
            "visibility": null,
            "width": null
          }
        },
        "4467581cdadc4fcf9eac12a84f322197": {
          "model_module": "@jupyter-widgets/base",
          "model_name": "LayoutModel",
          "model_module_version": "1.2.0",
          "state": {
            "_model_module": "@jupyter-widgets/base",
            "_model_module_version": "1.2.0",
            "_model_name": "LayoutModel",
            "_view_count": null,
            "_view_module": "@jupyter-widgets/base",
            "_view_module_version": "1.2.0",
            "_view_name": "LayoutView",
            "align_content": null,
            "align_items": null,
            "align_self": null,
            "border": null,
            "bottom": null,
            "display": null,
            "flex": null,
            "flex_flow": null,
            "grid_area": null,
            "grid_auto_columns": null,
            "grid_auto_flow": null,
            "grid_auto_rows": null,
            "grid_column": null,
            "grid_gap": null,
            "grid_row": null,
            "grid_template_areas": null,
            "grid_template_columns": null,
            "grid_template_rows": null,
            "height": null,
            "justify_content": null,
            "justify_items": null,
            "left": null,
            "margin": null,
            "max_height": null,
            "max_width": null,
            "min_height": null,
            "min_width": null,
            "object_fit": null,
            "object_position": null,
            "order": null,
            "overflow": null,
            "overflow_x": null,
            "overflow_y": null,
            "padding": null,
            "right": null,
            "top": null,
            "visibility": null,
            "width": null
          }
        },
        "9325846d32cc4b2097888041783cff54": {
          "model_module": "@jupyter-widgets/controls",
          "model_name": "DescriptionStyleModel",
          "model_module_version": "1.5.0",
          "state": {
            "_model_module": "@jupyter-widgets/controls",
            "_model_module_version": "1.5.0",
            "_model_name": "DescriptionStyleModel",
            "_view_count": null,
            "_view_module": "@jupyter-widgets/base",
            "_view_module_version": "1.2.0",
            "_view_name": "StyleView",
            "description_width": ""
          }
        },
        "5e6ca1aafe274c6bac60fceb2e2365b2": {
          "model_module": "@jupyter-widgets/base",
          "model_name": "LayoutModel",
          "model_module_version": "1.2.0",
          "state": {
            "_model_module": "@jupyter-widgets/base",
            "_model_module_version": "1.2.0",
            "_model_name": "LayoutModel",
            "_view_count": null,
            "_view_module": "@jupyter-widgets/base",
            "_view_module_version": "1.2.0",
            "_view_name": "LayoutView",
            "align_content": null,
            "align_items": null,
            "align_self": null,
            "border": null,
            "bottom": null,
            "display": null,
            "flex": null,
            "flex_flow": null,
            "grid_area": null,
            "grid_auto_columns": null,
            "grid_auto_flow": null,
            "grid_auto_rows": null,
            "grid_column": null,
            "grid_gap": null,
            "grid_row": null,
            "grid_template_areas": null,
            "grid_template_columns": null,
            "grid_template_rows": null,
            "height": null,
            "justify_content": null,
            "justify_items": null,
            "left": null,
            "margin": null,
            "max_height": null,
            "max_width": null,
            "min_height": null,
            "min_width": null,
            "object_fit": null,
            "object_position": null,
            "order": null,
            "overflow": null,
            "overflow_x": null,
            "overflow_y": null,
            "padding": null,
            "right": null,
            "top": null,
            "visibility": null,
            "width": null
          }
        },
        "f27d6acfc58a480d895e5dfbf848aa38": {
          "model_module": "@jupyter-widgets/controls",
          "model_name": "ProgressStyleModel",
          "model_module_version": "1.5.0",
          "state": {
            "_model_module": "@jupyter-widgets/controls",
            "_model_module_version": "1.5.0",
            "_model_name": "ProgressStyleModel",
            "_view_count": null,
            "_view_module": "@jupyter-widgets/base",
            "_view_module_version": "1.2.0",
            "_view_name": "StyleView",
            "bar_color": null,
            "description_width": ""
          }
        },
        "e699b795424847e6a3dc519e4cacfb79": {
          "model_module": "@jupyter-widgets/base",
          "model_name": "LayoutModel",
          "model_module_version": "1.2.0",
          "state": {
            "_model_module": "@jupyter-widgets/base",
            "_model_module_version": "1.2.0",
            "_model_name": "LayoutModel",
            "_view_count": null,
            "_view_module": "@jupyter-widgets/base",
            "_view_module_version": "1.2.0",
            "_view_name": "LayoutView",
            "align_content": null,
            "align_items": null,
            "align_self": null,
            "border": null,
            "bottom": null,
            "display": null,
            "flex": null,
            "flex_flow": null,
            "grid_area": null,
            "grid_auto_columns": null,
            "grid_auto_flow": null,
            "grid_auto_rows": null,
            "grid_column": null,
            "grid_gap": null,
            "grid_row": null,
            "grid_template_areas": null,
            "grid_template_columns": null,
            "grid_template_rows": null,
            "height": null,
            "justify_content": null,
            "justify_items": null,
            "left": null,
            "margin": null,
            "max_height": null,
            "max_width": null,
            "min_height": null,
            "min_width": null,
            "object_fit": null,
            "object_position": null,
            "order": null,
            "overflow": null,
            "overflow_x": null,
            "overflow_y": null,
            "padding": null,
            "right": null,
            "top": null,
            "visibility": null,
            "width": null
          }
        },
        "e139f6ec86b9477ea5267a456047ac10": {
          "model_module": "@jupyter-widgets/controls",
          "model_name": "DescriptionStyleModel",
          "model_module_version": "1.5.0",
          "state": {
            "_model_module": "@jupyter-widgets/controls",
            "_model_module_version": "1.5.0",
            "_model_name": "DescriptionStyleModel",
            "_view_count": null,
            "_view_module": "@jupyter-widgets/base",
            "_view_module_version": "1.2.0",
            "_view_name": "StyleView",
            "description_width": ""
          }
        }
      }
    }
  },
  "nbformat": 4,
  "nbformat_minor": 5
}